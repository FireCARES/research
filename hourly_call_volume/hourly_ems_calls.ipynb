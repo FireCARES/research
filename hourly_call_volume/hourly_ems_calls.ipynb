{
 "cells": [
  {
   "cell_type": "markdown",
   "metadata": {},
   "source": [
    "# Importing relevant libraries"
   ]
  },
  {
   "cell_type": "code",
   "execution_count": 4,
   "metadata": {},
   "outputs": [],
   "source": [
    "from elasticsearch import Elasticsearch\n",
    "from elasticsearch_dsl import Search\n",
    "from elasticsearch_dsl import Q\n",
    "import pandas as pd\n",
    "import numpy as np\n",
    "from tqdm import tqdm_notebook\n",
    "import datetime\n",
    "import json\n",
    "import matplotlib.pyplot as plt\n",
    "from sklearn.ensemble import RandomForestRegressor\n",
    "from sklearn.model_selection import train_test_split\n",
    "from pandas.tseries.holiday import USFederalHolidayCalendar as calendar\n",
    "from pandas.tseries.holiday import AbstractHolidayCalendar\n",
    "from pandas.tseries.offsets import CustomBusinessDay\n",
    "from pandas.tseries.holiday import Holiday\n",
    "from dateutil.relativedelta import SU\n",
    "from dateutil.relativedelta import TH\n",
    "from sklearn.preprocessing import StandardScaler\n",
    "from sklearn.decomposition import PCA\n",
    "plt.style.use('ggplot')"
   ]
  },
  {
   "cell_type": "markdown",
   "metadata": {},
   "source": [
    "# Run this cell if running online"
   ]
  },
  {
   "cell_type": "code",
   "execution_count": 1,
   "metadata": {},
   "outputs": [
    {
     "name": "stderr",
     "output_type": "stream",
     "text": [
      "Couldn't call 'get_role' to get Role ARN from role name tyler.c.buffington@utexas.edu to get Role path.\n"
     ]
    },
    {
     "ename": "ValueError",
     "evalue": "The current AWS identity is not a role: arn:aws:iam::445861113736:user/tyler.c.buffington@utexas.edu, therefore it cannot be used as a SageMaker execution role",
     "output_type": "error",
     "traceback": [
      "\u001b[0;31m---------------------------------------------------------------------------\u001b[0m",
      "\u001b[0;31mValueError\u001b[0m                                Traceback (most recent call last)",
      "\u001b[0;32m<ipython-input-1-e2f40d9496f2>\u001b[0m in \u001b[0;36m<module>\u001b[0;34m\u001b[0m\n\u001b[1;32m      8\u001b[0m \u001b[0;34m\u001b[0m\u001b[0m\n\u001b[1;32m      9\u001b[0m \u001b[0;31m# Get a SageMaker-compatible role used by this Notebook Instance.\u001b[0m\u001b[0;34m\u001b[0m\u001b[0;34m\u001b[0m\u001b[0;34m\u001b[0m\u001b[0m\n\u001b[0;32m---> 10\u001b[0;31m \u001b[0mrole\u001b[0m \u001b[0;34m=\u001b[0m \u001b[0mget_execution_role\u001b[0m\u001b[0;34m(\u001b[0m\u001b[0;34m)\u001b[0m\u001b[0;34m\u001b[0m\u001b[0;34m\u001b[0m\u001b[0m\n\u001b[0m",
      "\u001b[0;32m~/.local/lib/python3.6/site-packages/sagemaker/session.py\u001b[0m in \u001b[0;36mget_execution_role\u001b[0;34m(sagemaker_session)\u001b[0m\n\u001b[1;32m   3274\u001b[0m         \u001b[0;34m\"SageMaker execution role\"\u001b[0m\u001b[0;34m\u001b[0m\u001b[0;34m\u001b[0m\u001b[0m\n\u001b[1;32m   3275\u001b[0m     )\n\u001b[0;32m-> 3276\u001b[0;31m     \u001b[0;32mraise\u001b[0m \u001b[0mValueError\u001b[0m\u001b[0;34m(\u001b[0m\u001b[0mmessage\u001b[0m\u001b[0;34m.\u001b[0m\u001b[0mformat\u001b[0m\u001b[0;34m(\u001b[0m\u001b[0marn\u001b[0m\u001b[0;34m)\u001b[0m\u001b[0;34m)\u001b[0m\u001b[0;34m\u001b[0m\u001b[0;34m\u001b[0m\u001b[0m\n\u001b[0m\u001b[1;32m   3277\u001b[0m \u001b[0;34m\u001b[0m\u001b[0m\n\u001b[1;32m   3278\u001b[0m \u001b[0;34m\u001b[0m\u001b[0m\n",
      "\u001b[0;31mValueError\u001b[0m: The current AWS identity is not a role: arn:aws:iam::445861113736:user/tyler.c.buffington@utexas.edu, therefore it cannot be used as a SageMaker execution role"
     ]
    }
   ],
   "source": [
    "# S3 prefix\n",
    "prefix = 'ems_call_volume'\n",
    "\n",
    "import sagemaker\n",
    "from sagemaker import get_execution_role\n",
    "\n",
    "sagemaker_session = sagemaker.Session()\n",
    "\n",
    "# Get a SageMaker-compatible role used by this Notebook Instance.\n",
    "role = get_execution_role()"
   ]
  },
  {
   "cell_type": "markdown",
   "metadata": {},
   "source": [
    "# This is the cell I use for debugging locally. Don't run it online"
   ]
  },
  {
   "cell_type": "code",
   "execution_count": 5,
   "metadata": {},
   "outputs": [],
   "source": [
    "import boto3\n",
    "import sagemaker\n",
    "from sagemaker import get_execution_role\n",
    "import pandas as pd\n",
    "\n",
    "# S3 prefix\n",
    "prefix = 'ems_call_volume'\n",
    "# session = boto3.session.Session(region_name='us-east-2')\n",
    "# sagemaker_session = sagemaker.LocalSession(boto_session=session)\n",
    "sagemaker_session = sagemaker.LocalSession()\n",
    "\n",
    "# Get a SageMaker-compatible role used by this Notebook Instance.\n",
    "# role = 'arn:aws:iam::467626235021:role/service-role/AmazonSageMaker-ExecutionRole-20190830T140378'\n",
    "role = 'arn:aws:iam::445861113736:role/service-role/AmazonSageMaker-ExecutionRole-20190903T114521'"
   ]
  },
  {
   "cell_type": "markdown",
   "metadata": {},
   "source": [
    "## Upload the data for training <a class=\"anchor\" id=\"upload_data\"></a>\n",
    "\n",
    "I performed the following query to get the data. Again, don't run this online.\n"
   ]
  },
  {
   "cell_type": "code",
   "execution_count": 4,
   "metadata": {},
   "outputs": [
    {
     "name": "stderr",
     "output_type": "stream",
     "text": [
      "/usr/local/lib/python3.6/dist-packages/ipykernel_launcher.py:19: TqdmDeprecationWarning: This function will be removed in tqdm==5.0.0\n",
      "Please use `tqdm.notebook.tqdm` instead of `tqdm.tqdm_notebook`\n"
     ]
    },
    {
     "data": {
      "application/vnd.jupyter.widget-view+json": {
       "model_id": "82c405a840e14ed18e1f2d9559120ecd",
       "version_major": 2,
       "version_minor": 0
      },
      "text/plain": [
       "HBox(children=(IntProgress(value=1, bar_style='info', max=1), HTML(value='')))"
      ]
     },
     "metadata": {},
     "output_type": "display_data"
    },
    {
     "ename": "KeyboardInterrupt",
     "evalue": "",
     "output_type": "error",
     "traceback": [
      "\u001b[0;31m---------------------------------------------------------------------------\u001b[0m",
      "\u001b[0;31mKeyboardInterrupt\u001b[0m                         Traceback (most recent call last)",
      "\u001b[0;32m<ipython-input-4-9fa33d2120ed>\u001b[0m in \u001b[0;36m<module>\u001b[0;34m\u001b[0m\n\u001b[1;32m     17\u001b[0m \u001b[0;34m\u001b[0m\u001b[0m\n\u001b[1;32m     18\u001b[0m \u001b[0;31m#Performing the query and converting to pandas dataframe\u001b[0m\u001b[0;34m\u001b[0m\u001b[0;34m\u001b[0m\u001b[0;34m\u001b[0m\u001b[0m\n\u001b[0;32m---> 19\u001b[0;31m \u001b[0mdf\u001b[0m \u001b[0;34m=\u001b[0m \u001b[0mpd\u001b[0m\u001b[0;34m.\u001b[0m\u001b[0mDataFrame\u001b[0m\u001b[0;34m(\u001b[0m\u001b[0;34m(\u001b[0m\u001b[0md\u001b[0m\u001b[0;34m.\u001b[0m\u001b[0mto_dict\u001b[0m\u001b[0;34m(\u001b[0m\u001b[0;34m)\u001b[0m \u001b[0;32mfor\u001b[0m \u001b[0md\u001b[0m \u001b[0;32min\u001b[0m \u001b[0mtqdm_notebook\u001b[0m\u001b[0;34m(\u001b[0m\u001b[0mresults\u001b[0m\u001b[0;34m.\u001b[0m\u001b[0mscan\u001b[0m\u001b[0;34m(\u001b[0m\u001b[0;34m)\u001b[0m\u001b[0;34m)\u001b[0m\u001b[0;34m)\u001b[0m\u001b[0;34m)\u001b[0m\u001b[0;34m\u001b[0m\u001b[0;34m\u001b[0m\u001b[0m\n\u001b[0m\u001b[1;32m     20\u001b[0m \u001b[0mjson_struct\u001b[0m \u001b[0;34m=\u001b[0m \u001b[0mjson\u001b[0m\u001b[0;34m.\u001b[0m\u001b[0mloads\u001b[0m\u001b[0;34m(\u001b[0m\u001b[0mdf\u001b[0m\u001b[0;34m.\u001b[0m\u001b[0mto_json\u001b[0m\u001b[0;34m(\u001b[0m\u001b[0morient\u001b[0m\u001b[0;34m=\u001b[0m\u001b[0;34m\"records\"\u001b[0m\u001b[0;34m)\u001b[0m\u001b[0;34m)\u001b[0m\u001b[0;34m\u001b[0m\u001b[0;34m\u001b[0m\u001b[0m\n\u001b[1;32m     21\u001b[0m \u001b[0;34m\u001b[0m\u001b[0m\n",
      "\u001b[0;32m~/.local/lib/python3.6/site-packages/pandas/core/frame.py\u001b[0m in \u001b[0;36m__init__\u001b[0;34m(self, data, index, columns, dtype, copy)\u001b[0m\n\u001b[1;32m    443\u001b[0m         \u001b[0;32melif\u001b[0m \u001b[0misinstance\u001b[0m\u001b[0;34m(\u001b[0m\u001b[0mdata\u001b[0m\u001b[0;34m,\u001b[0m \u001b[0mabc\u001b[0m\u001b[0;34m.\u001b[0m\u001b[0mIterable\u001b[0m\u001b[0;34m)\u001b[0m \u001b[0;32mand\u001b[0m \u001b[0;32mnot\u001b[0m \u001b[0misinstance\u001b[0m\u001b[0;34m(\u001b[0m\u001b[0mdata\u001b[0m\u001b[0;34m,\u001b[0m \u001b[0;34m(\u001b[0m\u001b[0mstr\u001b[0m\u001b[0;34m,\u001b[0m \u001b[0mbytes\u001b[0m\u001b[0;34m)\u001b[0m\u001b[0;34m)\u001b[0m\u001b[0;34m:\u001b[0m\u001b[0;34m\u001b[0m\u001b[0;34m\u001b[0m\u001b[0m\n\u001b[1;32m    444\u001b[0m             \u001b[0;32mif\u001b[0m \u001b[0;32mnot\u001b[0m \u001b[0misinstance\u001b[0m\u001b[0;34m(\u001b[0m\u001b[0mdata\u001b[0m\u001b[0;34m,\u001b[0m \u001b[0mabc\u001b[0m\u001b[0;34m.\u001b[0m\u001b[0mSequence\u001b[0m\u001b[0;34m)\u001b[0m\u001b[0;34m:\u001b[0m\u001b[0;34m\u001b[0m\u001b[0;34m\u001b[0m\u001b[0m\n\u001b[0;32m--> 445\u001b[0;31m                 \u001b[0mdata\u001b[0m \u001b[0;34m=\u001b[0m \u001b[0mlist\u001b[0m\u001b[0;34m(\u001b[0m\u001b[0mdata\u001b[0m\u001b[0;34m)\u001b[0m\u001b[0;34m\u001b[0m\u001b[0;34m\u001b[0m\u001b[0m\n\u001b[0m\u001b[1;32m    446\u001b[0m             \u001b[0;32mif\u001b[0m \u001b[0mlen\u001b[0m\u001b[0;34m(\u001b[0m\u001b[0mdata\u001b[0m\u001b[0;34m)\u001b[0m \u001b[0;34m>\u001b[0m \u001b[0;36m0\u001b[0m\u001b[0;34m:\u001b[0m\u001b[0;34m\u001b[0m\u001b[0;34m\u001b[0m\u001b[0m\n\u001b[1;32m    447\u001b[0m                 \u001b[0;32mif\u001b[0m \u001b[0mis_list_like\u001b[0m\u001b[0;34m(\u001b[0m\u001b[0mdata\u001b[0m\u001b[0;34m[\u001b[0m\u001b[0;36m0\u001b[0m\u001b[0;34m]\u001b[0m\u001b[0;34m)\u001b[0m \u001b[0;32mand\u001b[0m \u001b[0mgetattr\u001b[0m\u001b[0;34m(\u001b[0m\u001b[0mdata\u001b[0m\u001b[0;34m[\u001b[0m\u001b[0;36m0\u001b[0m\u001b[0;34m]\u001b[0m\u001b[0;34m,\u001b[0m \u001b[0;34m\"ndim\"\u001b[0m\u001b[0;34m,\u001b[0m \u001b[0;36m1\u001b[0m\u001b[0;34m)\u001b[0m \u001b[0;34m==\u001b[0m \u001b[0;36m1\u001b[0m\u001b[0;34m:\u001b[0m\u001b[0;34m\u001b[0m\u001b[0;34m\u001b[0m\u001b[0m\n",
      "\u001b[0;32m<ipython-input-4-9fa33d2120ed>\u001b[0m in \u001b[0;36m<genexpr>\u001b[0;34m(.0)\u001b[0m\n\u001b[1;32m     17\u001b[0m \u001b[0;34m\u001b[0m\u001b[0m\n\u001b[1;32m     18\u001b[0m \u001b[0;31m#Performing the query and converting to pandas dataframe\u001b[0m\u001b[0;34m\u001b[0m\u001b[0;34m\u001b[0m\u001b[0;34m\u001b[0m\u001b[0m\n\u001b[0;32m---> 19\u001b[0;31m \u001b[0mdf\u001b[0m \u001b[0;34m=\u001b[0m \u001b[0mpd\u001b[0m\u001b[0;34m.\u001b[0m\u001b[0mDataFrame\u001b[0m\u001b[0;34m(\u001b[0m\u001b[0;34m(\u001b[0m\u001b[0md\u001b[0m\u001b[0;34m.\u001b[0m\u001b[0mto_dict\u001b[0m\u001b[0;34m(\u001b[0m\u001b[0;34m)\u001b[0m \u001b[0;32mfor\u001b[0m \u001b[0md\u001b[0m \u001b[0;32min\u001b[0m \u001b[0mtqdm_notebook\u001b[0m\u001b[0;34m(\u001b[0m\u001b[0mresults\u001b[0m\u001b[0;34m.\u001b[0m\u001b[0mscan\u001b[0m\u001b[0;34m(\u001b[0m\u001b[0;34m)\u001b[0m\u001b[0;34m)\u001b[0m\u001b[0;34m)\u001b[0m\u001b[0;34m)\u001b[0m\u001b[0;34m\u001b[0m\u001b[0;34m\u001b[0m\u001b[0m\n\u001b[0m\u001b[1;32m     20\u001b[0m \u001b[0mjson_struct\u001b[0m \u001b[0;34m=\u001b[0m \u001b[0mjson\u001b[0m\u001b[0;34m.\u001b[0m\u001b[0mloads\u001b[0m\u001b[0;34m(\u001b[0m\u001b[0mdf\u001b[0m\u001b[0;34m.\u001b[0m\u001b[0mto_json\u001b[0m\u001b[0;34m(\u001b[0m\u001b[0morient\u001b[0m\u001b[0;34m=\u001b[0m\u001b[0;34m\"records\"\u001b[0m\u001b[0;34m)\u001b[0m\u001b[0;34m)\u001b[0m\u001b[0;34m\u001b[0m\u001b[0;34m\u001b[0m\u001b[0m\n\u001b[1;32m     21\u001b[0m \u001b[0;34m\u001b[0m\u001b[0m\n",
      "\u001b[0;32m~/.local/lib/python3.6/site-packages/tqdm/notebook.py\u001b[0m in \u001b[0;36m__iter__\u001b[0;34m(self, *args, **kwargs)\u001b[0m\n\u001b[1;32m    220\u001b[0m     \u001b[0;32mdef\u001b[0m \u001b[0m__iter__\u001b[0m\u001b[0;34m(\u001b[0m\u001b[0mself\u001b[0m\u001b[0;34m,\u001b[0m \u001b[0;34m*\u001b[0m\u001b[0margs\u001b[0m\u001b[0;34m,\u001b[0m \u001b[0;34m**\u001b[0m\u001b[0mkwargs\u001b[0m\u001b[0;34m)\u001b[0m\u001b[0;34m:\u001b[0m\u001b[0;34m\u001b[0m\u001b[0;34m\u001b[0m\u001b[0m\n\u001b[1;32m    221\u001b[0m         \u001b[0;32mtry\u001b[0m\u001b[0;34m:\u001b[0m\u001b[0;34m\u001b[0m\u001b[0;34m\u001b[0m\u001b[0m\n\u001b[0;32m--> 222\u001b[0;31m             \u001b[0;32mfor\u001b[0m \u001b[0mobj\u001b[0m \u001b[0;32min\u001b[0m \u001b[0msuper\u001b[0m\u001b[0;34m(\u001b[0m\u001b[0mtqdm_notebook\u001b[0m\u001b[0;34m,\u001b[0m \u001b[0mself\u001b[0m\u001b[0;34m)\u001b[0m\u001b[0;34m.\u001b[0m\u001b[0m__iter__\u001b[0m\u001b[0;34m(\u001b[0m\u001b[0;34m*\u001b[0m\u001b[0margs\u001b[0m\u001b[0;34m,\u001b[0m \u001b[0;34m**\u001b[0m\u001b[0mkwargs\u001b[0m\u001b[0;34m)\u001b[0m\u001b[0;34m:\u001b[0m\u001b[0;34m\u001b[0m\u001b[0;34m\u001b[0m\u001b[0m\n\u001b[0m\u001b[1;32m    223\u001b[0m                 \u001b[0;31m# return super(tqdm...) will not catch exception\u001b[0m\u001b[0;34m\u001b[0m\u001b[0;34m\u001b[0m\u001b[0;34m\u001b[0m\u001b[0m\n\u001b[1;32m    224\u001b[0m                 \u001b[0;32myield\u001b[0m \u001b[0mobj\u001b[0m\u001b[0;34m\u001b[0m\u001b[0;34m\u001b[0m\u001b[0m\n",
      "\u001b[0;32m~/.local/lib/python3.6/site-packages/tqdm/std.py\u001b[0m in \u001b[0;36m__iter__\u001b[0;34m(self)\u001b[0m\n\u001b[1;32m   1089\u001b[0m             \"\"\"), fp_write=getattr(self.fp, 'write', sys.stderr.write))\n\u001b[1;32m   1090\u001b[0m \u001b[0;34m\u001b[0m\u001b[0m\n\u001b[0;32m-> 1091\u001b[0;31m         \u001b[0;32mfor\u001b[0m \u001b[0mobj\u001b[0m \u001b[0;32min\u001b[0m \u001b[0miterable\u001b[0m\u001b[0;34m:\u001b[0m\u001b[0;34m\u001b[0m\u001b[0;34m\u001b[0m\u001b[0m\n\u001b[0m\u001b[1;32m   1092\u001b[0m             \u001b[0;32myield\u001b[0m \u001b[0mobj\u001b[0m\u001b[0;34m\u001b[0m\u001b[0;34m\u001b[0m\u001b[0m\n\u001b[1;32m   1093\u001b[0m             \u001b[0;31m# Update and possibly print the progressbar.\u001b[0m\u001b[0;34m\u001b[0m\u001b[0;34m\u001b[0m\u001b[0;34m\u001b[0m\u001b[0m\n",
      "\u001b[0;32m/usr/local/lib/python3.6/dist-packages/elasticsearch_dsl/search.py\u001b[0m in \u001b[0;36mscan\u001b[0;34m(self)\u001b[0m\n\u001b[1;32m    724\u001b[0m                 \u001b[0mindex\u001b[0m\u001b[0;34m=\u001b[0m\u001b[0mself\u001b[0m\u001b[0;34m.\u001b[0m\u001b[0m_index\u001b[0m\u001b[0;34m,\u001b[0m\u001b[0;34m\u001b[0m\u001b[0;34m\u001b[0m\u001b[0m\n\u001b[1;32m    725\u001b[0m                 \u001b[0mdoc_type\u001b[0m\u001b[0;34m=\u001b[0m\u001b[0mself\u001b[0m\u001b[0;34m.\u001b[0m\u001b[0m_get_doc_type\u001b[0m\u001b[0;34m(\u001b[0m\u001b[0;34m)\u001b[0m\u001b[0;34m,\u001b[0m\u001b[0;34m\u001b[0m\u001b[0;34m\u001b[0m\u001b[0m\n\u001b[0;32m--> 726\u001b[0;31m                 \u001b[0;34m**\u001b[0m\u001b[0mself\u001b[0m\u001b[0;34m.\u001b[0m\u001b[0m_params\u001b[0m\u001b[0;34m\u001b[0m\u001b[0;34m\u001b[0m\u001b[0m\n\u001b[0m\u001b[1;32m    727\u001b[0m         ):\n\u001b[1;32m    728\u001b[0m             \u001b[0;32myield\u001b[0m \u001b[0mself\u001b[0m\u001b[0;34m.\u001b[0m\u001b[0m_get_result\u001b[0m\u001b[0;34m(\u001b[0m\u001b[0mhit\u001b[0m\u001b[0;34m)\u001b[0m\u001b[0;34m\u001b[0m\u001b[0;34m\u001b[0m\u001b[0m\n",
      "\u001b[0;32m/usr/local/lib/python3.6/dist-packages/elasticsearch/helpers/__init__.py\u001b[0m in \u001b[0;36mscan\u001b[0;34m(client, query, scroll, raise_on_error, preserve_order, size, request_timeout, clear_scroll, scroll_kwargs, **kwargs)\u001b[0m\n\u001b[1;32m    362\u001b[0m     \u001b[0;31m# initial search\u001b[0m\u001b[0;34m\u001b[0m\u001b[0;34m\u001b[0m\u001b[0;34m\u001b[0m\u001b[0m\n\u001b[1;32m    363\u001b[0m     resp = client.search(body=query, scroll=scroll, size=size,\n\u001b[0;32m--> 364\u001b[0;31m                          request_timeout=request_timeout, **kwargs)\n\u001b[0m\u001b[1;32m    365\u001b[0m \u001b[0;34m\u001b[0m\u001b[0m\n\u001b[1;32m    366\u001b[0m     \u001b[0mscroll_id\u001b[0m \u001b[0;34m=\u001b[0m \u001b[0mresp\u001b[0m\u001b[0;34m.\u001b[0m\u001b[0mget\u001b[0m\u001b[0;34m(\u001b[0m\u001b[0;34m'_scroll_id'\u001b[0m\u001b[0;34m)\u001b[0m\u001b[0;34m\u001b[0m\u001b[0;34m\u001b[0m\u001b[0m\n",
      "\u001b[0;32m/usr/local/lib/python3.6/dist-packages/elasticsearch/client/utils.py\u001b[0m in \u001b[0;36m_wrapped\u001b[0;34m(*args, **kwargs)\u001b[0m\n\u001b[1;32m     74\u001b[0m                 \u001b[0;32mif\u001b[0m \u001b[0mp\u001b[0m \u001b[0;32min\u001b[0m \u001b[0mkwargs\u001b[0m\u001b[0;34m:\u001b[0m\u001b[0;34m\u001b[0m\u001b[0;34m\u001b[0m\u001b[0m\n\u001b[1;32m     75\u001b[0m                     \u001b[0mparams\u001b[0m\u001b[0;34m[\u001b[0m\u001b[0mp\u001b[0m\u001b[0;34m]\u001b[0m \u001b[0;34m=\u001b[0m \u001b[0mkwargs\u001b[0m\u001b[0;34m.\u001b[0m\u001b[0mpop\u001b[0m\u001b[0;34m(\u001b[0m\u001b[0mp\u001b[0m\u001b[0;34m)\u001b[0m\u001b[0;34m\u001b[0m\u001b[0;34m\u001b[0m\u001b[0m\n\u001b[0;32m---> 76\u001b[0;31m             \u001b[0;32mreturn\u001b[0m \u001b[0mfunc\u001b[0m\u001b[0;34m(\u001b[0m\u001b[0;34m*\u001b[0m\u001b[0margs\u001b[0m\u001b[0;34m,\u001b[0m \u001b[0mparams\u001b[0m\u001b[0;34m=\u001b[0m\u001b[0mparams\u001b[0m\u001b[0;34m,\u001b[0m \u001b[0;34m**\u001b[0m\u001b[0mkwargs\u001b[0m\u001b[0;34m)\u001b[0m\u001b[0;34m\u001b[0m\u001b[0;34m\u001b[0m\u001b[0m\n\u001b[0m\u001b[1;32m     77\u001b[0m         \u001b[0;32mreturn\u001b[0m \u001b[0m_wrapped\u001b[0m\u001b[0;34m\u001b[0m\u001b[0;34m\u001b[0m\u001b[0m\n\u001b[1;32m     78\u001b[0m     \u001b[0;32mreturn\u001b[0m \u001b[0m_wrapper\u001b[0m\u001b[0;34m\u001b[0m\u001b[0;34m\u001b[0m\u001b[0m\n",
      "\u001b[0;32m/usr/local/lib/python3.6/dist-packages/elasticsearch/client/__init__.py\u001b[0m in \u001b[0;36msearch\u001b[0;34m(self, index, doc_type, body, params)\u001b[0m\n\u001b[1;32m    658\u001b[0m             \u001b[0mindex\u001b[0m \u001b[0;34m=\u001b[0m \u001b[0;34m'_all'\u001b[0m\u001b[0;34m\u001b[0m\u001b[0;34m\u001b[0m\u001b[0m\n\u001b[1;32m    659\u001b[0m         return self.transport.perform_request('GET', _make_path(index,\n\u001b[0;32m--> 660\u001b[0;31m             doc_type, '_search'), params=params, body=body)\n\u001b[0m\u001b[1;32m    661\u001b[0m \u001b[0;34m\u001b[0m\u001b[0m\n\u001b[1;32m    662\u001b[0m     @query_params('_source', '_source_exclude', '_source_include',\n",
      "\u001b[0;32m/usr/local/lib/python3.6/dist-packages/elasticsearch/transport.py\u001b[0m in \u001b[0;36mperform_request\u001b[0;34m(self, method, url, headers, params, body)\u001b[0m\n\u001b[1;32m    316\u001b[0m                 \u001b[0mdelay\u001b[0m \u001b[0;34m=\u001b[0m \u001b[0;36m2\u001b[0m\u001b[0;34m**\u001b[0m\u001b[0mattempt\u001b[0m \u001b[0;34m-\u001b[0m \u001b[0;36m1\u001b[0m\u001b[0;34m\u001b[0m\u001b[0;34m\u001b[0m\u001b[0m\n\u001b[1;32m    317\u001b[0m                 \u001b[0mtime\u001b[0m\u001b[0;34m.\u001b[0m\u001b[0msleep\u001b[0m\u001b[0;34m(\u001b[0m\u001b[0mdelay\u001b[0m\u001b[0;34m)\u001b[0m\u001b[0;34m\u001b[0m\u001b[0;34m\u001b[0m\u001b[0m\n\u001b[0;32m--> 318\u001b[0;31m                 \u001b[0mstatus\u001b[0m\u001b[0;34m,\u001b[0m \u001b[0mheaders_response\u001b[0m\u001b[0;34m,\u001b[0m \u001b[0mdata\u001b[0m \u001b[0;34m=\u001b[0m \u001b[0mconnection\u001b[0m\u001b[0;34m.\u001b[0m\u001b[0mperform_request\u001b[0m\u001b[0;34m(\u001b[0m\u001b[0mmethod\u001b[0m\u001b[0;34m,\u001b[0m \u001b[0murl\u001b[0m\u001b[0;34m,\u001b[0m \u001b[0mparams\u001b[0m\u001b[0;34m,\u001b[0m \u001b[0mbody\u001b[0m\u001b[0;34m,\u001b[0m \u001b[0mheaders\u001b[0m\u001b[0;34m=\u001b[0m\u001b[0mheaders\u001b[0m\u001b[0;34m,\u001b[0m \u001b[0mignore\u001b[0m\u001b[0;34m=\u001b[0m\u001b[0mignore\u001b[0m\u001b[0;34m,\u001b[0m \u001b[0mtimeout\u001b[0m\u001b[0;34m=\u001b[0m\u001b[0mtimeout\u001b[0m\u001b[0;34m)\u001b[0m\u001b[0;34m\u001b[0m\u001b[0;34m\u001b[0m\u001b[0m\n\u001b[0m\u001b[1;32m    319\u001b[0m \u001b[0;34m\u001b[0m\u001b[0m\n\u001b[1;32m    320\u001b[0m             \u001b[0;32mexcept\u001b[0m \u001b[0mTransportError\u001b[0m \u001b[0;32mas\u001b[0m \u001b[0me\u001b[0m\u001b[0;34m:\u001b[0m\u001b[0;34m\u001b[0m\u001b[0;34m\u001b[0m\u001b[0m\n",
      "\u001b[0;32m/usr/local/lib/python3.6/dist-packages/elasticsearch/connection/http_urllib3.py\u001b[0m in \u001b[0;36mperform_request\u001b[0;34m(self, method, url, params, body, timeout, ignore, headers)\u001b[0m\n\u001b[1;32m    170\u001b[0m                     \u001b[0mbody\u001b[0m \u001b[0;34m=\u001b[0m \u001b[0mgzip\u001b[0m\u001b[0;34m.\u001b[0m\u001b[0mzlib\u001b[0m\u001b[0;34m.\u001b[0m\u001b[0mcompress\u001b[0m\u001b[0;34m(\u001b[0m\u001b[0mbody\u001b[0m\u001b[0;34m)\u001b[0m\u001b[0;34m\u001b[0m\u001b[0;34m\u001b[0m\u001b[0m\n\u001b[1;32m    171\u001b[0m \u001b[0;34m\u001b[0m\u001b[0m\n\u001b[0;32m--> 172\u001b[0;31m             \u001b[0mresponse\u001b[0m \u001b[0;34m=\u001b[0m \u001b[0mself\u001b[0m\u001b[0;34m.\u001b[0m\u001b[0mpool\u001b[0m\u001b[0;34m.\u001b[0m\u001b[0murlopen\u001b[0m\u001b[0;34m(\u001b[0m\u001b[0mmethod\u001b[0m\u001b[0;34m,\u001b[0m \u001b[0murl\u001b[0m\u001b[0;34m,\u001b[0m \u001b[0mbody\u001b[0m\u001b[0;34m,\u001b[0m \u001b[0mretries\u001b[0m\u001b[0;34m=\u001b[0m\u001b[0mRetry\u001b[0m\u001b[0;34m(\u001b[0m\u001b[0;32mFalse\u001b[0m\u001b[0;34m)\u001b[0m\u001b[0;34m,\u001b[0m \u001b[0mheaders\u001b[0m\u001b[0;34m=\u001b[0m\u001b[0mrequest_headers\u001b[0m\u001b[0;34m,\u001b[0m \u001b[0;34m**\u001b[0m\u001b[0mkw\u001b[0m\u001b[0;34m)\u001b[0m\u001b[0;34m\u001b[0m\u001b[0;34m\u001b[0m\u001b[0m\n\u001b[0m\u001b[1;32m    173\u001b[0m             \u001b[0mduration\u001b[0m \u001b[0;34m=\u001b[0m \u001b[0mtime\u001b[0m\u001b[0;34m.\u001b[0m\u001b[0mtime\u001b[0m\u001b[0;34m(\u001b[0m\u001b[0;34m)\u001b[0m \u001b[0;34m-\u001b[0m \u001b[0mstart\u001b[0m\u001b[0;34m\u001b[0m\u001b[0;34m\u001b[0m\u001b[0m\n\u001b[1;32m    174\u001b[0m             \u001b[0mraw_data\u001b[0m \u001b[0;34m=\u001b[0m \u001b[0mresponse\u001b[0m\u001b[0;34m.\u001b[0m\u001b[0mdata\u001b[0m\u001b[0;34m.\u001b[0m\u001b[0mdecode\u001b[0m\u001b[0;34m(\u001b[0m\u001b[0;34m'utf-8'\u001b[0m\u001b[0;34m)\u001b[0m\u001b[0;34m\u001b[0m\u001b[0;34m\u001b[0m\u001b[0m\n",
      "\u001b[0;32m~/.local/lib/python3.6/site-packages/urllib3/connectionpool.py\u001b[0m in \u001b[0;36murlopen\u001b[0;34m(self, method, url, body, headers, retries, redirect, assert_same_host, timeout, pool_timeout, release_conn, chunked, body_pos, **response_kw)\u001b[0m\n\u001b[1;32m    670\u001b[0m                 \u001b[0mbody\u001b[0m\u001b[0;34m=\u001b[0m\u001b[0mbody\u001b[0m\u001b[0;34m,\u001b[0m\u001b[0;34m\u001b[0m\u001b[0;34m\u001b[0m\u001b[0m\n\u001b[1;32m    671\u001b[0m                 \u001b[0mheaders\u001b[0m\u001b[0;34m=\u001b[0m\u001b[0mheaders\u001b[0m\u001b[0;34m,\u001b[0m\u001b[0;34m\u001b[0m\u001b[0;34m\u001b[0m\u001b[0m\n\u001b[0;32m--> 672\u001b[0;31m                 \u001b[0mchunked\u001b[0m\u001b[0;34m=\u001b[0m\u001b[0mchunked\u001b[0m\u001b[0;34m,\u001b[0m\u001b[0;34m\u001b[0m\u001b[0;34m\u001b[0m\u001b[0m\n\u001b[0m\u001b[1;32m    673\u001b[0m             )\n\u001b[1;32m    674\u001b[0m \u001b[0;34m\u001b[0m\u001b[0m\n",
      "\u001b[0;32m~/.local/lib/python3.6/site-packages/urllib3/connectionpool.py\u001b[0m in \u001b[0;36m_make_request\u001b[0;34m(self, conn, method, url, timeout, chunked, **httplib_request_kw)\u001b[0m\n\u001b[1;32m    419\u001b[0m                     \u001b[0;31m# Python 3 (including for exceptions like SystemExit).\u001b[0m\u001b[0;34m\u001b[0m\u001b[0;34m\u001b[0m\u001b[0;34m\u001b[0m\u001b[0m\n\u001b[1;32m    420\u001b[0m                     \u001b[0;31m# Otherwise it looks like a bug in the code.\u001b[0m\u001b[0;34m\u001b[0m\u001b[0;34m\u001b[0m\u001b[0;34m\u001b[0m\u001b[0m\n\u001b[0;32m--> 421\u001b[0;31m                     \u001b[0msix\u001b[0m\u001b[0;34m.\u001b[0m\u001b[0mraise_from\u001b[0m\u001b[0;34m(\u001b[0m\u001b[0me\u001b[0m\u001b[0;34m,\u001b[0m \u001b[0;32mNone\u001b[0m\u001b[0;34m)\u001b[0m\u001b[0;34m\u001b[0m\u001b[0;34m\u001b[0m\u001b[0m\n\u001b[0m\u001b[1;32m    422\u001b[0m         \u001b[0;32mexcept\u001b[0m \u001b[0;34m(\u001b[0m\u001b[0mSocketTimeout\u001b[0m\u001b[0;34m,\u001b[0m \u001b[0mBaseSSLError\u001b[0m\u001b[0;34m,\u001b[0m \u001b[0mSocketError\u001b[0m\u001b[0;34m)\u001b[0m \u001b[0;32mas\u001b[0m \u001b[0me\u001b[0m\u001b[0;34m:\u001b[0m\u001b[0;34m\u001b[0m\u001b[0;34m\u001b[0m\u001b[0m\n\u001b[1;32m    423\u001b[0m             \u001b[0mself\u001b[0m\u001b[0;34m.\u001b[0m\u001b[0m_raise_timeout\u001b[0m\u001b[0;34m(\u001b[0m\u001b[0merr\u001b[0m\u001b[0;34m=\u001b[0m\u001b[0me\u001b[0m\u001b[0;34m,\u001b[0m \u001b[0murl\u001b[0m\u001b[0;34m=\u001b[0m\u001b[0murl\u001b[0m\u001b[0;34m,\u001b[0m \u001b[0mtimeout_value\u001b[0m\u001b[0;34m=\u001b[0m\u001b[0mread_timeout\u001b[0m\u001b[0;34m)\u001b[0m\u001b[0;34m\u001b[0m\u001b[0;34m\u001b[0m\u001b[0m\n",
      "\u001b[0;32m~/.local/lib/python3.6/site-packages/urllib3/packages/six.py\u001b[0m in \u001b[0;36mraise_from\u001b[0;34m(value, from_value)\u001b[0m\n",
      "\u001b[0;32m~/.local/lib/python3.6/site-packages/urllib3/connectionpool.py\u001b[0m in \u001b[0;36m_make_request\u001b[0;34m(self, conn, method, url, timeout, chunked, **httplib_request_kw)\u001b[0m\n\u001b[1;32m    414\u001b[0m                 \u001b[0;31m# Python 3\u001b[0m\u001b[0;34m\u001b[0m\u001b[0;34m\u001b[0m\u001b[0;34m\u001b[0m\u001b[0m\n\u001b[1;32m    415\u001b[0m                 \u001b[0;32mtry\u001b[0m\u001b[0;34m:\u001b[0m\u001b[0;34m\u001b[0m\u001b[0;34m\u001b[0m\u001b[0m\n\u001b[0;32m--> 416\u001b[0;31m                     \u001b[0mhttplib_response\u001b[0m \u001b[0;34m=\u001b[0m \u001b[0mconn\u001b[0m\u001b[0;34m.\u001b[0m\u001b[0mgetresponse\u001b[0m\u001b[0;34m(\u001b[0m\u001b[0;34m)\u001b[0m\u001b[0;34m\u001b[0m\u001b[0;34m\u001b[0m\u001b[0m\n\u001b[0m\u001b[1;32m    417\u001b[0m                 \u001b[0;32mexcept\u001b[0m \u001b[0mBaseException\u001b[0m \u001b[0;32mas\u001b[0m \u001b[0me\u001b[0m\u001b[0;34m:\u001b[0m\u001b[0;34m\u001b[0m\u001b[0;34m\u001b[0m\u001b[0m\n\u001b[1;32m    418\u001b[0m                     \u001b[0;31m# Remove the TypeError from the exception chain in\u001b[0m\u001b[0;34m\u001b[0m\u001b[0;34m\u001b[0m\u001b[0;34m\u001b[0m\u001b[0m\n",
      "\u001b[0;32m/usr/lib/python3.6/http/client.py\u001b[0m in \u001b[0;36mgetresponse\u001b[0;34m(self)\u001b[0m\n\u001b[1;32m   1344\u001b[0m         \u001b[0;32mtry\u001b[0m\u001b[0;34m:\u001b[0m\u001b[0;34m\u001b[0m\u001b[0;34m\u001b[0m\u001b[0m\n\u001b[1;32m   1345\u001b[0m             \u001b[0;32mtry\u001b[0m\u001b[0;34m:\u001b[0m\u001b[0;34m\u001b[0m\u001b[0;34m\u001b[0m\u001b[0m\n\u001b[0;32m-> 1346\u001b[0;31m                 \u001b[0mresponse\u001b[0m\u001b[0;34m.\u001b[0m\u001b[0mbegin\u001b[0m\u001b[0;34m(\u001b[0m\u001b[0;34m)\u001b[0m\u001b[0;34m\u001b[0m\u001b[0;34m\u001b[0m\u001b[0m\n\u001b[0m\u001b[1;32m   1347\u001b[0m             \u001b[0;32mexcept\u001b[0m \u001b[0mConnectionError\u001b[0m\u001b[0;34m:\u001b[0m\u001b[0;34m\u001b[0m\u001b[0;34m\u001b[0m\u001b[0m\n\u001b[1;32m   1348\u001b[0m                 \u001b[0mself\u001b[0m\u001b[0;34m.\u001b[0m\u001b[0mclose\u001b[0m\u001b[0;34m(\u001b[0m\u001b[0;34m)\u001b[0m\u001b[0;34m\u001b[0m\u001b[0;34m\u001b[0m\u001b[0m\n",
      "\u001b[0;32m/usr/lib/python3.6/http/client.py\u001b[0m in \u001b[0;36mbegin\u001b[0;34m(self)\u001b[0m\n\u001b[1;32m    305\u001b[0m         \u001b[0;31m# read until we get a non-100 response\u001b[0m\u001b[0;34m\u001b[0m\u001b[0;34m\u001b[0m\u001b[0;34m\u001b[0m\u001b[0m\n\u001b[1;32m    306\u001b[0m         \u001b[0;32mwhile\u001b[0m \u001b[0;32mTrue\u001b[0m\u001b[0;34m:\u001b[0m\u001b[0;34m\u001b[0m\u001b[0;34m\u001b[0m\u001b[0m\n\u001b[0;32m--> 307\u001b[0;31m             \u001b[0mversion\u001b[0m\u001b[0;34m,\u001b[0m \u001b[0mstatus\u001b[0m\u001b[0;34m,\u001b[0m \u001b[0mreason\u001b[0m \u001b[0;34m=\u001b[0m \u001b[0mself\u001b[0m\u001b[0;34m.\u001b[0m\u001b[0m_read_status\u001b[0m\u001b[0;34m(\u001b[0m\u001b[0;34m)\u001b[0m\u001b[0;34m\u001b[0m\u001b[0;34m\u001b[0m\u001b[0m\n\u001b[0m\u001b[1;32m    308\u001b[0m             \u001b[0;32mif\u001b[0m \u001b[0mstatus\u001b[0m \u001b[0;34m!=\u001b[0m \u001b[0mCONTINUE\u001b[0m\u001b[0;34m:\u001b[0m\u001b[0;34m\u001b[0m\u001b[0;34m\u001b[0m\u001b[0m\n\u001b[1;32m    309\u001b[0m                 \u001b[0;32mbreak\u001b[0m\u001b[0;34m\u001b[0m\u001b[0;34m\u001b[0m\u001b[0m\n",
      "\u001b[0;32m/usr/lib/python3.6/http/client.py\u001b[0m in \u001b[0;36m_read_status\u001b[0;34m(self)\u001b[0m\n\u001b[1;32m    266\u001b[0m \u001b[0;34m\u001b[0m\u001b[0m\n\u001b[1;32m    267\u001b[0m     \u001b[0;32mdef\u001b[0m \u001b[0m_read_status\u001b[0m\u001b[0;34m(\u001b[0m\u001b[0mself\u001b[0m\u001b[0;34m)\u001b[0m\u001b[0;34m:\u001b[0m\u001b[0;34m\u001b[0m\u001b[0;34m\u001b[0m\u001b[0m\n\u001b[0;32m--> 268\u001b[0;31m         \u001b[0mline\u001b[0m \u001b[0;34m=\u001b[0m \u001b[0mstr\u001b[0m\u001b[0;34m(\u001b[0m\u001b[0mself\u001b[0m\u001b[0;34m.\u001b[0m\u001b[0mfp\u001b[0m\u001b[0;34m.\u001b[0m\u001b[0mreadline\u001b[0m\u001b[0;34m(\u001b[0m\u001b[0m_MAXLINE\u001b[0m \u001b[0;34m+\u001b[0m \u001b[0;36m1\u001b[0m\u001b[0;34m)\u001b[0m\u001b[0;34m,\u001b[0m \u001b[0;34m\"iso-8859-1\"\u001b[0m\u001b[0;34m)\u001b[0m\u001b[0;34m\u001b[0m\u001b[0;34m\u001b[0m\u001b[0m\n\u001b[0m\u001b[1;32m    269\u001b[0m         \u001b[0;32mif\u001b[0m \u001b[0mlen\u001b[0m\u001b[0;34m(\u001b[0m\u001b[0mline\u001b[0m\u001b[0;34m)\u001b[0m \u001b[0;34m>\u001b[0m \u001b[0m_MAXLINE\u001b[0m\u001b[0;34m:\u001b[0m\u001b[0;34m\u001b[0m\u001b[0;34m\u001b[0m\u001b[0m\n\u001b[1;32m    270\u001b[0m             \u001b[0;32mraise\u001b[0m \u001b[0mLineTooLong\u001b[0m\u001b[0;34m(\u001b[0m\u001b[0;34m\"status line\"\u001b[0m\u001b[0;34m)\u001b[0m\u001b[0;34m\u001b[0m\u001b[0;34m\u001b[0m\u001b[0m\n",
      "\u001b[0;32m/usr/lib/python3.6/socket.py\u001b[0m in \u001b[0;36mreadinto\u001b[0;34m(self, b)\u001b[0m\n\u001b[1;32m    584\u001b[0m         \u001b[0;32mwhile\u001b[0m \u001b[0;32mTrue\u001b[0m\u001b[0;34m:\u001b[0m\u001b[0;34m\u001b[0m\u001b[0;34m\u001b[0m\u001b[0m\n\u001b[1;32m    585\u001b[0m             \u001b[0;32mtry\u001b[0m\u001b[0;34m:\u001b[0m\u001b[0;34m\u001b[0m\u001b[0;34m\u001b[0m\u001b[0m\n\u001b[0;32m--> 586\u001b[0;31m                 \u001b[0;32mreturn\u001b[0m \u001b[0mself\u001b[0m\u001b[0;34m.\u001b[0m\u001b[0m_sock\u001b[0m\u001b[0;34m.\u001b[0m\u001b[0mrecv_into\u001b[0m\u001b[0;34m(\u001b[0m\u001b[0mb\u001b[0m\u001b[0;34m)\u001b[0m\u001b[0;34m\u001b[0m\u001b[0;34m\u001b[0m\u001b[0m\n\u001b[0m\u001b[1;32m    587\u001b[0m             \u001b[0;32mexcept\u001b[0m \u001b[0mtimeout\u001b[0m\u001b[0;34m:\u001b[0m\u001b[0;34m\u001b[0m\u001b[0;34m\u001b[0m\u001b[0m\n\u001b[1;32m    588\u001b[0m                 \u001b[0mself\u001b[0m\u001b[0;34m.\u001b[0m\u001b[0m_timeout_occurred\u001b[0m \u001b[0;34m=\u001b[0m \u001b[0;32mTrue\u001b[0m\u001b[0;34m\u001b[0m\u001b[0;34m\u001b[0m\u001b[0m\n",
      "\u001b[0;31mKeyboardInterrupt\u001b[0m: "
     ]
    }
   ],
   "source": [
    "from elasticsearch import Elasticsearch\n",
    "from elasticsearch_dsl import Search\n",
    "from elasticsearch_dsl import Q\n",
    "import json\n",
    "#Generating the dataframe from NFORS\n",
    "es = Elasticsearch()\n",
    "s = Search(using=es,index='*-fire-incident-*')\n",
    "s = s.source(['description.event_opened',\n",
    "                     'description.day_of_week',\n",
    "                    'NFPA.type',\n",
    "                     'fire_department.firecares_id'])\n",
    "\n",
    "\n",
    "\n",
    "q = Q(\"match\",fire_department__firecares_id =  '79592') | Q(\"match\",fire_department__firecares_id =  '93345')\n",
    "results = s.query(q)\n",
    "\n",
    "#Performing the query and converting to pandas dataframe\n",
    "df = pd.DataFrame((d.to_dict() for d in tqdm_notebook(results.scan())))\n",
    "json_struct = json.loads(df.to_json(orient=\"records\"))\n",
    "\n",
    "df = pd.io.json.json_normalize(json_struct)\n",
    "\n",
    "#Converting date\n",
    "df['date'] = df['description.event_opened'].apply(lambda x: x[:10])\n",
    "df['month'] = df.apply(lambda x: x['date'][5:7], axis=1)\n",
    "df['hour'] = df['description.event_opened'].apply(lambda x: x[11:13])\n",
    "\n",
    "\n",
    "#Converting df dates to datetime objects\n",
    "df['date'] = df.apply(lambda x: datetime.datetime.strptime(x['date'],'%Y-%m-%d'),axis=1)\n",
    "# df['date'] = df.apply(lambda x: datetime.datetime.strptime(x['date'],'%Y-%m-%d'),axis=1)\n",
    "\n",
    "#Renaming columns for convenience\n",
    "new_col = list(df.columns)\n",
    "for i,column in enumerate(df.columns):\n",
    "    new_col[i] = column.replace('weather.currently.','').replace('weather.daily.','')\n",
    "df.columns = new_col\n",
    "\n",
    "df.to_pickle('query_results')\n",
    "\n",
    "\n",
    "hourly = df[['fire_department.firecares_id', 'date','description.day_of_week', 'hour']].groupby(['fire_department.firecares_id', 'date','description.day_of_week', 'hour']).aggregate(len).reset_index()\n",
    "hourly = hourly.rename(columns={0: 'calls'})\n",
    "jsondata = {}\n",
    "jsondata['model_name'] = 'calls_by_hour'\n",
    "jsondata['model_version'] = 1.0\n",
    "jsondata['prediction_data'] = hourly.drop('date',axis=1).to_dict(orient='records')\n",
    "\n",
    "with open('./data/training_data.json', 'w') as outfile:\n",
    "    json.dump(jsondata, outfile)"
   ]
  },
  {
   "cell_type": "markdown",
   "metadata": {},
   "source": [
    "Once we have the data locally, we can use use the tools provided by the SageMaker Python SDK to upload the data to a default bucket. "
   ]
  },
  {
   "cell_type": "code",
   "execution_count": 6,
   "metadata": {},
   "outputs": [],
   "source": [
    "WORK_DIRECTORY = 'data'\n",
    "train_input = sagemaker_session.upload_data(WORK_DIRECTORY, key_prefix=\"{}/{}\".format(prefix, WORK_DIRECTORY) )"
   ]
  },
  {
   "cell_type": "markdown",
   "metadata": {},
   "source": [
    "## Create SageMaker Scikit Estimator <a class=\"anchor\" id=\"create_sklearn_estimator\"></a>\n",
    "\n",
    "To run our Scikit-learn training script on SageMaker, we construct a `sagemaker.sklearn.estimator.sklearn` estimator, which accepts several constructor arguments:\n",
    "\n",
    "* __entry_point__: The path to the Python script SageMaker runs for training and prediction.\n",
    "* __role__: Role ARN\n",
    "* __train_instance_type__ *(optional)*: The type of SageMaker instances for training. __Note__: Because Scikit-learn does not natively support GPU training, Sagemaker Scikit-learn does not currently support training on GPU instance types.\n",
    "* __sagemaker_session__ *(optional)*: The session used to train on Sagemaker.\n",
    "* __hyperparameters__ *(optional)*: A dictionary passed to the train function as hyperparameters.\n",
    "\n",
    "To see the code for the SKLearn Estimator, see here: https://github.com/aws/sagemaker-python-sdk/tree/master/src/sagemaker/sklearn"
   ]
  },
  {
   "cell_type": "code",
   "execution_count": 20,
   "metadata": {},
   "outputs": [],
   "source": [
    "from sagemaker.sklearn.estimator import SKLearn\n",
    "\n",
    "script_path = 'hourly_call_prediction.py'\n",
    "\n",
    "sklearn = SKLearn(\n",
    "    entry_point=script_path,\n",
    "    train_instance_type=\"ml.c4.xlarge\",\n",
    "    role=role,\n",
    "    sagemaker_session=sagemaker_session,\n",
    "    hyperparameters={'n_estimators': 1000})"
   ]
  },
  {
   "cell_type": "markdown",
   "metadata": {},
   "source": [
    "## Train SKLearn Estimator on EMS data <a class=\"anchor\" id=\"train_sklearn\"></a>\n",
    "Training is very simple, just call `fit` on the Estimator! This will start a SageMaker Training job that will download the data for us, invoke our scikit-learn code (in the provided script file), and save any model artifacts that the script creates."
   ]
  },
  {
   "cell_type": "code",
   "execution_count": 21,
   "metadata": {
    "scrolled": true
   },
   "outputs": [
    {
     "name": "stdout",
     "output_type": "stream",
     "text": [
      "Creating tmpkd_esy20_algo-1-tgf70_1 ... \n",
      "\u001b[1BAttaching to tmpkd_esy20_algo-1-tgf70_12mdone\u001b[0m\n",
      "\u001b[36malgo-1-tgf70_1  |\u001b[0m 2020-01-21 17:25:41,955 sagemaker-containers INFO     Imported framework sagemaker_sklearn_container.training\n",
      "\u001b[36malgo-1-tgf70_1  |\u001b[0m 2020-01-21 17:25:41,961 sagemaker-containers INFO     No GPUs detected (normal if no gpus installed)\n",
      "\u001b[36malgo-1-tgf70_1  |\u001b[0m 2020-01-21 17:25:41,984 sagemaker_sklearn_container.training INFO     Invoking user training script.\n",
      "\u001b[36malgo-1-tgf70_1  |\u001b[0m 2020-01-21 17:25:42,318 sagemaker-containers INFO     Module hourly_call_prediction does not provide a setup.py. \n",
      "\u001b[36malgo-1-tgf70_1  |\u001b[0m Generating setup.py\n",
      "\u001b[36malgo-1-tgf70_1  |\u001b[0m 2020-01-21 17:25:42,318 sagemaker-containers INFO     Generating setup.cfg\n",
      "\u001b[36malgo-1-tgf70_1  |\u001b[0m 2020-01-21 17:25:42,318 sagemaker-containers INFO     Generating MANIFEST.in\n",
      "\u001b[36malgo-1-tgf70_1  |\u001b[0m 2020-01-21 17:25:42,319 sagemaker-containers INFO     Installing module with the following command:\n",
      "\u001b[36malgo-1-tgf70_1  |\u001b[0m /miniconda3/bin/python -m pip install . \n",
      "\u001b[36malgo-1-tgf70_1  |\u001b[0m Processing /opt/ml/code\n",
      "\u001b[36malgo-1-tgf70_1  |\u001b[0m Building wheels for collected packages: hourly-call-prediction\n",
      "\u001b[36malgo-1-tgf70_1  |\u001b[0m   Building wheel for hourly-call-prediction (setup.py) ... \u001b[?25ldone\n",
      "\u001b[36malgo-1-tgf70_1  |\u001b[0m \u001b[?25h  Created wheel for hourly-call-prediction: filename=hourly_call_prediction-1.0.0-py2.py3-none-any.whl size=7375 sha256=3b039a08f8011156f09639b7925bc616815e7d317820deb2f44b50b767b87627\n",
      "\u001b[36malgo-1-tgf70_1  |\u001b[0m   Stored in directory: /tmp/pip-ephem-wheel-cache-md0cct2v/wheels/35/24/16/37574d11bf9bde50616c67372a334f94fa8356bc7164af8ca3\n",
      "\u001b[36malgo-1-tgf70_1  |\u001b[0m Successfully built hourly-call-prediction\n",
      "\u001b[36malgo-1-tgf70_1  |\u001b[0m Installing collected packages: hourly-call-prediction\n",
      "\u001b[36malgo-1-tgf70_1  |\u001b[0m Successfully installed hourly-call-prediction-1.0.0\n",
      "\u001b[36malgo-1-tgf70_1  |\u001b[0m 2020-01-21 17:25:43,472 sagemaker-containers INFO     No GPUs detected (normal if no gpus installed)\n",
      "\u001b[36malgo-1-tgf70_1  |\u001b[0m 2020-01-21 17:25:43,489 sagemaker-containers INFO     Invoking user script\n",
      "\u001b[36malgo-1-tgf70_1  |\u001b[0m \n",
      "\u001b[36malgo-1-tgf70_1  |\u001b[0m Training Env:\n",
      "\u001b[36malgo-1-tgf70_1  |\u001b[0m \n",
      "\u001b[36malgo-1-tgf70_1  |\u001b[0m {\n",
      "\u001b[36malgo-1-tgf70_1  |\u001b[0m     \"additional_framework_parameters\": {},\n",
      "\u001b[36malgo-1-tgf70_1  |\u001b[0m     \"channel_input_dirs\": {\n",
      "\u001b[36malgo-1-tgf70_1  |\u001b[0m         \"train\": \"/opt/ml/input/data/train\"\n",
      "\u001b[36malgo-1-tgf70_1  |\u001b[0m     },\n",
      "\u001b[36malgo-1-tgf70_1  |\u001b[0m     \"current_host\": \"algo-1-tgf70\",\n",
      "\u001b[36malgo-1-tgf70_1  |\u001b[0m     \"framework_module\": \"sagemaker_sklearn_container.training:main\",\n",
      "\u001b[36malgo-1-tgf70_1  |\u001b[0m     \"hosts\": [\n",
      "\u001b[36malgo-1-tgf70_1  |\u001b[0m         \"algo-1-tgf70\"\n",
      "\u001b[36malgo-1-tgf70_1  |\u001b[0m     ],\n",
      "\u001b[36malgo-1-tgf70_1  |\u001b[0m     \"hyperparameters\": {\n",
      "\u001b[36malgo-1-tgf70_1  |\u001b[0m         \"n_estimators\": 1000\n",
      "\u001b[36malgo-1-tgf70_1  |\u001b[0m     },\n",
      "\u001b[36malgo-1-tgf70_1  |\u001b[0m     \"input_config_dir\": \"/opt/ml/input/config\",\n",
      "\u001b[36malgo-1-tgf70_1  |\u001b[0m     \"input_data_config\": {\n",
      "\u001b[36malgo-1-tgf70_1  |\u001b[0m         \"train\": {\n",
      "\u001b[36malgo-1-tgf70_1  |\u001b[0m             \"TrainingInputMode\": \"File\"\n",
      "\u001b[36malgo-1-tgf70_1  |\u001b[0m         }\n",
      "\u001b[36malgo-1-tgf70_1  |\u001b[0m     },\n",
      "\u001b[36malgo-1-tgf70_1  |\u001b[0m     \"input_dir\": \"/opt/ml/input\",\n",
      "\u001b[36malgo-1-tgf70_1  |\u001b[0m     \"is_master\": true,\n",
      "\u001b[36malgo-1-tgf70_1  |\u001b[0m     \"job_name\": \"sagemaker-scikit-learn-2020-01-21-17-25-38-763\",\n",
      "\u001b[36malgo-1-tgf70_1  |\u001b[0m     \"log_level\": 20,\n",
      "\u001b[36malgo-1-tgf70_1  |\u001b[0m     \"master_hostname\": \"algo-1-tgf70\",\n",
      "\u001b[36malgo-1-tgf70_1  |\u001b[0m     \"model_dir\": \"/opt/ml/model\",\n",
      "\u001b[36malgo-1-tgf70_1  |\u001b[0m     \"module_dir\": \"s3://sagemaker-us-east-2-445861113736/sagemaker-scikit-learn-2020-01-21-17-25-38-763/source/sourcedir.tar.gz\",\n",
      "\u001b[36malgo-1-tgf70_1  |\u001b[0m     \"module_name\": \"hourly_call_prediction\",\n",
      "\u001b[36malgo-1-tgf70_1  |\u001b[0m     \"network_interface_name\": \"eth0\",\n",
      "\u001b[36malgo-1-tgf70_1  |\u001b[0m     \"num_cpus\": 64,\n",
      "\u001b[36malgo-1-tgf70_1  |\u001b[0m     \"num_gpus\": 0,\n",
      "\u001b[36malgo-1-tgf70_1  |\u001b[0m     \"output_data_dir\": \"/opt/ml/output/data\",\n",
      "\u001b[36malgo-1-tgf70_1  |\u001b[0m     \"output_dir\": \"/opt/ml/output\",\n",
      "\u001b[36malgo-1-tgf70_1  |\u001b[0m     \"output_intermediate_dir\": \"/opt/ml/output/intermediate\",\n",
      "\u001b[36malgo-1-tgf70_1  |\u001b[0m     \"resource_config\": {\n",
      "\u001b[36malgo-1-tgf70_1  |\u001b[0m         \"current_host\": \"algo-1-tgf70\",\n",
      "\u001b[36malgo-1-tgf70_1  |\u001b[0m         \"hosts\": [\n",
      "\u001b[36malgo-1-tgf70_1  |\u001b[0m             \"algo-1-tgf70\"\n",
      "\u001b[36malgo-1-tgf70_1  |\u001b[0m         ]\n",
      "\u001b[36malgo-1-tgf70_1  |\u001b[0m     },\n",
      "\u001b[36malgo-1-tgf70_1  |\u001b[0m     \"user_entry_point\": \"hourly_call_prediction.py\"\n",
      "\u001b[36malgo-1-tgf70_1  |\u001b[0m }\n",
      "\u001b[36malgo-1-tgf70_1  |\u001b[0m \n",
      "\u001b[36malgo-1-tgf70_1  |\u001b[0m Environment variables:\n",
      "\u001b[36malgo-1-tgf70_1  |\u001b[0m \n",
      "\u001b[36malgo-1-tgf70_1  |\u001b[0m SM_HOSTS=[\"algo-1-tgf70\"]\n",
      "\u001b[36malgo-1-tgf70_1  |\u001b[0m SM_NETWORK_INTERFACE_NAME=eth0\n",
      "\u001b[36malgo-1-tgf70_1  |\u001b[0m SM_HPS={\"n_estimators\":1000}\n",
      "\u001b[36malgo-1-tgf70_1  |\u001b[0m SM_USER_ENTRY_POINT=hourly_call_prediction.py\n",
      "\u001b[36malgo-1-tgf70_1  |\u001b[0m SM_FRAMEWORK_PARAMS={}\n",
      "\u001b[36malgo-1-tgf70_1  |\u001b[0m SM_RESOURCE_CONFIG={\"current_host\":\"algo-1-tgf70\",\"hosts\":[\"algo-1-tgf70\"]}\n",
      "\u001b[36malgo-1-tgf70_1  |\u001b[0m SM_INPUT_DATA_CONFIG={\"train\":{\"TrainingInputMode\":\"File\"}}\n",
      "\u001b[36malgo-1-tgf70_1  |\u001b[0m SM_OUTPUT_DATA_DIR=/opt/ml/output/data\n",
      "\u001b[36malgo-1-tgf70_1  |\u001b[0m SM_CHANNELS=[\"train\"]\n",
      "\u001b[36malgo-1-tgf70_1  |\u001b[0m SM_CURRENT_HOST=algo-1-tgf70\n",
      "\u001b[36malgo-1-tgf70_1  |\u001b[0m SM_MODULE_NAME=hourly_call_prediction\n",
      "\u001b[36malgo-1-tgf70_1  |\u001b[0m SM_LOG_LEVEL=20\n",
      "\u001b[36malgo-1-tgf70_1  |\u001b[0m SM_FRAMEWORK_MODULE=sagemaker_sklearn_container.training:main\n",
      "\u001b[36malgo-1-tgf70_1  |\u001b[0m SM_INPUT_DIR=/opt/ml/input\n",
      "\u001b[36malgo-1-tgf70_1  |\u001b[0m SM_INPUT_CONFIG_DIR=/opt/ml/input/config\n",
      "\u001b[36malgo-1-tgf70_1  |\u001b[0m SM_OUTPUT_DIR=/opt/ml/output\n",
      "\u001b[36malgo-1-tgf70_1  |\u001b[0m SM_NUM_CPUS=64\n",
      "\u001b[36malgo-1-tgf70_1  |\u001b[0m SM_NUM_GPUS=0\n",
      "\u001b[36malgo-1-tgf70_1  |\u001b[0m SM_MODEL_DIR=/opt/ml/model\n",
      "\u001b[36malgo-1-tgf70_1  |\u001b[0m SM_MODULE_DIR=s3://sagemaker-us-east-2-445861113736/sagemaker-scikit-learn-2020-01-21-17-25-38-763/source/sourcedir.tar.gz\n",
      "\u001b[36malgo-1-tgf70_1  |\u001b[0m SM_TRAINING_ENV={\"additional_framework_parameters\":{},\"channel_input_dirs\":{\"train\":\"/opt/ml/input/data/train\"},\"current_host\":\"algo-1-tgf70\",\"framework_module\":\"sagemaker_sklearn_container.training:main\",\"hosts\":[\"algo-1-tgf70\"],\"hyperparameters\":{\"n_estimators\":1000},\"input_config_dir\":\"/opt/ml/input/config\",\"input_data_config\":{\"train\":{\"TrainingInputMode\":\"File\"}},\"input_dir\":\"/opt/ml/input\",\"is_master\":true,\"job_name\":\"sagemaker-scikit-learn-2020-01-21-17-25-38-763\",\"log_level\":20,\"master_hostname\":\"algo-1-tgf70\",\"model_dir\":\"/opt/ml/model\",\"module_dir\":\"s3://sagemaker-us-east-2-445861113736/sagemaker-scikit-learn-2020-01-21-17-25-38-763/source/sourcedir.tar.gz\",\"module_name\":\"hourly_call_prediction\",\"network_interface_name\":\"eth0\",\"num_cpus\":64,\"num_gpus\":0,\"output_data_dir\":\"/opt/ml/output/data\",\"output_dir\":\"/opt/ml/output\",\"output_intermediate_dir\":\"/opt/ml/output/intermediate\",\"resource_config\":{\"current_host\":\"algo-1-tgf70\",\"hosts\":[\"algo-1-tgf70\"]},\"user_entry_point\":\"hourly_call_prediction.py\"}\n",
      "\u001b[36malgo-1-tgf70_1  |\u001b[0m SM_USER_ARGS=[\"--n_estimators\",\"1000\"]\n",
      "\u001b[36malgo-1-tgf70_1  |\u001b[0m SM_OUTPUT_INTERMEDIATE_DIR=/opt/ml/output/intermediate\n",
      "\u001b[36malgo-1-tgf70_1  |\u001b[0m SM_CHANNEL_TRAIN=/opt/ml/input/data/train\n",
      "\u001b[36malgo-1-tgf70_1  |\u001b[0m SM_HP_N_ESTIMATORS=1000\n",
      "\u001b[36malgo-1-tgf70_1  |\u001b[0m PYTHONPATH=/miniconda3/bin:/miniconda3/lib/python37.zip:/miniconda3/lib/python3.7:/miniconda3/lib/python3.7/lib-dynload:/miniconda3/lib/python3.7/site-packages\n",
      "\u001b[36malgo-1-tgf70_1  |\u001b[0m \n",
      "\u001b[36malgo-1-tgf70_1  |\u001b[0m Invoking script with the following command:\n",
      "\u001b[36malgo-1-tgf70_1  |\u001b[0m \n",
      "\u001b[36malgo-1-tgf70_1  |\u001b[0m /miniconda3/bin/python -m hourly_call_prediction --n_estimators 1000\n",
      "\u001b[36malgo-1-tgf70_1  |\u001b[0m \n",
      "\u001b[36malgo-1-tgf70_1  |\u001b[0m \n",
      "\u001b[36malgo-1-tgf70_1  |\u001b[0m /miniconda3/lib/python3.7/site-packages/sklearn/externals/joblib/externals/cloudpickle/cloudpickle.py:47: DeprecationWarning: the imp module is deprecated in favour of importlib; see the module's documentation for alternative uses\n",
      "\u001b[36malgo-1-tgf70_1  |\u001b[0m   import imp\n",
      "\u001b[36malgo-1-tgf70_1  |\u001b[0m 2020-01-21 17:27:02,093 sagemaker-containers INFO     Reporting training SUCCESS\n"
     ]
    },
    {
     "name": "stdout",
     "output_type": "stream",
     "text": [
      "\u001b[36mtmpkd_esy20_algo-1-tgf70_1 exited with code 0\n",
      "\u001b[0mAborting on container exit...\n",
      "===== Job Complete =====\n"
     ]
    }
   ],
   "source": [
    "sklearn.fit({'train': train_input})"
   ]
  },
  {
   "cell_type": "markdown",
   "metadata": {},
   "source": [
    "## Using the trained model to make inference requests <a class=\"anchor\" id=\"inference\"></a>\n",
    "\n",
    "### Deploy the model <a class=\"anchor\" id=\"deploy\"></a>\n",
    "\n",
    "Deploying the model to SageMaker hosting just requires a `deploy` call on the fitted model. This call takes an instance count and instance type."
   ]
  },
  {
   "cell_type": "code",
   "execution_count": 10,
   "metadata": {},
   "outputs": [
    {
     "name": "stdout",
     "output_type": "stream",
     "text": [
      "Attaching to tmphei5k5ux_algo-1-4e8pj_1\n",
      "\u001b[36malgo-1-4e8pj_1  |\u001b[0m Processing /opt/ml/code\n",
      "\u001b[36malgo-1-4e8pj_1  |\u001b[0m Building wheels for collected packages: hourly-call-prediction\n",
      "\u001b[36malgo-1-4e8pj_1  |\u001b[0m   Building wheel for hourly-call-prediction (setup.py) ... \u001b[?25ldone\n",
      "\u001b[36malgo-1-4e8pj_1  |\u001b[0m \u001b[?25h  Created wheel for hourly-call-prediction: filename=hourly_call_prediction-1.0.0-py2.py3-none-any.whl size=7368 sha256=c1f939daa52cdf21e278954815036c093f22f31ec578120a999542b440a1f8c4\n",
      "\u001b[36malgo-1-4e8pj_1  |\u001b[0m   Stored in directory: /tmp/pip-ephem-wheel-cache-710ngrax/wheels/35/24/16/37574d11bf9bde50616c67372a334f94fa8356bc7164af8ca3\n",
      "\u001b[36malgo-1-4e8pj_1  |\u001b[0m Successfully built hourly-call-prediction\n",
      "\u001b[36malgo-1-4e8pj_1  |\u001b[0m Installing collected packages: hourly-call-prediction\n",
      "\u001b[36malgo-1-4e8pj_1  |\u001b[0m Successfully installed hourly-call-prediction-1.0.0\n",
      "\u001b[36malgo-1-4e8pj_1  |\u001b[0m /miniconda3/lib/python3.7/site-packages/sklearn/externals/joblib/externals/cloudpickle/cloudpickle.py:47: DeprecationWarning: the imp module is deprecated in favour of importlib; see the module's documentation for alternative uses\n",
      "\u001b[36malgo-1-4e8pj_1  |\u001b[0m   import imp\n",
      "\u001b[36malgo-1-4e8pj_1  |\u001b[0m [2020-01-21 17:17:39 +0000] [216] [INFO] Starting gunicorn 19.9.0\n",
      "\u001b[36malgo-1-4e8pj_1  |\u001b[0m [2020-01-21 17:17:39 +0000] [216] [INFO] Listening at: unix:/tmp/gunicorn.sock (216)\n",
      "\u001b[36malgo-1-4e8pj_1  |\u001b[0m [2020-01-21 17:17:39 +0000] [216] [INFO] Using worker: gevent\n",
      "\u001b[36malgo-1-4e8pj_1  |\u001b[0m [2020-01-21 17:17:39 +0000] [219] [INFO] Booting worker with pid: 219\n",
      "\u001b[36malgo-1-4e8pj_1  |\u001b[0m [2020-01-21 17:17:39 +0000] [220] [INFO] Booting worker with pid: 220\n",
      "\u001b[36malgo-1-4e8pj_1  |\u001b[0m [2020-01-21 17:17:39 +0000] [221] [INFO] Booting worker with pid: 221\n",
      "\u001b[36malgo-1-4e8pj_1  |\u001b[0m [2020-01-21 17:17:39 +0000] [222] [INFO] Booting worker with pid: 222\n",
      "\u001b[36malgo-1-4e8pj_1  |\u001b[0m [2020-01-21 17:17:39 +0000] [286] [INFO] Booting worker with pid: 286\n",
      "\u001b[36malgo-1-4e8pj_1  |\u001b[0m [2020-01-21 17:17:39 +0000] [413] [INFO] Booting worker with pid: 413\n",
      "\u001b[36malgo-1-4e8pj_1  |\u001b[0m [2020-01-21 17:17:39 +0000] [414] [INFO] Booting worker with pid: 414\n",
      "\u001b[36malgo-1-4e8pj_1  |\u001b[0m [2020-01-21 17:17:39 +0000] [604] [INFO] Booting worker with pid: 604\n",
      "\u001b[36malgo-1-4e8pj_1  |\u001b[0m [2020-01-21 17:17:39 +0000] [605] [INFO] Booting worker with pid: 605\n",
      "\u001b[36malgo-1-4e8pj_1  |\u001b[0m [2020-01-21 17:17:40 +0000] [732] [INFO] Booting worker with pid: 732\n",
      "\u001b[36malgo-1-4e8pj_1  |\u001b[0m [2020-01-21 17:17:40 +0000] [798] [INFO] Booting worker with pid: 798\n",
      "\u001b[36malgo-1-4e8pj_1  |\u001b[0m 2020-01-21 17:17:40,159 INFO - sagemaker-containers - No GPUs detected (normal if no gpus installed)\n",
      "\u001b[36malgo-1-4e8pj_1  |\u001b[0m [2020-01-21 17:17:40 +0000] [799] [INFO] Booting worker with pid: 799\n",
      "\u001b[36malgo-1-4e8pj_1  |\u001b[0m [2020-01-21 17:17:40 +0000] [928] [INFO] Booting worker with pid: 928\n",
      "\u001b[36malgo-1-4e8pj_1  |\u001b[0m [2020-01-21 17:17:40 +0000] [953] [INFO] Booting worker with pid: 953\n",
      "\u001b[36malgo-1-4e8pj_1  |\u001b[0m [2020-01-21 17:17:40 +0000] [993] [INFO] Booting worker with pid: 993\n",
      "\u001b[36malgo-1-4e8pj_1  |\u001b[0m [2020-01-21 17:17:40 +0000] [994] [INFO] Booting worker with pid: 994\n",
      "\u001b[36malgo-1-4e8pj_1  |\u001b[0m [2020-01-21 17:17:40 +0000] [995] [INFO] Booting worker with pid: 995\n",
      "\u001b[36malgo-1-4e8pj_1  |\u001b[0m [2020-01-21 17:17:40 +0000] [1187] [INFO] Booting worker with pid: 1187\n",
      "\u001b[36malgo-1-4e8pj_1  |\u001b[0m [2020-01-21 17:17:40 +0000] [1316] [INFO] Booting worker with pid: 1316\n",
      "\u001b[36malgo-1-4e8pj_1  |\u001b[0m [2020-01-21 17:17:40 +0000] [1445] [INFO] Booting worker with pid: 1445\n",
      "\u001b[36malgo-1-4e8pj_1  |\u001b[0m [2020-01-21 17:17:40 +0000] [1444] [INFO] Booting worker with pid: 1444\n",
      "\u001b[36malgo-1-4e8pj_1  |\u001b[0m /miniconda3/lib/python3.7/site-packages/sklearn/externals/joblib/externals/cloudpickle/cloudpickle.py:47: DeprecationWarning: the imp module is deprecated in favour of importlib; see the module's documentation for alternative uses\n",
      "\u001b[36malgo-1-4e8pj_1  |\u001b[0m   import imp\n",
      "\u001b[36malgo-1-4e8pj_1  |\u001b[0m [2020-01-21 17:17:40 +0000] [1510] [INFO] Booting worker with pid: 1510\n",
      "\u001b[36malgo-1-4e8pj_1  |\u001b[0m [2020-01-21 17:17:40 +0000] [1638] [INFO] Booting worker with pid: 1638\n",
      "\u001b[36malgo-1-4e8pj_1  |\u001b[0m [2020-01-21 17:17:40 +0000] [1640] [INFO] Booting worker with pid: 1640\n",
      "\u001b[36malgo-1-4e8pj_1  |\u001b[0m [2020-01-21 17:17:40 +0000] [1835] [INFO] Booting worker with pid: 1835\n",
      "\u001b[36malgo-1-4e8pj_1  |\u001b[0m [2020-01-21 17:17:40 +0000] [1837] [INFO] Booting worker with pid: 1837\n",
      "\u001b[36malgo-1-4e8pj_1  |\u001b[0m [2020-01-21 17:17:40 +0000] [1839] [INFO] Booting worker with pid: 1839\n",
      "\u001b[36malgo-1-4e8pj_1  |\u001b[0m [2020-01-21 17:17:41 +0000] [1966] [INFO] Booting worker with pid: 1966\n",
      "\u001b[36malgo-1-4e8pj_1  |\u001b[0m [2020-01-21 17:17:41 +0000] [2032] [INFO] Booting worker with pid: 2032\n",
      "\u001b[36malgo-1-4e8pj_1  |\u001b[0m [2020-01-21 17:17:41 +0000] [2097] [INFO] Booting worker with pid: 2097\n",
      "\u001b[36malgo-1-4e8pj_1  |\u001b[0m [2020-01-21 17:17:41 +0000] [2099] [INFO] Booting worker with pid: 2099\n",
      "\u001b[36malgo-1-4e8pj_1  |\u001b[0m [2020-01-21 17:17:41 +0000] [2227] [INFO] Booting worker with pid: 2227\n",
      "\u001b[36malgo-1-4e8pj_1  |\u001b[0m [2020-01-21 17:17:41 +0000] [2293] [INFO] Booting worker with pid: 2293\n",
      "\u001b[36malgo-1-4e8pj_1  |\u001b[0m [2020-01-21 17:17:41 +0000] [2310] [INFO] Booting worker with pid: 2310\n",
      "!\u001b[36malgo-1-4e8pj_1  |\u001b[0m 172.18.0.1 - - [21/Jan/2020:17:17:41 +0000] \"GET /ping HTTP/1.1\" 200 0 \"-\" \"-\"\n",
      "\u001b[36malgo-1-4e8pj_1  |\u001b[0m [2020-01-21 17:17:41 +0000] [2422] [INFO] Booting worker with pid: 2422\n",
      "\u001b[36malgo-1-4e8pj_1  |\u001b[0m [2020-01-21 17:17:41 +0000] [2423] [INFO] Booting worker with pid: 2423\n",
      "\u001b[36malgo-1-4e8pj_1  |\u001b[0m [2020-01-21 17:17:41 +0000] [2489] [INFO] Booting worker with pid: 2489\n",
      "\u001b[36malgo-1-4e8pj_1  |\u001b[0m [2020-01-21 17:17:41 +0000] [2553] [INFO] Booting worker with pid: 2553\n",
      "\u001b[36malgo-1-4e8pj_1  |\u001b[0m [2020-01-21 17:17:41 +0000] [2745] [INFO] Booting worker with pid: 2745\n",
      "\u001b[36malgo-1-4e8pj_1  |\u001b[0m [2020-01-21 17:17:41 +0000] [2744] [INFO] Booting worker with pid: 2744\n",
      "\u001b[36malgo-1-4e8pj_1  |\u001b[0m [2020-01-21 17:17:41 +0000] [2746] [INFO] Booting worker with pid: 2746\n",
      "\u001b[36malgo-1-4e8pj_1  |\u001b[0m [2020-01-21 17:17:41 +0000] [2748] [INFO] Booting worker with pid: 2748\n",
      "\u001b[36malgo-1-4e8pj_1  |\u001b[0m [2020-01-21 17:17:41 +0000] [2749] [INFO] Booting worker with pid: 2749\n",
      "\u001b[36malgo-1-4e8pj_1  |\u001b[0m [2020-01-21 17:17:41 +0000] [2752] [INFO] Booting worker with pid: 2752\n",
      "\u001b[36malgo-1-4e8pj_1  |\u001b[0m [2020-01-21 17:17:41 +0000] [2753] [INFO] Booting worker with pid: 2753\n",
      "\u001b[36malgo-1-4e8pj_1  |\u001b[0m [2020-01-21 17:17:41 +0000] [3070] [INFO] Booting worker with pid: 3070\n",
      "\u001b[36malgo-1-4e8pj_1  |\u001b[0m [2020-01-21 17:17:41 +0000] [3071] [INFO] Booting worker with pid: 3071\n",
      "\u001b[36malgo-1-4e8pj_1  |\u001b[0m [2020-01-21 17:17:42 +0000] [3136] [INFO] Booting worker with pid: 3136\n",
      "\u001b[36malgo-1-4e8pj_1  |\u001b[0m [2020-01-21 17:17:42 +0000] [3327] [INFO] Booting worker with pid: 3327\n",
      "\u001b[36malgo-1-4e8pj_1  |\u001b[0m [2020-01-21 17:17:42 +0000] [3329] [INFO] Booting worker with pid: 3329\n",
      "\u001b[36malgo-1-4e8pj_1  |\u001b[0m [2020-01-21 17:17:42 +0000] [3331] [INFO] Booting worker with pid: 3331\n",
      "\u001b[36malgo-1-4e8pj_1  |\u001b[0m [2020-01-21 17:17:42 +0000] [3332] [INFO] Booting worker with pid: 3332\n",
      "\u001b[36malgo-1-4e8pj_1  |\u001b[0m [2020-01-21 17:17:42 +0000] [3379] [INFO] Booting worker with pid: 3379\n",
      "\u001b[36malgo-1-4e8pj_1  |\u001b[0m [2020-01-21 17:17:42 +0000] [3587] [INFO] Booting worker with pid: 3587\n",
      "\u001b[36malgo-1-4e8pj_1  |\u001b[0m [2020-01-21 17:17:42 +0000] [3659] [INFO] Booting worker with pid: 3659\n",
      "\u001b[36malgo-1-4e8pj_1  |\u001b[0m [2020-01-21 17:17:42 +0000] [3717] [INFO] Booting worker with pid: 3717\n",
      "\u001b[36malgo-1-4e8pj_1  |\u001b[0m [2020-01-21 17:17:42 +0000] [3784] [INFO] Booting worker with pid: 3784\n",
      "\u001b[36malgo-1-4e8pj_1  |\u001b[0m [2020-01-21 17:17:42 +0000] [3849] [INFO] Booting worker with pid: 3849\n",
      "\u001b[36malgo-1-4e8pj_1  |\u001b[0m [2020-01-21 17:17:42 +0000] [3977] [INFO] Booting worker with pid: 3977\n",
      "\u001b[36malgo-1-4e8pj_1  |\u001b[0m [2020-01-21 17:17:42 +0000] [3980] [INFO] Booting worker with pid: 3980\n",
      "\u001b[36malgo-1-4e8pj_1  |\u001b[0m [2020-01-21 17:17:42 +0000] [3981] [INFO] Booting worker with pid: 3981\n",
      "\u001b[36malgo-1-4e8pj_1  |\u001b[0m [2020-01-21 17:17:42 +0000] [4175] [INFO] Booting worker with pid: 4175\n",
      "\u001b[36malgo-1-4e8pj_1  |\u001b[0m [2020-01-21 17:17:42 +0000] [4177] [INFO] Booting worker with pid: 4177\n",
      "\u001b[36malgo-1-4e8pj_1  |\u001b[0m [2020-01-21 17:17:42 +0000] [4242] [INFO] Booting worker with pid: 4242\n"
     ]
    }
   ],
   "source": [
    "predictor = sklearn.deploy(initial_instance_count=1, instance_type=\"ml.m4.xlarge\")"
   ]
  },
  {
   "cell_type": "code",
   "execution_count": null,
   "metadata": {},
   "outputs": [],
   "source": [
    "docker-compose -f /tmp/tmp46n28vem/docker-compose.yaml up --build --abort-on-container-exit"
   ]
  },
  {
   "cell_type": "code",
   "execution_count": null,
   "metadata": {},
   "outputs": [],
   "source": []
  },
  {
   "cell_type": "code",
   "execution_count": null,
   "metadata": {},
   "outputs": [],
   "source": []
  },
  {
   "cell_type": "code",
   "execution_count": null,
   "metadata": {},
   "outputs": [],
   "source": []
  },
  {
   "cell_type": "code",
   "execution_count": null,
   "metadata": {},
   "outputs": [],
   "source": []
  },
  {
   "cell_type": "code",
   "execution_count": null,
   "metadata": {},
   "outputs": [],
   "source": [
    "#Make every combination of departments, days of week, and hour\n",
    "from itertools import product\n",
    "dep_list = hourly['fire_department.firecares_id'].unique()\n",
    "days = hourly['description.day_of_week'].unique()\n",
    "hours = hourly['hour'].unique()\n",
    "\n",
    "\n",
    "test_df = pd.DataFrame(list(product(dep_list, days, hours)), columns=['fire_department.firecares_id', 'description.day_of_week', 'hour'])\n",
    "jsondata = {}\n",
    "jsondata['model_name'] = 'calls_by_hour'\n",
    "jsondata['model_version'] = 1.0\n",
    "jsondata['prediction_data'] = test_df.to_dict(orient='records')\n",
    "\n",
    "with open('./prediction_data/test_data.json', 'w') as outfile:\n",
    "    json.dump(jsondata, outfile)\n",
    "\n",
    "\n",
    "# test_features = pd.get_dummies(test_df)[feature_list]\n",
    "# test_df['predictions'] = rf.predict(test_features)\n",
    "# department = '93345'\n",
    "# # department = '79592'\n",
    "# day = 'Tuesday'\n",
    "\n",
    "# subset = test_df[(test_df['fire_department.firecares_id'] == department) \n",
    "#                  & (test_df['description.day_of_week'] == day)]\n",
    "# subset = subset.sort_values(by='hour')\n",
    "# plt.rcParams['figure.figsize'] = [12,8]\n",
    "# subset.plot.bar(x='hour', y='predictions', color='dodgerblue', width=.7)\n",
    "# plt.yticks([0.7,1,1.3], [])"
   ]
  },
  {
   "cell_type": "markdown",
   "metadata": {},
   "source": [
    "### Choose some data and use it for a prediction <a class=\"anchor\" id=\"prediction_request\"></a>\n",
    "\n",
    "In order to do some predictions, we'll extract some of the data we used for training and do predictions against it. This is, of course, bad statistical practice, but a good way to see how the mechanism works."
   ]
  },
  {
   "cell_type": "markdown",
   "metadata": {},
   "source": [
    "Prediction is as easy as calling predict with the predictor we got back from deploy and the data we want to do predictions with. The output from the endpoint return an numerical representation of the classification prediction; in the original dataset, these are flower names, but in this example the labels are numerical. We can compare against the original label that we parsed."
   ]
  },
  {
   "cell_type": "markdown",
   "metadata": {},
   "source": [
    "### Endpoint cleanup <a class=\"anchor\" id=\"endpoint_cleanup\"></a>\n",
    "\n",
    "When you're done with the endpoint, you'll want to clean it up."
   ]
  },
  {
   "cell_type": "code",
   "execution_count": 11,
   "metadata": {},
   "outputs": [
    {
     "name": "stdout",
     "output_type": "stream",
     "text": [
      "Gracefully stopping... (press Ctrl+C again to force)\n"
     ]
    }
   ],
   "source": [
    "sklearn.delete_endpoint()"
   ]
  },
  {
   "cell_type": "markdown",
   "metadata": {},
   "source": [
    "## Batch Transform <a class=\"anchor\" id=\"batch_transform\"></a>\n",
    "We can also use the trained model for asynchronous batch inference on S3 data using SageMaker Batch Transform."
   ]
  },
  {
   "cell_type": "code",
   "execution_count": 22,
   "metadata": {},
   "outputs": [],
   "source": [
    "# Define a SKLearn Transformer from the trained SKLearn Estimator\n",
    "transformer = sklearn.transformer(instance_count=1, instance_type='ml.m4.xlarge')"
   ]
  },
  {
   "cell_type": "markdown",
   "metadata": {},
   "source": [
    "### Prepare Input Data <a class=\"anchor\" id=\"prepare_input_data\"></a>\n",
    "We will extract 10 random samples of 100 rows from the training data, then split the features (X) from the labels (Y). Then upload the input data to a given location in S3."
   ]
  },
  {
   "cell_type": "code",
   "execution_count": 33,
   "metadata": {},
   "outputs": [],
   "source": [
    "#Upload test data to s3\n",
    "WORK_DIRECTORY = 'prediction_data'\n",
    "batch_input_s3 = sagemaker_session.upload_data(WORK_DIRECTORY, key_prefix=\"{}/{}\".format(prefix, WORK_DIRECTORY) )"
   ]
  },
  {
   "cell_type": "markdown",
   "metadata": {},
   "source": [
    "### Run Transform Job <a class=\"anchor\" id=\"run_transform_job\"></a>\n",
    "Using the Transformer, run a transform job on the S3 input data."
   ]
  },
  {
   "cell_type": "code",
   "execution_count": 34,
   "metadata": {},
   "outputs": [
    {
     "name": "stdout",
     "output_type": "stream",
     "text": [
      "Attaching to tmp9ck0gmpj_algo-1-o416z_1\n",
      "\u001b[36malgo-1-o416z_1  |\u001b[0m Processing /opt/ml/code\n",
      "\u001b[36malgo-1-o416z_1  |\u001b[0m Building wheels for collected packages: hourly-call-prediction\n",
      "\u001b[36malgo-1-o416z_1  |\u001b[0m   Building wheel for hourly-call-prediction (setup.py) ... \u001b[?25ldone\n",
      "\u001b[36malgo-1-o416z_1  |\u001b[0m \u001b[?25h  Created wheel for hourly-call-prediction: filename=hourly_call_prediction-1.0.0-py2.py3-none-any.whl size=7377 sha256=15f46bf3b6ffa9fed0e883247b497602f14a1aaaaac0a49508955731e2058ebb\n",
      "\u001b[36malgo-1-o416z_1  |\u001b[0m   Stored in directory: /tmp/pip-ephem-wheel-cache-9kakzzf0/wheels/35/24/16/37574d11bf9bde50616c67372a334f94fa8356bc7164af8ca3\n",
      "\u001b[36malgo-1-o416z_1  |\u001b[0m Successfully built hourly-call-prediction\n",
      "\u001b[36malgo-1-o416z_1  |\u001b[0m Installing collected packages: hourly-call-prediction\n",
      "\u001b[36malgo-1-o416z_1  |\u001b[0m Successfully installed hourly-call-prediction-1.0.0\n",
      "\u001b[36malgo-1-o416z_1  |\u001b[0m /miniconda3/lib/python3.7/site-packages/sklearn/externals/joblib/externals/cloudpickle/cloudpickle.py:47: DeprecationWarning: the imp module is deprecated in favour of importlib; see the module's documentation for alternative uses\n",
      "\u001b[36malgo-1-o416z_1  |\u001b[0m   import imp\n",
      "\u001b[36malgo-1-o416z_1  |\u001b[0m [2020-01-21 17:27:28 +0000] [216] [INFO] Starting gunicorn 19.9.0\n",
      "\u001b[36malgo-1-o416z_1  |\u001b[0m [2020-01-21 17:27:28 +0000] [216] [INFO] Listening at: unix:/tmp/gunicorn.sock (216)\n",
      "\u001b[36malgo-1-o416z_1  |\u001b[0m [2020-01-21 17:27:28 +0000] [216] [INFO] Using worker: gevent\n",
      "\u001b[36malgo-1-o416z_1  |\u001b[0m [2020-01-21 17:27:28 +0000] [219] [INFO] Booting worker with pid: 219\n",
      "\u001b[36malgo-1-o416z_1  |\u001b[0m [2020-01-21 17:27:28 +0000] [220] [INFO] Booting worker with pid: 220\n",
      "\u001b[36malgo-1-o416z_1  |\u001b[0m [2020-01-21 17:27:28 +0000] [347] [INFO] Booting worker with pid: 347\n",
      "\u001b[36malgo-1-o416z_1  |\u001b[0m [2020-01-21 17:27:28 +0000] [348] [INFO] Booting worker with pid: 348\n",
      "\u001b[36malgo-1-o416z_1  |\u001b[0m [2020-01-21 17:27:28 +0000] [349] [INFO] Booting worker with pid: 349\n",
      "\u001b[36malgo-1-o416z_1  |\u001b[0m [2020-01-21 17:27:28 +0000] [476] [INFO] Booting worker with pid: 476\n",
      "\u001b[36malgo-1-o416z_1  |\u001b[0m [2020-01-21 17:27:28 +0000] [477] [INFO] Booting worker with pid: 477\n",
      "\u001b[36malgo-1-o416z_1  |\u001b[0m [2020-01-21 17:27:28 +0000] [541] [INFO] Booting worker with pid: 541\n",
      "\u001b[36malgo-1-o416z_1  |\u001b[0m [2020-01-21 17:27:29 +0000] [613] [INFO] Booting worker with pid: 613\n",
      "\u001b[36malgo-1-o416z_1  |\u001b[0m [2020-01-21 17:27:29 +0000] [612] [INFO] Booting worker with pid: 612\n",
      "\u001b[36malgo-1-o416z_1  |\u001b[0m [2020-01-21 17:27:29 +0000] [670] [INFO] Booting worker with pid: 670\n",
      "\u001b[36malgo-1-o416z_1  |\u001b[0m [2020-01-21 17:27:29 +0000] [671] [INFO] Booting worker with pid: 671\n",
      "\u001b[36malgo-1-o416z_1  |\u001b[0m [2020-01-21 17:27:29 +0000] [736] [INFO] Booting worker with pid: 736\n",
      "\u001b[36malgo-1-o416z_1  |\u001b[0m [2020-01-21 17:27:29 +0000] [801] [INFO] Booting worker with pid: 801\n",
      "\u001b[36malgo-1-o416z_1  |\u001b[0m [2020-01-21 17:27:29 +0000] [928] [INFO] Booting worker with pid: 928\n",
      "\u001b[36malgo-1-o416z_1  |\u001b[0m [2020-01-21 17:27:29 +0000] [1118] [INFO] Booting worker with pid: 1118\n",
      "\u001b[36malgo-1-o416z_1  |\u001b[0m [2020-01-21 17:27:29 +0000] [1183] [INFO] Booting worker with pid: 1183\n",
      "\u001b[36malgo-1-o416z_1  |\u001b[0m [2020-01-21 17:27:29 +0000] [1185] [INFO] Booting worker with pid: 1185\n",
      "\u001b[36malgo-1-o416z_1  |\u001b[0m [2020-01-21 17:27:29 +0000] [1224] [INFO] Booting worker with pid: 1224\n",
      "\u001b[36malgo-1-o416z_1  |\u001b[0m [2020-01-21 17:27:29 +0000] [1378] [INFO] Booting worker with pid: 1378\n",
      "\u001b[36malgo-1-o416z_1  |\u001b[0m 2020-01-21 17:27:29,552 INFO - sagemaker-containers - No GPUs detected (normal if no gpus installed)\n",
      "\u001b[36malgo-1-o416z_1  |\u001b[0m [2020-01-21 17:27:29 +0000] [1381] [INFO] Booting worker with pid: 1381\n",
      "\u001b[36malgo-1-o416z_1  |\u001b[0m [2020-01-21 17:27:29 +0000] [1449] [INFO] Booting worker with pid: 1449\n",
      "\u001b[36malgo-1-o416z_1  |\u001b[0m [2020-01-21 17:27:29 +0000] [1579] [INFO] Booting worker with pid: 1579\n",
      "\u001b[36malgo-1-o416z_1  |\u001b[0m [2020-01-21 17:27:29 +0000] [1580] [INFO] Booting worker with pid: 1580\n",
      "\u001b[36malgo-1-o416z_1  |\u001b[0m [2020-01-21 17:27:29 +0000] [1708] [INFO] Booting worker with pid: 1708\n",
      "\u001b[36malgo-1-o416z_1  |\u001b[0m /miniconda3/lib/python3.7/site-packages/sklearn/externals/joblib/externals/cloudpickle/cloudpickle.py:47: DeprecationWarning: the imp module is deprecated in favour of importlib; see the module's documentation for alternative uses\n",
      "\u001b[36malgo-1-o416z_1  |\u001b[0m   import imp\n",
      "\u001b[36malgo-1-o416z_1  |\u001b[0m [2020-01-21 17:27:29 +0000] [1773] [INFO] Booting worker with pid: 1773\n",
      "\u001b[36malgo-1-o416z_1  |\u001b[0m [2020-01-21 17:27:29 +0000] [1839] [INFO] Booting worker with pid: 1839\n",
      "\u001b[36malgo-1-o416z_1  |\u001b[0m [2020-01-21 17:27:30 +0000] [1966] [INFO] Booting worker with pid: 1966\n",
      "\u001b[36malgo-1-o416z_1  |\u001b[0m [2020-01-21 17:27:30 +0000] [1968] [INFO] Booting worker with pid: 1968\n",
      "\u001b[36malgo-1-o416z_1  |\u001b[0m [2020-01-21 17:27:30 +0000] [2033] [INFO] Booting worker with pid: 2033\n",
      "\u001b[36malgo-1-o416z_1  |\u001b[0m [2020-01-21 17:27:30 +0000] [2162] [INFO] Booting worker with pid: 2162\n",
      "\u001b[36malgo-1-o416z_1  |\u001b[0m [2020-01-21 17:27:30 +0000] [2227] [INFO] Booting worker with pid: 2227\n",
      "\u001b[36malgo-1-o416z_1  |\u001b[0m [2020-01-21 17:27:30 +0000] [2228] [INFO] Booting worker with pid: 2228\n",
      "\u001b[36malgo-1-o416z_1  |\u001b[0m [2020-01-21 17:27:30 +0000] [2229] [INFO] Booting worker with pid: 2229\n",
      "\u001b[36malgo-1-o416z_1  |\u001b[0m [2020-01-21 17:27:30 +0000] [2357] [INFO] Booting worker with pid: 2357\n",
      "\u001b[36malgo-1-o416z_1  |\u001b[0m [2020-01-21 17:27:30 +0000] [2484] [INFO] Booting worker with pid: 2484\n",
      "\u001b[36malgo-1-o416z_1  |\u001b[0m [2020-01-21 17:27:30 +0000] [2486] [INFO] Booting worker with pid: 2486\n",
      "\u001b[36malgo-1-o416z_1  |\u001b[0m [2020-01-21 17:27:30 +0000] [2485] [INFO] Booting worker with pid: 2485\n",
      "\u001b[36malgo-1-o416z_1  |\u001b[0m 172.18.0.1 - - [21/Jan/2020:17:27:30 +0000] \"GET /ping HTTP/1.1\" 200 0 \"-\" \"-\"\n",
      "\u001b[36malgo-1-o416z_1  |\u001b[0m [2020-01-21 17:27:30 +0000] [2616] [INFO] Booting worker with pid: 2616\n",
      "\u001b[36malgo-1-o416z_1  |\u001b[0m 2020-01-21 17:27:30,570 INFO - sagemaker-containers - No GPUs detected (normal if no gpus installed)\n",
      "\u001b[36malgo-1-o416z_1  |\u001b[0m [2020-01-21 17:27:30 +0000] [2744] [INFO] Booting worker with pid: 2744\n",
      "\u001b[36malgo-1-o416z_1  |\u001b[0m [2020-01-21 17:27:30 +0000] [2810] [INFO] Booting worker with pid: 2810\n",
      "\u001b[36malgo-1-o416z_1  |\u001b[0m [2020-01-21 17:27:30 +0000] [2811] [INFO] Booting worker with pid: 2811\n",
      "\u001b[36malgo-1-o416z_1  |\u001b[0m [2020-01-21 17:27:30 +0000] [2959] [INFO] Booting worker with pid: 2959\n",
      "\u001b[36malgo-1-o416z_1  |\u001b[0m [2020-01-21 17:27:30 +0000] [3004] [INFO] Booting worker with pid: 3004\n",
      "\u001b[36malgo-1-o416z_1  |\u001b[0m [2020-01-21 17:27:30 +0000] [3006] [INFO] Booting worker with pid: 3006\n",
      "\u001b[36malgo-1-o416z_1  |\u001b[0m [2020-01-21 17:27:30 +0000] [3007] [INFO] Booting worker with pid: 3007\n",
      "\u001b[36malgo-1-o416z_1  |\u001b[0m [2020-01-21 17:27:30 +0000] [3136] [INFO] Booting worker with pid: 3136\n",
      "\u001b[36malgo-1-o416z_1  |\u001b[0m [2020-01-21 17:27:30 +0000] [3200] [INFO] Booting worker with pid: 3200\n",
      "\u001b[36malgo-1-o416z_1  |\u001b[0m /miniconda3/lib/python3.7/site-packages/sklearn/externals/joblib/externals/cloudpickle/cloudpickle.py:47: DeprecationWarning: the imp module is deprecated in favour of importlib; see the module's documentation for alternative uses\n",
      "\u001b[36malgo-1-o416z_1  |\u001b[0m   import imp\n",
      "\u001b[36malgo-1-o416z_1  |\u001b[0m [2020-01-21 17:27:31 +0000] [3205] [INFO] Booting worker with pid: 3205\n",
      "\u001b[36malgo-1-o416z_1  |\u001b[0m [2020-01-21 17:27:31 +0000] [3396] [INFO] Booting worker with pid: 3396\n",
      "\u001b[36malgo-1-o416z_1  |\u001b[0m [2020-01-21 17:27:31 +0000] [3397] [INFO] Booting worker with pid: 3397\n",
      "\u001b[36malgo-1-o416z_1  |\u001b[0m [2020-01-21 17:27:31 +0000] [3525] [INFO] Booting worker with pid: 3525\n",
      "\u001b[36malgo-1-o416z_1  |\u001b[0m [2020-01-21 17:27:31 +0000] [3590] [INFO] Booting worker with pid: 3590\n",
      "\u001b[36malgo-1-o416z_1  |\u001b[0m [2020-01-21 17:27:31 +0000] [3655] [INFO] Booting worker with pid: 3655\n",
      "\u001b[36malgo-1-o416z_1  |\u001b[0m [2020-01-21 17:27:31 +0000] [3657] [INFO] Booting worker with pid: 3657\n",
      "\u001b[36malgo-1-o416z_1  |\u001b[0m [2020-01-21 17:27:31 +0000] [3656] [INFO] Booting worker with pid: 3656\n",
      "\u001b[36malgo-1-o416z_1  |\u001b[0m [2020-01-21 17:27:31 +0000] [3722] [INFO] Booting worker with pid: 3722\n",
      "\u001b[36malgo-1-o416z_1  |\u001b[0m [2020-01-21 17:27:31 +0000] [3850] [INFO] Booting worker with pid: 3850\n",
      "\u001b[36malgo-1-o416z_1  |\u001b[0m [2020-01-21 17:27:31 +0000] [3858] [INFO] Booting worker with pid: 3858\n"
     ]
    },
    {
     "name": "stdout",
     "output_type": "stream",
     "text": [
      "\u001b[36malgo-1-o416z_1  |\u001b[0m [2020-01-21 17:27:31 +0000] [4044] [INFO] Booting worker with pid: 4044\n",
      "\u001b[36malgo-1-o416z_1  |\u001b[0m [2020-01-21 17:27:31 +0000] [4045] [INFO] Booting worker with pid: 4045\n",
      "\u001b[36malgo-1-o416z_1  |\u001b[0m [2020-01-21 17:27:31 +0000] [4173] [INFO] Booting worker with pid: 4173\n",
      "\u001b[36malgo-1-o416z_1  |\u001b[0m [2020-01-21 17:27:31 +0000] [4300] [INFO] Booting worker with pid: 4300\n",
      "\u001b[36malgo-1-o416z_1  |\u001b[0m 172.18.0.1 - - [21/Jan/2020:17:27:31 +0000] \"GET /execution-parameters HTTP/1.1\" 404 232 \"-\" \"-\"\n",
      "\u001b[36malgo-1-o416z_1  |\u001b[0m [2020-01-21 17:27:31 +0000] [4367] [INFO] Booting worker with pid: 4367\n",
      "\u001b[36malgo-1-o416z_1  |\u001b[0m 2020-01-21 17:27:32,226 INFO - sagemaker-containers - No GPUs detected (normal if no gpus installed)\n",
      "\u001b[36malgo-1-o416z_1  |\u001b[0m /miniconda3/lib/python3.7/site-packages/sklearn/externals/joblib/externals/cloudpickle/cloudpickle.py:47: DeprecationWarning: the imp module is deprecated in favour of importlib; see the module's documentation for alternative uses\n",
      "\u001b[36malgo-1-o416z_1  |\u001b[0m   import imp\n",
      "\u001b[36malgo-1-o416z_1  |\u001b[0m 172.18.0.1 - - [21/Jan/2020:17:27:33 +0000] \"POST /invocations HTTP/1.1\" 200 6667 \"-\" \"-\"\n",
      "Gracefully stopping... (press Ctrl+C again to force)\n",
      "Waiting for transform job: sagemaker-scikit-learn-2020-01-21-17-27-19-740\n",
      "."
     ]
    }
   ],
   "source": [
    "# Start a transform job and wait for it to finish\n",
    "transformer.transform(batch_input_s3, content_type='application/json')\n",
    "print('Waiting for transform job: ' + transformer.latest_transform_job.job_name)\n",
    "transformer.wait()"
   ]
  },
  {
   "cell_type": "markdown",
   "metadata": {},
   "source": [
    "### Check Output Data  <a class=\"anchor\" id=\"check_output_data\"></a>\n",
    "After the transform job has completed, download the output data from S3. For each file \"f\" in the input data, we have a corresponding file \"f.out\" containing the predicted labels from each input row. We can compare the predicted labels to the true labels saved earlier."
   ]
  },
  {
   "cell_type": "code",
   "execution_count": null,
   "metadata": {},
   "outputs": [],
   "source": [
    "# Download the output data from S3 to local filesystem\n",
    "batch_output = transformer.output_path\n",
    "!mkdir -p batch_data/output\n",
    "!aws s3 cp --recursive $batch_output/ batch_data/output/\n",
    "# Head to see what the batch output looks like\n",
    "!head batch_data/output/*"
   ]
  },
  {
   "cell_type": "code",
   "execution_count": null,
   "metadata": {},
   "outputs": [],
   "source": [
    "# Pulling the predictions, comparing to the observed number of calls"
   ]
  },
  {
   "cell_type": "code",
   "execution_count": null,
   "metadata": {},
   "outputs": [],
   "source": [
    "import numpy as np\n",
    "import pandas as pd\n",
    "import matplotlib.pyplot as plt\n",
    "output_loc = './batch_data/output/test_data.json.out'\n",
    "\n",
    "with open (output_loc, \"r\") as myfile:\n",
    "    data=myfile.readlines()\n",
    "    \n",
    "string_output = data[0].replace('[','').replace(']','')\n",
    "\n",
    "predicted = np.genfromtxt(StringIO(string_output),delimiter=',')\n",
    "actual = np.genfromtxt('observed',delimiter=',')[1:,1]\n",
    "plt.scatter(predicted,actual,alpha=0.3)\n",
    "plt.xlabel('predicted')\n",
    "plt.ylabel('actual')"
   ]
  }
 ],
 "metadata": {
  "kernelspec": {
   "display_name": "Python 3",
   "language": "python",
   "name": "python3"
  },
  "language_info": {
   "codemirror_mode": {
    "name": "ipython",
    "version": 3
   },
   "file_extension": ".py",
   "mimetype": "text/x-python",
   "name": "python",
   "nbconvert_exporter": "python",
   "pygments_lexer": "ipython3",
   "version": "3.6.8"
  }
 },
 "nbformat": 4,
 "nbformat_minor": 2
}
