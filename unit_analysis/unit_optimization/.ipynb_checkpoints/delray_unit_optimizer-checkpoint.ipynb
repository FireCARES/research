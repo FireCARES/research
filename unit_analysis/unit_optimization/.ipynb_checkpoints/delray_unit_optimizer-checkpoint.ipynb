{
 "cells": [
  {
   "cell_type": "code",
   "execution_count": 1,
   "metadata": {},
   "outputs": [
    {
     "ename": "NameError",
     "evalue": "name 'unit_types' is not defined",
     "output_type": "error",
     "traceback": [
      "\u001b[0;31m---------------------------------------------------------------------------\u001b[0m",
      "\u001b[0;31mNameError\u001b[0m                                 Traceback (most recent call last)",
      "\u001b[0;32m<ipython-input-1-2b2966d9ebff>\u001b[0m in \u001b[0;36m<module>\u001b[0;34m()\u001b[0m\n\u001b[1;32m     19\u001b[0m \u001b[0;34m\u001b[0m\u001b[0m\n\u001b[1;32m     20\u001b[0m \u001b[0;31m#Creating a department object and loading methods to populate its fields\u001b[0m\u001b[0;34m\u001b[0m\u001b[0;34m\u001b[0m\u001b[0;34m\u001b[0m\u001b[0m\n\u001b[0;32m---> 21\u001b[0;31m \u001b[0mdep\u001b[0m \u001b[0;34m=\u001b[0m \u001b[0mdepartment\u001b[0m\u001b[0;34m(\u001b[0m\u001b[0mfirecares_id\u001b[0m\u001b[0;34m,\u001b[0m\u001b[0mfdid\u001b[0m\u001b[0;34m,\u001b[0m\u001b[0mstate\u001b[0m\u001b[0;34m,\u001b[0m\u001b[0munit_type_mapping\u001b[0m\u001b[0;34m=\u001b[0m\u001b[0munit_types\u001b[0m\u001b[0;34m,\u001b[0m\u001b[0mbad_units\u001b[0m\u001b[0;34m=\u001b[0m\u001b[0mbad_units\u001b[0m\u001b[0;34m,\u001b[0m \u001b[0mexclude_stations\u001b[0m\u001b[0;34m=\u001b[0m\u001b[0mexclude_stations\u001b[0m\u001b[0;34m)\u001b[0m\u001b[0;34m\u001b[0m\u001b[0;34m\u001b[0m\u001b[0m\n\u001b[0m\u001b[1;32m     22\u001b[0m \u001b[0mdep\u001b[0m\u001b[0;34m.\u001b[0m\u001b[0mcleaner\u001b[0m\u001b[0;34m(\u001b[0m\u001b[0mdrop_subset\u001b[0m\u001b[0;34m)\u001b[0m\u001b[0;34m\u001b[0m\u001b[0;34m\u001b[0m\u001b[0m\n\u001b[1;32m     23\u001b[0m \u001b[0mdep\u001b[0m\u001b[0;34m.\u001b[0m\u001b[0mfrom_station\u001b[0m\u001b[0;34m(\u001b[0m\u001b[0;34m)\u001b[0m\u001b[0;34m\u001b[0m\u001b[0;34m\u001b[0m\u001b[0m\n",
      "\u001b[0;31mNameError\u001b[0m: name 'unit_types' is not defined"
     ]
    }
   ],
   "source": [
    "from unit_decision import *\n",
    "\n",
    "#Delray Beach, FL\n",
    "fdid = '06172'\n",
    "state = 'FL'\n",
    "firecares_id = '79592'\n",
    "\n",
    "#Note I lumped both engines and Truck/Aerial into one category called \"Suppression\"\n",
    "unit_type_mapping = {'ALS':'ALS', 'Suppression':['Engine','Truck/Aerial']}\n",
    "\n",
    "#Exclude stations\n",
    "exclude_stations = ['116']\n",
    "\n",
    "#Specifiying units to ignore\n",
    "bad_units = ['EMS111', 'R2111']\n",
    "\n",
    "#Specifying fields that must not contain NaNs\n",
    "drop_subset=['address.first_due','unit_status.dispatched.timestamp','unit_status.available.timestamp']\n",
    "\n",
    "#Creating a department object and loading methods to populate its fields\n",
    "dep = department(firecares_id,fdid,state,unit_type_mapping=unit_type_mapping,bad_units=bad_units, exclude_stations=exclude_stations)\n",
    "dep.cleaner(drop_subset)\n",
    "dep.from_station()\n",
    "dep.first_due_analysis()\n",
    "dep.station_builder()\n",
    "\n",
    "#Don't worry too much about this. I tried several distribution fitting approaches for the DA class\n",
    "p = (10,50,90)\n",
    "weights = (0.3,0.4,0.3)\n",
    "dep.build_distribution(p,weights)\n",
    "dep.build_lognorm()"
   ]
  },
  {
   "cell_type": "code",
   "execution_count": 10,
   "metadata": {},
   "outputs": [
    {
     "data": {
      "text/plain": [
       "{'115': <unit_decision.station at 0x7f923d856c50>,\n",
       " '114': <unit_decision.station at 0x7f922f1beac8>,\n",
       " '113': <unit_decision.station at 0x7f922f3520b8>,\n",
       " '112': <unit_decision.station at 0x7f9230ded898>,\n",
       " '111': <unit_decision.station at 0x7f922fd5fd30>}"
      ]
     },
     "execution_count": 10,
     "metadata": {},
     "output_type": "execute_result"
    }
   ],
   "source": [
    "dep.station_dict"
   ]
  },
  {
   "cell_type": "code",
   "execution_count": 14,
   "metadata": {},
   "outputs": [
    {
     "data": {
      "text/plain": [
       "array([181., 294., 488.])"
      ]
     },
     "execution_count": 14,
     "metadata": {},
     "output_type": "execute_result"
    }
   ],
   "source": [
    "dep.station_dict['111'].sent['Truck/Aerial']"
   ]
  },
  {
   "cell_type": "code",
   "execution_count": 7,
   "metadata": {},
   "outputs": [
    {
     "data": {
      "text/plain": [
       "array(['R111', 'R114', 'R115', 'R112', 'R113', 'R116'], dtype=object)"
      ]
     },
     "execution_count": 7,
     "metadata": {},
     "output_type": "execute_result"
    }
   ],
   "source": [
    "dep.df.unit_id.unique()"
   ]
  },
  {
   "cell_type": "code",
   "execution_count": 3,
   "metadata": {},
   "outputs": [
    {
     "ename": "AttributeError",
     "evalue": "'department' object has no attribute 'df'",
     "output_type": "error",
     "traceback": [
      "\u001b[0;31m---------------------------------------------------------------------------\u001b[0m",
      "\u001b[0;31mAttributeError\u001b[0m                            Traceback (most recent call last)",
      "\u001b[0;32m<ipython-input-3-0f4c11219662>\u001b[0m in \u001b[0;36m<module>\u001b[0;34m()\u001b[0m\n\u001b[0;32m----> 1\u001b[0;31m \u001b[0mdep\u001b[0m\u001b[0;34m.\u001b[0m\u001b[0mdf\u001b[0m\u001b[0;34m\u001b[0m\u001b[0;34m\u001b[0m\u001b[0m\n\u001b[0m",
      "\u001b[0;31mAttributeError\u001b[0m: 'department' object has no attribute 'df'"
     ]
    }
   ],
   "source": [
    "dep.df"
   ]
  },
  {
   "cell_type": "code",
   "execution_count": 97,
   "metadata": {},
   "outputs": [
    {
     "name": "stdout",
     "output_type": "stream",
     "text": [
      "['111' '113']\n",
      "26.34043754659308\n"
     ]
    }
   ],
   "source": [
    "# Example usage for optimization tool\n",
    "dep.optimizer('ALS', 2, dep.quantile)\n",
    "print(dep.best) #prints the list of stations that should get new units\n",
    "print(dep.improvement) #Prints the expected improvement (in seconds) to global response time distribution"
   ]
  },
  {
   "cell_type": "code",
   "execution_count": 59,
   "metadata": {},
   "outputs": [
    {
     "data": {
      "image/png": "[encoded data removed]",
      "text/plain": [
       "<Figure size 432x288 with 1 Axes>"
      ]
     },
     "metadata": {
      "needs_background": "light"
     },
     "output_type": "display_data"
    }
   ],
   "source": [
    "plt.rcParams['figure.figsize'] = [6,4]\n",
    "als = dep.df[dep.df['unit_type'] == 'ALS'].reset_index(drop=True)\n",
    "from_due = np.array(als[als['from_first_due']==True]['extended_data.response_duration'])/60\n",
    "not_from_due = np.array(als[als['from_first_due']==False]['extended_data.response_duration'])/60\n",
    "\n",
    "percentiles = np.arange(100)\n",
    "plt.plot(np.percentile(from_due, percentiles),percentiles, color='dodgerblue', linewidth=4)\n",
    "plt.plot(np.percentile(not_from_due, percentiles),percentiles, color='orangered', linewidth=4)\n",
    "plt.xlabel('Response time (min)')\n",
    "plt.ylabel('Percentile')\n",
    "plt.yticks(np.linspace(0,100,11))\n",
    "plt.ylim([0,100])\n",
    "plt.xlim([0,16])\n",
    "plt.legend(['From first due', 'Not from first due'])\n",
    "plt.savefig('dep_cdf')\n"
   ]
  },
  {
   "cell_type": "code",
   "execution_count": 66,
   "metadata": {},
   "outputs": [
    {
     "data": {
      "text/plain": [
       "array(['111', '112', '113', '114', '115', '116'], dtype=object)"
      ]
     },
     "execution_count": 66,
     "metadata": {},
     "output_type": "execute_result"
    }
   ],
   "source": [
    "dep.station_list"
   ]
  },
  {
   "cell_type": "code",
   "execution_count": 81,
   "metadata": {},
   "outputs": [
    {
     "name": "stdout",
     "output_type": "stream",
     "text": [
      "4.0:53.67930953499297\n",
      "7.0:23.731720725673426\n",
      "5.0:46.72949923463807\n",
      "7.0:28.69861900893585\n",
      "5.0:35.07842212792707\n",
      "7.0:41.9150579150579\n",
      "6.0:7.270215423040895\n",
      "7.0:53.17988165680475\n",
      "5.0:18.05975852055633\n",
      "7.0:18.86146858440577\n",
      "5.0:1.9707259953161724\n",
      "9.0:27.704980842911823\n"
     ]
    },
    {
     "data": {
      "image/png": "[encoded data removed]",
      "text/plain": [
       "<Figure size 864x864 with 6 Axes>"
      ]
     },
     "metadata": {
      "needs_background": "light"
     },
     "output_type": "display_data"
    }
   ],
   "source": [
    "unit_type = 'ALS'\n",
    "\n",
    "\n",
    "alias = [str(i) for i in range(111,118)]\n",
    "\n",
    "q = np.arange(100)\n",
    "plt.rcParams['figure.figsize'] = [12,12]\n",
    "for i,station_num in enumerate(dep.station_list):\n",
    "    plt.subplot(3,2,i+1)\n",
    "    send = dep.station_dict[station_num].sent_full[unit_type]\n",
    "    nsend = dep.station_dict[station_num].not_sent_full[unit_type]\n",
    "    \n",
    "    print(str(np.floor(np.mean(send)/60))+':'  + str(np.mean(send)%60)  )\n",
    "    print(str(np.floor(np.mean(nsend)/60))+':' + str(np.mean(nsend)%60) )\n",
    "    \n",
    "    plt.plot(np.percentile(send,q),q, color='dodgerblue',linewidth=2)\n",
    "    plt.plot(np.percentile(nsend,q),q, color='orangered',linewidth=2)\n",
    "    plt.xlabel('Response time (min)')\n",
    "    plt.ylabel('Percentile')\n",
    "    plt.title('First due area of Station '+ alias[i])\n",
    "    plt.xlim([0,16])\n",
    "    plt.ylim([0,100])\n",
    "    plt.tight_layout()\n",
    "    plt.legend(['From first due', 'Not from first due' ])\n",
    "    \n",
    "    plt.savefig('station_cdfs')\n",
    "    \n",
    "\n",
    "    "
   ]
  },
  {
   "cell_type": "code",
   "execution_count": 77,
   "metadata": {},
   "outputs": [
    {
     "name": "stdout",
     "output_type": "stream",
     "text": [
      "309.5345704117946\n",
      "470.88324175824175\n",
      "364.0102655657219\n",
      "464.21262002743487\n",
      "351.33463796477497\n",
      "486.4027027027027\n",
      "374.45605890827596\n",
      "464.8198992443325\n",
      "341.8827517447657\n",
      "434.54334365325076\n",
      "286.7067082683307\n",
      "540.9810426540284\n"
     ]
    },
    {
     "data": {
      "image/png": "[encoded data removed]",
      "text/plain": [
       "<Figure size 864x576 with 6 Axes>"
      ]
     },
     "metadata": {
      "needs_background": "light"
     },
     "output_type": "display_data"
    }
   ],
   "source": [
    "unit_type = 'Suppression'\n",
    "\n",
    "\n",
    "alias = ['A', 'B', 'C', 'D', 'E', 'F']\n",
    "\n",
    "q = np.arange(100)\n",
    "plt.rcParams['figure.figsize'] = [12,8]\n",
    "for i,station_num in enumerate(dep.station_list):\n",
    "    plt.subplot(2,3,i+1)\n",
    "    send = dep.station_dict[station_num].sent_full[unit_type]\n",
    "    nsend = dep.station_dict[station_num].not_sent_full[unit_type]\n",
    "    print(np.mean(send))\n",
    "    print(np.mean(nsend))\n",
    "    \n",
    "    plt.plot(np.percentile(send,q),q, color='dodgerblue',linewidth=2)\n",
    "    plt.plot(np.percentile(nsend,q),q, color='orangered',linewidth=2)\n",
    "    plt.xlabel('Response time (s)')\n",
    "    plt.ylabel('Percentile')\n",
    "    plt.title('Station '+ alias[i])\n",
    "    plt.xlim([0,1000])\n",
    "    plt.ylim([0,100])\n",
    "    plt.tight_layout()\n",
    "    plt.legend(['From first due', 'Not from first due' ])\n",
    "    \n",
    "#     plt.savefig(figloc+'firediff')\n",
    "    "
   ]
  },
  {
   "cell_type": "code",
   "execution_count": null,
   "metadata": {},
   "outputs": [],
   "source": []
  },
  {
   "cell_type": "code",
   "execution_count": 74,
   "metadata": {},
   "outputs": [
    {
     "data": {
      "text/plain": [
       "0.6455129997204361"
      ]
     },
     "execution_count": 74,
     "metadata": {},
     "output_type": "execute_result"
    }
   ],
   "source": [
    "ndue = als[als['from_first_due']==False].reset_index(drop=True)\n",
    "np.sum(ndue['num_required']>1)/len(ndue)\n",
    "\n"
   ]
  },
  {
   "cell_type": "code",
   "execution_count": 73,
   "metadata": {},
   "outputs": [
    {
     "data": {
      "text/plain": [
       "10731"
      ]
     },
     "execution_count": 73,
     "metadata": {},
     "output_type": "execute_result"
    }
   ],
   "source": [
    "len(ndue)"
   ]
  },
  {
   "cell_type": "code",
   "execution_count": null,
   "metadata": {},
   "outputs": [],
   "source": []
  },
  {
   "cell_type": "code",
   "execution_count": null,
   "metadata": {},
   "outputs": [],
   "source": []
  },
  {
   "cell_type": "code",
   "execution_count": null,
   "metadata": {},
   "outputs": [],
   "source": []
  },
  {
   "cell_type": "code",
   "execution_count": null,
   "metadata": {},
   "outputs": [],
   "source": []
  },
  {
   "cell_type": "code",
   "execution_count": null,
   "metadata": {},
   "outputs": [],
   "source": []
  },
  {
   "cell_type": "code",
   "execution_count": null,
   "metadata": {},
   "outputs": [],
   "source": []
  },
  {
   "cell_type": "code",
   "execution_count": null,
   "metadata": {},
   "outputs": [],
   "source": []
  },
  {
   "cell_type": "code",
   "execution_count": null,
   "metadata": {},
   "outputs": [],
   "source": []
  },
  {
   "cell_type": "code",
   "execution_count": null,
   "metadata": {},
   "outputs": [],
   "source": []
  },
  {
   "cell_type": "code",
   "execution_count": null,
   "metadata": {},
   "outputs": [],
   "source": []
  },
  {
   "cell_type": "code",
   "execution_count": null,
   "metadata": {},
   "outputs": [],
   "source": []
  },
  {
   "cell_type": "code",
   "execution_count": null,
   "metadata": {},
   "outputs": [],
   "source": []
  },
  {
   "cell_type": "code",
   "execution_count": null,
   "metadata": {},
   "outputs": [],
   "source": []
  },
  {
   "cell_type": "code",
   "execution_count": null,
   "metadata": {},
   "outputs": [],
   "source": []
  },
  {
   "cell_type": "code",
   "execution_count": null,
   "metadata": {},
   "outputs": [],
   "source": []
  },
  {
   "cell_type": "code",
   "execution_count": null,
   "metadata": {},
   "outputs": [],
   "source": []
  },
  {
   "cell_type": "code",
   "execution_count": null,
   "metadata": {},
   "outputs": [],
   "source": []
  },
  {
   "cell_type": "code",
   "execution_count": null,
   "metadata": {},
   "outputs": [],
   "source": []
  },
  {
   "cell_type": "code",
   "execution_count": null,
   "metadata": {},
   "outputs": [],
   "source": []
  },
  {
   "cell_type": "code",
   "execution_count": null,
   "metadata": {},
   "outputs": [],
   "source": [
    "dep.df['num_active'].value_counts()"
   ]
  },
  {
   "cell_type": "code",
   "execution_count": null,
   "metadata": {},
   "outputs": [],
   "source": [
    "figloc = './DA_project"
   ]
  },
  {
   "cell_type": "code",
   "execution_count": null,
   "metadata": {},
   "outputs": [],
   "source": [
    "snum = '116'\n",
    "df = dep.station_dict[snum].df\n",
    "df = df[df['unit_type']=='Suppression']\n",
    "no_units = df[df['num_active'] == 0]\n",
    "np.sum(no_units['station']==snum)/len(no_units)"
   ]
  },
  {
   "cell_type": "code",
   "execution_count": null,
   "metadata": {},
   "outputs": [],
   "source": [
    "dep.station_dict[station_num].num_required[unit_type]"
   ]
  },
  {
   "cell_type": "code",
   "execution_count": 75,
   "metadata": {
    "scrolled": true
   },
   "outputs": [
    {
     "ename": "NameError",
     "evalue": "name 'figloc' is not defined",
     "output_type": "error",
     "traceback": [
      "\u001b[0;31m---------------------------------------------------------------------------\u001b[0m",
      "\u001b[0;31mNameError\u001b[0m                                 Traceback (most recent call last)",
      "\u001b[0;32m<ipython-input-75-04c889c2dc0e>\u001b[0m in \u001b[0;36m<module>\u001b[0;34m\u001b[0m\n\u001b[1;32m     12\u001b[0m     \u001b[0mplt\u001b[0m\u001b[0;34m.\u001b[0m\u001b[0mtitle\u001b[0m\u001b[0;34m(\u001b[0m\u001b[0;34m'Station '\u001b[0m\u001b[0;34m+\u001b[0m \u001b[0malias\u001b[0m\u001b[0;34m[\u001b[0m\u001b[0mj\u001b[0m\u001b[0;34m]\u001b[0m\u001b[0;34m)\u001b[0m\u001b[0;34m\u001b[0m\u001b[0;34m\u001b[0m\u001b[0m\n\u001b[1;32m     13\u001b[0m     \u001b[0mplt\u001b[0m\u001b[0;34m.\u001b[0m\u001b[0mtight_layout\u001b[0m\u001b[0;34m(\u001b[0m\u001b[0;34m)\u001b[0m\u001b[0;34m\u001b[0m\u001b[0;34m\u001b[0m\u001b[0m\n\u001b[0;32m---> 14\u001b[0;31m \u001b[0mplt\u001b[0m\u001b[0;34m.\u001b[0m\u001b[0msavefig\u001b[0m\u001b[0;34m(\u001b[0m\u001b[0mfigloc\u001b[0m\u001b[0;34m+\u001b[0m\u001b[0;34m'alsbar'\u001b[0m\u001b[0;34m)\u001b[0m\u001b[0;34m\u001b[0m\u001b[0;34m\u001b[0m\u001b[0m\n\u001b[0m",
      "\u001b[0;31mNameError\u001b[0m: name 'figloc' is not defined"
     ]
    },
    {
     "data": {
      "image/png": "[encoded data removed]",
      "text/plain": [
       "<Figure size 864x432 with 6 Axes>"
      ]
     },
     "metadata": {
      "needs_background": "light"
     },
     "output_type": "display_data"
    }
   ],
   "source": [
    "plt.rcParams['figure.figsize'] = [12,6]\n",
    "unit_type = 'ALS'\n",
    "\n",
    "for j,station_num in enumerate(dep.station_list):\n",
    "    plt.subplot(2,3,j+1)\n",
    "    vals = np.arange(1,len(dep.station_dict[station_num].num_required[unit_type])+1)\n",
    "    vals= [str(i) for i in vals]\n",
    "    plt.bar(vals,dep.station_dict[station_num].num_required[unit_type])\n",
    "    plt.ylim(0,1)\n",
    "    plt.xlabel('Number of units required to dispatch additional')\n",
    "    plt.ylabel('Probability')\n",
    "    plt.title('Station '+ alias[j])\n",
    "    plt.tight_layout()\n",
    "plt.savefig(figloc+'alsbar')"
   ]
  },
  {
   "cell_type": "code",
   "execution_count": null,
   "metadata": {},
   "outputs": [],
   "source": [
    "plt.rcParams['figure.figsize'] = [12,6]\n",
    "unit_type = 'Suppression'\n",
    "\n",
    "for j,station_num in enumerate(dep.station_list):\n",
    "    plt.subplot(2,3,j+1)\n",
    "    vals = np.arange(1,len(dep.station_dict[station_num].num_required[unit_type])+1)\n",
    "    vals= [str(i) for i in vals]\n",
    "    plt.bar(vals,dep.station_dict[station_num].num_required[unit_type])\n",
    "    plt.ylim(0,1)\n",
    "    plt.xlabel('Number of units required to dispatch additional')\n",
    "    plt.ylabel('Probability')\n",
    "    plt.title('Station '+ alias[j])\n",
    "    plt.tight_layout()\n",
    "plt.savefig(figloc+'firebar')"
   ]
  },
  {
   "cell_type": "code",
   "execution_count": null,
   "metadata": {},
   "outputs": [],
   "source": []
  },
  {
   "cell_type": "code",
   "execution_count": null,
   "metadata": {},
   "outputs": [],
   "source": []
  },
  {
   "cell_type": "code",
   "execution_count": null,
   "metadata": {},
   "outputs": [],
   "source": []
  },
  {
   "cell_type": "code",
   "execution_count": null,
   "metadata": {},
   "outputs": [],
   "source": []
  },
  {
   "cell_type": "code",
   "execution_count": null,
   "metadata": {},
   "outputs": [],
   "source": []
  },
  {
   "cell_type": "code",
   "execution_count": null,
   "metadata": {},
   "outputs": [],
   "source": [
    "dep.optimizer('ALS', 2, dep.mean_calc)\n",
    "dep.best"
   ]
  },
  {
   "cell_type": "code",
   "execution_count": null,
   "metadata": {},
   "outputs": [],
   "source": [
    "dep.impor"
   ]
  },
  {
   "cell_type": "code",
   "execution_count": null,
   "metadata": {},
   "outputs": [],
   "source": [
    "dep.first_due_probs"
   ]
  },
  {
   "cell_type": "code",
   "execution_count": null,
   "metadata": {},
   "outputs": [],
   "source": [
    "unit_type = 'ALS'\n",
    "for i, station_num in enumerate(dep.station_list):\n",
    "    print(dep.station_dict[station_num].send_given_available)\n",
    "#     print(dep.station_dict[station_num].send_probs[unit_type]/dep.station_dict[station_num].first_due_probs[unit_type])"
   ]
  },
  {
   "cell_type": "code",
   "execution_count": null,
   "metadata": {},
   "outputs": [],
   "source": []
  },
  {
   "cell_type": "code",
   "execution_count": null,
   "metadata": {},
   "outputs": [],
   "source": []
  },
  {
   "cell_type": "code",
   "execution_count": null,
   "metadata": {},
   "outputs": [],
   "source": []
  },
  {
   "cell_type": "code",
   "execution_count": null,
   "metadata": {},
   "outputs": [],
   "source": []
  },
  {
   "cell_type": "code",
   "execution_count": null,
   "metadata": {},
   "outputs": [],
   "source": []
  },
  {
   "cell_type": "code",
   "execution_count": null,
   "metadata": {},
   "outputs": [],
   "source": []
  },
  {
   "cell_type": "code",
   "execution_count": null,
   "metadata": {},
   "outputs": [],
   "source": []
  },
  {
   "cell_type": "code",
   "execution_count": null,
   "metadata": {},
   "outputs": [],
   "source": []
  },
  {
   "cell_type": "code",
   "execution_count": null,
   "metadata": {},
   "outputs": [],
   "source": []
  },
  {
   "cell_type": "code",
   "execution_count": null,
   "metadata": {},
   "outputs": [],
   "source": [
    "dep.station_dict['116'].send_given_available"
   ]
  },
  {
   "cell_type": "code",
   "execution_count": null,
   "metadata": {},
   "outputs": [],
   "source": [
    "dep.df[dep.df['unit_type']=='Truck/Aerial']['unit_id'].unique()"
   ]
  },
  {
   "cell_type": "code",
   "execution_count": null,
   "metadata": {},
   "outputs": [],
   "source": []
  },
  {
   "cell_type": "code",
   "execution_count": null,
   "metadata": {},
   "outputs": [],
   "source": [
    "#Lognormal fitting"
   ]
  },
  {
   "cell_type": "code",
   "execution_count": null,
   "metadata": {},
   "outputs": [],
   "source": [
    "plt.rcParams['figure.figsize'] = [12,4]\n",
    "for i,unit_type in enumerate(dep.unit_types):\n",
    "    plt.subplot(1,2,i+1)\n",
    "    x = np.linspace(1,1200)\n",
    "\n",
    "    plt.plot(x,dep.lognorm[unit_type].cdf(x)*100, color='dodgerblue', linewidth=5, alpha=0.5)\n",
    "    q = np.arange(100)\n",
    "    real_times = np.percentile(dep.df[dep.df['unit_type'] == unit_type]['extended_data.response_duration'],q)\n",
    "    plt.plot(real_times,q,color='orangered',linewidth=5, alpha=0.5)\n",
    "\n",
    "    plt.legend(['Log-normal fit', 'Actual data'])\n",
    "    plt.title(unit_type +' unit responses')\n",
    "    plt.xlabel('Response time (sec)')\n",
    "    plt.ylabel('Percentile')\n",
    "    \n",
    "    \n",
    "plt.savefig(figloc+'lognorm')"
   ]
  },
  {
   "cell_type": "code",
   "execution_count": null,
   "metadata": {},
   "outputs": [],
   "source": []
  },
  {
   "cell_type": "code",
   "execution_count": null,
   "metadata": {},
   "outputs": [],
   "source": [
    "plt.rcParams['figure.figsize'] = [12,4]\n",
    "for i,unit_type in enumerate(dep.unit_types):\n",
    "    plt.subplot(1,2,i+1)\n",
    "    x = np.linspace(1,1200)\n",
    "    idx = np.argsort(dep.times[unit_type])\n",
    "    times = dep.times[unit_type][idx]\n",
    "    probs = dep.probs[unit_type][idx]\n",
    "    cum_prob = np.cumsum(probs)\n",
    "    \n",
    "    plt.plot(times,cum_prob*100, color='dodgerblue', linewidth=5, alpha=0.5)\n",
    "    q = np.arange(100)\n",
    "    real_times = np.percentile(dep.df[dep.df['unit_type'] == unit_type]['extended_data.response_duration'],q)\n",
    "    plt.plot(real_times,q,color='orangered',linewidth=5, alpha=0.5)\n",
    "\n",
    "    plt.legend(['Swanson mean ', 'Actual data'])\n",
    "    plt.xlabel('Response time (sec)')\n",
    "    plt.ylabel('Percentile')\n",
    "    plt.title(unit_type +' unit responses')\n",
    "\n",
    "    \n",
    "plt.savefig(figloc+'swanson')"
   ]
  },
  {
   "cell_type": "code",
   "execution_count": null,
   "metadata": {},
   "outputs": [],
   "source": [
    "p = (10,50,90)\n",
    "weights = (0.3,0.4,0.3)\n",
    "dep.build_distribution(p,weights)\n",
    "plt.rcParams['figure.figsize'] = [12,4]\n",
    "for i,unit_type in enumerate(dep.unit_types):\n",
    "    plt.subplot(1,2,i+1)\n",
    "    x = np.linspace(1,1200)\n",
    "    idx = np.argsort(dep.times[unit_type])\n",
    "    times = dep.times[unit_type][idx]\n",
    "    probs = dep.probs[unit_type][idx]\n",
    "    cum_prob = np.cumsum(probs)\n",
    "    \n",
    "    plt.plot(times,cum_prob*100, color='dodgerblue', linewidth=5, alpha=0.5)\n",
    "    q = np.arange(100)\n",
    "    real_times = np.percentile(dep.df[dep.df['unit_type'] == unit_type]['extended_data.response_duration'],q)\n",
    "    plt.plot(real_times,q,color='orangered',linewidth=5, alpha=0.5)\n",
    "\n",
    "    plt.legend(['Swanson mean ', 'Actual data'])\n",
    "    plt.title(unit_type +' unit responses')\n",
    "    plt.xlabel('Response time (sec)')\n",
    "    plt.ylabel('Percentile')\n",
    "    \n",
    "plt.savefig(figloc+'swanson')"
   ]
  },
  {
   "cell_type": "code",
   "execution_count": null,
   "metadata": {},
   "outputs": [],
   "source": [
    "dep.monte_carlo()"
   ]
  },
  {
   "cell_type": "code",
   "execution_count": null,
   "metadata": {},
   "outputs": [],
   "source": [
    "plt.rcParams['figure.figsize'] = [12,4]\n",
    "for i,unit_type in enumerate(dep.unit_types):\n",
    "    plt.subplot(1,2,i+1)\n",
    "    x = np.linspace(1,1200)\n",
    "    q = np.arange(100)\n",
    "    mc_times = np.percentile(dep.mc_times[unit_type],q)\n",
    "    plt.plot(mc_times,q, color='dodgerblue', linewidth=5, alpha=0.5)\n",
    "    \n",
    "    real_times = np.percentile(dep.df[dep.df['unit_type'] == unit_type]['extended_data.response_duration'],q)\n",
    "    plt.plot(real_times,q,color='orangered',linewidth=5, alpha=0.5)\n",
    "\n",
    "    plt.legend(['Monte-Carlo result', 'Actual data'])\n",
    "    plt.xlabel('Response time (sec)')\n",
    "    plt.ylabel('Percentile')\n",
    "    plt.title(unit_type +' unit responses')\n",
    "    \n",
    "plt.savefig(figloc+'mccomp')"
   ]
  },
  {
   "cell_type": "code",
   "execution_count": null,
   "metadata": {},
   "outputs": [],
   "source": []
  },
  {
   "cell_type": "code",
   "execution_count": null,
   "metadata": {},
   "outputs": [],
   "source": []
  },
  {
   "cell_type": "markdown",
   "metadata": {},
   "source": [
    "# Making a plot to validate the assumption that travel times for trucks and engines are the same"
   ]
  },
  {
   "cell_type": "code",
   "execution_count": null,
   "metadata": {},
   "outputs": [],
   "source": [
    "q = np.arange(100)\n",
    "truck_stations = ['111','115','116']\n",
    "plt.rcParams['figure.figsize'] = [15,5]\n",
    "fig = plt.figure()\n",
    "for i,station_num in enumerate(truck_stations):\n",
    "    engine = dep.station_dict[station_num].sent_full['Engine']\n",
    "    truck = dep.station_dict[station_num].sent_full['Truck/Aerial']\n",
    "    ax = fig.add_subplot(1,3,i+1)\n",
    "    ax.plot(np.percentile(engine,q),q, color='dodgerblue', label='Engine', linewidth=3)\n",
    "    ax.plot(np.percentile(truck,q),q, color='orangered', label='Truck', linewidth=3)\n",
    "    ax.set_xlabel('Travel time (sec)')\n",
    "    ax.set_ylabel('Percentile')\n",
    "    handles, labels = ax.get_legend_handles_labels()\n",
    "fig.legend(handles, labels, loc='center right')\n",
    "    \n",
    "\n",
    "\n",
    "    \n",
    "\n",
    "\n",
    "    \n",
    "    \n"
   ]
  },
  {
   "cell_type": "code",
   "execution_count": null,
   "metadata": {},
   "outputs": [],
   "source": []
  },
  {
   "cell_type": "code",
   "execution_count": null,
   "metadata": {},
   "outputs": [],
   "source": [
    "sent = dep.station_dict['111'].sent_full['Engine']\n",
    "not_sent = dep.station_dict['111'].not_sent_full['Engine']\n",
    "q = np.arange(100)\n",
    "\n",
    "plt.plot(np.percentile(sent,q),q)\n",
    "plt.plot(np.percentile(not_sent,q),q)"
   ]
  },
  {
   "cell_type": "code",
   "execution_count": null,
   "metadata": {},
   "outputs": [],
   "source": []
  },
  {
   "cell_type": "code",
   "execution_count": null,
   "metadata": {},
   "outputs": [],
   "source": []
  },
  {
   "cell_type": "code",
   "execution_count": null,
   "metadata": {},
   "outputs": [],
   "source": []
  },
  {
   "cell_type": "code",
   "execution_count": null,
   "metadata": {},
   "outputs": [],
   "source": []
  },
  {
   "cell_type": "code",
   "execution_count": null,
   "metadata": {},
   "outputs": [],
   "source": []
  },
  {
   "cell_type": "code",
   "execution_count": null,
   "metadata": {},
   "outputs": [],
   "source": []
  },
  {
   "cell_type": "code",
   "execution_count": null,
   "metadata": {},
   "outputs": [],
   "source": []
  },
  {
   "cell_type": "code",
   "execution_count": null,
   "metadata": {},
   "outputs": [],
   "source": [
    "#Making a cdf to compare times\n",
    "unit_type = 'ALS'\n",
    "idx = np.argsort(dep.times[unit_type])\n",
    "times = dep.times[unit_type][idx]\n",
    "probs = dep.probs[unit_type][idx]\n",
    "cum_prob = np.cumsum(probs)\n",
    "plt.plot(times,cum_prob)\n",
    "\n",
    "q = np.arange(100)\n",
    "quantiles = np.percentile(dep.df[dep.df['unit_type'] == unit_type]['extended_data.response_duration'],q)\n",
    "\n",
    "\n",
    "plt.plot(quantiles,q/100)"
   ]
  },
  {
   "cell_type": "code",
   "execution_count": null,
   "metadata": {},
   "outputs": [],
   "source": []
  },
  {
   "cell_type": "code",
   "execution_count": null,
   "metadata": {},
   "outputs": [],
   "source": []
  },
  {
   "cell_type": "code",
   "execution_count": null,
   "metadata": {},
   "outputs": [],
   "source": []
  },
  {
   "cell_type": "code",
   "execution_count": null,
   "metadata": {},
   "outputs": [],
   "source": []
  },
  {
   "cell_type": "code",
   "execution_count": null,
   "metadata": {},
   "outputs": [],
   "source": []
  },
  {
   "cell_type": "code",
   "execution_count": null,
   "metadata": {},
   "outputs": [],
   "source": []
  },
  {
   "cell_type": "code",
   "execution_count": null,
   "metadata": {},
   "outputs": [],
   "source": []
  },
  {
   "cell_type": "code",
   "execution_count": null,
   "metadata": {},
   "outputs": [],
   "source": [
    "dep.times"
   ]
  },
  {
   "cell_type": "code",
   "execution_count": null,
   "metadata": {},
   "outputs": [],
   "source": []
  },
  {
   "cell_type": "code",
   "execution_count": null,
   "metadata": {},
   "outputs": [],
   "source": []
  }
 ],
 "metadata": {
  "kernelspec": {
   "display_name": "Python 3",
   "language": "python",
   "name": "python3"
  },
  "language_info": {
   "codemirror_mode": {
    "name": "ipython",
    "version": 3
   },
   "file_extension": ".py",
   "mimetype": "text/x-python",
   "name": "python",
   "nbconvert_exporter": "python",
   "pygments_lexer": "ipython3",
   "version": "3.6.13"
  }
 },
 "nbformat": 4,
 "nbformat_minor": 4
}
