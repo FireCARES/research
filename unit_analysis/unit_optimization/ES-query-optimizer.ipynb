{
 "cells": [
  {
   "cell_type": "code",
   "execution_count": 1,
   "id": "d0e645cb-10c6-4eee-9cde-1e2ed007f535",
   "metadata": {},
   "outputs": [],
   "source": [
    "import os\n",
    "import json\n",
    "from elasticsearch import Elasticsearch\n",
    "from elasticsearch_dsl import Search, Q\n",
    "ES_USER = os.getenv('ES_USER')\n",
    "ES_PASSWORD = os.getenv('ES_PASSWORD')\n",
    "FIRECARESID='79592'"
   ]
  },
  {
   "cell_type": "code",
   "execution_count": 43,
   "id": "14b78bed-bf1e-49a8-9150-b126361efeec",
   "metadata": {},
   "outputs": [],
   "source": [
    "es = Elasticsearch(['http://localhost:8080'], http_auth=(ES_USER,ES_PASSWORD))\n",
    "                \n",
    "q = Q('match',fire_department__firecares_id=FIRECARESID) & Q('range', description__event_closed={\n",
    "                'lte': '2020-04-30T23:59:59-04:00','gte': '2019-05-01T00:00:00-04:00'}) & ~Q('match', address__first_due='116')\n",
    "s = Search(using=es,index='*-fire-incident-*,-*apparatus*')\n",
    "response = s.source(['apparatus','address.latitude','address.longitude',\n",
    "                     'address.first_due','description.event_closed',\n",
    "                     'description.event_opened',\n",
    "                     'fire_department.firecares_id']).query(q)"
   ]
  },
  {
   "cell_type": "code",
   "execution_count": 44,
   "id": "c2a5bbee-ae66-4730-b60b-9baa2800ad32",
   "metadata": {},
   "outputs": [],
   "source": [
    "test = [d.to_dict() for d in response.scan()]"
   ]
  },
  {
   "cell_type": "code",
   "execution_count": 46,
   "id": "f02c5c4b-7a80-46e6-b585-72da117d8ff1",
   "metadata": {},
   "outputs": [
    {
     "data": {
      "text/plain": [
       "15391"
      ]
     },
     "execution_count": 46,
     "metadata": {},
     "output_type": "execute_result"
    }
   ],
   "source": [
    "len(sorted([item['description']['event_opened'] for item in test],reverse=True))"
   ]
  },
  {
   "cell_type": "code",
   "execution_count": null,
   "id": "926d1874-e0ed-45f5-a83a-c8d92839b5f7",
   "metadata": {},
   "outputs": [],
   "source": []
  }
 ],
 "metadata": {
  "kernelspec": {
   "display_name": "Python 3 (ipykernel)",
   "language": "python",
   "name": "python3"
  },
  "language_info": {
   "codemirror_mode": {
    "name": "ipython",
    "version": 3
   },
   "file_extension": ".py",
   "mimetype": "text/x-python",
   "name": "python",
   "nbconvert_exporter": "python",
   "pygments_lexer": "ipython3",
   "version": "3.9.6"
  }
 },
 "nbformat": 4,
 "nbformat_minor": 5
}
