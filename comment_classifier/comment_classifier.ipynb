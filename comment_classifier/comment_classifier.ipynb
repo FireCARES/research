{
 "cells": [
  {
   "cell_type": "code",
   "execution_count": 2,
   "metadata": {},
   "outputs": [],
   "source": [
    "#If running in local mode, local to True. Otherwise, set it to false\n",
    "local = True\n",
    "model = \"coronavirus_symptoms\""
   ]
  },
  {
   "cell_type": "markdown",
   "metadata": {},
   "source": [
    "# Getting the Sagemaker role"
   ]
  },
  {
   "cell_type": "code",
   "execution_count": 3,
   "metadata": {},
   "outputs": [],
   "source": [
    "import sagemaker\n",
    "from sagemaker import get_execution_role\n",
    "\n",
    "# S3 prefix\n",
    "prefix = 'comment_classifier'\n",
    "\n",
    "if local == True:\n",
    "    sagemaker_session = sagemaker.LocalSession()\n",
    "    role = 'arn:aws:iam::445861113736:role/service-role/AmazonSageMaker-ExecutionRole-20190903T114521'\n",
    "else:\n",
    "    sagemaker_session = sagemaker.Session()\n",
    "    role = get_execution_role()"
   ]
  },
  {
   "cell_type": "markdown",
   "metadata": {},
   "source": [
    "# Create SageMaker Scikit Estimator "
   ]
  },
  {
   "cell_type": "code",
   "execution_count": 5,
   "metadata": {},
   "outputs": [],
   "source": [
    "from sagemaker.sklearn.estimator import SKLearn\n",
    "\n",
    "script_path = 'comment_classifier.py'\n",
    "sklearn = SKLearn(\n",
    "    entry_point=script_path,\n",
    "    train_instance_type=\"ml.c4.xlarge\",\n",
    "    role=role,\n",
    "    sagemaker_session=sagemaker_session,\n",
    "    hyperparameters={'model': model,\n",
    "                    'strip_accents': 'ascii',\n",
    "                    'token_pattern': u'(?ui)\\\\b\\\\w*[a-z]+\\\\w*\\\\b', \n",
    "                    'lowercase': True, \n",
    "                    'stop_words': 'english', \n",
    "                    'min_df': 5,\n",
    "                    'ngram_min': 1,\n",
    "                    'ngram_max': 2})"
   ]
  },
  {
   "cell_type": "markdown",
   "metadata": {},
   "source": [
    "# Training the Naive Bayes model"
   ]
  },
  {
   "cell_type": "code",
   "execution_count": 17,
   "metadata": {
    "scrolled": true
   },
   "outputs": [
    {
     "name": "stdout",
     "output_type": "stream",
     "text": [
      "Creating tmpm3u9vli1_algo-1-2bix9_1 ... \n",
      "\u001b[1BAttaching to tmpm3u9vli1_algo-1-2bix9_12mdone\u001b[0m\n",
      "\u001b[36malgo-1-2bix9_1  |\u001b[0m 2020-05-14 05:28:51,458 sagemaker-containers INFO     Imported framework sagemaker_sklearn_container.training\n",
      "\u001b[36malgo-1-2bix9_1  |\u001b[0m 2020-05-14 05:28:51,464 sagemaker-containers INFO     No GPUs detected (normal if no gpus installed)\n",
      "\u001b[36malgo-1-2bix9_1  |\u001b[0m 2020-05-14 05:28:51,480 sagemaker_sklearn_container.training INFO     Invoking user training script.\n",
      "\u001b[36malgo-1-2bix9_1  |\u001b[0m 2020-05-14 05:28:51,846 sagemaker-containers INFO     Module comment_classifier does not provide a setup.py. \n",
      "\u001b[36malgo-1-2bix9_1  |\u001b[0m Generating setup.py\n",
      "\u001b[36malgo-1-2bix9_1  |\u001b[0m 2020-05-14 05:28:51,847 sagemaker-containers INFO     Generating setup.cfg\n",
      "\u001b[36malgo-1-2bix9_1  |\u001b[0m 2020-05-14 05:28:51,847 sagemaker-containers INFO     Generating MANIFEST.in\n",
      "\u001b[36malgo-1-2bix9_1  |\u001b[0m 2020-05-14 05:28:51,847 sagemaker-containers INFO     Installing module with the following command:\n",
      "\u001b[36malgo-1-2bix9_1  |\u001b[0m /miniconda3/bin/python -m pip install . \n",
      "\u001b[36malgo-1-2bix9_1  |\u001b[0m Processing /opt/ml/code\n",
      "\u001b[36malgo-1-2bix9_1  |\u001b[0m Building wheels for collected packages: comment-classifier\n",
      "\u001b[36malgo-1-2bix9_1  |\u001b[0m   Building wheel for comment-classifier (setup.py) ... \u001b[?25ldone\n",
      "\u001b[36malgo-1-2bix9_1  |\u001b[0m \u001b[?25h  Created wheel for comment-classifier: filename=comment_classifier-1.0.0-py2.py3-none-any.whl size=6747 sha256=9f419c7ddd5f1762e120114434a274bdb1367e9078083cfc00858cf951513e4e\n",
      "\u001b[36malgo-1-2bix9_1  |\u001b[0m   Stored in directory: /tmp/pip-ephem-wheel-cache-918nwb85/wheels/35/24/16/37574d11bf9bde50616c67372a334f94fa8356bc7164af8ca3\n",
      "\u001b[36malgo-1-2bix9_1  |\u001b[0m Successfully built comment-classifier\n",
      "\u001b[36malgo-1-2bix9_1  |\u001b[0m Installing collected packages: comment-classifier\n",
      "\u001b[36malgo-1-2bix9_1  |\u001b[0m Successfully installed comment-classifier-1.0.0\n",
      "\u001b[36malgo-1-2bix9_1  |\u001b[0m 2020-05-14 05:28:53,138 sagemaker-containers INFO     No GPUs detected (normal if no gpus installed)\n",
      "\u001b[36malgo-1-2bix9_1  |\u001b[0m 2020-05-14 05:28:53,155 sagemaker-containers INFO     Invoking user script\n",
      "\u001b[36malgo-1-2bix9_1  |\u001b[0m \n",
      "\u001b[36malgo-1-2bix9_1  |\u001b[0m Training Env:\n",
      "\u001b[36malgo-1-2bix9_1  |\u001b[0m \n",
      "\u001b[36malgo-1-2bix9_1  |\u001b[0m {\n",
      "\u001b[36malgo-1-2bix9_1  |\u001b[0m     \"additional_framework_parameters\": {},\n",
      "\u001b[36malgo-1-2bix9_1  |\u001b[0m     \"channel_input_dirs\": {\n",
      "\u001b[36malgo-1-2bix9_1  |\u001b[0m         \"train\": \"/opt/ml/input/data/train\"\n",
      "\u001b[36malgo-1-2bix9_1  |\u001b[0m     },\n",
      "\u001b[36malgo-1-2bix9_1  |\u001b[0m     \"current_host\": \"algo-1-2bix9\",\n",
      "\u001b[36malgo-1-2bix9_1  |\u001b[0m     \"framework_module\": \"sagemaker_sklearn_container.training:main\",\n",
      "\u001b[36malgo-1-2bix9_1  |\u001b[0m     \"hosts\": [\n",
      "\u001b[36malgo-1-2bix9_1  |\u001b[0m         \"algo-1-2bix9\"\n",
      "\u001b[36malgo-1-2bix9_1  |\u001b[0m     ],\n",
      "\u001b[36malgo-1-2bix9_1  |\u001b[0m     \"hyperparameters\": {\n",
      "\u001b[36malgo-1-2bix9_1  |\u001b[0m         \"model\": \"coronavirus_symptoms\",\n",
      "\u001b[36malgo-1-2bix9_1  |\u001b[0m         \"strip_accents\": \"ascii\",\n",
      "\u001b[36malgo-1-2bix9_1  |\u001b[0m         \"token_pattern\": \"(?ui)\\\\b\\\\w*[a-z]+\\\\w*\\\\b\",\n",
      "\u001b[36malgo-1-2bix9_1  |\u001b[0m         \"lowercase\": true,\n",
      "\u001b[36malgo-1-2bix9_1  |\u001b[0m         \"stop_words\": \"english\",\n",
      "\u001b[36malgo-1-2bix9_1  |\u001b[0m         \"min_df\": 5,\n",
      "\u001b[36malgo-1-2bix9_1  |\u001b[0m         \"ngram_min\": 1,\n",
      "\u001b[36malgo-1-2bix9_1  |\u001b[0m         \"ngram_max\": 2\n",
      "\u001b[36malgo-1-2bix9_1  |\u001b[0m     },\n",
      "\u001b[36malgo-1-2bix9_1  |\u001b[0m     \"input_config_dir\": \"/opt/ml/input/config\",\n",
      "\u001b[36malgo-1-2bix9_1  |\u001b[0m     \"input_data_config\": {\n",
      "\u001b[36malgo-1-2bix9_1  |\u001b[0m         \"train\": {\n",
      "\u001b[36malgo-1-2bix9_1  |\u001b[0m             \"TrainingInputMode\": \"File\"\n",
      "\u001b[36malgo-1-2bix9_1  |\u001b[0m         }\n",
      "\u001b[36malgo-1-2bix9_1  |\u001b[0m     },\n",
      "\u001b[36malgo-1-2bix9_1  |\u001b[0m     \"input_dir\": \"/opt/ml/input\",\n",
      "\u001b[36malgo-1-2bix9_1  |\u001b[0m     \"is_master\": true,\n",
      "\u001b[36malgo-1-2bix9_1  |\u001b[0m     \"job_name\": \"sagemaker-scikit-learn-2020-05-14-05-28-46-859\",\n",
      "\u001b[36malgo-1-2bix9_1  |\u001b[0m     \"log_level\": 20,\n",
      "\u001b[36malgo-1-2bix9_1  |\u001b[0m     \"master_hostname\": \"algo-1-2bix9\",\n",
      "\u001b[36malgo-1-2bix9_1  |\u001b[0m     \"model_dir\": \"/opt/ml/model\",\n",
      "\u001b[36malgo-1-2bix9_1  |\u001b[0m     \"module_dir\": \"s3://sagemaker-us-east-2-445861113736/sagemaker-scikit-learn-2020-05-14-05-28-46-859/source/sourcedir.tar.gz\",\n",
      "\u001b[36malgo-1-2bix9_1  |\u001b[0m     \"module_name\": \"comment_classifier\",\n",
      "\u001b[36malgo-1-2bix9_1  |\u001b[0m     \"network_interface_name\": \"eth0\",\n",
      "\u001b[36malgo-1-2bix9_1  |\u001b[0m     \"num_cpus\": 64,\n",
      "\u001b[36malgo-1-2bix9_1  |\u001b[0m     \"num_gpus\": 0,\n",
      "\u001b[36malgo-1-2bix9_1  |\u001b[0m     \"output_data_dir\": \"/opt/ml/output/data\",\n",
      "\u001b[36malgo-1-2bix9_1  |\u001b[0m     \"output_dir\": \"/opt/ml/output\",\n",
      "\u001b[36malgo-1-2bix9_1  |\u001b[0m     \"output_intermediate_dir\": \"/opt/ml/output/intermediate\",\n",
      "\u001b[36malgo-1-2bix9_1  |\u001b[0m     \"resource_config\": {\n",
      "\u001b[36malgo-1-2bix9_1  |\u001b[0m         \"current_host\": \"algo-1-2bix9\",\n",
      "\u001b[36malgo-1-2bix9_1  |\u001b[0m         \"hosts\": [\n",
      "\u001b[36malgo-1-2bix9_1  |\u001b[0m             \"algo-1-2bix9\"\n",
      "\u001b[36malgo-1-2bix9_1  |\u001b[0m         ]\n",
      "\u001b[36malgo-1-2bix9_1  |\u001b[0m     },\n",
      "\u001b[36malgo-1-2bix9_1  |\u001b[0m     \"user_entry_point\": \"comment_classifier.py\"\n",
      "\u001b[36malgo-1-2bix9_1  |\u001b[0m }\n",
      "\u001b[36malgo-1-2bix9_1  |\u001b[0m \n",
      "\u001b[36malgo-1-2bix9_1  |\u001b[0m Environment variables:\n",
      "\u001b[36malgo-1-2bix9_1  |\u001b[0m \n",
      "\u001b[36malgo-1-2bix9_1  |\u001b[0m SM_HOSTS=[\"algo-1-2bix9\"]\n",
      "\u001b[36malgo-1-2bix9_1  |\u001b[0m SM_NETWORK_INTERFACE_NAME=eth0\n",
      "\u001b[36malgo-1-2bix9_1  |\u001b[0m SM_HPS={\"lowercase\":true,\"min_df\":5,\"model\":\"coronavirus_symptoms\",\"ngram_max\":2,\"ngram_min\":1,\"stop_words\":\"english\",\"strip_accents\":\"ascii\",\"token_pattern\":\"(?ui)\\\\b\\\\w*[a-z]+\\\\w*\\\\b\"}\n",
      "\u001b[36malgo-1-2bix9_1  |\u001b[0m SM_USER_ENTRY_POINT=comment_classifier.py\n",
      "\u001b[36malgo-1-2bix9_1  |\u001b[0m SM_FRAMEWORK_PARAMS={}\n",
      "\u001b[36malgo-1-2bix9_1  |\u001b[0m SM_RESOURCE_CONFIG={\"current_host\":\"algo-1-2bix9\",\"hosts\":[\"algo-1-2bix9\"]}\n",
      "\u001b[36malgo-1-2bix9_1  |\u001b[0m SM_INPUT_DATA_CONFIG={\"train\":{\"TrainingInputMode\":\"File\"}}\n",
      "\u001b[36malgo-1-2bix9_1  |\u001b[0m SM_OUTPUT_DATA_DIR=/opt/ml/output/data\n",
      "\u001b[36malgo-1-2bix9_1  |\u001b[0m SM_CHANNELS=[\"train\"]\n",
      "\u001b[36malgo-1-2bix9_1  |\u001b[0m SM_CURRENT_HOST=algo-1-2bix9\n",
      "\u001b[36malgo-1-2bix9_1  |\u001b[0m SM_MODULE_NAME=comment_classifier\n",
      "\u001b[36malgo-1-2bix9_1  |\u001b[0m SM_LOG_LEVEL=20\n",
      "\u001b[36malgo-1-2bix9_1  |\u001b[0m SM_FRAMEWORK_MODULE=sagemaker_sklearn_container.training:main\n",
      "\u001b[36malgo-1-2bix9_1  |\u001b[0m SM_INPUT_DIR=/opt/ml/input\n",
      "\u001b[36malgo-1-2bix9_1  |\u001b[0m SM_INPUT_CONFIG_DIR=/opt/ml/input/config\n",
      "\u001b[36malgo-1-2bix9_1  |\u001b[0m SM_OUTPUT_DIR=/opt/ml/output\n",
      "\u001b[36malgo-1-2bix9_1  |\u001b[0m SM_NUM_CPUS=64\n",
      "\u001b[36malgo-1-2bix9_1  |\u001b[0m SM_NUM_GPUS=0\n",
      "\u001b[36malgo-1-2bix9_1  |\u001b[0m SM_MODEL_DIR=/opt/ml/model\n",
      "\u001b[36malgo-1-2bix9_1  |\u001b[0m SM_MODULE_DIR=s3://sagemaker-us-east-2-445861113736/sagemaker-scikit-learn-2020-05-14-05-28-46-859/source/sourcedir.tar.gz\n",
      "\u001b[36malgo-1-2bix9_1  |\u001b[0m SM_TRAINING_ENV={\"additional_framework_parameters\":{},\"channel_input_dirs\":{\"train\":\"/opt/ml/input/data/train\"},\"current_host\":\"algo-1-2bix9\",\"framework_module\":\"sagemaker_sklearn_container.training:main\",\"hosts\":[\"algo-1-2bix9\"],\"hyperparameters\":{\"lowercase\":true,\"min_df\":5,\"model\":\"coronavirus_symptoms\",\"ngram_max\":2,\"ngram_min\":1,\"stop_words\":\"english\",\"strip_accents\":\"ascii\",\"token_pattern\":\"(?ui)\\\\b\\\\w*[a-z]+\\\\w*\\\\b\"},\"input_config_dir\":\"/opt/ml/input/config\",\"input_data_config\":{\"train\":{\"TrainingInputMode\":\"File\"}},\"input_dir\":\"/opt/ml/input\",\"is_master\":true,\"job_name\":\"sagemaker-scikit-learn-2020-05-14-05-28-46-859\",\"log_level\":20,\"master_hostname\":\"algo-1-2bix9\",\"model_dir\":\"/opt/ml/model\",\"module_dir\":\"s3://sagemaker-us-east-2-445861113736/sagemaker-scikit-learn-2020-05-14-05-28-46-859/source/sourcedir.tar.gz\",\"module_name\":\"comment_classifier\",\"network_interface_name\":\"eth0\",\"num_cpus\":64,\"num_gpus\":0,\"output_data_dir\":\"/opt/ml/output/data\",\"output_dir\":\"/opt/ml/output\",\"output_intermediate_dir\":\"/opt/ml/output/intermediate\",\"resource_config\":{\"current_host\":\"algo-1-2bix9\",\"hosts\":[\"algo-1-2bix9\"]},\"user_entry_point\":\"comment_classifier.py\"}\n",
      "\u001b[36malgo-1-2bix9_1  |\u001b[0m SM_USER_ARGS=[\"--lowercase\",\"True\",\"--min_df\",\"5\",\"--model\",\"coronavirus_symptoms\",\"--ngram_max\",\"2\",\"--ngram_min\",\"1\",\"--stop_words\",\"english\",\"--strip_accents\",\"ascii\",\"--token_pattern\",\"(?ui)\\\\b\\\\w*[a-z]+\\\\w*\\\\b\"]\n",
      "\u001b[36malgo-1-2bix9_1  |\u001b[0m SM_OUTPUT_INTERMEDIATE_DIR=/opt/ml/output/intermediate\n",
      "\u001b[36malgo-1-2bix9_1  |\u001b[0m SM_CHANNEL_TRAIN=/opt/ml/input/data/train\n",
      "\u001b[36malgo-1-2bix9_1  |\u001b[0m SM_HP_MODEL=coronavirus_symptoms\n",
      "\u001b[36malgo-1-2bix9_1  |\u001b[0m SM_HP_STRIP_ACCENTS=ascii\n",
      "\u001b[36malgo-1-2bix9_1  |\u001b[0m SM_HP_TOKEN_PATTERN=(?ui)\\b\\w*[a-z]+\\w*\\b\n",
      "\u001b[36malgo-1-2bix9_1  |\u001b[0m SM_HP_LOWERCASE=true\n",
      "\u001b[36malgo-1-2bix9_1  |\u001b[0m SM_HP_STOP_WORDS=english\n",
      "\u001b[36malgo-1-2bix9_1  |\u001b[0m SM_HP_MIN_DF=5\n",
      "\u001b[36malgo-1-2bix9_1  |\u001b[0m SM_HP_NGRAM_MIN=1\n",
      "\u001b[36malgo-1-2bix9_1  |\u001b[0m SM_HP_NGRAM_MAX=2\n",
      "\u001b[36malgo-1-2bix9_1  |\u001b[0m PYTHONPATH=/miniconda3/bin:/miniconda3/lib/python37.zip:/miniconda3/lib/python3.7:/miniconda3/lib/python3.7/lib-dynload:/miniconda3/lib/python3.7/site-packages\n",
      "\u001b[36malgo-1-2bix9_1  |\u001b[0m \n",
      "\u001b[36malgo-1-2bix9_1  |\u001b[0m Invoking script with the following command:\n",
      "\u001b[36malgo-1-2bix9_1  |\u001b[0m \n",
      "\u001b[36malgo-1-2bix9_1  |\u001b[0m /miniconda3/bin/python -m comment_classifier --lowercase True --min_df 5 --model coronavirus_symptoms --ngram_max 2 --ngram_min 1 --stop_words english --strip_accents ascii --token_pattern (?ui)\\b\\w*[a-z]+\\w*\\b\n",
      "\u001b[36malgo-1-2bix9_1  |\u001b[0m \n",
      "\u001b[36malgo-1-2bix9_1  |\u001b[0m \n"
     ]
    },
    {
     "name": "stdout",
     "output_type": "stream",
     "text": [
      "\u001b[36malgo-1-2bix9_1  |\u001b[0m /miniconda3/lib/python3.7/site-packages/sklearn/externals/joblib/externals/cloudpickle/cloudpickle.py:47: DeprecationWarning: the imp module is deprecated in favour of importlib; see the module's documentation for alternative uses\n",
      "\u001b[36malgo-1-2bix9_1  |\u001b[0m   import imp\n",
      "\u001b[36malgo-1-2bix9_1  |\u001b[0m 2020-05-14 05:29:00,984 sagemaker-containers INFO     Reporting training SUCCESS\n",
      "\u001b[36mtmpm3u9vli1_algo-1-2bix9_1 exited with code 0\n",
      "\u001b[0mAborting on container exit...\n",
      "===== Job Complete =====\n"
     ]
    }
   ],
   "source": [
    "#The data should already be saved to the ./data directory\n",
    "WORK_DIRECTORY = 'training_data'\n",
    "train_input = sagemaker_session.upload_data(WORK_DIRECTORY, key_prefix=\"{}/{}\".format(prefix, WORK_DIRECTORY) )\n",
    "\n",
    "#Training the model\n",
    "sklearn.fit({'train': train_input})"
   ]
  },
  {
   "cell_type": "markdown",
   "metadata": {},
   "source": [
    "# Using the trained model to make requests"
   ]
  },
  {
   "cell_type": "markdown",
   "metadata": {},
   "source": [
    "## Creating the endpoint "
   ]
  },
  {
   "cell_type": "code",
   "execution_count": 18,
   "metadata": {},
   "outputs": [
    {
     "name": "stdout",
     "output_type": "stream",
     "text": [
      "Attaching to tmpn0hitsu2_algo-1-rvrl8_1\n",
      "\u001b[36malgo-1-rvrl8_1  |\u001b[0m Processing /opt/ml/code\n",
      "\u001b[36malgo-1-rvrl8_1  |\u001b[0m Building wheels for collected packages: comment-classifier\n",
      "\u001b[36malgo-1-rvrl8_1  |\u001b[0m   Building wheel for comment-classifier (setup.py) ... \u001b[?25ldone\n",
      "\u001b[36malgo-1-rvrl8_1  |\u001b[0m \u001b[?25h  Created wheel for comment-classifier: filename=comment_classifier-1.0.0-py2.py3-none-any.whl size=6749 sha256=c931a94f5149adec5ba20c34bec209b7599c0f3b3d9fa89cb432243a3afa6ac8\n",
      "\u001b[36malgo-1-rvrl8_1  |\u001b[0m   Stored in directory: /tmp/pip-ephem-wheel-cache-y874czqn/wheels/35/24/16/37574d11bf9bde50616c67372a334f94fa8356bc7164af8ca3\n",
      "\u001b[36malgo-1-rvrl8_1  |\u001b[0m Successfully built comment-classifier\n",
      "\u001b[36malgo-1-rvrl8_1  |\u001b[0m Installing collected packages: comment-classifier\n",
      "\u001b[36malgo-1-rvrl8_1  |\u001b[0m Successfully installed comment-classifier-1.0.0\n",
      "\u001b[36malgo-1-rvrl8_1  |\u001b[0m /miniconda3/lib/python3.7/site-packages/sklearn/externals/joblib/externals/cloudpickle/cloudpickle.py:47: DeprecationWarning: the imp module is deprecated in favour of importlib; see the module's documentation for alternative uses\n",
      "\u001b[36malgo-1-rvrl8_1  |\u001b[0m   import imp\n",
      "\u001b[36malgo-1-rvrl8_1  |\u001b[0m [2020-05-14 05:29:06 +0000] [216] [INFO] Starting gunicorn 19.9.0\n",
      "\u001b[36malgo-1-rvrl8_1  |\u001b[0m [2020-05-14 05:29:06 +0000] [216] [INFO] Listening at: unix:/tmp/gunicorn.sock (216)\n",
      "\u001b[36malgo-1-rvrl8_1  |\u001b[0m [2020-05-14 05:29:06 +0000] [216] [INFO] Using worker: gevent\n",
      "\u001b[36malgo-1-rvrl8_1  |\u001b[0m [2020-05-14 05:29:06 +0000] [219] [INFO] Booting worker with pid: 219\n",
      "\u001b[36malgo-1-rvrl8_1  |\u001b[0m [2020-05-14 05:29:06 +0000] [220] [INFO] Booting worker with pid: 220\n",
      "\u001b[36malgo-1-rvrl8_1  |\u001b[0m [2020-05-14 05:29:06 +0000] [284] [INFO] Booting worker with pid: 284\n",
      "\u001b[36malgo-1-rvrl8_1  |\u001b[0m [2020-05-14 05:29:06 +0000] [285] [INFO] Booting worker with pid: 285\n",
      "\u001b[36malgo-1-rvrl8_1  |\u001b[0m [2020-05-14 05:29:06 +0000] [349] [INFO] Booting worker with pid: 349\n",
      "\u001b[36malgo-1-rvrl8_1  |\u001b[0m [2020-05-14 05:29:06 +0000] [476] [INFO] Booting worker with pid: 476\n",
      "\u001b[36malgo-1-rvrl8_1  |\u001b[0m [2020-05-14 05:29:06 +0000] [477] [INFO] Booting worker with pid: 477\n",
      "\u001b[36malgo-1-rvrl8_1  |\u001b[0m [2020-05-14 05:29:06 +0000] [541] [INFO] Booting worker with pid: 541\n",
      "\u001b[36malgo-1-rvrl8_1  |\u001b[0m [2020-05-14 05:29:06 +0000] [605] [INFO] Booting worker with pid: 605\n",
      "\u001b[36malgo-1-rvrl8_1  |\u001b[0m [2020-05-14 05:29:06 +0000] [669] [INFO] Booting worker with pid: 669\n",
      "\u001b[36malgo-1-rvrl8_1  |\u001b[0m [2020-05-14 05:29:07 +0000] [796] [INFO] Booting worker with pid: 796\n",
      "\u001b[36malgo-1-rvrl8_1  |\u001b[0m [2020-05-14 05:29:07 +0000] [861] [INFO] Booting worker with pid: 861\n",
      "\u001b[36malgo-1-rvrl8_1  |\u001b[0m [2020-05-14 05:29:07 +0000] [925] [INFO] Booting worker with pid: 925\n",
      "\u001b[36malgo-1-rvrl8_1  |\u001b[0m [2020-05-14 05:29:07 +0000] [926] [INFO] Booting worker with pid: 926\n",
      "\u001b[36malgo-1-rvrl8_1  |\u001b[0m [2020-05-14 05:29:07 +0000] [927] [INFO] Booting worker with pid: 927\n",
      "\u001b[36malgo-1-rvrl8_1  |\u001b[0m [2020-05-14 05:29:07 +0000] [931] [INFO] Booting worker with pid: 931\n",
      "\u001b[36malgo-1-rvrl8_1  |\u001b[0m [2020-05-14 05:29:07 +0000] [1059] [INFO] Booting worker with pid: 1059\n",
      "\u001b[36malgo-1-rvrl8_1  |\u001b[0m [2020-05-14 05:29:07 +0000] [1187] [INFO] Booting worker with pid: 1187\n",
      "\u001b[36malgo-1-rvrl8_1  |\u001b[0m [2020-05-14 05:29:07 +0000] [1188] [INFO] Booting worker with pid: 1188\n",
      "\u001b[36malgo-1-rvrl8_1  |\u001b[0m [2020-05-14 05:29:07 +0000] [1189] [INFO] Booting worker with pid: 1189\n",
      "\u001b[36malgo-1-rvrl8_1  |\u001b[0m [2020-05-14 05:29:07 +0000] [1190] [INFO] Booting worker with pid: 1190\n",
      "\u001b[36malgo-1-rvrl8_1  |\u001b[0m [2020-05-14 05:29:07 +0000] [1191] [INFO] Booting worker with pid: 1191\n",
      "\u001b[36malgo-1-rvrl8_1  |\u001b[0m [2020-05-14 05:29:07 +0000] [1445] [INFO] Booting worker with pid: 1445\n",
      "\u001b[36malgo-1-rvrl8_1  |\u001b[0m [2020-05-14 05:29:07 +0000] [1449] [INFO] Booting worker with pid: 1449\n",
      "\u001b[36malgo-1-rvrl8_1  |\u001b[0m [2020-05-14 05:29:07 +0000] [1576] [INFO] Booting worker with pid: 1576\n",
      "\u001b[36malgo-1-rvrl8_1  |\u001b[0m [2020-05-14 05:29:07 +0000] [1640] [INFO] Booting worker with pid: 1640\n",
      "\u001b[36malgo-1-rvrl8_1  |\u001b[0m [2020-05-14 05:29:07 +0000] [1705] [INFO] Booting worker with pid: 1705\n",
      "\u001b[36malgo-1-rvrl8_1  |\u001b[0m 2020-05-14 05:29:07,716 INFO - sagemaker-containers - No GPUs detected (normal if no gpus installed)\n",
      "\u001b[36malgo-1-rvrl8_1  |\u001b[0m [2020-05-14 05:29:07 +0000] [1772] [INFO] Booting worker with pid: 1772\n",
      "\u001b[36malgo-1-rvrl8_1  |\u001b[0m [2020-05-14 05:29:07 +0000] [1770] [INFO] Booting worker with pid: 1770\n",
      "\u001b[36malgo-1-rvrl8_1  |\u001b[0m [2020-05-14 05:29:07 +0000] [1844] [INFO] Booting worker with pid: 1844\n",
      "\u001b[36malgo-1-rvrl8_1  |\u001b[0m [2020-05-14 05:29:07 +0000] [1901] [INFO] Booting worker with pid: 1901\n",
      "\u001b[36malgo-1-rvrl8_1  |\u001b[0m [2020-05-14 05:29:07 +0000] [1902] [INFO] Booting worker with pid: 1902\n",
      "\u001b[36malgo-1-rvrl8_1  |\u001b[0m [2020-05-14 05:29:07 +0000] [2094] [INFO] Booting worker with pid: 2094\n",
      "\u001b[36malgo-1-rvrl8_1  |\u001b[0m [2020-05-14 05:29:08 +0000] [2158] [INFO] Booting worker with pid: 2158\n",
      "\u001b[36malgo-1-rvrl8_1  |\u001b[0m [2020-05-14 05:29:08 +0000] [2282] [INFO] Booting worker with pid: 2282\n",
      "\u001b[36malgo-1-rvrl8_1  |\u001b[0m [2020-05-14 05:29:08 +0000] [2349] [INFO] Booting worker with pid: 2349\n",
      "\u001b[36malgo-1-rvrl8_1  |\u001b[0m [2020-05-14 05:29:08 +0000] [2351] [INFO] Booting worker with pid: 2351\n",
      "\u001b[36malgo-1-rvrl8_1  |\u001b[0m [2020-05-14 05:29:08 +0000] [2419] [INFO] Booting worker with pid: 2419\n",
      "\u001b[36malgo-1-rvrl8_1  |\u001b[0m /miniconda3/lib/python3.7/site-packages/sklearn/externals/joblib/externals/cloudpickle/cloudpickle.py:47: DeprecationWarning: the imp module is deprecated in favour of importlib; see the module's documentation for alternative uses\n",
      "\u001b[36malgo-1-rvrl8_1  |\u001b[0m   import imp\n",
      "\u001b[36malgo-1-rvrl8_1  |\u001b[0m [2020-05-14 05:29:08 +0000] [2623] [INFO] Booting worker with pid: 2623\n",
      "\u001b[36malgo-1-rvrl8_1  |\u001b[0m [2020-05-14 05:29:08 +0000] [2677] [INFO] Booting worker with pid: 2677\n",
      "\u001b[36malgo-1-rvrl8_1  |\u001b[0m [2020-05-14 05:29:08 +0000] [2679] [INFO] Booting worker with pid: 2679\n",
      "!\u001b[36malgo-1-rvrl8_1  |\u001b[0m 172.18.0.1 - - [14/May/2020:05:29:08 +0000] \"GET /ping HTTP/1.1\" 200 0 \"-\" \"-\"\n",
      "\u001b[36malgo-1-rvrl8_1  |\u001b[0m [2020-05-14 05:29:08 +0000] [2874] [INFO] Booting worker with pid: 2874\n",
      "\u001b[36malgo-1-rvrl8_1  |\u001b[0m [2020-05-14 05:29:08 +0000] [2875] [INFO] Booting worker with pid: 2875\n",
      "\u001b[36malgo-1-rvrl8_1  |\u001b[0m [2020-05-14 05:29:08 +0000] [2876] [INFO] Booting worker with pid: 2876\n",
      "\u001b[36malgo-1-rvrl8_1  |\u001b[0m [2020-05-14 05:29:08 +0000] [2879] [INFO] Booting worker with pid: 2879\n",
      "\u001b[36malgo-1-rvrl8_1  |\u001b[0m [2020-05-14 05:29:08 +0000] [3069] [INFO] Booting worker with pid: 3069\n",
      "\u001b[36malgo-1-rvrl8_1  |\u001b[0m [2020-05-14 05:29:08 +0000] [3134] [INFO] Booting worker with pid: 3134\n",
      "\u001b[36malgo-1-rvrl8_1  |\u001b[0m [2020-05-14 05:29:08 +0000] [3136] [INFO] Booting worker with pid: 3136\n",
      "\u001b[36malgo-1-rvrl8_1  |\u001b[0m [2020-05-14 05:29:08 +0000] [3265] [INFO] Booting worker with pid: 3265\n",
      "\u001b[36malgo-1-rvrl8_1  |\u001b[0m [2020-05-14 05:29:08 +0000] [3393] [INFO] Booting worker with pid: 3393\n",
      "\u001b[36malgo-1-rvrl8_1  |\u001b[0m [2020-05-14 05:29:09 +0000] [3396] [INFO] Booting worker with pid: 3396\n",
      "\u001b[36malgo-1-rvrl8_1  |\u001b[0m [2020-05-14 05:29:09 +0000] [3460] [INFO] Booting worker with pid: 3460\n",
      "\u001b[36malgo-1-rvrl8_1  |\u001b[0m [2020-05-14 05:29:09 +0000] [3588] [INFO] Booting worker with pid: 3588\n",
      "\u001b[36malgo-1-rvrl8_1  |\u001b[0m [2020-05-14 05:29:09 +0000] [3589] [INFO] Booting worker with pid: 3589\n",
      "\u001b[36malgo-1-rvrl8_1  |\u001b[0m [2020-05-14 05:29:09 +0000] [3592] [INFO] Booting worker with pid: 3592\n",
      "\u001b[36malgo-1-rvrl8_1  |\u001b[0m [2020-05-14 05:29:09 +0000] [3784] [INFO] Booting worker with pid: 3784\n",
      "\u001b[36malgo-1-rvrl8_1  |\u001b[0m [2020-05-14 05:29:09 +0000] [3786] [INFO] Booting worker with pid: 3786\n",
      "\u001b[36malgo-1-rvrl8_1  |\u001b[0m [2020-05-14 05:29:09 +0000] [3915] [INFO] Booting worker with pid: 3915\n",
      "\u001b[36malgo-1-rvrl8_1  |\u001b[0m [2020-05-14 05:29:09 +0000] [3980] [INFO] Booting worker with pid: 3980\n",
      "\u001b[36malgo-1-rvrl8_1  |\u001b[0m [2020-05-14 05:29:09 +0000] [4047] [INFO] Booting worker with pid: 4047\n",
      "\u001b[36malgo-1-rvrl8_1  |\u001b[0m [2020-05-14 05:29:09 +0000] [4111] [INFO] Booting worker with pid: 4111\n",
      "\u001b[36malgo-1-rvrl8_1  |\u001b[0m [2020-05-14 05:29:09 +0000] [4175] [INFO] Booting worker with pid: 4175\n",
      "\u001b[36malgo-1-rvrl8_1  |\u001b[0m [2020-05-14 05:29:09 +0000] [4176] [INFO] Booting worker with pid: 4176\n",
      "\u001b[36malgo-1-rvrl8_1  |\u001b[0m [2020-05-14 05:29:09 +0000] [4179] [INFO] Booting worker with pid: 4179\n"
     ]
    }
   ],
   "source": [
    "predictor = sklearn.deploy(initial_instance_count=1, instance_type=\"ml.m4.xlarge\")"
   ]
  },
  {
   "cell_type": "markdown",
   "metadata": {},
   "source": [
    "## Loading in testing data"
   ]
  },
  {
   "cell_type": "code",
   "execution_count": 49,
   "metadata": {},
   "outputs": [],
   "source": [
    "import json\n",
    "import pandas as pd\n",
    "from sklearn.metrics import roc_auc_score, roc_curve\n",
    "import numpy as np\n",
    "import matplotlib.pyplot as plt\n",
    "plt.style.use('fivethirtyeight')\n",
    "\n",
    "test_dir='./test_data/'\n",
    "data_loc = '{0}{1}.json'.format(test_dir, model)\n",
    "with open(data_loc, 'r') as infile:\n",
    "    data = json.load(infile)\n",
    "test_df = pd.io.json.json_normalize(data['data'])\n",
    "y_test = test_df['target']"
   ]
  },
  {
   "cell_type": "markdown",
   "metadata": {},
   "source": [
    "## Making predictions on new data\n",
    "The endpoint takes in an array of comments and outputs an array of probabilities"
   ]
  },
  {
   "cell_type": "code",
   "execution_count": null,
   "metadata": {},
   "outputs": [],
   "source": [
    "y_score = predictor.predict(test_df['description.comments'])"
   ]
  },
  {
   "cell_type": "markdown",
   "metadata": {},
   "source": [
    "## ROC curve\n",
    "The greater the area under the curve, the better (max 1.0)"
   ]
  },
  {
   "cell_type": "code",
   "execution_count": 44,
   "metadata": {},
   "outputs": [
    {
     "name": "stdout",
     "output_type": "stream",
     "text": [
      "\u001b[36malgo-1-rvrl8_1  |\u001b[0m 172.18.0.1 - - [14/May/2020:05:37:23 +0000] \"POST /invocations HTTP/1.1\" 200 58200 \"-\" \"-\"\r\n",
      "The area under the curve is 0.92.\n"
     ]
    },
    {
     "data": {
      "image/png": "[encoded data removed]",
      "text/plain": [
       "<Figure size 432x288 with 1 Axes>"
      ]
     },
     "metadata": {},
     "output_type": "display_data"
    }
   ],
   "source": [
    "fpr, tpr, thresholds = roc_curve(y_test, y_score)\n",
    "plt.plot(fpr,tpr)\n",
    "plt.xlabel('False positive rate')\n",
    "plt.ylabel('True positive rate')\n",
    "auc_score = roc_auc_score(y_test, y_score)\n",
    "print('The area under the curve is {:0.2f}.'.format(auc_score))"
   ]
  },
  {
   "cell_type": "markdown",
   "metadata": {},
   "source": [
    "## Probability histogram\n",
    "How confident is the model generally?"
   ]
  },
  {
   "cell_type": "code",
   "execution_count": 95,
   "metadata": {},
   "outputs": [
    {
     "data": {
      "text/plain": [
       "(array([5110.,  135.,  134.,   75.,   80.,   73.,   90.,   77.,  132.,\n",
       "        1353.]),\n",
       " array([0. , 0.1, 0.2, 0.3, 0.4, 0.5, 0.6, 0.7, 0.8, 0.9, 1. ]),\n",
       " <a list of 10 Patch objects>)"
      ]
     },
     "execution_count": 95,
     "metadata": {},
     "output_type": "execute_result"
    },
    {
     "data": {
      "image/png": "[encoded data removed]",
      "text/plain": [
       "<Figure size 432x288 with 1 Axes>"
      ]
     },
     "metadata": {},
     "output_type": "display_data"
    }
   ],
   "source": [
    "bins=np.linspace(0,1,11,endpoint=True)\n",
    "plt.hist(y_score, bins=bins)"
   ]
  },
  {
   "cell_type": "markdown",
   "metadata": {},
   "source": [
    "## Calibration plot\n",
    "Shows how meaningful the probability outputs are. They're not well calibrated, but that's okay"
   ]
  },
  {
   "cell_type": "code",
   "execution_count": 118,
   "metadata": {},
   "outputs": [
    {
     "data": {
      "text/plain": [
       "Text(0, 0.5, 'Fraction True in bin')"
      ]
     },
     "execution_count": 118,
     "metadata": {},
     "output_type": "execute_result"
    },
    {
     "data": {
      "image/png": "[encoded data removed]",
      "text/plain": [
       "<Figure size 432x288 with 1 Axes>"
      ]
     },
     "metadata": {},
     "output_type": "display_data"
    }
   ],
   "source": [
    "bins=np.linspace(0,1,11,endpoint=True)\n",
    "bin_means = np.array(pd.Series(bins).rolling(window=2).mean().dropna())\n",
    "bin_fractions = np.zeros(len(bin_means))\n",
    "\n",
    "y_bins = pd.cut(y_score, bins=bins, labels=False)\n",
    "for i in range(len(bin_means)):\n",
    "    bin_fractions[i] = np.sum(y_test[y_bins==i])/np.sum(y_bins==i)\n",
    "\n",
    "plt.plot(bin_means, bin_fractions)\n",
    "plt.xlim(0,1)\n",
    "plt.ylim(0,1)\n",
    "plt.xlabel('Avg. probability of bin')\n",
    "plt.ylabel('Fraction True in bin')"
   ]
  },
  {
   "cell_type": "markdown",
   "metadata": {},
   "source": [
    "## Endpoint cleanup\n",
    "Delete the endpoint when you're done so we don't pay extra"
   ]
  },
  {
   "cell_type": "code",
   "execution_count": 140,
   "metadata": {},
   "outputs": [
    {
     "name": "stdout",
     "output_type": "stream",
     "text": [
      "Gracefully stopping... (press Ctrl+C again to force)\n"
     ]
    }
   ],
   "source": [
    "sklearn.delete_endpoint()"
   ]
  }
 ],
 "metadata": {
  "kernelspec": {
   "display_name": "Python 3",
   "language": "python",
   "name": "python3"
  },
  "language_info": {
   "codemirror_mode": {
    "name": "ipython",
    "version": 3
   },
   "file_extension": ".py",
   "mimetype": "text/x-python",
   "name": "python",
   "nbconvert_exporter": "python",
   "pygments_lexer": "ipython3",
   "version": "3.6.9"
  }
 },
 "nbformat": 4,
 "nbformat_minor": 2
}
