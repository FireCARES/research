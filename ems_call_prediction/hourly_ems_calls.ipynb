{
 "cells": [
  {
   "cell_type": "markdown",
   "metadata": {},
   "source": [
    "First, lets create our Sagemaker session and role, and create a S3 prefix to use for the notebook example."
   ]
  },
  {
   "cell_type": "code",
   "execution_count": 1,
   "metadata": {},
   "outputs": [
    {
     "name": "stderr",
     "output_type": "stream",
     "text": [
      "Couldn't call 'get_role' to get Role ARN from role name tyler.c.buffington@utexas.edu to get Role path.\n"
     ]
    },
    {
     "ename": "ValueError",
     "evalue": "The current AWS identity is not a role: arn:aws:iam::445861113736:user/tyler.c.buffington@utexas.edu, therefore it cannot be used as a SageMaker execution role",
     "output_type": "error",
     "traceback": [
      "\u001b[0;31m---------------------------------------------------------------------------\u001b[0m",
      "\u001b[0;31mValueError\u001b[0m                                Traceback (most recent call last)",
      "\u001b[0;32m<ipython-input-1-e2f40d9496f2>\u001b[0m in \u001b[0;36m<module>\u001b[0;34m\u001b[0m\n\u001b[1;32m      8\u001b[0m \u001b[0;34m\u001b[0m\u001b[0m\n\u001b[1;32m      9\u001b[0m \u001b[0;31m# Get a SageMaker-compatible role used by this Notebook Instance.\u001b[0m\u001b[0;34m\u001b[0m\u001b[0;34m\u001b[0m\u001b[0;34m\u001b[0m\u001b[0m\n\u001b[0;32m---> 10\u001b[0;31m \u001b[0mrole\u001b[0m \u001b[0;34m=\u001b[0m \u001b[0mget_execution_role\u001b[0m\u001b[0;34m(\u001b[0m\u001b[0;34m)\u001b[0m\u001b[0;34m\u001b[0m\u001b[0;34m\u001b[0m\u001b[0m\n\u001b[0m",
      "\u001b[0;32m~/.local/lib/python3.6/site-packages/sagemaker/session.py\u001b[0m in \u001b[0;36mget_execution_role\u001b[0;34m(sagemaker_session)\u001b[0m\n\u001b[1;32m   3274\u001b[0m         \u001b[0;34m\"SageMaker execution role\"\u001b[0m\u001b[0;34m\u001b[0m\u001b[0;34m\u001b[0m\u001b[0m\n\u001b[1;32m   3275\u001b[0m     )\n\u001b[0;32m-> 3276\u001b[0;31m     \u001b[0;32mraise\u001b[0m \u001b[0mValueError\u001b[0m\u001b[0;34m(\u001b[0m\u001b[0mmessage\u001b[0m\u001b[0;34m.\u001b[0m\u001b[0mformat\u001b[0m\u001b[0;34m(\u001b[0m\u001b[0marn\u001b[0m\u001b[0;34m)\u001b[0m\u001b[0;34m)\u001b[0m\u001b[0;34m\u001b[0m\u001b[0;34m\u001b[0m\u001b[0m\n\u001b[0m\u001b[1;32m   3277\u001b[0m \u001b[0;34m\u001b[0m\u001b[0m\n\u001b[1;32m   3278\u001b[0m \u001b[0;34m\u001b[0m\u001b[0m\n",
      "\u001b[0;31mValueError\u001b[0m: The current AWS identity is not a role: arn:aws:iam::445861113736:user/tyler.c.buffington@utexas.edu, therefore it cannot be used as a SageMaker execution role"
     ]
    }
   ],
   "source": [
    "# S3 prefix\n",
    "prefix = 'ems_call_volume'\n",
    "\n",
    "import sagemaker\n",
    "from sagemaker import get_execution_role\n",
    "\n",
    "sagemaker_session = sagemaker.Session()\n",
    "\n",
    "# Get a SageMaker-compatible role used by this Notebook Instance.\n",
    "role = get_execution_role()"
   ]
  },
  {
   "cell_type": "code",
   "execution_count": 8,
   "metadata": {},
   "outputs": [],
   "source": [
    "from elasticsearch import Elasticsearch\n",
    "from elasticsearch_dsl import Search\n",
    "from elasticsearch_dsl import Q\n",
    "import pandas as pd\n",
    "import numpy as np\n",
    "from tqdm import tqdm_notebook\n",
    "import datetime\n",
    "import json\n",
    "import matplotlib.pyplot as plt\n",
    "from sklearn.ensemble import RandomForestRegressor\n",
    "from sklearn.model_selection import train_test_split\n",
    "from pandas.tseries.holiday import USFederalHolidayCalendar as calendar\n",
    "from pandas.tseries.holiday import AbstractHolidayCalendar\n",
    "from pandas.tseries.offsets import CustomBusinessDay\n",
    "from pandas.tseries.holiday import Holiday\n",
    "from dateutil.relativedelta import SU\n",
    "from dateutil.relativedelta import TH\n",
    "from sklearn.preprocessing import StandardScaler\n",
    "from sklearn.decomposition import PCA\n",
    "plt.style.use('ggplot')"
   ]
  },
  {
   "cell_type": "code",
   "execution_count": 1,
   "metadata": {},
   "outputs": [],
   "source": [
    "import boto3\n",
    "import sagemaker\n",
    "from sagemaker import get_execution_role\n",
    "import pandas as pd\n",
    "\n",
    "# S3 prefix\n",
    "prefix = 'ems_call_volume'\n",
    "# session = boto3.session.Session(region_name='us-east-2')\n",
    "# sagemaker_session = sagemaker.LocalSession(boto_session=session)\n",
    "sagemaker_session = sagemaker.LocalSession()\n",
    "\n",
    "# Get a SageMaker-compatible role used by this Notebook Instance.\n",
    "# role = 'arn:aws:iam::467626235021:role/service-role/AmazonSageMaker-ExecutionRole-20190830T140378'\n",
    "role = 'arn:aws:iam::445861113736:role/service-role/AmazonSageMaker-ExecutionRole-20190903T114521'"
   ]
  },
  {
   "cell_type": "markdown",
   "metadata": {},
   "source": [
    "## Upload the data for training <a class=\"anchor\" id=\"upload_data\"></a>\n",
    "\n",
    "I performed the following query to get the data. Right now, I'm just saving the dataframe as shown below."
   ]
  },
  {
   "cell_type": "code",
   "execution_count": 71,
   "metadata": {},
   "outputs": [],
   "source": [
    "from elasticsearch import Elasticsearch\n",
    "from elasticsearch_dsl import Search\n",
    "from elasticsearch_dsl import Q\n",
    "import json\n",
    "#Generating the dataframe from NFORS\n",
    "es = Elasticsearch()\n",
    "s = Search(using=es,index='*-fire-incident-*')\n",
    "s = s.source(['description.event_opened',\n",
    "                     'description.day_of_week',\n",
    "                    'NFPA.type',\n",
    "                     'fire_department.firecares_id'])\n",
    "\n",
    "\n",
    "\n",
    "q = Q(\"match\",fire_department__firecares_id =  '79592') | Q(\"match\",fire_department__firecares_id =  '93345')\n",
    "results = s.query(q)\n",
    "\n",
    "#Performing the query and converting to pandas dataframe\n",
    "df = pd.DataFrame((d.to_dict() for d in tqdm_notebook(results.scan())))\n",
    "json_struct = json.loads(df.to_json(orient=\"records\"))\n",
    "\n",
    "df = pd.io.json.json_normalize(json_struct)\n",
    "\n",
    "#Converting date\n",
    "df['date'] = df['description.event_opened'].apply(lambda x: x[:10])\n",
    "df['month'] = df.apply(lambda x: x['date'][5:7], axis=1)\n",
    "df['hour'] = df['description.event_opened'].apply(lambda x: x[11:13])\n",
    "\n",
    "\n",
    "#Converting df dates to datetime objects\n",
    "df['date'] = df.apply(lambda x: datetime.datetime.strptime(x['date'],'%Y-%m-%d'),axis=1)\n",
    "# df['date'] = df.apply(lambda x: datetime.datetime.strptime(x['date'],'%Y-%m-%d'),axis=1)\n",
    "\n",
    "#Renaming columns for convenience\n",
    "new_col = list(df.columns)\n",
    "for i,column in enumerate(df.columns):\n",
    "    new_col[i] = column.replace('weather.currently.','').replace('weather.daily.','')\n",
    "df.columns = new_col\n",
    "\n",
    "df.to_pickle('query_results')"
   ]
  },
  {
   "cell_type": "code",
   "execution_count": 72,
   "metadata": {},
   "outputs": [],
   "source": [
    "#Getting the list of all departments in the dataframe\n",
    "fdid_list = df['fire_department.firecares_id'].unique()\n"
   ]
  },
  {
   "cell_type": "code",
   "execution_count": 117,
   "metadata": {},
   "outputs": [],
   "source": [
    "feature_list = ['fire_department.firecares_id_79592',\n",
    "       'fire_department.firecares_id_93345', 'description.day_of_week_Friday',\n",
    "       'description.day_of_week_Monday', 'description.day_of_week_Saturday',\n",
    "       'description.day_of_week_Sunday', 'description.day_of_week_Thursday',\n",
    "       'description.day_of_week_Tuesday', 'description.day_of_week_Wednesday',\n",
    "       'hour_00', 'hour_01', 'hour_02', 'hour_03', 'hour_04', 'hour_05',\n",
    "       'hour_06', 'hour_07', 'hour_08', 'hour_09', 'hour_10', 'hour_11',\n",
    "       'hour_12', 'hour_13', 'hour_14', 'hour_15', 'hour_16', 'hour_17',\n",
    "       'hour_18', 'hour_19', 'hour_20', 'hour_21', 'hour_22', 'hour_23']  "
   ]
  },
  {
   "cell_type": "code",
   "execution_count": 232,
   "metadata": {},
   "outputs": [],
   "source": [
    "hourly = df[['fire_department.firecares_id', 'date','description.day_of_week', 'hour', 'NFPA.type']].groupby(['fire_department.firecares_id', 'date','description.day_of_week', 'hour', 'NFPA.type']).aggregate(len).reset_index()\n",
    "hourly = hourly.rename(columns={0: 'calls'})\n",
    "\n",
    "#Determine the mean of each department by hour\n",
    "means = hourly[['fire_department.firecares_id','calls']].groupby('fire_department.firecares_id').aggregate(np.mean).reset_index()\n",
    "means = means.rename(columns={'calls':'mean_calls'})\n",
    "hourly = hourly.merge(means, on='fire_department.firecares_id')\n",
    "hourly['norm_calls'] = hourly['calls']/hourly['mean_calls']\n",
    "\n",
    "hourly = hourly.sample(1000)"
   ]
  },
  {
   "cell_type": "code",
   "execution_count": 259,
   "metadata": {},
   "outputs": [],
   "source": [
    "jsondata = {}\n",
    "jsondata['model_name'] = 'calls_by_hour'\n",
    "jsondata['model_version'] = 1.0\n",
    "jsondata['prediction_data'] = hourly.drop('date',axis=1).to_dict(orient='records')\n",
    "\n",
    "with open('test', 'w') as outfile:\n",
    "    json.dump(jsondata, outfile)"
   ]
  },
  {
   "cell_type": "code",
   "execution_count": 271,
   "metadata": {},
   "outputs": [],
   "source": [
    "with open('test','r') as file:\n",
    "    data = file.read().replace('\\n', '')"
   ]
  },
  {
   "cell_type": "code",
   "execution_count": 274,
   "metadata": {},
   "outputs": [],
   "source": [
    "data = json.loads(data)\n",
    "features = pd.io.json.json_normalize(data['prediction_data'])"
   ]
  },
  {
   "cell_type": "code",
   "execution_count": 276,
   "metadata": {},
   "outputs": [
    {
     "data": {
      "text/html": [
       "<div>\n",
       "<style scoped>\n",
       "    .dataframe tbody tr th:only-of-type {\n",
       "        vertical-align: middle;\n",
       "    }\n",
       "\n",
       "    .dataframe tbody tr th {\n",
       "        vertical-align: top;\n",
       "    }\n",
       "\n",
       "    .dataframe thead th {\n",
       "        text-align: right;\n",
       "    }\n",
       "</style>\n",
       "<table border=\"1\" class=\"dataframe\">\n",
       "  <thead>\n",
       "    <tr style=\"text-align: right;\">\n",
       "      <th></th>\n",
       "      <th>fire_department.firecares_id</th>\n",
       "      <th>date</th>\n",
       "      <th>description.day_of_week</th>\n",
       "      <th>hour</th>\n",
       "      <th>NFPA.type</th>\n",
       "      <th>calls</th>\n",
       "      <th>mean_calls</th>\n",
       "      <th>norm_calls</th>\n",
       "    </tr>\n",
       "  </thead>\n",
       "  <tbody>\n",
       "    <tr>\n",
       "      <th>52994</th>\n",
       "      <td>93345</td>\n",
       "      <td>2017-09-14</td>\n",
       "      <td>Thursday</td>\n",
       "      <td>20</td>\n",
       "      <td>FIRE</td>\n",
       "      <td>5</td>\n",
       "      <td>6.867606</td>\n",
       "      <td>0.728056</td>\n",
       "    </tr>\n",
       "    <tr>\n",
       "      <th>4734</th>\n",
       "      <td>79592</td>\n",
       "      <td>2015-11-27</td>\n",
       "      <td>Friday</td>\n",
       "      <td>20</td>\n",
       "      <td>EMS</td>\n",
       "      <td>4</td>\n",
       "      <td>5.447560</td>\n",
       "      <td>0.734274</td>\n",
       "    </tr>\n",
       "    <tr>\n",
       "      <th>80223</th>\n",
       "      <td>93345</td>\n",
       "      <td>2019-08-01</td>\n",
       "      <td>Thursday</td>\n",
       "      <td>12</td>\n",
       "      <td>EMS</td>\n",
       "      <td>6</td>\n",
       "      <td>6.867606</td>\n",
       "      <td>0.873667</td>\n",
       "    </tr>\n",
       "    <tr>\n",
       "      <th>55218</th>\n",
       "      <td>93345</td>\n",
       "      <td>2017-11-09</td>\n",
       "      <td>Thursday</td>\n",
       "      <td>14</td>\n",
       "      <td>EMS</td>\n",
       "      <td>7</td>\n",
       "      <td>6.867606</td>\n",
       "      <td>1.019278</td>\n",
       "    </tr>\n",
       "    <tr>\n",
       "      <th>24515</th>\n",
       "      <td>79592</td>\n",
       "      <td>2018-02-20</td>\n",
       "      <td>Tuesday</td>\n",
       "      <td>21</td>\n",
       "      <td>EMS</td>\n",
       "      <td>2</td>\n",
       "      <td>5.447560</td>\n",
       "      <td>0.367137</td>\n",
       "    </tr>\n",
       "    <tr>\n",
       "      <th>...</th>\n",
       "      <td>...</td>\n",
       "      <td>...</td>\n",
       "      <td>...</td>\n",
       "      <td>...</td>\n",
       "      <td>...</td>\n",
       "      <td>...</td>\n",
       "      <td>...</td>\n",
       "      <td>...</td>\n",
       "    </tr>\n",
       "    <tr>\n",
       "      <th>3431</th>\n",
       "      <td>79592</td>\n",
       "      <td>2015-10-02</td>\n",
       "      <td>Friday</td>\n",
       "      <td>15</td>\n",
       "      <td>EMS</td>\n",
       "      <td>26</td>\n",
       "      <td>5.447560</td>\n",
       "      <td>4.772779</td>\n",
       "    </tr>\n",
       "    <tr>\n",
       "      <th>3963</th>\n",
       "      <td>79592</td>\n",
       "      <td>2015-10-24</td>\n",
       "      <td>Saturday</td>\n",
       "      <td>22</td>\n",
       "      <td>EMS</td>\n",
       "      <td>3</td>\n",
       "      <td>5.447560</td>\n",
       "      <td>0.550705</td>\n",
       "    </tr>\n",
       "    <tr>\n",
       "      <th>63347</th>\n",
       "      <td>93345</td>\n",
       "      <td>2018-06-01</td>\n",
       "      <td>Friday</td>\n",
       "      <td>16</td>\n",
       "      <td>FIRE</td>\n",
       "      <td>7</td>\n",
       "      <td>6.867606</td>\n",
       "      <td>1.019278</td>\n",
       "    </tr>\n",
       "    <tr>\n",
       "      <th>7888</th>\n",
       "      <td>79592</td>\n",
       "      <td>2016-04-03</td>\n",
       "      <td>Sunday</td>\n",
       "      <td>19</td>\n",
       "      <td>EMS</td>\n",
       "      <td>2</td>\n",
       "      <td>5.447560</td>\n",
       "      <td>0.367137</td>\n",
       "    </tr>\n",
       "    <tr>\n",
       "      <th>39114</th>\n",
       "      <td>79592</td>\n",
       "      <td>2019-10-15</td>\n",
       "      <td>Tuesday</td>\n",
       "      <td>15</td>\n",
       "      <td>EMS</td>\n",
       "      <td>11</td>\n",
       "      <td>5.447560</td>\n",
       "      <td>2.019253</td>\n",
       "    </tr>\n",
       "  </tbody>\n",
       "</table>\n",
       "<p>1000 rows × 8 columns</p>\n",
       "</div>"
      ],
      "text/plain": [
       "      fire_department.firecares_id       date description.day_of_week hour  \\\n",
       "52994                        93345 2017-09-14                Thursday   20   \n",
       "4734                         79592 2015-11-27                  Friday   20   \n",
       "80223                        93345 2019-08-01                Thursday   12   \n",
       "55218                        93345 2017-11-09                Thursday   14   \n",
       "24515                        79592 2018-02-20                 Tuesday   21   \n",
       "...                            ...        ...                     ...  ...   \n",
       "3431                         79592 2015-10-02                  Friday   15   \n",
       "3963                         79592 2015-10-24                Saturday   22   \n",
       "63347                        93345 2018-06-01                  Friday   16   \n",
       "7888                         79592 2016-04-03                  Sunday   19   \n",
       "39114                        79592 2019-10-15                 Tuesday   15   \n",
       "\n",
       "      NFPA.type  calls  mean_calls  norm_calls  \n",
       "52994      FIRE      5    6.867606    0.728056  \n",
       "4734        EMS      4    5.447560    0.734274  \n",
       "80223       EMS      6    6.867606    0.873667  \n",
       "55218       EMS      7    6.867606    1.019278  \n",
       "24515       EMS      2    5.447560    0.367137  \n",
       "...         ...    ...         ...         ...  \n",
       "3431        EMS     26    5.447560    4.772779  \n",
       "3963        EMS      3    5.447560    0.550705  \n",
       "63347      FIRE      7    6.867606    1.019278  \n",
       "7888        EMS      2    5.447560    0.367137  \n",
       "39114       EMS     11    5.447560    2.019253  \n",
       "\n",
       "[1000 rows x 8 columns]"
      ]
     },
     "execution_count": 276,
     "metadata": {},
     "output_type": "execute_result"
    }
   ],
   "source": [
    "hourly"
   ]
  },
  {
   "cell_type": "code",
   "execution_count": null,
   "metadata": {},
   "outputs": [],
   "source": []
  },
  {
   "cell_type": "code",
   "execution_count": 248,
   "metadata": {},
   "outputs": [
    {
     "name": "stdout",
     "output_type": "stream",
     "text": [
      "Help on function dump in module json:\n",
      "\n",
      "dump(obj, fp, *, skipkeys=False, ensure_ascii=True, check_circular=True, allow_nan=True, cls=None, indent=None, separators=None, default=None, sort_keys=False, **kw)\n",
      "    Serialize ``obj`` as a JSON formatted stream to ``fp`` (a\n",
      "    ``.write()``-supporting file-like object).\n",
      "    \n",
      "    If ``skipkeys`` is true then ``dict`` keys that are not basic types\n",
      "    (``str``, ``int``, ``float``, ``bool``, ``None``) will be skipped\n",
      "    instead of raising a ``TypeError``.\n",
      "    \n",
      "    If ``ensure_ascii`` is false, then the strings written to ``fp`` can\n",
      "    contain non-ASCII characters if they appear in strings contained in\n",
      "    ``obj``. Otherwise, all such characters are escaped in JSON strings.\n",
      "    \n",
      "    If ``check_circular`` is false, then the circular reference check\n",
      "    for container types will be skipped and a circular reference will\n",
      "    result in an ``OverflowError`` (or worse).\n",
      "    \n",
      "    If ``allow_nan`` is false, then it will be a ``ValueError`` to\n",
      "    serialize out of range ``float`` values (``nan``, ``inf``, ``-inf``)\n",
      "    in strict compliance of the JSON specification, instead of using the\n",
      "    JavaScript equivalents (``NaN``, ``Infinity``, ``-Infinity``).\n",
      "    \n",
      "    If ``indent`` is a non-negative integer, then JSON array elements and\n",
      "    object members will be pretty-printed with that indent level. An indent\n",
      "    level of 0 will only insert newlines. ``None`` is the most compact\n",
      "    representation.\n",
      "    \n",
      "    If specified, ``separators`` should be an ``(item_separator, key_separator)``\n",
      "    tuple.  The default is ``(', ', ': ')`` if *indent* is ``None`` and\n",
      "    ``(',', ': ')`` otherwise.  To get the most compact JSON representation,\n",
      "    you should specify ``(',', ':')`` to eliminate whitespace.\n",
      "    \n",
      "    ``default(obj)`` is a function that should return a serializable version\n",
      "    of obj or raise TypeError. The default simply raises TypeError.\n",
      "    \n",
      "    If *sort_keys* is true (default: ``False``), then the output of\n",
      "    dictionaries will be sorted by key.\n",
      "    \n",
      "    To use a custom ``JSONEncoder`` subclass (e.g. one that overrides the\n",
      "    ``.default()`` method to serialize additional types), specify it with\n",
      "    the ``cls`` kwarg; otherwise ``JSONEncoder`` is used.\n",
      "\n"
     ]
    }
   ],
   "source": [
    "help(json.dump)"
   ]
  },
  {
   "cell_type": "code",
   "execution_count": 247,
   "metadata": {},
   "outputs": [
    {
     "data": {
      "text/plain": [
       "'[{\"fire_department.firecares_id\":\"93345\",\"date\":1505347200000,\"description.day_of_week\":\"Thursday\",\"hour\":\"20\",\"NFPA.type\":\"FIRE\",\"calls\":5,\"mean_calls\":6.8676058219,\"norm_calls\":0.7280557635},{\"fire_department.firecares_id\":\"79592\",\"date\":1448582400000,\"description.day_of_week\":\"Friday\",\"hour\":\"20\",\"NFPA.type\":\"EMS\",\"calls\":4,\"mean_calls\":5.4475602499,\"norm_calls\":0.7342736595},{\"fire_department.firecares_id\":\"93345\",\"date\":1564617600000,\"description.day_of_week\":\"Thursday\",\"hour\":\"12\",\"NFPA.type\":\"EMS\",\"calls\":6,\"mean_calls\":6.8676058219,\"norm_calls\":0.8736669162},{\"fire_department.firecares_id\":\"93345\",\"date\":1510185600000,\"description.day_of_week\":\"Thursday\",\"hour\":\"14\",\"NFPA.type\":\"EMS\",\"calls\":7,\"mean_calls\":6.8676058219,\"norm_calls\":1.0192780689},{\"fire_department.firecares_id\":\"79592\",\"date\":1519084800000,\"description.day_of_week\":\"Tuesday\",\"hour\":\"21\",\"NFPA.type\":\"EMS\",\"calls\":2,\"mean_calls\":5.4475602499,\"norm_calls\":0.3671368297},{\"fire_department.firecares_id\":\"93345\",\"date\":1543363200000,\"description.day_of_week\":\"Wednesday\",\"hour\":\"23\",\"NFPA.type\":\"FIRE\",\"calls\":3,\"mean_calls\":6.8676058219,\"norm_calls\":0.4368334581},{\"fire_department.firecares_id\":\"79592\",\"date\":1524268800000,\"description.day_of_week\":\"Saturday\",\"hour\":\"08\",\"NFPA.type\":\"EMS\",\"calls\":11,\"mean_calls\":5.4475602499,\"norm_calls\":2.0192525636},{\"fire_department.firecares_id\":\"93345\",\"date\":1491955200000,\"description.day_of_week\":\"Wednesday\",\"hour\":\"05\",\"NFPA.type\":\"EMS\",\"calls\":2,\"mean_calls\":6.8676058219,\"norm_calls\":0.2912223054},{\"fire_department.firecares_id\":\"93345\",\"date\":1537142400000,\"description.day_of_week\":\"Monday\",\"hour\":\"15\",\"NFPA.type\":\"FIRE\",\"calls\":16,\"mean_calls\":6.8676058219,\"norm_calls\":2.3297784432},{\"fire_department.firecares_id\":\"79592\",\"date\":1469145600000,\"description.day_of_week\":\"Friday\",\"hour\":\"21\",\"NFPA.type\":\"EMS\",\"calls\":19,\"mean_calls\":5.4475602499,\"norm_calls\":3.4877998826},{\"fire_department.firecares_id\":\"93345\",\"date\":1487203200000,\"description.day_of_week\":\"Thursday\",\"hour\":\"08\",\"NFPA.type\":\"EMS\",\"calls\":4,\"mean_calls\":6.8676058219,\"norm_calls\":0.5824446108},{\"fire_department.firecares_id\":\"93345\",\"date\":1493424000000,\"description.day_of_week\":\"Saturday\",\"hour\":\"04\",\"NFPA.type\":\"EMS\",\"calls\":4,\"mean_calls\":6.8676058219,\"norm_calls\":0.5824446108},{\"fire_department.firecares_id\":\"93345\",\"date\":1545436800000,\"description.day_of_week\":\"Saturday\",\"hour\":\"07\",\"NFPA.type\":\"FIRE\",\"calls\":6,\"mean_calls\":6.8676058219,\"norm_calls\":0.8736669162},{\"fire_department.firecares_id\":\"79592\",\"date\":1454976000000,\"description.day_of_week\":\"Tuesday\",\"hour\":\"14\",\"NFPA.type\":\"FIRE\",\"calls\":3,\"mean_calls\":5.4475602499,\"norm_calls\":0.5507052446},{\"fire_department.firecares_id\":\"93345\",\"date\":1553472000000,\"description.day_of_week\":\"Monday\",\"hour\":\"00\",\"NFPA.type\":\"EMS\",\"calls\":6,\"mean_calls\":6.8676058219,\"norm_calls\":0.8736669162},{\"fire_department.firecares_id\":\"79592\",\"date\":1474070400000,\"description.day_of_week\":\"Saturday\",\"hour\":\"16\",\"NFPA.type\":\"OTHER\",\"calls\":3,\"mean_calls\":5.4475602499,\"norm_calls\":0.5507052446},{\"fire_department.firecares_id\":\"79592\",\"date\":1452902400000,\"description.day_of_week\":\"Saturday\",\"hour\":\"00\",\"NFPA.type\":\"EMS\",\"calls\":3,\"mean_calls\":5.4475602499,\"norm_calls\":0.5507052446},{\"fire_department.firecares_id\":\"93345\",\"date\":1548720000000,\"description.day_of_week\":\"Tuesday\",\"hour\":\"09\",\"NFPA.type\":\"EMS\",\"calls\":4,\"mean_calls\":6.8676058219,\"norm_calls\":0.5824446108},{\"fire_department.firecares_id\":\"79592\",\"date\":1515628800000,\"description.day_of_week\":\"Thursday\",\"hour\":\"20\",\"NFPA.type\":\"EMS\",\"calls\":10,\"mean_calls\":5.4475602499,\"norm_calls\":1.8356841487},{\"fire_department.firecares_id\":\"79592\",\"date\":1464134400000,\"description.day_of_week\":\"Wednesday\",\"hour\":\"15\",\"NFPA.type\":\"OTHER\",\"calls\":2,\"mean_calls\":5.4475602499,\"norm_calls\":0.3671368297},{\"fire_department.firecares_id\":\"93345\",\"date\":1536105600000,\"description.day_of_week\":\"Wednesday\",\"hour\":\"12\",\"NFPA.type\":\"EMS\",\"calls\":15,\"mean_calls\":6.8676058219,\"norm_calls\":2.1841672905},{\"fire_department.firecares_id\":\"93345\",\"date\":1501286400000,\"description.day_of_week\":\"Saturday\",\"hour\":\"20\",\"NFPA.type\":\"EMS\",\"calls\":8,\"mean_calls\":6.8676058219,\"norm_calls\":1.1648892216},{\"fire_department.firecares_id\":\"93345\",\"date\":1542844800000,\"description.day_of_week\":\"Thursday\",\"hour\":\"02\",\"NFPA.type\":\"EMS\",\"calls\":2,\"mean_calls\":6.8676058219,\"norm_calls\":0.2912223054},{\"fire_department.firecares_id\":\"79592\",\"date\":1565136000000,\"description.day_of_week\":\"Wednesday\",\"hour\":\"20\",\"NFPA.type\":\"EMS\",\"calls\":12,\"mean_calls\":5.4475602499,\"norm_calls\":2.2028209785},{\"fire_department.firecares_id\":\"79592\",\"date\":1434067200000,\"description.day_of_week\":\"Friday\",\"hour\":\"05\",\"NFPA.type\":\"FIRE\",\"calls\":12,\"mean_calls\":5.4475602499,\"norm_calls\":2.2028209785},{\"fire_department.firecares_id\":\"79592\",\"date\":1465257600000,\"description.day_of_week\":\"Tuesday\",\"hour\":\"21\",\"NFPA.type\":\"EMS\",\"calls\":4,\"mean_calls\":5.4475602499,\"norm_calls\":0.7342736595},{\"fire_department.firecares_id\":\"79592\",\"date\":1430956800000,\"description.day_of_week\":\"Thursday\",\"hour\":\"09\",\"NFPA.type\":\"FIRE\",\"calls\":2,\"mean_calls\":5.4475602499,\"norm_calls\":0.3671368297},{\"fire_department.firecares_id\":\"93345\",\"date\":1533859200000,\"description.day_of_week\":\"Friday\",\"hour\":\"09\",\"NFPA.type\":\"EMS\",\"calls\":11,\"mean_calls\":6.8676058219,\"norm_calls\":1.6017226797},{\"fire_department.firecares_id\":\"93345\",\"date\":1529280000000,\"description.day_of_week\":\"Monday\",\"hour\":\"04\",\"NFPA.type\":\"FIRE\",\"calls\":2,\"mean_calls\":6.8676058219,\"norm_calls\":0.2912223054},{\"fire_department.firecares_id\":\"93345\",\"date\":1529798400000,\"description.day_of_week\":\"Sunday\",\"hour\":\"08\",\"NFPA.type\":\"FIRE\",\"calls\":16,\"mean_calls\":6.8676058219,\"norm_calls\":2.3297784432},{\"fire_department.firecares_id\":\"93345\",\"date\":1486944000000,\"description.day_of_week\":\"Monday\",\"hour\":\"13\",\"NFPA.type\":\"FIRE\",\"calls\":11,\"mean_calls\":6.8676058219,\"norm_calls\":1.6017226797},{\"fire_department.firecares_id\":\"93345\",\"date\":1493251200000,\"description.day_of_week\":\"Thursday\",\"hour\":\"13\",\"NFPA.type\":\"FIRE\",\"calls\":19,\"mean_calls\":6.8676058219,\"norm_calls\":2.7666119013},{\"fire_department.firecares_id\":\"93345\",\"date\":1494720000000,\"description.day_of_week\":\"Sunday\",\"hour\":\"23\",\"NFPA.type\":\"EMS\",\"calls\":11,\"mean_calls\":6.8676058219,\"norm_calls\":1.6017226797},{\"fire_department.firecares_id\":\"93345\",\"date\":1523145600000,\"description.day_of_week\":\"Sunday\",\"hour\":\"06\",\"NFPA.type\":\"FIRE\",\"calls\":2,\"mean_calls\":6.8676058219,\"norm_calls\":0.2912223054},{\"fire_department.firecares_id\":\"93345\",\"date\":1503705600000,\"description.day_of_week\":\"Saturday\",\"hour\":\"14\",\"NFPA.type\":\"EMS\",\"calls\":10,\"mean_calls\":6.8676058219,\"norm_calls\":1.456111527},{\"fire_department.firecares_id\":\"79592\",\"date\":1474156800000,\"description.day_of_week\":\"Sunday\",\"hour\":\"23\",\"NFPA.type\":\"EMS\",\"calls\":2,\"mean_calls\":5.4475602499,\"norm_calls\":0.3671368297},{\"fire_department.firecares_id\":\"79592\",\"date\":1541548800000,\"description.day_of_week\":\"Wednesday\",\"hour\":\"11\",\"NFPA.type\":\"EMS\",\"calls\":9,\"mean_calls\":5.4475602499,\"norm_calls\":1.6521157339},{\"fire_department.firecares_id\":\"93345\",\"date\":1506556800000,\"description.day_of_week\":\"Thursday\",\"hour\":\"10\",\"NFPA.type\":\"FIRE\",\"calls\":6,\"mean_calls\":6.8676058219,\"norm_calls\":0.8736669162},{\"fire_department.firecares_id\":\"79592\",\"date\":1499212800000,\"description.day_of_week\":\"Wednesday\",\"hour\":\"12\",\"NFPA.type\":\"OTHER\",\"calls\":3,\"mean_calls\":5.4475602499,\"norm_calls\":0.5507052446},{\"fire_department.firecares_id\":\"79592\",\"date\":1541548800000,\"description.day_of_week\":\"Wednesday\",\"hour\":\"22\",\"NFPA.type\":\"OTHER\",\"calls\":2,\"mean_calls\":5.4475602499,\"norm_calls\":0.3671368297},{\"fire_department.firecares_id\":\"79592\",\"date\":1565222400000,\"description.day_of_week\":\"Thursday\",\"hour\":\"10\",\"NFPA.type\":\"EMS\",\"calls\":5,\"mean_calls\":5.4475602499,\"norm_calls\":0.9178420744},{\"fire_department.firecares_id\":\"93345\",\"date\":1571270400000,\"description.day_of_week\":\"Thursday\",\"hour\":\"20\",\"NFPA.type\":\"FIRE\",\"calls\":3,\"mean_calls\":6.8676058219,\"norm_calls\":0.4368334581},{\"fire_department.firecares_id\":\"93345\",\"date\":1558742400000,\"description.day_of_week\":\"Saturday\",\"hour\":\"02\",\"NFPA.type\":\"FIRE\",\"calls\":18,\"mean_calls\":6.8676058219,\"norm_calls\":2.6210007486},{\"fire_department.firecares_id\":\"79592\",\"date\":1457913600000,\"description.day_of_week\":\"Monday\",\"hour\":\"08\",\"NFPA.type\":\"EMS\",\"calls\":4,\"mean_calls\":5.4475602499,\"norm_calls\":0.7342736595},{\"fire_department.firecares_id\":\"93345\",\"date\":1574726400000,\"description.day_of_week\":\"Tuesday\",\"hour\":\"08\",\"NFPA.type\":\"FIRE\",\"calls\":18,\"mean_calls\":6.8676058219,\"norm_calls\":2.6210007486},{\"fire_department.firecares_id\":\"79592\",\"date\":1462838400000,\"description.day_of_week\":\"Tuesday\",\"hour\":\"09\",\"NFPA.type\":\"FIRE\",\"calls\":2,\"mean_calls\":5.4475602499,\"norm_calls\":0.3671368297},{\"fire_department.firecares_id\":\"79592\",\"date\":1566345600000,\"description.day_of_week\":\"Wednesday\",\"hour\":\"03\",\"NFPA.type\":\"EMS\",\"calls\":2,\"mean_calls\":5.4475602499,\"norm_calls\":0.3671368297},{\"fire_department.firecares_id\":\"93345\",\"date\":1571011200000,\"description.day_of_week\":\"Monday\",\"hour\":\"14\",\"NFPA.type\":\"EMS\",\"calls\":4,\"mean_calls\":6.8676058219,\"norm_calls\":0.5824446108},{\"fire_department.firecares_id\":\"79592\",\"date\":1520208000000,\"description.day_of_week\":\"Monday\",\"hour\":\"03\",\"NFPA.type\":\"EMS\",\"calls\":3,\"mean_calls\":5.4475602499,\"norm_calls\":0.5507052446},{\"fire_department.firecares_id\":\"93345\",\"date\":1480118400000,\"description.day_of_week\":\"Saturday\",\"hour\":\"12\",\"NFPA.type\":\"FIRE\",\"calls\":2,\"mean_calls\":6.8676058219,\"norm_calls\":0.2912223054},{\"fire_department.firecares_id\":\"93345\",\"date\":1508803200000,\"description.day_of_week\":\"Tuesday\",\"hour\":\"22\",\"NFPA.type\":\"EMS\",\"calls\":8,\"mean_calls\":6.8676058219,\"norm_calls\":1.1648892216},{\"fire_department.firecares_id\":\"93345\",\"date\":1569110400000,\"description.day_of_week\":\"Sunday\",\"hour\":\"05\",\"NFPA.type\":\"EMS\",\"calls\":2,\"mean_calls\":6.8676058219,\"norm_calls\":0.2912223054},{\"fire_department.firecares_id\":\"79592\",\"date\":1485216000000,\"description.day_of_week\":\"Tuesday\",\"hour\":\"21\",\"NFPA.type\":\"EMS\",\"calls\":2,\"mean_calls\":5.4475602499,\"norm_calls\":0.3671368297},{\"fire_department.firecares_id\":\"79592\",\"date\":1572307200000,\"description.day_of_week\":\"Tuesday\",\"hour\":\"17\",\"NFPA.type\":\"EMS\",\"calls\":5,\"mean_calls\":5.4475602499,\"norm_calls\":0.9178420744},{\"fire_department.firecares_id\":\"93345\",\"date\":1482451200000,\"description.day_of_week\":\"Friday\",\"hour\":\"16\",\"NFPA.type\":\"EMS\",\"calls\":6,\"mean_calls\":6.8676058219,\"norm_calls\":0.8736669162},{\"fire_department.firecares_id\":\"93345\",\"date\":1565308800000,\"description.day_of_week\":\"Friday\",\"hour\":\"12\",\"NFPA.type\":\"EMS\",\"calls\":12,\"mean_calls\":6.8676058219,\"norm_calls\":1.7473338324},{\"fire_department.firecares_id\":\"93345\",\"date\":1493164800000,\"description.day_of_week\":\"Wednesday\",\"hour\":\"12\",\"NFPA.type\":\"FIRE\",\"calls\":2,\"mean_calls\":6.8676058219,\"norm_calls\":0.2912223054},{\"fire_department.firecares_id\":\"93345\",\"date\":1491868800000,\"description.day_of_week\":\"Tuesday\",\"hour\":\"20\",\"NFPA.type\":\"FIRE\",\"calls\":20,\"mean_calls\":6.8676058219,\"norm_calls\":2.912223054},{\"fire_department.firecares_id\":\"79592\",\"date\":1515542400000,\"description.day_of_week\":\"Wednesday\",\"hour\":\"05\",\"NFPA.type\":\"EMS\",\"calls\":2,\"mean_calls\":5.4475602499,\"norm_calls\":0.3671368297},{\"fire_department.firecares_id\":\"93345\",\"date\":1482969600000,\"description.day_of_week\":\"Thursday\",\"hour\":\"08\",\"NFPA.type\":\"EMS\",\"calls\":2,\"mean_calls\":6.8676058219,\"norm_calls\":0.2912223054},{\"fire_department.firecares_id\":\"79592\",\"date\":1549843200000,\"description.day_of_week\":\"Monday\",\"hour\":\"07\",\"NFPA.type\":\"EMS\",\"calls\":2,\"mean_calls\":5.4475602499,\"norm_calls\":0.3671368297},{\"fire_department.firecares_id\":\"93345\",\"date\":1504742400000,\"description.day_of_week\":\"Thursday\",\"hour\":\"07\",\"NFPA.type\":\"FIRE\",\"calls\":5,\"mean_calls\":6.8676058219,\"norm_calls\":0.7280557635},{\"fire_department.firecares_id\":\"93345\",\"date\":1498953600000,\"description.day_of_week\":\"Sunday\",\"hour\":\"19\",\"NFPA.type\":\"FIRE\",\"calls\":1,\"mean_calls\":6.8676058219,\"norm_calls\":0.1456111527},{\"fire_department.firecares_id\":\"93345\",\"date\":1544227200000,\"description.day_of_week\":\"Saturday\",\"hour\":\"13\",\"NFPA.type\":\"EMS\",\"calls\":2,\"mean_calls\":6.8676058219,\"norm_calls\":0.2912223054},{\"fire_department.firecares_id\":\"93345\",\"date\":1551744000000,\"description.day_of_week\":\"Tuesday\",\"hour\":\"20\",\"NFPA.type\":\"EMS\",\"calls\":9,\"mean_calls\":6.8676058219,\"norm_calls\":1.3105003743},{\"fire_department.firecares_id\":\"93345\",\"date\":1516665600000,\"description.day_of_week\":\"Tuesday\",\"hour\":\"17\",\"NFPA.type\":\"FIRE\",\"calls\":13,\"mean_calls\":6.8676058219,\"norm_calls\":1.8929449851},{\"fire_department.firecares_id\":\"79592\",\"date\":1527379200000,\"description.day_of_week\":\"Sunday\",\"hour\":\"08\",\"NFPA.type\":\"EMS\",\"calls\":4,\"mean_calls\":5.4475602499,\"norm_calls\":0.7342736595},{\"fire_department.firecares_id\":\"93345\",\"date\":1510358400000,\"description.day_of_week\":\"Saturday\",\"hour\":\"23\",\"NFPA.type\":\"FIRE\",\"calls\":2,\"mean_calls\":6.8676058219,\"norm_calls\":0.2912223054},{\"fire_department.firecares_id\":\"93345\",\"date\":1527984000000,\"description.day_of_week\":\"Sunday\",\"hour\":\"03\",\"NFPA.type\":\"FIRE\",\"calls\":4,\"mean_calls\":6.8676058219,\"norm_calls\":0.5824446108},{\"fire_department.firecares_id\":\"79592\",\"date\":1551398400000,\"description.day_of_week\":\"Friday\",\"hour\":\"00\",\"NFPA.type\":\"EMS\",\"calls\":3,\"mean_calls\":5.4475602499,\"norm_calls\":0.5507052446},{\"fire_department.firecares_id\":\"79592\",\"date\":1449792000000,\"description.day_of_week\":\"Friday\",\"hour\":\"17\",\"NFPA.type\":\"EMS\",\"calls\":8,\"mean_calls\":5.4475602499,\"norm_calls\":1.468547319},{\"fire_department.firecares_id\":\"79592\",\"date\":1575244800000,\"description.day_of_week\":\"Monday\",\"hour\":\"06\",\"NFPA.type\":\"EMS\",\"calls\":8,\"mean_calls\":5.4475602499,\"norm_calls\":1.468547319},{\"fire_department.firecares_id\":\"79592\",\"date\":1549152000000,\"description.day_of_week\":\"Sunday\",\"hour\":\"18\",\"NFPA.type\":\"EMS\",\"calls\":8,\"mean_calls\":5.4475602499,\"norm_calls\":1.468547319},{\"fire_department.firecares_id\":\"93345\",\"date\":1537574400000,\"description.day_of_week\":\"Saturday\",\"hour\":\"13\",\"NFPA.type\":\"EMS\",\"calls\":14,\"mean_calls\":6.8676058219,\"norm_calls\":2.0385561378},{\"fire_department.firecares_id\":\"79592\",\"date\":1467331200000,\"description.day_of_week\":\"Friday\",\"hour\":\"14\",\"NFPA.type\":\"EMS\",\"calls\":4,\"mean_calls\":5.4475602499,\"norm_calls\":0.7342736595},{\"fire_department.firecares_id\":\"93345\",\"date\":1505088000000,\"description.day_of_week\":\"Monday\",\"hour\":\"11\",\"NFPA.type\":\"FIRE\",\"calls\":5,\"mean_calls\":6.8676058219,\"norm_calls\":0.7280557635},{\"fire_department.firecares_id\":\"93345\",\"date\":1534291200000,\"description.day_of_week\":\"Wednesday\",\"hour\":\"09\",\"NFPA.type\":\"FIRE\",\"calls\":10,\"mean_calls\":6.8676058219,\"norm_calls\":1.456111527},{\"fire_department.firecares_id\":\"93345\",\"date\":1526947200000,\"description.day_of_week\":\"Tuesday\",\"hour\":\"19\",\"NFPA.type\":\"FIRE\",\"calls\":25,\"mean_calls\":6.8676058219,\"norm_calls\":3.6402788175},{\"fire_department.firecares_id\":\"79592\",\"date\":1526860800000,\"description.day_of_week\":\"Monday\",\"hour\":\"03\",\"NFPA.type\":\"EMS\",\"calls\":2,\"mean_calls\":5.4475602499,\"norm_calls\":0.3671368297},{\"fire_department.firecares_id\":\"79592\",\"date\":1506384000000,\"description.day_of_week\":\"Tuesday\",\"hour\":\"06\",\"NFPA.type\":\"EMS\",\"calls\":3,\"mean_calls\":5.4475602499,\"norm_calls\":0.5507052446},{\"fire_department.firecares_id\":\"93345\",\"date\":1499817600000,\"description.day_of_week\":\"Wednesday\",\"hour\":\"23\",\"NFPA.type\":\"EMS\",\"calls\":4,\"mean_calls\":6.8676058219,\"norm_calls\":0.5824446108},{\"fire_department.firecares_id\":\"93345\",\"date\":1523232000000,\"description.day_of_week\":\"Monday\",\"hour\":\"03\",\"NFPA.type\":\"EMS\",\"calls\":2,\"mean_calls\":6.8676058219,\"norm_calls\":0.2912223054},{\"fire_department.firecares_id\":\"79592\",\"date\":1569196800000,\"description.day_of_week\":\"Monday\",\"hour\":\"13\",\"NFPA.type\":\"EMS\",\"calls\":7,\"mean_calls\":5.4475602499,\"norm_calls\":1.2849789041},{\"fire_department.firecares_id\":\"93345\",\"date\":1555891200000,\"description.day_of_week\":\"Monday\",\"hour\":\"15\",\"NFPA.type\":\"EMS\",\"calls\":6,\"mean_calls\":6.8676058219,\"norm_calls\":0.8736669162},{\"fire_department.firecares_id\":\"93345\",\"date\":1550880000000,\"description.day_of_week\":\"Saturday\",\"hour\":\"11\",\"NFPA.type\":\"FIRE\",\"calls\":29,\"mean_calls\":6.8676058219,\"norm_calls\":4.2227234282},{\"fire_department.firecares_id\":\"93345\",\"date\":1550016000000,\"description.day_of_week\":\"Wednesday\",\"hour\":\"23\",\"NFPA.type\":\"EMS\",\"calls\":4,\"mean_calls\":6.8676058219,\"norm_calls\":0.5824446108},{\"fire_department.firecares_id\":\"79592\",\"date\":1513728000000,\"description.day_of_week\":\"Wednesday\",\"hour\":\"12\",\"NFPA.type\":\"OTHER\",\"calls\":2,\"mean_calls\":5.4475602499,\"norm_calls\":0.3671368297},{\"fire_department.firecares_id\":\"93345\",\"date\":1508716800000,\"description.day_of_week\":\"Monday\",\"hour\":\"13\",\"NFPA.type\":\"FIRE\",\"calls\":3,\"mean_calls\":6.8676058219,\"norm_calls\":0.4368334581},{\"fire_department.firecares_id\":\"79592\",\"date\":1480204800000,\"description.day_of_week\":\"Sunday\",\"hour\":\"01\",\"NFPA.type\":\"EMS\",\"calls\":7,\"mean_calls\":5.4475602499,\"norm_calls\":1.2849789041},{\"fire_department.firecares_id\":\"79592\",\"date\":1475107200000,\"description.day_of_week\":\"Thursday\",\"hour\":\"04\",\"NFPA.type\":\"EMS\",\"calls\":6,\"mean_calls\":5.4475602499,\"norm_calls\":1.1014104892},{\"fire_department.firecares_id\":\"79592\",\"date\":1485820800000,\"description.day_of_week\":\"Tuesday\",\"hour\":\"12\",\"NFPA.type\":\"EMS\",\"calls\":6,\"mean_calls\":5.4475602499,\"norm_calls\":1.1014104892},{\"fire_department.firecares_id\":\"79592\",\"date\":1495670400000,\"description.day_of_week\":\"Thursday\",\"hour\":\"02\",\"NFPA.type\":\"EMS\",\"calls\":2,\"mean_calls\":5.4475602499,\"norm_calls\":0.3671368297},{\"fire_department.firecares_id\":\"79592\",\"date\":1511049600000,\"description.day_of_week\":\"Sunday\",\"hour\":\"01\",\"NFPA.type\":\"FIRE\",\"calls\":2,\"mean_calls\":5.4475602499,\"norm_calls\":0.3671368297},{\"fire_department.firecares_id\":\"79592\",\"date\":1508457600000,\"description.day_of_week\":\"Friday\",\"hour\":\"23\",\"NFPA.type\":\"FIRE\",\"calls\":8,\"mean_calls\":5.4475602499,\"norm_calls\":1.468547319},{\"fire_department.firecares_id\":\"79592\",\"date\":1560124800000,\"description.day_of_week\":\"Monday\",\"hour\":\"01\",\"NFPA.type\":\"EMS\",\"calls\":10,\"mean_calls\":5.4475602499,\"norm_calls\":1.8356841487},{\"fire_department.firecares_id\":\"93345\",\"date\":1494892800000,\"description.day_of_week\":\"Tuesday\",\"hour\":\"18\",\"NFPA.type\":\"EMS\",\"calls\":7,\"mean_calls\":6.8676058219,\"norm_calls\":1.0192780689},{\"fire_department.firecares_id\":\"79592\",\"date\":1446336000000,\"description.day_of_week\":\"Sunday\",\"hour\":\"16\",\"NFPA.type\":\"EMS\",\"calls\":3,\"mean_calls\":5.4475602499,\"norm_calls\":0.5507052446},{\"fire_department.firecares_id\":\"93345\",\"date\":1555545600000,\"description.day_of_week\":\"Thursday\",\"hour\":\"15\",\"NFPA.type\":\"EMS\",\"calls\":8,\"mean_calls\":6.8676058219,\"norm_calls\":1.1648892216},{\"fire_department.firecares_id\":\"93345\",\"date\":1561852800000,\"description.day_of_week\":\"Sunday\",\"hour\":\"21\",\"NFPA.type\":\"EMS\",\"calls\":6,\"mean_calls\":6.8676058219,\"norm_calls\":0.8736669162},{\"fire_department.firecares_id\":\"93345\",\"date\":1537315200000,\"description.day_of_week\":\"Wednesday\",\"hour\":\"20\",\"NFPA.type\":\"EMS\",\"calls\":10,\"mean_calls\":6.8676058219,\"norm_calls\":1.456111527},{\"fire_department.firecares_id\":\"93345\",\"date\":1535155200000,\"description.day_of_week\":\"Saturday\",\"hour\":\"11\",\"NFPA.type\":\"FIRE\",\"calls\":6,\"mean_calls\":6.8676058219,\"norm_calls\":0.8736669162},{\"fire_department.firecares_id\":\"93345\",\"date\":1550448000000,\"description.day_of_week\":\"Monday\",\"hour\":\"17\",\"NFPA.type\":\"EMS\",\"calls\":4,\"mean_calls\":6.8676058219,\"norm_calls\":0.5824446108},{\"fire_department.firecares_id\":\"93345\",\"date\":1511827200000,\"description.day_of_week\":\"Tuesday\",\"hour\":\"12\",\"NFPA.type\":\"FIRE\",\"calls\":10,\"mean_calls\":6.8676058219,\"norm_calls\":1.456111527},{\"fire_department.firecares_id\":\"93345\",\"date\":1518652800000,\"description.day_of_week\":\"Thursday\",\"hour\":\"15\",\"NFPA.type\":\"FIRE\",\"calls\":7,\"mean_calls\":6.8676058219,\"norm_calls\":1.0192780689},{\"fire_department.firecares_id\":\"79592\",\"date\":1481587200000,\"description.day_of_week\":\"Tuesday\",\"hour\":\"20\",\"NFPA.type\":\"FIRE\",\"calls\":2,\"mean_calls\":5.4475602499,\"norm_calls\":0.3671368297},{\"fire_department.firecares_id\":\"93345\",\"date\":1542153600000,\"description.day_of_week\":\"Wednesday\",\"hour\":\"22\",\"NFPA.type\":\"FIRE\",\"calls\":14,\"mean_calls\":6.8676058219,\"norm_calls\":2.0385561378},{\"fire_department.firecares_id\":\"93345\",\"date\":1529625600000,\"description.day_of_week\":\"Friday\",\"hour\":\"04\",\"NFPA.type\":\"EMS\",\"calls\":4,\"mean_calls\":6.8676058219,\"norm_calls\":0.5824446108},{\"fire_department.firecares_id\":\"79592\",\"date\":1502928000000,\"description.day_of_week\":\"Thursday\",\"hour\":\"00\",\"NFPA.type\":\"FIRE\",\"calls\":2,\"mean_calls\":5.4475602499,\"norm_calls\":0.3671368297},{\"fire_department.firecares_id\":\"79592\",\"date\":1529971200000,\"description.day_of_week\":\"Tuesday\",\"hour\":\"15\",\"NFPA.type\":\"FIRE\",\"calls\":2,\"mean_calls\":5.4475602499,\"norm_calls\":0.3671368297},{\"fire_department.firecares_id\":\"79592\",\"date\":1546041600000,\"description.day_of_week\":\"Saturday\",\"hour\":\"18\",\"NFPA.type\":\"EMS\",\"calls\":7,\"mean_calls\":5.4475602499,\"norm_calls\":1.2849789041},{\"fire_department.firecares_id\":\"79592\",\"date\":1536278400000,\"description.day_of_week\":\"Friday\",\"hour\":\"21\",\"NFPA.type\":\"EMS\",\"calls\":4,\"mean_calls\":5.4475602499,\"norm_calls\":0.7342736595},{\"fire_department.firecares_id\":\"93345\",\"date\":1499385600000,\"description.day_of_week\":\"Friday\",\"hour\":\"10\",\"NFPA.type\":\"EMS\",\"calls\":7,\"mean_calls\":6.8676058219,\"norm_calls\":1.0192780689},{\"fire_department.firecares_id\":\"79592\",\"date\":1561852800000,\"description.day_of_week\":\"Sunday\",\"hour\":\"10\",\"NFPA.type\":\"EMS\",\"calls\":4,\"mean_calls\":5.4475602499,\"norm_calls\":0.7342736595},{\"fire_department.firecares_id\":\"93345\",\"date\":1509062400000,\"description.day_of_week\":\"Friday\",\"hour\":\"09\",\"NFPA.type\":\"EMS\",\"calls\":7,\"mean_calls\":6.8676058219,\"norm_calls\":1.0192780689},{\"fire_department.firecares_id\":\"93345\",\"date\":1477526400000,\"description.day_of_week\":\"Thursday\",\"hour\":\"16\",\"NFPA.type\":\"FIRE\",\"calls\":6,\"mean_calls\":6.8676058219,\"norm_calls\":0.8736669162},{\"fire_department.firecares_id\":\"79592\",\"date\":1529971200000,\"description.day_of_week\":\"Tuesday\",\"hour\":\"21\",\"NFPA.type\":\"OTHER\",\"calls\":5,\"mean_calls\":5.4475602499,\"norm_calls\":0.9178420744},{\"fire_department.firecares_id\":\"93345\",\"date\":1477958400000,\"description.day_of_week\":\"Tuesday\",\"hour\":\"20\",\"NFPA.type\":\"EMS\",\"calls\":6,\"mean_calls\":6.8676058219,\"norm_calls\":0.8736669162},{\"fire_department.firecares_id\":\"93345\",\"date\":1555113600000,\"description.day_of_week\":\"Saturday\",\"hour\":\"07\",\"NFPA.type\":\"EMS\",\"calls\":6,\"mean_calls\":6.8676058219,\"norm_calls\":0.8736669162},{\"fire_department.firecares_id\":\"79592\",\"date\":1562112000000,\"description.day_of_week\":\"Wednesday\",\"hour\":\"02\",\"NFPA.type\":\"EMS\",\"calls\":4,\"mean_calls\":5.4475602499,\"norm_calls\":0.7342736595},{\"fire_department.firecares_id\":\"93345\",\"date\":1525305600000,\"description.day_of_week\":\"Thursday\",\"hour\":\"12\",\"NFPA.type\":\"EMS\",\"calls\":8,\"mean_calls\":6.8676058219,\"norm_calls\":1.1648892216},{\"fire_department.firecares_id\":\"79592\",\"date\":1466553600000,\"description.day_of_week\":\"Wednesday\",\"hour\":\"12\",\"NFPA.type\":\"FIRE\",\"calls\":2,\"mean_calls\":5.4475602499,\"norm_calls\":0.3671368297},{\"fire_department.firecares_id\":\"79592\",\"date\":1438473600000,\"description.day_of_week\":\"Sunday\",\"hour\":\"05\",\"NFPA.type\":\"OTHER\",\"calls\":2,\"mean_calls\":5.4475602499,\"norm_calls\":0.3671368297},{\"fire_department.firecares_id\":\"93345\",\"date\":1535241600000,\"description.day_of_week\":\"Sunday\",\"hour\":\"07\",\"NFPA.type\":\"EMS\",\"calls\":6,\"mean_calls\":6.8676058219,\"norm_calls\":0.8736669162},{\"fire_department.firecares_id\":\"93345\",\"date\":1574208000000,\"description.day_of_week\":\"Wednesday\",\"hour\":\"01\",\"NFPA.type\":\"EMS\",\"calls\":2,\"mean_calls\":6.8676058219,\"norm_calls\":0.2912223054},{\"fire_department.firecares_id\":\"79592\",\"date\":1518825600000,\"description.day_of_week\":\"Saturday\",\"hour\":\"12\",\"NFPA.type\":\"EMS\",\"calls\":7,\"mean_calls\":5.4475602499,\"norm_calls\":1.2849789041},{\"fire_department.firecares_id\":\"93345\",\"date\":1526860800000,\"description.day_of_week\":\"Monday\",\"hour\":\"11\",\"NFPA.type\":\"EMS\",\"calls\":14,\"mean_calls\":6.8676058219,\"norm_calls\":2.0385561378},{\"fire_department.firecares_id\":\"93345\",\"date\":1495152000000,\"description.day_of_week\":\"Friday\",\"hour\":\"23\",\"NFPA.type\":\"EMS\",\"calls\":3,\"mean_calls\":6.8676058219,\"norm_calls\":0.4368334581},{\"fire_department.firecares_id\":\"93345\",\"date\":1551139200000,\"description.day_of_week\":\"Tuesday\",\"hour\":\"17\",\"NFPA.type\":\"FIRE\",\"calls\":6,\"mean_calls\":6.8676058219,\"norm_calls\":0.8736669162},{\"fire_department.firecares_id\":\"79592\",\"date\":1470873600000,\"description.day_of_week\":\"Thursday\",\"hour\":\"18\",\"NFPA.type\":\"EMS\",\"calls\":5,\"mean_calls\":5.4475602499,\"norm_calls\":0.9178420744},{\"fire_department.firecares_id\":\"79592\",\"date\":1480809600000,\"description.day_of_week\":\"Sunday\",\"hour\":\"08\",\"NFPA.type\":\"EMS\",\"calls\":13,\"mean_calls\":5.4475602499,\"norm_calls\":2.3863893933},{\"fire_department.firecares_id\":\"79592\",\"date\":1479686400000,\"description.day_of_week\":\"Monday\",\"hour\":\"08\",\"NFPA.type\":\"FIRE\",\"calls\":3,\"mean_calls\":5.4475602499,\"norm_calls\":0.5507052446},{\"fire_department.firecares_id\":\"93345\",\"date\":1482192000000,\"description.day_of_week\":\"Tuesday\",\"hour\":\"20\",\"NFPA.type\":\"EMS\",\"calls\":2,\"mean_calls\":6.8676058219,\"norm_calls\":0.2912223054},{\"fire_department.firecares_id\":\"79592\",\"date\":1471219200000,\"description.day_of_week\":\"Monday\",\"hour\":\"10\",\"NFPA.type\":\"OTHER\",\"calls\":2,\"mean_calls\":5.4475602499,\"norm_calls\":0.3671368297},{\"fire_department.firecares_id\":\"93345\",\"date\":1536451200000,\"description.day_of_week\":\"Sunday\",\"hour\":\"09\",\"NFPA.type\":\"EMS\",\"calls\":8,\"mean_calls\":6.8676058219,\"norm_calls\":1.1648892216},{\"fire_department.firecares_id\":\"93345\",\"date\":1559692800000,\"description.day_of_week\":\"Wednesday\",\"hour\":\"02\",\"NFPA.type\":\"EMS\",\"calls\":4,\"mean_calls\":6.8676058219,\"norm_calls\":0.5824446108},{\"fire_department.firecares_id\":\"79592\",\"date\":1552608000000,\"description.day_of_week\":\"Friday\",\"hour\":\"13\",\"NFPA.type\":\"FIRE\",\"calls\":2,\"mean_calls\":5.4475602499,\"norm_calls\":0.3671368297},{\"fire_department.firecares_id\":\"93345\",\"date\":1523923200000,\"description.day_of_week\":\"Tuesday\",\"hour\":\"22\",\"NFPA.type\":\"EMS\",\"calls\":6,\"mean_calls\":6.8676058219,\"norm_calls\":0.8736669162},{\"fire_department.firecares_id\":\"93345\",\"date\":1565913600000,\"description.day_of_week\":\"Friday\",\"hour\":\"15\",\"NFPA.type\":\"FIRE\",\"calls\":5,\"mean_calls\":6.8676058219,\"norm_calls\":0.7280557635},{\"fire_department.firecares_id\":\"79592\",\"date\":1539216000000,\"description.day_of_week\":\"Thursday\",\"hour\":\"00\",\"NFPA.type\":\"EMS\",\"calls\":4,\"mean_calls\":5.4475602499,\"norm_calls\":0.7342736595},{\"fire_department.firecares_id\":\"93345\",\"date\":1534896000000,\"description.day_of_week\":\"Wednesday\",\"hour\":\"06\",\"NFPA.type\":\"EMS\",\"calls\":4,\"mean_calls\":6.8676058219,\"norm_calls\":0.5824446108},{\"fire_department.firecares_id\":\"79592\",\"date\":1475625600000,\"description.day_of_week\":\"Wednesday\",\"hour\":\"21\",\"NFPA.type\":\"EMS\",\"calls\":2,\"mean_calls\":5.4475602499,\"norm_calls\":0.3671368297},{\"fire_department.firecares_id\":\"79592\",\"date\":1547510400000,\"description.day_of_week\":\"Tuesday\",\"hour\":\"10\",\"NFPA.type\":\"FIRE\",\"calls\":2,\"mean_calls\":5.4475602499,\"norm_calls\":0.3671368297},{\"fire_department.firecares_id\":\"93345\",\"date\":1477785600000,\"description.day_of_week\":\"Sunday\",\"hour\":\"08\",\"NFPA.type\":\"FIRE\",\"calls\":4,\"mean_calls\":6.8676058219,\"norm_calls\":0.5824446108},{\"fire_department.firecares_id\":\"93345\",\"date\":1564963200000,\"description.day_of_week\":\"Monday\",\"hour\":\"06\",\"NFPA.type\":\"FIRE\",\"calls\":5,\"mean_calls\":6.8676058219,\"norm_calls\":0.7280557635},{\"fire_department.firecares_id\":\"93345\",\"date\":1516838400000,\"description.day_of_week\":\"Thursday\",\"hour\":\"08\",\"NFPA.type\":\"FIRE\",\"calls\":3,\"mean_calls\":6.8676058219,\"norm_calls\":0.4368334581},{\"fire_department.firecares_id\":\"79592\",\"date\":1520640000000,\"description.day_of_week\":\"Saturday\",\"hour\":\"06\",\"NFPA.type\":\"EMS\",\"calls\":2,\"mean_calls\":5.4475602499,\"norm_calls\":0.3671368297},{\"fire_department.firecares_id\":\"93345\",\"date\":1489104000000,\"description.day_of_week\":\"Friday\",\"hour\":\"23\",\"NFPA.type\":\"EMS\",\"calls\":6,\"mean_calls\":6.8676058219,\"norm_calls\":0.8736669162},{\"fire_department.firecares_id\":\"93345\",\"date\":1492300800000,\"description.day_of_week\":\"Sunday\",\"hour\":\"01\",\"NFPA.type\":\"EMS\",\"calls\":5,\"mean_calls\":6.8676058219,\"norm_calls\":0.7280557635},{\"fire_department.firecares_id\":\"93345\",\"date\":1554681600000,\"description.day_of_week\":\"Monday\",\"hour\":\"16\",\"NFPA.type\":\"EMS\",\"calls\":10,\"mean_calls\":6.8676058219,\"norm_calls\":1.456111527},{\"fire_department.firecares_id\":\"93345\",\"date\":1564963200000,\"description.day_of_week\":\"Monday\",\"hour\":\"04\",\"NFPA.type\":\"EMS\",\"calls\":2,\"mean_calls\":6.8676058219,\"norm_calls\":0.2912223054},{\"fire_department.firecares_id\":\"79592\",\"date\":1457913600000,\"description.day_of_week\":\"Monday\",\"hour\":\"13\",\"NFPA.type\":\"EMS\",\"calls\":11,\"mean_calls\":5.4475602499,\"norm_calls\":2.0192525636},{\"fire_department.firecares_id\":\"93345\",\"date\":1503878400000,\"description.day_of_week\":\"Monday\",\"hour\":\"19\",\"NFPA.type\":\"EMS\",\"calls\":2,\"mean_calls\":6.8676058219,\"norm_calls\":0.2912223054},{\"fire_department.firecares_id\":\"93345\",\"date\":1480896000000,\"description.day_of_week\":\"Monday\",\"hour\":\"02\",\"NFPA.type\":\"EMS\",\"calls\":2,\"mean_calls\":6.8676058219,\"norm_calls\":0.2912223054},{\"fire_department.firecares_id\":\"79592\",\"date\":1467244800000,\"description.day_of_week\":\"Thursday\",\"hour\":\"11\",\"NFPA.type\":\"FIRE\",\"calls\":6,\"mean_calls\":5.4475602499,\"norm_calls\":1.1014104892},{\"fire_department.firecares_id\":\"93345\",\"date\":1483920000000,\"description.day_of_week\":\"Monday\",\"hour\":\"12\",\"NFPA.type\":\"FIRE\",\"calls\":6,\"mean_calls\":6.8676058219,\"norm_calls\":0.8736669162},{\"fire_department.firecares_id\":\"79592\",\"date\":1514505600000,\"description.day_of_week\":\"Friday\",\"hour\":\"16\",\"NFPA.type\":\"EMS\",\"calls\":11,\"mean_calls\":5.4475602499,\"norm_calls\":2.0192525636},{\"fire_department.firecares_id\":\"93345\",\"date\":1515628800000,\"description.day_of_week\":\"Thursday\",\"hour\":\"11\",\"NFPA.type\":\"EMS\",\"calls\":8,\"mean_calls\":6.8676058219,\"norm_calls\":1.1648892216},{\"fire_department.firecares_id\":\"93345\",\"date\":1503619200000,\"description.day_of_week\":\"Friday\",\"hour\":\"15\",\"NFPA.type\":\"EMS\",\"calls\":2,\"mean_calls\":6.8676058219,\"norm_calls\":0.2912223054},{\"fire_department.firecares_id\":\"79592\",\"date\":1458691200000,\"description.day_of_week\":\"Wednesday\",\"hour\":\"15\",\"NFPA.type\":\"EMS\",\"calls\":3,\"mean_calls\":5.4475602499,\"norm_calls\":0.5507052446},{\"fire_department.firecares_id\":\"79592\",\"date\":1450656000000,\"description.day_of_week\":\"Monday\",\"hour\":\"00\",\"NFPA.type\":\"EMS\",\"calls\":2,\"mean_calls\":5.4475602499,\"norm_calls\":0.3671368297},{\"fire_department.firecares_id\":\"93345\",\"date\":1560729600000,\"description.day_of_week\":\"Monday\",\"hour\":\"01\",\"NFPA.type\":\"EMS\",\"calls\":4,\"mean_calls\":6.8676058219,\"norm_calls\":0.5824446108},{\"fire_department.firecares_id\":\"79592\",\"date\":1537747200000,\"description.day_of_week\":\"Monday\",\"hour\":\"15\",\"NFPA.type\":\"FIRE\",\"calls\":2,\"mean_calls\":5.4475602499,\"norm_calls\":0.3671368297},{\"fire_department.firecares_id\":\"79592\",\"date\":1510876800000,\"description.day_of_week\":\"Friday\",\"hour\":\"13\",\"NFPA.type\":\"FIRE\",\"calls\":3,\"mean_calls\":5.4475602499,\"norm_calls\":0.5507052446},{\"fire_department.firecares_id\":\"79592\",\"date\":1485129600000,\"description.day_of_week\":\"Monday\",\"hour\":\"19\",\"NFPA.type\":\"EMS\",\"calls\":5,\"mean_calls\":5.4475602499,\"norm_calls\":0.9178420744},{\"fire_department.firecares_id\":\"93345\",\"date\":1532304000000,\"description.day_of_week\":\"Monday\",\"hour\":\"09\",\"NFPA.type\":\"FIRE\",\"calls\":10,\"mean_calls\":6.8676058219,\"norm_calls\":1.456111527},{\"fire_department.firecares_id\":\"93345\",\"date\":1574640000000,\"description.day_of_week\":\"Monday\",\"hour\":\"17\",\"NFPA.type\":\"EMS\",\"calls\":4,\"mean_calls\":6.8676058219,\"norm_calls\":0.5824446108},{\"fire_department.firecares_id\":\"79592\",\"date\":1562889600000,\"description.day_of_week\":\"Friday\",\"hour\":\"15\",\"NFPA.type\":\"FIRE\",\"calls\":2,\"mean_calls\":5.4475602499,\"norm_calls\":0.3671368297},{\"fire_department.firecares_id\":\"93345\",\"date\":1523664000000,\"description.day_of_week\":\"Saturday\",\"hour\":\"16\",\"NFPA.type\":\"EMS\",\"calls\":6,\"mean_calls\":6.8676058219,\"norm_calls\":0.8736669162},{\"fire_department.firecares_id\":\"93345\",\"date\":1574812800000,\"description.day_of_week\":\"Wednesday\",\"hour\":\"10\",\"NFPA.type\":\"EMS\",\"calls\":6,\"mean_calls\":6.8676058219,\"norm_calls\":0.8736669162},{\"fire_department.firecares_id\":\"79592\",\"date\":1541116800000,\"description.day_of_week\":\"Friday\",\"hour\":\"06\",\"NFPA.type\":\"EMS\",\"calls\":2,\"mean_calls\":5.4475602499,\"norm_calls\":0.3671368297},{\"fire_department.firecares_id\":\"79592\",\"date\":1519084800000,\"description.day_of_week\":\"Tuesday\",\"hour\":\"14\",\"NFPA.type\":\"EMS\",\"calls\":4,\"mean_calls\":5.4475602499,\"norm_calls\":0.7342736595},{\"fire_department.firecares_id\":\"79592\",\"date\":1544140800000,\"description.day_of_week\":\"Friday\",\"hour\":\"21\",\"NFPA.type\":\"EMS\",\"calls\":4,\"mean_calls\":5.4475602499,\"norm_calls\":0.7342736595},{\"fire_department.firecares_id\":\"79592\",\"date\":1440288000000,\"description.day_of_week\":\"Sunday\",\"hour\":\"08\",\"NFPA.type\":\"EMS\",\"calls\":6,\"mean_calls\":5.4475602499,\"norm_calls\":1.1014104892},{\"fire_department.firecares_id\":\"79592\",\"date\":1435363200000,\"description.day_of_week\":\"Saturday\",\"hour\":\"16\",\"NFPA.type\":\"EMS\",\"calls\":11,\"mean_calls\":5.4475602499,\"norm_calls\":2.0192525636},{\"fire_department.firecares_id\":\"79592\",\"date\":1432771200000,\"description.day_of_week\":\"Thursday\",\"hour\":\"20\",\"NFPA.type\":\"EMS\",\"calls\":9,\"mean_calls\":5.4475602499,\"norm_calls\":1.6521157339},{\"fire_department.firecares_id\":\"93345\",\"date\":1547251200000,\"description.day_of_week\":\"Saturday\",\"hour\":\"14\",\"NFPA.type\":\"FIRE\",\"calls\":16,\"mean_calls\":6.8676058219,\"norm_calls\":2.3297784432},{\"fire_department.firecares_id\":\"79592\",\"date\":1566259200000,\"description.day_of_week\":\"Tuesday\",\"hour\":\"07\",\"NFPA.type\":\"EMS\",\"calls\":4,\"mean_calls\":5.4475602499,\"norm_calls\":0.7342736595},{\"fire_department.firecares_id\":\"79592\",\"date\":1515024000000,\"description.day_of_week\":\"Thursday\",\"hour\":\"03\",\"NFPA.type\":\"EMS\",\"calls\":2,\"mean_calls\":5.4475602499,\"norm_calls\":0.3671368297},{\"fire_department.firecares_id\":\"93345\",\"date\":1543881600000,\"description.day_of_week\":\"Tuesday\",\"hour\":\"06\",\"NFPA.type\":\"EMS\",\"calls\":4,\"mean_calls\":6.8676058219,\"norm_calls\":0.5824446108},{\"fire_department.firecares_id\":\"93345\",\"date\":1495411200000,\"description.day_of_week\":\"Monday\",\"hour\":\"04\",\"NFPA.type\":\"EMS\",\"calls\":4,\"mean_calls\":6.8676058219,\"norm_calls\":0.5824446108},{\"fire_department.firecares_id\":\"79592\",\"date\":1572566400000,\"description.day_of_week\":\"Friday\",\"hour\":\"05\",\"NFPA.type\":\"EMS\",\"calls\":2,\"mean_calls\":5.4475602499,\"norm_calls\":0.3671368297},{\"fire_department.firecares_id\":\"93345\",\"date\":1543968000000,\"description.day_of_week\":\"Wednesday\",\"hour\":\"05\",\"NFPA.type\":\"FIRE\",\"calls\":12,\"mean_calls\":6.8676058219,\"norm_calls\":1.7473338324},{\"fire_department.firecares_id\":\"79592\",\"date\":1560556800000,\"description.day_of_week\":\"Saturday\",\"hour\":\"08\",\"NFPA.type\":\"EMS\",\"calls\":2,\"mean_calls\":5.4475602499,\"norm_calls\":0.3671368297},{\"fire_department.firecares_id\":\"93345\",\"date\":1515283200000,\"description.day_of_week\":\"Sunday\",\"hour\":\"07\",\"NFPA.type\":\"EMS\",\"calls\":2,\"mean_calls\":6.8676058219,\"norm_calls\":0.2912223054},{\"fire_department.firecares_id\":\"79592\",\"date\":1483660800000,\"description.day_of_week\":\"Friday\",\"hour\":\"18\",\"NFPA.type\":\"EMS\",\"calls\":20,\"mean_calls\":5.4475602499,\"norm_calls\":3.6713682974},{\"fire_department.firecares_id\":\"93345\",\"date\":1485216000000,\"description.day_of_week\":\"Tuesday\",\"hour\":\"11\",\"NFPA.type\":\"FIRE\",\"calls\":2,\"mean_calls\":6.8676058219,\"norm_calls\":0.2912223054},{\"fire_department.firecares_id\":\"79592\",\"date\":1503705600000,\"description.day_of_week\":\"Saturday\",\"hour\":\"22\",\"NFPA.type\":\"EMS\",\"calls\":4,\"mean_calls\":5.4475602499,\"norm_calls\":0.7342736595},{\"fire_department.firecares_id\":\"93345\",\"date\":1548115200000,\"description.day_of_week\":\"Tuesday\",\"hour\":\"10\",\"NFPA.type\":\"FIRE\",\"calls\":3,\"mean_calls\":6.8676058219,\"norm_calls\":0.4368334581},{\"fire_department.firecares_id\":\"93345\",\"date\":1565913600000,\"description.day_of_week\":\"Friday\",\"hour\":\"03\",\"NFPA.type\":\"EMS\",\"calls\":2,\"mean_calls\":6.8676058219,\"norm_calls\":0.2912223054},{\"fire_department.firecares_id\":\"93345\",\"date\":1482105600000,\"description.day_of_week\":\"Monday\",\"hour\":\"14\",\"NFPA.type\":\"FIRE\",\"calls\":10,\"mean_calls\":6.8676058219,\"norm_calls\":1.456111527},{\"fire_department.firecares_id\":\"93345\",\"date\":1551398400000,\"description.day_of_week\":\"Friday\",\"hour\":\"17\",\"NFPA.type\":\"EMS\",\"calls\":13,\"mean_calls\":6.8676058219,\"norm_calls\":1.8929449851},{\"fire_department.firecares_id\":\"93345\",\"date\":1525219200000,\"description.day_of_week\":\"Wednesday\",\"hour\":\"13\",\"NFPA.type\":\"EMS\",\"calls\":9,\"mean_calls\":6.8676058219,\"norm_calls\":1.3105003743},{\"fire_department.firecares_id\":\"79592\",\"date\":1500249600000,\"description.day_of_week\":\"Monday\",\"hour\":\"05\",\"NFPA.type\":\"OTHER\",\"calls\":2,\"mean_calls\":5.4475602499,\"norm_calls\":0.3671368297},{\"fire_department.firecares_id\":\"79592\",\"date\":1438819200000,\"description.day_of_week\":\"Thursday\",\"hour\":\"10\",\"NFPA.type\":\"EMS\",\"calls\":2,\"mean_calls\":5.4475602499,\"norm_calls\":0.3671368297},{\"fire_department.firecares_id\":\"93345\",\"date\":1521936000000,\"description.day_of_week\":\"Sunday\",\"hour\":\"06\",\"NFPA.type\":\"EMS\",\"calls\":2,\"mean_calls\":6.8676058219,\"norm_calls\":0.2912223054},{\"fire_department.firecares_id\":\"93345\",\"date\":1504483200000,\"description.day_of_week\":\"Monday\",\"hour\":\"23\",\"NFPA.type\":\"OTHER\",\"calls\":2,\"mean_calls\":6.8676058219,\"norm_calls\":0.2912223054},{\"fire_department.firecares_id\":\"79592\",\"date\":1559952000000,\"description.day_of_week\":\"Saturday\",\"hour\":\"17\",\"NFPA.type\":\"FIRE\",\"calls\":2,\"mean_calls\":5.4475602499,\"norm_calls\":0.3671368297},{\"fire_department.firecares_id\":\"79592\",\"date\":1543017600000,\"description.day_of_week\":\"Saturday\",\"hour\":\"01\",\"NFPA.type\":\"EMS\",\"calls\":2,\"mean_calls\":5.4475602499,\"norm_calls\":0.3671368297},{\"fire_department.firecares_id\":\"79592\",\"date\":1456358400000,\"description.day_of_week\":\"Thursday\",\"hour\":\"09\",\"NFPA.type\":\"EMS\",\"calls\":8,\"mean_calls\":5.4475602499,\"norm_calls\":1.468547319},{\"fire_department.firecares_id\":\"93345\",\"date\":1485561600000,\"description.day_of_week\":\"Saturday\",\"hour\":\"15\",\"NFPA.type\":\"EMS\",\"calls\":6,\"mean_calls\":6.8676058219,\"norm_calls\":0.8736669162},{\"fire_department.firecares_id\":\"79592\",\"date\":1491523200000,\"description.day_of_week\":\"Friday\",\"hour\":\"22\",\"NFPA.type\":\"OTHER\",\"calls\":8,\"mean_calls\":5.4475602499,\"norm_calls\":1.468547319},{\"fire_department.firecares_id\":\"79592\",\"date\":1439424000000,\"description.day_of_week\":\"Thursday\",\"hour\":\"09\",\"NFPA.type\":\"EMS\",\"calls\":5,\"mean_calls\":5.4475602499,\"norm_calls\":0.9178420744},{\"fire_department.firecares_id\":\"93345\",\"date\":1495324800000,\"description.day_of_week\":\"Sunday\",\"hour\":\"01\",\"NFPA.type\":\"EMS\",\"calls\":6,\"mean_calls\":6.8676058219,\"norm_calls\":0.8736669162},{\"fire_department.firecares_id\":\"93345\",\"date\":1490572800000,\"description.day_of_week\":\"Monday\",\"hour\":\"06\",\"NFPA.type\":\"FIRE\",\"calls\":5,\"mean_calls\":6.8676058219,\"norm_calls\":0.7280557635},{\"fire_department.firecares_id\":\"93345\",\"date\":1529712000000,\"description.day_of_week\":\"Saturday\",\"hour\":\"17\",\"NFPA.type\":\"FIRE\",\"calls\":5,\"mean_calls\":6.8676058219,\"norm_calls\":0.7280557635},{\"fire_department.firecares_id\":\"93345\",\"date\":1493856000000,\"description.day_of_week\":\"Thursday\",\"hour\":\"16\",\"NFPA.type\":\"FIRE\",\"calls\":2,\"mean_calls\":6.8676058219,\"norm_calls\":0.2912223054},{\"fire_department.firecares_id\":\"79592\",\"date\":1495238400000,\"description.day_of_week\":\"Saturday\",\"hour\":\"12\",\"NFPA.type\":\"EMS\",\"calls\":8,\"mean_calls\":5.4475602499,\"norm_calls\":1.468547319},{\"fire_department.firecares_id\":\"93345\",\"date\":1478044800000,\"description.day_of_week\":\"Wednesday\",\"hour\":\"00\",\"NFPA.type\":\"EMS\",\"calls\":4,\"mean_calls\":6.8676058219,\"norm_calls\":0.5824446108},{\"fire_department.firecares_id\":\"79592\",\"date\":1564444800000,\"description.day_of_week\":\"Tuesday\",\"hour\":\"17\",\"NFPA.type\":\"FIRE\",\"calls\":3,\"mean_calls\":5.4475602499,\"norm_calls\":0.5507052446},{\"fire_department.firecares_id\":\"93345\",\"date\":1542931200000,\"description.day_of_week\":\"Friday\",\"hour\":\"13\",\"NFPA.type\":\"EMS\",\"calls\":10,\"mean_calls\":6.8676058219,\"norm_calls\":1.456111527},{\"fire_department.firecares_id\":\"93345\",\"date\":1542153600000,\"description.day_of_week\":\"Wednesday\",\"hour\":\"12\",\"NFPA.type\":\"FIRE\",\"calls\":10,\"mean_calls\":6.8676058219,\"norm_calls\":1.456111527},{\"fire_department.firecares_id\":\"93345\",\"date\":1534982400000,\"description.day_of_week\":\"Thursday\",\"hour\":\"10\",\"NFPA.type\":\"EMS\",\"calls\":5,\"mean_calls\":6.8676058219,\"norm_calls\":0.7280557635},{\"fire_department.firecares_id\":\"93345\",\"date\":1562544000000,\"description.day_of_week\":\"Monday\",\"hour\":\"21\",\"NFPA.type\":\"EMS\",\"calls\":4,\"mean_calls\":6.8676058219,\"norm_calls\":0.5824446108},{\"fire_department.firecares_id\":\"93345\",\"date\":1477612800000,\"description.day_of_week\":\"Friday\",\"hour\":\"18\",\"NFPA.type\":\"EMS\",\"calls\":2,\"mean_calls\":6.8676058219,\"norm_calls\":0.2912223054},{\"fire_department.firecares_id\":\"79592\",\"date\":1572134400000,\"description.day_of_week\":\"Sunday\",\"hour\":\"10\",\"NFPA.type\":\"EMS\",\"calls\":7,\"mean_calls\":5.4475602499,\"norm_calls\":1.2849789041},{\"fire_department.firecares_id\":\"79592\",\"date\":1501372800000,\"description.day_of_week\":\"Sunday\",\"hour\":\"14\",\"NFPA.type\":\"EMS\",\"calls\":2,\"mean_calls\":5.4475602499,\"norm_calls\":0.3671368297},{\"fire_department.firecares_id\":\"79592\",\"date\":1508371200000,\"description.day_of_week\":\"Thursday\",\"hour\":\"10\",\"NFPA.type\":\"FIRE\",\"calls\":3,\"mean_calls\":5.4475602499,\"norm_calls\":0.5507052446},{\"fire_department.firecares_id\":\"79592\",\"date\":1447804800000,\"description.day_of_week\":\"Wednesday\",\"hour\":\"03\",\"NFPA.type\":\"EMS\",\"calls\":3,\"mean_calls\":5.4475602499,\"norm_calls\":0.5507052446},{\"fire_department.firecares_id\":\"93345\",\"date\":1540771200000,\"description.day_of_week\":\"Monday\",\"hour\":\"18\",\"NFPA.type\":\"EMS\",\"calls\":4,\"mean_calls\":6.8676058219,\"norm_calls\":0.5824446108},{\"fire_department.firecares_id\":\"79592\",\"date\":1566518400000,\"description.day_of_week\":\"Friday\",\"hour\":\"23\",\"NFPA.type\":\"EMS\",\"calls\":10,\"mean_calls\":5.4475602499,\"norm_calls\":1.8356841487},{\"fire_department.firecares_id\":\"79592\",\"date\":1544918400000,\"description.day_of_week\":\"Sunday\",\"hour\":\"07\",\"NFPA.type\":\"EMS\",\"calls\":3,\"mean_calls\":5.4475602499,\"norm_calls\":0.5507052446},{\"fire_department.firecares_id\":\"93345\",\"date\":1574294400000,\"description.day_of_week\":\"Thursday\",\"hour\":\"14\",\"NFPA.type\":\"FIRE\",\"calls\":3,\"mean_calls\":6.8676058219,\"norm_calls\":0.4368334581},{\"fire_department.firecares_id\":\"93345\",\"date\":1481068800000,\"description.day_of_week\":\"Wednesday\",\"hour\":\"07\",\"NFPA.type\":\"OTHER\",\"calls\":2,\"mean_calls\":6.8676058219,\"norm_calls\":0.2912223054},{\"fire_department.firecares_id\":\"79592\",\"date\":1445558400000,\"description.day_of_week\":\"Friday\",\"hour\":\"18\",\"NFPA.type\":\"EMS\",\"calls\":3,\"mean_calls\":5.4475602499,\"norm_calls\":0.5507052446},{\"fire_department.firecares_id\":\"79592\",\"date\":1550275200000,\"description.day_of_week\":\"Saturday\",\"hour\":\"11\",\"NFPA.type\":\"FIRE\",\"calls\":3,\"mean_calls\":5.4475602499,\"norm_calls\":0.5507052446},{\"fire_department.firecares_id\":\"93345\",\"date\":1557273600000,\"description.day_of_week\":\"Wednesday\",\"hour\":\"18\",\"NFPA.type\":\"FIRE\",\"calls\":3,\"mean_calls\":6.8676058219,\"norm_calls\":0.4368334581},{\"fire_department.firecares_id\":\"79592\",\"date\":1439510400000,\"description.day_of_week\":\"Friday\",\"hour\":\"11\",\"NFPA.type\":\"FIRE\",\"calls\":2,\"mean_calls\":5.4475602499,\"norm_calls\":0.3671368297},{\"fire_department.firecares_id\":\"79592\",\"date\":1461024000000,\"description.day_of_week\":\"Tuesday\",\"hour\":\"23\",\"NFPA.type\":\"EMS\",\"calls\":3,\"mean_calls\":5.4475602499,\"norm_calls\":0.5507052446},{\"fire_department.firecares_id\":\"93345\",\"date\":1547769600000,\"description.day_of_week\":\"Friday\",\"hour\":\"19\",\"NFPA.type\":\"EMS\",\"calls\":4,\"mean_calls\":6.8676058219,\"norm_calls\":0.5824446108},{\"fire_department.firecares_id\":\"93345\",\"date\":1569715200000,\"description.day_of_week\":\"Sunday\",\"hour\":\"09\",\"NFPA.type\":\"FIRE\",\"calls\":2,\"mean_calls\":6.8676058219,\"norm_calls\":0.2912223054},{\"fire_department.firecares_id\":\"79592\",\"date\":1494288000000,\"description.day_of_week\":\"Tuesday\",\"hour\":\"23\",\"NFPA.type\":\"OTHER\",\"calls\":2,\"mean_calls\":5.4475602499,\"norm_calls\":0.3671368297},{\"fire_department.firecares_id\":\"79592\",\"date\":1458864000000,\"description.day_of_week\":\"Friday\",\"hour\":\"14\",\"NFPA.type\":\"EMS\",\"calls\":5,\"mean_calls\":5.4475602499,\"norm_calls\":0.9178420744},{\"fire_department.firecares_id\":\"79592\",\"date\":1534464000000,\"description.day_of_week\":\"Friday\",\"hour\":\"11\",\"NFPA.type\":\"EMS\",\"calls\":3,\"mean_calls\":5.4475602499,\"norm_calls\":0.5507052446},{\"fire_department.firecares_id\":\"93345\",\"date\":1573257600000,\"description.day_of_week\":\"Saturday\",\"hour\":\"09\",\"NFPA.type\":\"FIRE\",\"calls\":8,\"mean_calls\":6.8676058219,\"norm_calls\":1.1648892216},{\"fire_department.firecares_id\":\"93345\",\"date\":1520208000000,\"description.day_of_week\":\"Monday\",\"hour\":\"06\",\"NFPA.type\":\"EMS\",\"calls\":6,\"mean_calls\":6.8676058219,\"norm_calls\":0.8736669162},{\"fire_department.firecares_id\":\"93345\",\"date\":1514073600000,\"description.day_of_week\":\"Sunday\",\"hour\":\"17\",\"NFPA.type\":\"EMS\",\"calls\":6,\"mean_calls\":6.8676058219,\"norm_calls\":0.8736669162},{\"fire_department.firecares_id\":\"93345\",\"date\":1564963200000,\"description.day_of_week\":\"Monday\",\"hour\":\"20\",\"NFPA.type\":\"FIRE\",\"calls\":4,\"mean_calls\":6.8676058219,\"norm_calls\":0.5824446108},{\"fire_department.firecares_id\":\"79592\",\"date\":1528329600000,\"description.day_of_week\":\"Thursday\",\"hour\":\"21\",\"NFPA.type\":\"EMS\",\"calls\":4,\"mean_calls\":5.4475602499,\"norm_calls\":0.7342736595},{\"fire_department.firecares_id\":\"93345\",\"date\":1478736000000,\"description.day_of_week\":\"Thursday\",\"hour\":\"07\",\"NFPA.type\":\"EMS\",\"calls\":2,\"mean_calls\":6.8676058219,\"norm_calls\":0.2912223054},{\"fire_department.firecares_id\":\"79592\",\"date\":1517097600000,\"description.day_of_week\":\"Sunday\",\"hour\":\"04\",\"NFPA.type\":\"OTHER\",\"calls\":11,\"mean_calls\":5.4475602499,\"norm_calls\":2.0192525636},{\"fire_department.firecares_id\":\"79592\",\"date\":1541635200000,\"description.day_of_week\":\"Thursday\",\"hour\":\"17\",\"NFPA.type\":\"EMS\",\"calls\":3,\"mean_calls\":5.4475602499,\"norm_calls\":0.5507052446},{\"fire_department.firecares_id\":\"93345\",\"date\":1520121600000,\"description.day_of_week\":\"Sunday\",\"hour\":\"11\",\"NFPA.type\":\"FIRE\",\"calls\":5,\"mean_calls\":6.8676058219,\"norm_calls\":0.7280557635},{\"fire_department.firecares_id\":\"93345\",\"date\":1505347200000,\"description.day_of_week\":\"Thursday\",\"hour\":\"17\",\"NFPA.type\":\"EMS\",\"calls\":2,\"mean_calls\":6.8676058219,\"norm_calls\":0.2912223054},{\"fire_department.firecares_id\":\"79592\",\"date\":1555459200000,\"description.day_of_week\":\"Wednesday\",\"hour\":\"02\",\"NFPA.type\":\"EMS\",\"calls\":2,\"mean_calls\":5.4475602499,\"norm_calls\":0.3671368297},{\"fire_department.firecares_id\":\"93345\",\"date\":1489536000000,\"description.day_of_week\":\"Wednesday\",\"hour\":\"10\",\"NFPA.type\":\"EMS\",\"calls\":18,\"mean_calls\":6.8676058219,\"norm_calls\":2.6210007486},{\"fire_department.firecares_id\":\"93345\",\"date\":1573257600000,\"description.day_of_week\":\"Saturday\",\"hour\":\"17\",\"NFPA.type\":\"FIRE\",\"calls\":21,\"mean_calls\":6.8676058219,\"norm_calls\":3.0578342067},{\"fire_department.firecares_id\":\"79592\",\"date\":1498003200000,\"description.day_of_week\":\"Wednesday\",\"hour\":\"23\",\"NFPA.type\":\"EMS\",\"calls\":7,\"mean_calls\":5.4475602499,\"norm_calls\":1.2849789041},{\"fire_department.firecares_id\":\"93345\",\"date\":1530230400000,\"description.day_of_week\":\"Friday\",\"hour\":\"07\",\"NFPA.type\":\"FIRE\",\"calls\":10,\"mean_calls\":6.8676058219,\"norm_calls\":1.456111527},{\"fire_department.firecares_id\":\"93345\",\"date\":1480464000000,\"description.day_of_week\":\"Wednesday\",\"hour\":\"00\",\"NFPA.type\":\"FIRE\",\"calls\":3,\"mean_calls\":6.8676058219,\"norm_calls\":0.4368334581},{\"fire_department.firecares_id\":\"93345\",\"date\":1536105600000,\"description.day_of_week\":\"Wednesday\",\"hour\":\"01\",\"NFPA.type\":\"EMS\",\"calls\":2,\"mean_calls\":6.8676058219,\"norm_calls\":0.2912223054},{\"fire_department.firecares_id\":\"93345\",\"date\":1518220800000,\"description.day_of_week\":\"Saturday\",\"hour\":\"15\",\"NFPA.type\":\"FIRE\",\"calls\":2,\"mean_calls\":6.8676058219,\"norm_calls\":0.2912223054},{\"fire_department.firecares_id\":\"79592\",\"date\":1494892800000,\"description.day_of_week\":\"Tuesday\",\"hour\":\"14\",\"NFPA.type\":\"OTHER\",\"calls\":2,\"mean_calls\":5.4475602499,\"norm_calls\":0.3671368297},{\"fire_department.firecares_id\":\"79592\",\"date\":1490140800000,\"description.day_of_week\":\"Wednesday\",\"hour\":\"10\",\"NFPA.type\":\"EMS\",\"calls\":5,\"mean_calls\":5.4475602499,\"norm_calls\":0.9178420744},{\"fire_department.firecares_id\":\"93345\",\"date\":1480982400000,\"description.day_of_week\":\"Tuesday\",\"hour\":\"14\",\"NFPA.type\":\"FIRE\",\"calls\":13,\"mean_calls\":6.8676058219,\"norm_calls\":1.8929449851},{\"fire_department.firecares_id\":\"93345\",\"date\":1510272000000,\"description.day_of_week\":\"Friday\",\"hour\":\"09\",\"NFPA.type\":\"EMS\",\"calls\":2,\"mean_calls\":6.8676058219,\"norm_calls\":0.2912223054},{\"fire_department.firecares_id\":\"93345\",\"date\":1573430400000,\"description.day_of_week\":\"Monday\",\"hour\":\"16\",\"NFPA.type\":\"EMS\",\"calls\":6,\"mean_calls\":6.8676058219,\"norm_calls\":0.8736669162},{\"fire_department.firecares_id\":\"93345\",\"date\":1482192000000,\"description.day_of_week\":\"Tuesday\",\"hour\":\"03\",\"NFPA.type\":\"EMS\",\"calls\":6,\"mean_calls\":6.8676058219,\"norm_calls\":0.8736669162},{\"fire_department.firecares_id\":\"79592\",\"date\":1571270400000,\"description.day_of_week\":\"Thursday\",\"hour\":\"08\",\"NFPA.type\":\"EMS\",\"calls\":2,\"mean_calls\":5.4475602499,\"norm_calls\":0.3671368297},{\"fire_department.firecares_id\":\"79592\",\"date\":1489363200000,\"description.day_of_week\":\"Monday\",\"hour\":\"06\",\"NFPA.type\":\"EMS\",\"calls\":2,\"mean_calls\":5.4475602499,\"norm_calls\":0.3671368297},{\"fire_department.firecares_id\":\"93345\",\"date\":1520208000000,\"description.day_of_week\":\"Monday\",\"hour\":\"10\",\"NFPA.type\":\"EMS\",\"calls\":13,\"mean_calls\":6.8676058219,\"norm_calls\":1.8929449851},{\"fire_department.firecares_id\":\"79592\",\"date\":1570492800000,\"description.day_of_week\":\"Tuesday\",\"hour\":\"20\",\"NFPA.type\":\"EMS\",\"calls\":16,\"mean_calls\":5.4475602499,\"norm_calls\":2.937094638},{\"fire_department.firecares_id\":\"79592\",\"date\":1524268800000,\"description.day_of_week\":\"Saturday\",\"hour\":\"02\",\"NFPA.type\":\"EMS\",\"calls\":2,\"mean_calls\":5.4475602499,\"norm_calls\":0.3671368297},{\"fire_department.firecares_id\":\"79592\",\"date\":1496534400000,\"description.day_of_week\":\"Sunday\",\"hour\":\"12\",\"NFPA.type\":\"OTHER\",\"calls\":3,\"mean_calls\":5.4475602499,\"norm_calls\":0.5507052446},{\"fire_department.firecares_id\":\"79592\",\"date\":1475971200000,\"description.day_of_week\":\"Sunday\",\"hour\":\"16\",\"NFPA.type\":\"EMS\",\"calls\":4,\"mean_calls\":5.4475602499,\"norm_calls\":0.7342736595},{\"fire_department.firecares_id\":\"93345\",\"date\":1533513600000,\"description.day_of_week\":\"Monday\",\"hour\":\"07\",\"NFPA.type\":\"EMS\",\"calls\":8,\"mean_calls\":6.8676058219,\"norm_calls\":1.1648892216},{\"fire_department.firecares_id\":\"93345\",\"date\":1540080000000,\"description.day_of_week\":\"Sunday\",\"hour\":\"20\",\"NFPA.type\":\"EMS\",\"calls\":10,\"mean_calls\":6.8676058219,\"norm_calls\":1.456111527},{\"fire_department.firecares_id\":\"79592\",\"date\":1531353600000,\"description.day_of_week\":\"Thursday\",\"hour\":\"13\",\"NFPA.type\":\"FIRE\",\"calls\":2,\"mean_calls\":5.4475602499,\"norm_calls\":0.3671368297},{\"fire_department.firecares_id\":\"93345\",\"date\":1502928000000,\"description.day_of_week\":\"Thursday\",\"hour\":\"12\",\"NFPA.type\":\"EMS\",\"calls\":4,\"mean_calls\":6.8676058219,\"norm_calls\":0.5824446108},{\"fire_department.firecares_id\":\"93345\",\"date\":1567123200000,\"description.day_of_week\":\"Friday\",\"hour\":\"06\",\"NFPA.type\":\"FIRE\",\"calls\":5,\"mean_calls\":6.8676058219,\"norm_calls\":0.7280557635},{\"fire_department.firecares_id\":\"79592\",\"date\":1520553600000,\"description.day_of_week\":\"Friday\",\"hour\":\"18\",\"NFPA.type\":\"EMS\",\"calls\":5,\"mean_calls\":5.4475602499,\"norm_calls\":0.9178420744},{\"fire_department.firecares_id\":\"93345\",\"date\":1570233600000,\"description.day_of_week\":\"Saturday\",\"hour\":\"09\",\"NFPA.type\":\"FIRE\",\"calls\":6,\"mean_calls\":6.8676058219,\"norm_calls\":0.8736669162},{\"fire_department.firecares_id\":\"79592\",\"date\":1537660800000,\"description.day_of_week\":\"Sunday\",\"hour\":\"22\",\"NFPA.type\":\"EMS\",\"calls\":11,\"mean_calls\":5.4475602499,\"norm_calls\":2.0192525636},{\"fire_department.firecares_id\":\"93345\",\"date\":1484092800000,\"description.day_of_week\":\"Wednesday\",\"hour\":\"14\",\"NFPA.type\":\"EMS\",\"calls\":10,\"mean_calls\":6.8676058219,\"norm_calls\":1.456111527},{\"fire_department.firecares_id\":\"93345\",\"date\":1542240000000,\"description.day_of_week\":\"Thursday\",\"hour\":\"16\",\"NFPA.type\":\"FIRE\",\"calls\":2,\"mean_calls\":6.8676058219,\"norm_calls\":0.2912223054},{\"fire_department.firecares_id\":\"93345\",\"date\":1484697600000,\"description.day_of_week\":\"Wednesday\",\"hour\":\"18\",\"NFPA.type\":\"EMS\",\"calls\":6,\"mean_calls\":6.8676058219,\"norm_calls\":0.8736669162},{\"fire_department.firecares_id\":\"93345\",\"date\":1564704000000,\"description.day_of_week\":\"Friday\",\"hour\":\"23\",\"NFPA.type\":\"EMS\",\"calls\":7,\"mean_calls\":6.8676058219,\"norm_calls\":1.0192780689},{\"fire_department.firecares_id\":\"79592\",\"date\":1454284800000,\"description.day_of_week\":\"Monday\",\"hour\":\"17\",\"NFPA.type\":\"EMS\",\"calls\":8,\"mean_calls\":5.4475602499,\"norm_calls\":1.468547319},{\"fire_department.firecares_id\":\"79592\",\"date\":1452470400000,\"description.day_of_week\":\"Monday\",\"hour\":\"08\",\"NFPA.type\":\"EMS\",\"calls\":6,\"mean_calls\":5.4475602499,\"norm_calls\":1.1014104892},{\"fire_department.firecares_id\":\"93345\",\"date\":1545523200000,\"description.day_of_week\":\"Sunday\",\"hour\":\"21\",\"NFPA.type\":\"FIRE\",\"calls\":2,\"mean_calls\":6.8676058219,\"norm_calls\":0.2912223054},{\"fire_department.firecares_id\":\"93345\",\"date\":1520726400000,\"description.day_of_week\":\"Sunday\",\"hour\":\"10\",\"NFPA.type\":\"EMS\",\"calls\":9,\"mean_calls\":6.8676058219,\"norm_calls\":1.3105003743},{\"fire_department.firecares_id\":\"93345\",\"date\":1550102400000,\"description.day_of_week\":\"Thursday\",\"hour\":\"09\",\"NFPA.type\":\"EMS\",\"calls\":10,\"mean_calls\":6.8676058219,\"norm_calls\":1.456111527},{\"fire_department.firecares_id\":\"79592\",\"date\":1561161600000,\"description.day_of_week\":\"Saturday\",\"hour\":\"09\",\"NFPA.type\":\"FIRE\",\"calls\":2,\"mean_calls\":5.4475602499,\"norm_calls\":0.3671368297},{\"fire_department.firecares_id\":\"93345\",\"date\":1547424000000,\"description.day_of_week\":\"Monday\",\"hour\":\"06\",\"NFPA.type\":\"EMS\",\"calls\":4,\"mean_calls\":6.8676058219,\"norm_calls\":0.5824446108},{\"fire_department.firecares_id\":\"79592\",\"date\":1492128000000,\"description.day_of_week\":\"Friday\",\"hour\":\"19\",\"NFPA.type\":\"EMS\",\"calls\":8,\"mean_calls\":5.4475602499,\"norm_calls\":1.468547319},{\"fire_department.firecares_id\":\"79592\",\"date\":1494201600000,\"description.day_of_week\":\"Monday\",\"hour\":\"22\",\"NFPA.type\":\"EMS\",\"calls\":3,\"mean_calls\":5.4475602499,\"norm_calls\":0.5507052446},{\"fire_department.firecares_id\":\"79592\",\"date\":1532736000000,\"description.day_of_week\":\"Saturday\",\"hour\":\"01\",\"NFPA.type\":\"EMS\",\"calls\":10,\"mean_calls\":5.4475602499,\"norm_calls\":1.8356841487},{\"fire_department.firecares_id\":\"93345\",\"date\":1528761600000,\"description.day_of_week\":\"Tuesday\",\"hour\":\"23\",\"NFPA.type\":\"EMS\",\"calls\":4,\"mean_calls\":6.8676058219,\"norm_calls\":0.5824446108},{\"fire_department.firecares_id\":\"79592\",\"date\":1493510400000,\"description.day_of_week\":\"Sunday\",\"hour\":\"08\",\"NFPA.type\":\"FIRE\",\"calls\":2,\"mean_calls\":5.4475602499,\"norm_calls\":0.3671368297},{\"fire_department.firecares_id\":\"79592\",\"date\":1556323200000,\"description.day_of_week\":\"Saturday\",\"hour\":\"21\",\"NFPA.type\":\"EMS\",\"calls\":4,\"mean_calls\":5.4475602499,\"norm_calls\":0.7342736595},{\"fire_department.firecares_id\":\"79592\",\"date\":1442102400000,\"description.day_of_week\":\"Sunday\",\"hour\":\"16\",\"NFPA.type\":\"EMS\",\"calls\":9,\"mean_calls\":5.4475602499,\"norm_calls\":1.6521157339},{\"fire_department.firecares_id\":\"79592\",\"date\":1459296000000,\"description.day_of_week\":\"Wednesday\",\"hour\":\"18\",\"NFPA.type\":\"FIRE\",\"calls\":18,\"mean_calls\":5.4475602499,\"norm_calls\":3.3042314677},{\"fire_department.firecares_id\":\"79592\",\"date\":1538179200000,\"description.day_of_week\":\"Saturday\",\"hour\":\"02\",\"NFPA.type\":\"FIRE\",\"calls\":2,\"mean_calls\":5.4475602499,\"norm_calls\":0.3671368297},{\"fire_department.firecares_id\":\"93345\",\"date\":1520726400000,\"description.day_of_week\":\"Sunday\",\"hour\":\"11\",\"NFPA.type\":\"FIRE\",\"calls\":3,\"mean_calls\":6.8676058219,\"norm_calls\":0.4368334581},{\"fire_department.firecares_id\":\"93345\",\"date\":1542499200000,\"description.day_of_week\":\"Sunday\",\"hour\":\"09\",\"NFPA.type\":\"EMS\",\"calls\":4,\"mean_calls\":6.8676058219,\"norm_calls\":0.5824446108},{\"fire_department.firecares_id\":\"93345\",\"date\":1571270400000,\"description.day_of_week\":\"Thursday\",\"hour\":\"07\",\"NFPA.type\":\"EMS\",\"calls\":2,\"mean_calls\":6.8676058219,\"norm_calls\":0.2912223054},{\"fire_department.firecares_id\":\"93345\",\"date\":1555372800000,\"description.day_of_week\":\"Tuesday\",\"hour\":\"14\",\"NFPA.type\":\"EMS\",\"calls\":6,\"mean_calls\":6.8676058219,\"norm_calls\":0.8736669162},{\"fire_department.firecares_id\":\"93345\",\"date\":1555977600000,\"description.day_of_week\":\"Tuesday\",\"hour\":\"09\",\"NFPA.type\":\"FIRE\",\"calls\":8,\"mean_calls\":6.8676058219,\"norm_calls\":1.1648892216},{\"fire_department.firecares_id\":\"93345\",\"date\":1562976000000,\"description.day_of_week\":\"Saturday\",\"hour\":\"21\",\"NFPA.type\":\"FIRE\",\"calls\":5,\"mean_calls\":6.8676058219,\"norm_calls\":0.7280557635},{\"fire_department.firecares_id\":\"93345\",\"date\":1566950400000,\"description.day_of_week\":\"Wednesday\",\"hour\":\"02\",\"NFPA.type\":\"EMS\",\"calls\":2,\"mean_calls\":6.8676058219,\"norm_calls\":0.2912223054},{\"fire_department.firecares_id\":\"79592\",\"date\":1517961600000,\"description.day_of_week\":\"Wednesday\",\"hour\":\"07\",\"NFPA.type\":\"EMS\",\"calls\":4,\"mean_calls\":5.4475602499,\"norm_calls\":0.7342736595},{\"fire_department.firecares_id\":\"93345\",\"date\":1533772800000,\"description.day_of_week\":\"Thursday\",\"hour\":\"00\",\"NFPA.type\":\"EMS\",\"calls\":7,\"mean_calls\":6.8676058219,\"norm_calls\":1.0192780689},{\"fire_department.firecares_id\":\"79592\",\"date\":1451088000000,\"description.day_of_week\":\"Saturday\",\"hour\":\"17\",\"NFPA.type\":\"FIRE\",\"calls\":2,\"mean_calls\":5.4475602499,\"norm_calls\":0.3671368297},{\"fire_department.firecares_id\":\"79592\",\"date\":1440633600000,\"description.day_of_week\":\"Thursday\",\"hour\":\"11\",\"NFPA.type\":\"OTHER\",\"calls\":2,\"mean_calls\":5.4475602499,\"norm_calls\":0.3671368297},{\"fire_department.firecares_id\":\"93345\",\"date\":1484784000000,\"description.day_of_week\":\"Thursday\",\"hour\":\"08\",\"NFPA.type\":\"EMS\",\"calls\":2,\"mean_calls\":6.8676058219,\"norm_calls\":0.2912223054},{\"fire_department.firecares_id\":\"79592\",\"date\":1553385600000,\"description.day_of_week\":\"Sunday\",\"hour\":\"19\",\"NFPA.type\":\"EMS\",\"calls\":4,\"mean_calls\":5.4475602499,\"norm_calls\":0.7342736595},{\"fire_department.firecares_id\":\"79592\",\"date\":1459900800000,\"description.day_of_week\":\"Wednesday\",\"hour\":\"06\",\"NFPA.type\":\"FIRE\",\"calls\":2,\"mean_calls\":5.4475602499,\"norm_calls\":0.3671368297},{\"fire_department.firecares_id\":\"93345\",\"date\":1568937600000,\"description.day_of_week\":\"Friday\",\"hour\":\"09\",\"NFPA.type\":\"EMS\",\"calls\":2,\"mean_calls\":6.8676058219,\"norm_calls\":0.2912223054},{\"fire_department.firecares_id\":\"79592\",\"date\":1567468800000,\"description.day_of_week\":\"Tuesday\",\"hour\":\"14\",\"NFPA.type\":\"EMS\",\"calls\":4,\"mean_calls\":5.4475602499,\"norm_calls\":0.7342736595},{\"fire_department.firecares_id\":\"79592\",\"date\":1456099200000,\"description.day_of_week\":\"Monday\",\"hour\":\"20\",\"NFPA.type\":\"FIRE\",\"calls\":2,\"mean_calls\":5.4475602499,\"norm_calls\":0.3671368297},{\"fire_department.firecares_id\":\"93345\",\"date\":1543622400000,\"description.day_of_week\":\"Saturday\",\"hour\":\"17\",\"NFPA.type\":\"FIRE\",\"calls\":7,\"mean_calls\":6.8676058219,\"norm_calls\":1.0192780689},{\"fire_department.firecares_id\":\"79592\",\"date\":1543017600000,\"description.day_of_week\":\"Saturday\",\"hour\":\"15\",\"NFPA.type\":\"EMS\",\"calls\":2,\"mean_calls\":5.4475602499,\"norm_calls\":0.3671368297},{\"fire_department.firecares_id\":\"79592\",\"date\":1487721600000,\"description.day_of_week\":\"Wednesday\",\"hour\":\"06\",\"NFPA.type\":\"OTHER\",\"calls\":14,\"mean_calls\":5.4475602499,\"norm_calls\":2.5699578082},{\"fire_department.firecares_id\":\"79592\",\"date\":1479686400000,\"description.day_of_week\":\"Monday\",\"hour\":\"23\",\"NFPA.type\":\"EMS\",\"calls\":15,\"mean_calls\":5.4475602499,\"norm_calls\":2.7535262231},{\"fire_department.firecares_id\":\"93345\",\"date\":1567382400000,\"description.day_of_week\":\"Monday\",\"hour\":\"15\",\"NFPA.type\":\"EMS\",\"calls\":12,\"mean_calls\":6.8676058219,\"norm_calls\":1.7473338324},{\"fire_department.firecares_id\":\"93345\",\"date\":1534464000000,\"description.day_of_week\":\"Friday\",\"hour\":\"13\",\"NFPA.type\":\"EMS\",\"calls\":10,\"mean_calls\":6.8676058219,\"norm_calls\":1.456111527},{\"fire_department.firecares_id\":\"93345\",\"date\":1480464000000,\"description.day_of_week\":\"Wednesday\",\"hour\":\"02\",\"NFPA.type\":\"FIRE\",\"calls\":3,\"mean_calls\":6.8676058219,\"norm_calls\":0.4368334581},{\"fire_department.firecares_id\":\"79592\",\"date\":1544918400000,\"description.day_of_week\":\"Sunday\",\"hour\":\"11\",\"NFPA.type\":\"EMS\",\"calls\":11,\"mean_calls\":5.4475602499,\"norm_calls\":2.0192525636},{\"fire_department.firecares_id\":\"79592\",\"date\":1481328000000,\"description.day_of_week\":\"Saturday\",\"hour\":\"12\",\"NFPA.type\":\"OTHER\",\"calls\":2,\"mean_calls\":5.4475602499,\"norm_calls\":0.3671368297},{\"fire_department.firecares_id\":\"93345\",\"date\":1479772800000,\"description.day_of_week\":\"Tuesday\",\"hour\":\"04\",\"NFPA.type\":\"EMS\",\"calls\":6,\"mean_calls\":6.8676058219,\"norm_calls\":0.8736669162},{\"fire_department.firecares_id\":\"93345\",\"date\":1559692800000,\"description.day_of_week\":\"Wednesday\",\"hour\":\"13\",\"NFPA.type\":\"EMS\",\"calls\":17,\"mean_calls\":6.8676058219,\"norm_calls\":2.4753895959},{\"fire_department.firecares_id\":\"93345\",\"date\":1548806400000,\"description.day_of_week\":\"Wednesday\",\"hour\":\"19\",\"NFPA.type\":\"EMS\",\"calls\":10,\"mean_calls\":6.8676058219,\"norm_calls\":1.456111527},{\"fire_department.firecares_id\":\"93345\",\"date\":1516752000000,\"description.day_of_week\":\"Wednesday\",\"hour\":\"08\",\"NFPA.type\":\"EMS\",\"calls\":4,\"mean_calls\":6.8676058219,\"norm_calls\":0.5824446108},{\"fire_department.firecares_id\":\"79592\",\"date\":1521158400000,\"description.day_of_week\":\"Friday\",\"hour\":\"11\",\"NFPA.type\":\"EMS\",\"calls\":8,\"mean_calls\":5.4475602499,\"norm_calls\":1.468547319},{\"fire_department.firecares_id\":\"79592\",\"date\":1451433600000,\"description.day_of_week\":\"Wednesday\",\"hour\":\"12\",\"NFPA.type\":\"EMS\",\"calls\":3,\"mean_calls\":5.4475602499,\"norm_calls\":0.5507052446},{\"fire_department.firecares_id\":\"79592\",\"date\":1488499200000,\"description.day_of_week\":\"Friday\",\"hour\":\"14\",\"NFPA.type\":\"OTHER\",\"calls\":2,\"mean_calls\":5.4475602499,\"norm_calls\":0.3671368297},{\"fire_department.firecares_id\":\"79592\",\"date\":1468713600000,\"description.day_of_week\":\"Sunday\",\"hour\":\"20\",\"NFPA.type\":\"EMS\",\"calls\":2,\"mean_calls\":5.4475602499,\"norm_calls\":0.3671368297},{\"fire_department.firecares_id\":\"93345\",\"date\":1568678400000,\"description.day_of_week\":\"Tuesday\",\"hour\":\"22\",\"NFPA.type\":\"FIRE\",\"calls\":2,\"mean_calls\":6.8676058219,\"norm_calls\":0.2912223054},{\"fire_department.firecares_id\":\"79592\",\"date\":1533513600000,\"description.day_of_week\":\"Monday\",\"hour\":\"16\",\"NFPA.type\":\"EMS\",\"calls\":4,\"mean_calls\":5.4475602499,\"norm_calls\":0.7342736595},{\"fire_department.firecares_id\":\"79592\",\"date\":1527379200000,\"description.day_of_week\":\"Sunday\",\"hour\":\"12\",\"NFPA.type\":\"FIRE\",\"calls\":2,\"mean_calls\":5.4475602499,\"norm_calls\":0.3671368297},{\"fire_department.firecares_id\":\"79592\",\"date\":1521158400000,\"description.day_of_week\":\"Friday\",\"hour\":\"15\",\"NFPA.type\":\"OTHER\",\"calls\":10,\"mean_calls\":5.4475602499,\"norm_calls\":1.8356841487},{\"fire_department.firecares_id\":\"93345\",\"date\":1530144000000,\"description.day_of_week\":\"Thursday\",\"hour\":\"05\",\"NFPA.type\":\"FIRE\",\"calls\":2,\"mean_calls\":6.8676058219,\"norm_calls\":0.2912223054},{\"fire_department.firecares_id\":\"93345\",\"date\":1526774400000,\"description.day_of_week\":\"Sunday\",\"hour\":\"13\",\"NFPA.type\":\"EMS\",\"calls\":8,\"mean_calls\":6.8676058219,\"norm_calls\":1.1648892216},{\"fire_department.firecares_id\":\"79592\",\"date\":1546992000000,\"description.day_of_week\":\"Wednesday\",\"hour\":\"20\",\"NFPA.type\":\"EMS\",\"calls\":4,\"mean_calls\":5.4475602499,\"norm_calls\":0.7342736595},{\"fire_department.firecares_id\":\"79592\",\"date\":1474070400000,\"description.day_of_week\":\"Saturday\",\"hour\":\"16\",\"NFPA.type\":\"EMS\",\"calls\":15,\"mean_calls\":5.4475602499,\"norm_calls\":2.7535262231},{\"fire_department.firecares_id\":\"79592\",\"date\":1522108800000,\"description.day_of_week\":\"Tuesday\",\"hour\":\"01\",\"NFPA.type\":\"EMS\",\"calls\":2,\"mean_calls\":5.4475602499,\"norm_calls\":0.3671368297},{\"fire_department.firecares_id\":\"79592\",\"date\":1455062400000,\"description.day_of_week\":\"Wednesday\",\"hour\":\"14\",\"NFPA.type\":\"EMS\",\"calls\":4,\"mean_calls\":5.4475602499,\"norm_calls\":0.7342736595},{\"fire_department.firecares_id\":\"93345\",\"date\":1506297600000,\"description.day_of_week\":\"Monday\",\"hour\":\"06\",\"NFPA.type\":\"EMS\",\"calls\":6,\"mean_calls\":6.8676058219,\"norm_calls\":0.8736669162},{\"fire_department.firecares_id\":\"93345\",\"date\":1558396800000,\"description.day_of_week\":\"Tuesday\",\"hour\":\"09\",\"NFPA.type\":\"EMS\",\"calls\":14,\"mean_calls\":6.8676058219,\"norm_calls\":2.0385561378},{\"fire_department.firecares_id\":\"79592\",\"date\":1529280000000,\"description.day_of_week\":\"Monday\",\"hour\":\"19\",\"NFPA.type\":\"EMS\",\"calls\":2,\"mean_calls\":5.4475602499,\"norm_calls\":0.3671368297},{\"fire_department.firecares_id\":\"79592\",\"date\":1455580800000,\"description.day_of_week\":\"Tuesday\",\"hour\":\"22\",\"NFPA.type\":\"EMS\",\"calls\":2,\"mean_calls\":5.4475602499,\"norm_calls\":0.3671368297},{\"fire_department.firecares_id\":\"79592\",\"date\":1447804800000,\"description.day_of_week\":\"Wednesday\",\"hour\":\"07\",\"NFPA.type\":\"OTHER\",\"calls\":2,\"mean_calls\":5.4475602499,\"norm_calls\":0.3671368297},{\"fire_department.firecares_id\":\"79592\",\"date\":1479427200000,\"description.day_of_week\":\"Friday\",\"hour\":\"09\",\"NFPA.type\":\"FIRE\",\"calls\":3,\"mean_calls\":5.4475602499,\"norm_calls\":0.5507052446},{\"fire_department.firecares_id\":\"79592\",\"date\":1512604800000,\"description.day_of_week\":\"Thursday\",\"hour\":\"09\",\"NFPA.type\":\"EMS\",\"calls\":13,\"mean_calls\":5.4475602499,\"norm_calls\":2.3863893933},{\"fire_department.firecares_id\":\"93345\",\"date\":1536451200000,\"description.day_of_week\":\"Sunday\",\"hour\":\"16\",\"NFPA.type\":\"FIRE\",\"calls\":4,\"mean_calls\":6.8676058219,\"norm_calls\":0.5824446108},{\"fire_department.firecares_id\":\"79592\",\"date\":1509148800000,\"description.day_of_week\":\"Saturday\",\"hour\":\"01\",\"NFPA.type\":\"EMS\",\"calls\":3,\"mean_calls\":5.4475602499,\"norm_calls\":0.5507052446},{\"fire_department.firecares_id\":\"79592\",\"date\":1514764800000,\"description.day_of_week\":\"Monday\",\"hour\":\"13\",\"NFPA.type\":\"EMS\",\"calls\":2,\"mean_calls\":5.4475602499,\"norm_calls\":0.3671368297},{\"fire_department.firecares_id\":\"79592\",\"date\":1569283200000,\"description.day_of_week\":\"Tuesday\",\"hour\":\"22\",\"NFPA.type\":\"EMS\",\"calls\":4,\"mean_calls\":5.4475602499,\"norm_calls\":0.7342736595},{\"fire_department.firecares_id\":\"79592\",\"date\":1523145600000,\"description.day_of_week\":\"Sunday\",\"hour\":\"02\",\"NFPA.type\":\"EMS\",\"calls\":2,\"mean_calls\":5.4475602499,\"norm_calls\":0.3671368297},{\"fire_department.firecares_id\":\"79592\",\"date\":1523491200000,\"description.day_of_week\":\"Thursday\",\"hour\":\"15\",\"NFPA.type\":\"EMS\",\"calls\":6,\"mean_calls\":5.4475602499,\"norm_calls\":1.1014104892},{\"fire_department.firecares_id\":\"79592\",\"date\":1440633600000,\"description.day_of_week\":\"Thursday\",\"hour\":\"18\",\"NFPA.type\":\"EMS\",\"calls\":5,\"mean_calls\":5.4475602499,\"norm_calls\":0.9178420744},{\"fire_department.firecares_id\":\"79592\",\"date\":1536105600000,\"description.day_of_week\":\"Wednesday\",\"hour\":\"08\",\"NFPA.type\":\"EMS\",\"calls\":4,\"mean_calls\":5.4475602499,\"norm_calls\":0.7342736595},{\"fire_department.firecares_id\":\"79592\",\"date\":1556582400000,\"description.day_of_week\":\"Tuesday\",\"hour\":\"02\",\"NFPA.type\":\"FIRE\",\"calls\":2,\"mean_calls\":5.4475602499,\"norm_calls\":0.3671368297},{\"fire_department.firecares_id\":\"93345\",\"date\":1571270400000,\"description.day_of_week\":\"Thursday\",\"hour\":\"01\",\"NFPA.type\":\"FIRE\",\"calls\":1,\"mean_calls\":6.8676058219,\"norm_calls\":0.1456111527},{\"fire_department.firecares_id\":\"79592\",\"date\":1520294400000,\"description.day_of_week\":\"Tuesday\",\"hour\":\"20\",\"NFPA.type\":\"EMS\",\"calls\":9,\"mean_calls\":5.4475602499,\"norm_calls\":1.6521157339},{\"fire_department.firecares_id\":\"79592\",\"date\":1456099200000,\"description.day_of_week\":\"Monday\",\"hour\":\"08\",\"NFPA.type\":\"FIRE\",\"calls\":2,\"mean_calls\":5.4475602499,\"norm_calls\":0.3671368297},{\"fire_department.firecares_id\":\"93345\",\"date\":1544054400000,\"description.day_of_week\":\"Thursday\",\"hour\":\"12\",\"NFPA.type\":\"FIRE\",\"calls\":3,\"mean_calls\":6.8676058219,\"norm_calls\":0.4368334581},{\"fire_department.firecares_id\":\"93345\",\"date\":1482883200000,\"description.day_of_week\":\"Wednesday\",\"hour\":\"21\",\"NFPA.type\":\"FIRE\",\"calls\":2,\"mean_calls\":6.8676058219,\"norm_calls\":0.2912223054},{\"fire_department.firecares_id\":\"93345\",\"date\":1539561600000,\"description.day_of_week\":\"Monday\",\"hour\":\"04\",\"NFPA.type\":\"FIRE\",\"calls\":6,\"mean_calls\":6.8676058219,\"norm_calls\":0.8736669162},{\"fire_department.firecares_id\":\"93345\",\"date\":1564444800000,\"description.day_of_week\":\"Tuesday\",\"hour\":\"05\",\"NFPA.type\":\"EMS\",\"calls\":4,\"mean_calls\":6.8676058219,\"norm_calls\":0.5824446108},{\"fire_department.firecares_id\":\"79592\",\"date\":1499904000000,\"description.day_of_week\":\"Thursday\",\"hour\":\"16\",\"NFPA.type\":\"EMS\",\"calls\":5,\"mean_calls\":5.4475602499,\"norm_calls\":0.9178420744},{\"fire_department.firecares_id\":\"79592\",\"date\":1541980800000,\"description.day_of_week\":\"Monday\",\"hour\":\"15\",\"NFPA.type\":\"EMS\",\"calls\":5,\"mean_calls\":5.4475602499,\"norm_calls\":0.9178420744},{\"fire_department.firecares_id\":\"79592\",\"date\":1490400000000,\"description.day_of_week\":\"Saturday\",\"hour\":\"15\",\"NFPA.type\":\"FIRE\",\"calls\":2,\"mean_calls\":5.4475602499,\"norm_calls\":0.3671368297},{\"fire_department.firecares_id\":\"79592\",\"date\":1511395200000,\"description.day_of_week\":\"Thursday\",\"hour\":\"04\",\"NFPA.type\":\"EMS\",\"calls\":2,\"mean_calls\":5.4475602499,\"norm_calls\":0.3671368297},{\"fire_department.firecares_id\":\"79592\",\"date\":1468972800000,\"description.day_of_week\":\"Wednesday\",\"hour\":\"12\",\"NFPA.type\":\"EMS\",\"calls\":11,\"mean_calls\":5.4475602499,\"norm_calls\":2.0192525636},{\"fire_department.firecares_id\":\"93345\",\"date\":1483401600000,\"description.day_of_week\":\"Tuesday\",\"hour\":\"11\",\"NFPA.type\":\"EMS\",\"calls\":6,\"mean_calls\":6.8676058219,\"norm_calls\":0.8736669162},{\"fire_department.firecares_id\":\"79592\",\"date\":1515715200000,\"description.day_of_week\":\"Friday\",\"hour\":\"01\",\"NFPA.type\":\"EMS\",\"calls\":2,\"mean_calls\":5.4475602499,\"norm_calls\":0.3671368297},{\"fire_department.firecares_id\":\"93345\",\"date\":1496620800000,\"description.day_of_week\":\"Monday\",\"hour\":\"09\",\"NFPA.type\":\"FIRE\",\"calls\":2,\"mean_calls\":6.8676058219,\"norm_calls\":0.2912223054},{\"fire_department.firecares_id\":\"79592\",\"date\":1511308800000,\"description.day_of_week\":\"Wednesday\",\"hour\":\"12\",\"NFPA.type\":\"EMS\",\"calls\":16,\"mean_calls\":5.4475602499,\"norm_calls\":2.937094638},{\"fire_department.firecares_id\":\"93345\",\"date\":1483574400000,\"description.day_of_week\":\"Thursday\",\"hour\":\"20\",\"NFPA.type\":\"EMS\",\"calls\":6,\"mean_calls\":6.8676058219,\"norm_calls\":0.8736669162},{\"fire_department.firecares_id\":\"79592\",\"date\":1546214400000,\"description.day_of_week\":\"Monday\",\"hour\":\"20\",\"NFPA.type\":\"EMS\",\"calls\":8,\"mean_calls\":5.4475602499,\"norm_calls\":1.468547319},{\"fire_department.firecares_id\":\"93345\",\"date\":1498867200000,\"description.day_of_week\":\"Saturday\",\"hour\":\"22\",\"NFPA.type\":\"FIRE\",\"calls\":18,\"mean_calls\":6.8676058219,\"norm_calls\":2.6210007486},{\"fire_department.firecares_id\":\"79592\",\"date\":1540425600000,\"description.day_of_week\":\"Thursday\",\"hour\":\"17\",\"NFPA.type\":\"EMS\",\"calls\":8,\"mean_calls\":5.4475602499,\"norm_calls\":1.468547319},{\"fire_department.firecares_id\":\"79592\",\"date\":1452816000000,\"description.day_of_week\":\"Friday\",\"hour\":\"10\",\"NFPA.type\":\"EMS\",\"calls\":3,\"mean_calls\":5.4475602499,\"norm_calls\":0.5507052446},{\"fire_department.firecares_id\":\"93345\",\"date\":1549152000000,\"description.day_of_week\":\"Sunday\",\"hour\":\"03\",\"NFPA.type\":\"FIRE\",\"calls\":7,\"mean_calls\":6.8676058219,\"norm_calls\":1.0192780689},{\"fire_department.firecares_id\":\"93345\",\"date\":1509494400000,\"description.day_of_week\":\"Wednesday\",\"hour\":\"19\",\"NFPA.type\":\"EMS\",\"calls\":8,\"mean_calls\":6.8676058219,\"norm_calls\":1.1648892216},{\"fire_department.firecares_id\":\"79592\",\"date\":1470441600000,\"description.day_of_week\":\"Saturday\",\"hour\":\"09\",\"NFPA.type\":\"EMS\",\"calls\":4,\"mean_calls\":5.4475602499,\"norm_calls\":0.7342736595},{\"fire_department.firecares_id\":\"93345\",\"date\":1501632000000,\"description.day_of_week\":\"Wednesday\",\"hour\":\"22\",\"NFPA.type\":\"EMS\",\"calls\":8,\"mean_calls\":6.8676058219,\"norm_calls\":1.1648892216},{\"fire_department.firecares_id\":\"93345\",\"date\":1484352000000,\"description.day_of_week\":\"Saturday\",\"hour\":\"04\",\"NFPA.type\":\"FIRE\",\"calls\":2,\"mean_calls\":6.8676058219,\"norm_calls\":0.2912223054},{\"fire_department.firecares_id\":\"93345\",\"date\":1541462400000,\"description.day_of_week\":\"Tuesday\",\"hour\":\"23\",\"NFPA.type\":\"EMS\",\"calls\":8,\"mean_calls\":6.8676058219,\"norm_calls\":1.1648892216},{\"fire_department.firecares_id\":\"79592\",\"date\":1520294400000,\"description.day_of_week\":\"Tuesday\",\"hour\":\"10\",\"NFPA.type\":\"EMS\",\"calls\":13,\"mean_calls\":5.4475602499,\"norm_calls\":2.3863893933},{\"fire_department.firecares_id\":\"79592\",\"date\":1507939200000,\"description.day_of_week\":\"Saturday\",\"hour\":\"15\",\"NFPA.type\":\"EMS\",\"calls\":7,\"mean_calls\":5.4475602499,\"norm_calls\":1.2849789041},{\"fire_department.firecares_id\":\"93345\",\"date\":1490745600000,\"description.day_of_week\":\"Wednesday\",\"hour\":\"19\",\"NFPA.type\":\"EMS\",\"calls\":4,\"mean_calls\":6.8676058219,\"norm_calls\":0.5824446108},{\"fire_department.firecares_id\":\"93345\",\"date\":1550966400000,\"description.day_of_week\":\"Sunday\",\"hour\":\"19\",\"NFPA.type\":\"FIRE\",\"calls\":5,\"mean_calls\":6.8676058219,\"norm_calls\":0.7280557635},{\"fire_department.firecares_id\":\"79592\",\"date\":1512000000000,\"description.day_of_week\":\"Thursday\",\"hour\":\"10\",\"NFPA.type\":\"EMS\",\"calls\":4,\"mean_calls\":5.4475602499,\"norm_calls\":0.7342736595},{\"fire_department.firecares_id\":\"93345\",\"date\":1570406400000,\"description.day_of_week\":\"Monday\",\"hour\":\"16\",\"NFPA.type\":\"FIRE\",\"calls\":2,\"mean_calls\":6.8676058219,\"norm_calls\":0.2912223054},{\"fire_department.firecares_id\":\"79592\",\"date\":1459641600000,\"description.day_of_week\":\"Sunday\",\"hour\":\"12\",\"NFPA.type\":\"EMS\",\"calls\":16,\"mean_calls\":5.4475602499,\"norm_calls\":2.937094638},{\"fire_department.firecares_id\":\"93345\",\"date\":1552003200000,\"description.day_of_week\":\"Friday\",\"hour\":\"06\",\"NFPA.type\":\"EMS\",\"calls\":6,\"mean_calls\":6.8676058219,\"norm_calls\":0.8736669162},{\"fire_department.firecares_id\":\"93345\",\"date\":1494374400000,\"description.day_of_week\":\"Wednesday\",\"hour\":\"18\",\"NFPA.type\":\"FIRE\",\"calls\":6,\"mean_calls\":6.8676058219,\"norm_calls\":0.8736669162},{\"fire_department.firecares_id\":\"93345\",\"date\":1549238400000,\"description.day_of_week\":\"Monday\",\"hour\":\"22\",\"NFPA.type\":\"FIRE\",\"calls\":8,\"mean_calls\":6.8676058219,\"norm_calls\":1.1648892216},{\"fire_department.firecares_id\":\"93345\",\"date\":1572048000000,\"description.day_of_week\":\"Saturday\",\"hour\":\"11\",\"NFPA.type\":\"FIRE\",\"calls\":4,\"mean_calls\":6.8676058219,\"norm_calls\":0.5824446108},{\"fire_department.firecares_id\":\"79592\",\"date\":1534204800000,\"description.day_of_week\":\"Tuesday\",\"hour\":\"19\",\"NFPA.type\":\"EMS\",\"calls\":4,\"mean_calls\":5.4475602499,\"norm_calls\":0.7342736595},{\"fire_department.firecares_id\":\"93345\",\"date\":1491264000000,\"description.day_of_week\":\"Tuesday\",\"hour\":\"10\",\"NFPA.type\":\"EMS\",\"calls\":4,\"mean_calls\":6.8676058219,\"norm_calls\":0.5824446108},{\"fire_department.firecares_id\":\"93345\",\"date\":1513382400000,\"description.day_of_week\":\"Saturday\",\"hour\":\"00\",\"NFPA.type\":\"EMS\",\"calls\":8,\"mean_calls\":6.8676058219,\"norm_calls\":1.1648892216},{\"fire_department.firecares_id\":\"93345\",\"date\":1546646400000,\"description.day_of_week\":\"Saturday\",\"hour\":\"00\",\"NFPA.type\":\"EMS\",\"calls\":4,\"mean_calls\":6.8676058219,\"norm_calls\":0.5824446108},{\"fire_department.firecares_id\":\"79592\",\"date\":1520640000000,\"description.day_of_week\":\"Saturday\",\"hour\":\"03\",\"NFPA.type\":\"EMS\",\"calls\":2,\"mean_calls\":5.4475602499,\"norm_calls\":0.3671368297},{\"fire_department.firecares_id\":\"93345\",\"date\":1533945600000,\"description.day_of_week\":\"Saturday\",\"hour\":\"20\",\"NFPA.type\":\"EMS\",\"calls\":11,\"mean_calls\":6.8676058219,\"norm_calls\":1.6017226797},{\"fire_department.firecares_id\":\"93345\",\"date\":1571702400000,\"description.day_of_week\":\"Tuesday\",\"hour\":\"08\",\"NFPA.type\":\"FIRE\",\"calls\":3,\"mean_calls\":6.8676058219,\"norm_calls\":0.4368334581},{\"fire_department.firecares_id\":\"79592\",\"date\":1480982400000,\"description.day_of_week\":\"Tuesday\",\"hour\":\"16\",\"NFPA.type\":\"EMS\",\"calls\":2,\"mean_calls\":5.4475602499,\"norm_calls\":0.3671368297},{\"fire_department.firecares_id\":\"79592\",\"date\":1451865600000,\"description.day_of_week\":\"Monday\",\"hour\":\"17\",\"NFPA.type\":\"EMS\",\"calls\":8,\"mean_calls\":5.4475602499,\"norm_calls\":1.468547319},{\"fire_department.firecares_id\":\"93345\",\"date\":1485907200000,\"description.day_of_week\":\"Wednesday\",\"hour\":\"09\",\"NFPA.type\":\"EMS\",\"calls\":10,\"mean_calls\":6.8676058219,\"norm_calls\":1.456111527},{\"fire_department.firecares_id\":\"79592\",\"date\":1495497600000,\"description.day_of_week\":\"Tuesday\",\"hour\":\"10\",\"NFPA.type\":\"FIRE\",\"calls\":2,\"mean_calls\":5.4475602499,\"norm_calls\":0.3671368297},{\"fire_department.firecares_id\":\"93345\",\"date\":1565136000000,\"description.day_of_week\":\"Wednesday\",\"hour\":\"22\",\"NFPA.type\":\"EMS\",\"calls\":2,\"mean_calls\":6.8676058219,\"norm_calls\":0.2912223054},{\"fire_department.firecares_id\":\"93345\",\"date\":1510185600000,\"description.day_of_week\":\"Thursday\",\"hour\":\"21\",\"NFPA.type\":\"EMS\",\"calls\":4,\"mean_calls\":6.8676058219,\"norm_calls\":0.5824446108},{\"fire_department.firecares_id\":\"93345\",\"date\":1543881600000,\"description.day_of_week\":\"Tuesday\",\"hour\":\"19\",\"NFPA.type\":\"EMS\",\"calls\":4,\"mean_calls\":6.8676058219,\"norm_calls\":0.5824446108},{\"fire_department.firecares_id\":\"79592\",\"date\":1555286400000,\"description.day_of_week\":\"Monday\",\"hour\":\"09\",\"NFPA.type\":\"EMS\",\"calls\":5,\"mean_calls\":5.4475602499,\"norm_calls\":0.9178420744},{\"fire_department.firecares_id\":\"93345\",\"date\":1509235200000,\"description.day_of_week\":\"Sunday\",\"hour\":\"16\",\"NFPA.type\":\"EMS\",\"calls\":10,\"mean_calls\":6.8676058219,\"norm_calls\":1.456111527},{\"fire_department.firecares_id\":\"93345\",\"date\":1544918400000,\"description.day_of_week\":\"Sunday\",\"hour\":\"15\",\"NFPA.type\":\"EMS\",\"calls\":8,\"mean_calls\":6.8676058219,\"norm_calls\":1.1648892216},{\"fire_department.firecares_id\":\"79592\",\"date\":1431820800000,\"description.day_of_week\":\"Sunday\",\"hour\":\"01\",\"NFPA.type\":\"EMS\",\"calls\":3,\"mean_calls\":5.4475602499,\"norm_calls\":0.5507052446},{\"fire_department.firecares_id\":\"79592\",\"date\":1565049600000,\"description.day_of_week\":\"Tuesday\",\"hour\":\"18\",\"NFPA.type\":\"FIRE\",\"calls\":2,\"mean_calls\":5.4475602499,\"norm_calls\":0.3671368297},{\"fire_department.firecares_id\":\"93345\",\"date\":1535241600000,\"description.day_of_week\":\"Sunday\",\"hour\":\"16\",\"NFPA.type\":\"EMS\",\"calls\":4,\"mean_calls\":6.8676058219,\"norm_calls\":0.5824446108},{\"fire_department.firecares_id\":\"93345\",\"date\":1546819200000,\"description.day_of_week\":\"Monday\",\"hour\":\"19\",\"NFPA.type\":\"EMS\",\"calls\":12,\"mean_calls\":6.8676058219,\"norm_calls\":1.7473338324},{\"fire_department.firecares_id\":\"93345\",\"date\":1510272000000,\"description.day_of_week\":\"Friday\",\"hour\":\"17\",\"NFPA.type\":\"FIRE\",\"calls\":10,\"mean_calls\":6.8676058219,\"norm_calls\":1.456111527},{\"fire_department.firecares_id\":\"93345\",\"date\":1478563200000,\"description.day_of_week\":\"Tuesday\",\"hour\":\"22\",\"NFPA.type\":\"FIRE\",\"calls\":3,\"mean_calls\":6.8676058219,\"norm_calls\":0.4368334581},{\"fire_department.firecares_id\":\"93345\",\"date\":1530316800000,\"description.day_of_week\":\"Saturday\",\"hour\":\"03\",\"NFPA.type\":\"EMS\",\"calls\":4,\"mean_calls\":6.8676058219,\"norm_calls\":0.5824446108},{\"fire_department.firecares_id\":\"79592\",\"date\":1437350400000,\"description.day_of_week\":\"Monday\",\"hour\":\"13\",\"NFPA.type\":\"EMS\",\"calls\":5,\"mean_calls\":5.4475602499,\"norm_calls\":0.9178420744},{\"fire_department.firecares_id\":\"93345\",\"date\":1490140800000,\"description.day_of_week\":\"Wednesday\",\"hour\":\"11\",\"NFPA.type\":\"FIRE\",\"calls\":2,\"mean_calls\":6.8676058219,\"norm_calls\":0.2912223054},{\"fire_department.firecares_id\":\"93345\",\"date\":1495756800000,\"description.day_of_week\":\"Friday\",\"hour\":\"07\",\"NFPA.type\":\"EMS\",\"calls\":4,\"mean_calls\":6.8676058219,\"norm_calls\":0.5824446108},{\"fire_department.firecares_id\":\"93345\",\"date\":1479513600000,\"description.day_of_week\":\"Saturday\",\"hour\":\"08\",\"NFPA.type\":\"FIRE\",\"calls\":11,\"mean_calls\":6.8676058219,\"norm_calls\":1.6017226797},{\"fire_department.firecares_id\":\"79592\",\"date\":1517011200000,\"description.day_of_week\":\"Saturday\",\"hour\":\"16\",\"NFPA.type\":\"EMS\",\"calls\":8,\"mean_calls\":5.4475602499,\"norm_calls\":1.468547319},{\"fire_department.firecares_id\":\"93345\",\"date\":1511654400000,\"description.day_of_week\":\"Sunday\",\"hour\":\"20\",\"NFPA.type\":\"FIRE\",\"calls\":19,\"mean_calls\":6.8676058219,\"norm_calls\":2.7666119013},{\"fire_department.firecares_id\":\"93345\",\"date\":1513641600000,\"description.day_of_week\":\"Tuesday\",\"hour\":\"12\",\"NFPA.type\":\"FIRE\",\"calls\":7,\"mean_calls\":6.8676058219,\"norm_calls\":1.0192780689},{\"fire_department.firecares_id\":\"93345\",\"date\":1544140800000,\"description.day_of_week\":\"Friday\",\"hour\":\"17\",\"NFPA.type\":\"FIRE\",\"calls\":5,\"mean_calls\":6.8676058219,\"norm_calls\":0.7280557635},{\"fire_department.firecares_id\":\"93345\",\"date\":1497052800000,\"description.day_of_week\":\"Saturday\",\"hour\":\"19\",\"NFPA.type\":\"EMS\",\"calls\":6,\"mean_calls\":6.8676058219,\"norm_calls\":0.8736669162},{\"fire_department.firecares_id\":\"93345\",\"date\":1485820800000,\"description.day_of_week\":\"Tuesday\",\"hour\":\"10\",\"NFPA.type\":\"FIRE\",\"calls\":4,\"mean_calls\":6.8676058219,\"norm_calls\":0.5824446108},{\"fire_department.firecares_id\":\"79592\",\"date\":1531440000000,\"description.day_of_week\":\"Friday\",\"hour\":\"21\",\"NFPA.type\":\"EMS\",\"calls\":2,\"mean_calls\":5.4475602499,\"norm_calls\":0.3671368297},{\"fire_department.firecares_id\":\"79592\",\"date\":1501027200000,\"description.day_of_week\":\"Wednesday\",\"hour\":\"16\",\"NFPA.type\":\"OTHER\",\"calls\":2,\"mean_calls\":5.4475602499,\"norm_calls\":0.3671368297},{\"fire_department.firecares_id\":\"93345\",\"date\":1560384000000,\"description.day_of_week\":\"Thursday\",\"hour\":\"16\",\"NFPA.type\":\"FIRE\",\"calls\":11,\"mean_calls\":6.8676058219,\"norm_calls\":1.6017226797},{\"fire_department.firecares_id\":\"79592\",\"date\":1555718400000,\"description.day_of_week\":\"Saturday\",\"hour\":\"20\",\"NFPA.type\":\"EMS\",\"calls\":5,\"mean_calls\":5.4475602499,\"norm_calls\":0.9178420744},{\"fire_department.firecares_id\":\"93345\",\"date\":1558742400000,\"description.day_of_week\":\"Saturday\",\"hour\":\"19\",\"NFPA.type\":\"EMS\",\"calls\":6,\"mean_calls\":6.8676058219,\"norm_calls\":0.8736669162},{\"fire_department.firecares_id\":\"79592\",\"date\":1431993600000,\"description.day_of_week\":\"Tuesday\",\"hour\":\"17\",\"NFPA.type\":\"EMS\",\"calls\":8,\"mean_calls\":5.4475602499,\"norm_calls\":1.468547319},{\"fire_department.firecares_id\":\"93345\",\"date\":1555718400000,\"description.day_of_week\":\"Saturday\",\"hour\":\"04\",\"NFPA.type\":\"FIRE\",\"calls\":1,\"mean_calls\":6.8676058219,\"norm_calls\":0.1456111527},{\"fire_department.firecares_id\":\"93345\",\"date\":1483660800000,\"description.day_of_week\":\"Friday\",\"hour\":\"10\",\"NFPA.type\":\"EMS\",\"calls\":8,\"mean_calls\":6.8676058219,\"norm_calls\":1.1648892216},{\"fire_department.firecares_id\":\"79592\",\"date\":1443571200000,\"description.day_of_week\":\"Wednesday\",\"hour\":\"14\",\"NFPA.type\":\"EMS\",\"calls\":3,\"mean_calls\":5.4475602499,\"norm_calls\":0.5507052446},{\"fire_department.firecares_id\":\"79592\",\"date\":1454112000000,\"description.day_of_week\":\"Saturday\",\"hour\":\"18\",\"NFPA.type\":\"EMS\",\"calls\":14,\"mean_calls\":5.4475602499,\"norm_calls\":2.5699578082},{\"fire_department.firecares_id\":\"93345\",\"date\":1549584000000,\"description.day_of_week\":\"Friday\",\"hour\":\"03\",\"NFPA.type\":\"EMS\",\"calls\":3,\"mean_calls\":6.8676058219,\"norm_calls\":0.4368334581},{\"fire_department.firecares_id\":\"79592\",\"date\":1481500800000,\"description.day_of_week\":\"Monday\",\"hour\":\"12\",\"NFPA.type\":\"EMS\",\"calls\":3,\"mean_calls\":5.4475602499,\"norm_calls\":0.5507052446},{\"fire_department.firecares_id\":\"79592\",\"date\":1534550400000,\"description.day_of_week\":\"Saturday\",\"hour\":\"02\",\"NFPA.type\":\"EMS\",\"calls\":4,\"mean_calls\":5.4475602499,\"norm_calls\":0.7342736595},{\"fire_department.firecares_id\":\"93345\",\"date\":1501372800000,\"description.day_of_week\":\"Sunday\",\"hour\":\"06\",\"NFPA.type\":\"FIRE\",\"calls\":2,\"mean_calls\":6.8676058219,\"norm_calls\":0.2912223054},{\"fire_department.firecares_id\":\"93345\",\"date\":1496534400000,\"description.day_of_week\":\"Sunday\",\"hour\":\"15\",\"NFPA.type\":\"FIRE\",\"calls\":6,\"mean_calls\":6.8676058219,\"norm_calls\":0.8736669162},{\"fire_department.firecares_id\":\"93345\",\"date\":1481155200000,\"description.day_of_week\":\"Thursday\",\"hour\":\"14\",\"NFPA.type\":\"OTHER\",\"calls\":1,\"mean_calls\":6.8676058219,\"norm_calls\":0.1456111527},{\"fire_department.firecares_id\":\"79592\",\"date\":1436140800000,\"description.day_of_week\":\"Monday\",\"hour\":\"10\",\"NFPA.type\":\"OTHER\",\"calls\":3,\"mean_calls\":5.4475602499,\"norm_calls\":0.5507052446},{\"fire_department.firecares_id\":\"93345\",\"date\":1534118400000,\"description.day_of_week\":\"Monday\",\"hour\":\"21\",\"NFPA.type\":\"EMS\",\"calls\":10,\"mean_calls\":6.8676058219,\"norm_calls\":1.456111527},{\"fire_department.firecares_id\":\"79592\",\"date\":1537488000000,\"description.day_of_week\":\"Friday\",\"hour\":\"18\",\"NFPA.type\":\"FIRE\",\"calls\":2,\"mean_calls\":5.4475602499,\"norm_calls\":0.3671368297},{\"fire_department.firecares_id\":\"79592\",\"date\":1432080000000,\"description.day_of_week\":\"Wednesday\",\"hour\":\"21\",\"NFPA.type\":\"FIRE\",\"calls\":9,\"mean_calls\":5.4475602499,\"norm_calls\":1.6521157339},{\"fire_department.firecares_id\":\"79592\",\"date\":1552348800000,\"description.day_of_week\":\"Tuesday\",\"hour\":\"05\",\"NFPA.type\":\"EMS\",\"calls\":6,\"mean_calls\":5.4475602499,\"norm_calls\":1.1014104892},{\"fire_department.firecares_id\":\"93345\",\"date\":1508025600000,\"description.day_of_week\":\"Sunday\",\"hour\":\"18\",\"NFPA.type\":\"EMS\",\"calls\":12,\"mean_calls\":6.8676058219,\"norm_calls\":1.7473338324},{\"fire_department.firecares_id\":\"79592\",\"date\":1540166400000,\"description.day_of_week\":\"Monday\",\"hour\":\"23\",\"NFPA.type\":\"EMS\",\"calls\":10,\"mean_calls\":5.4475602499,\"norm_calls\":1.8356841487},{\"fire_department.firecares_id\":\"79592\",\"date\":1431216000000,\"description.day_of_week\":\"Sunday\",\"hour\":\"18\",\"NFPA.type\":\"EMS\",\"calls\":3,\"mean_calls\":5.4475602499,\"norm_calls\":0.5507052446},{\"fire_department.firecares_id\":\"79592\",\"date\":1488153600000,\"description.day_of_week\":\"Monday\",\"hour\":\"14\",\"NFPA.type\":\"EMS\",\"calls\":7,\"mean_calls\":5.4475602499,\"norm_calls\":1.2849789041},{\"fire_department.firecares_id\":\"79592\",\"date\":1570233600000,\"description.day_of_week\":\"Saturday\",\"hour\":\"20\",\"NFPA.type\":\"EMS\",\"calls\":5,\"mean_calls\":5.4475602499,\"norm_calls\":0.9178420744},{\"fire_department.firecares_id\":\"79592\",\"date\":1573084800000,\"description.day_of_week\":\"Thursday\",\"hour\":\"19\",\"NFPA.type\":\"EMS\",\"calls\":12,\"mean_calls\":5.4475602499,\"norm_calls\":2.2028209785},{\"fire_department.firecares_id\":\"79592\",\"date\":1540339200000,\"description.day_of_week\":\"Wednesday\",\"hour\":\"20\",\"NFPA.type\":\"OTHER\",\"calls\":2,\"mean_calls\":5.4475602499,\"norm_calls\":0.3671368297},{\"fire_department.firecares_id\":\"79592\",\"date\":1569369600000,\"description.day_of_week\":\"Wednesday\",\"hour\":\"18\",\"NFPA.type\":\"EMS\",\"calls\":9,\"mean_calls\":5.4475602499,\"norm_calls\":1.6521157339},{\"fire_department.firecares_id\":\"79592\",\"date\":1569110400000,\"description.day_of_week\":\"Sunday\",\"hour\":\"11\",\"NFPA.type\":\"EMS\",\"calls\":19,\"mean_calls\":5.4475602499,\"norm_calls\":3.4877998826},{\"fire_department.firecares_id\":\"79592\",\"date\":1546646400000,\"description.day_of_week\":\"Saturday\",\"hour\":\"04\",\"NFPA.type\":\"EMS\",\"calls\":2,\"mean_calls\":5.4475602499,\"norm_calls\":0.3671368297},{\"fire_department.firecares_id\":\"79592\",\"date\":1433376000000,\"description.day_of_week\":\"Thursday\",\"hour\":\"12\",\"NFPA.type\":\"FIRE\",\"calls\":5,\"mean_calls\":5.4475602499,\"norm_calls\":0.9178420744},{\"fire_department.firecares_id\":\"79592\",\"date\":1570492800000,\"description.day_of_week\":\"Tuesday\",\"hour\":\"16\",\"NFPA.type\":\"EMS\",\"calls\":4,\"mean_calls\":5.4475602499,\"norm_calls\":0.7342736595},{\"fire_department.firecares_id\":\"79592\",\"date\":1473033600000,\"description.day_of_week\":\"Monday\",\"hour\":\"17\",\"NFPA.type\":\"EMS\",\"calls\":4,\"mean_calls\":5.4475602499,\"norm_calls\":0.7342736595},{\"fire_department.firecares_id\":\"79592\",\"date\":1472169600000,\"description.day_of_week\":\"Friday\",\"hour\":\"21\",\"NFPA.type\":\"EMS\",\"calls\":4,\"mean_calls\":5.4475602499,\"norm_calls\":0.7342736595},{\"fire_department.firecares_id\":\"93345\",\"date\":1491955200000,\"description.day_of_week\":\"Wednesday\",\"hour\":\"16\",\"NFPA.type\":\"FIRE\",\"calls\":18,\"mean_calls\":6.8676058219,\"norm_calls\":2.6210007486},{\"fire_department.firecares_id\":\"93345\",\"date\":1548028800000,\"description.day_of_week\":\"Monday\",\"hour\":\"21\",\"NFPA.type\":\"EMS\",\"calls\":8,\"mean_calls\":6.8676058219,\"norm_calls\":1.1648892216},{\"fire_department.firecares_id\":\"93345\",\"date\":1562716800000,\"description.day_of_week\":\"Wednesday\",\"hour\":\"13\",\"NFPA.type\":\"FIRE\",\"calls\":14,\"mean_calls\":6.8676058219,\"norm_calls\":2.0385561378},{\"fire_department.firecares_id\":\"79592\",\"date\":1504224000000,\"description.day_of_week\":\"Friday\",\"hour\":\"15\",\"NFPA.type\":\"EMS\",\"calls\":5,\"mean_calls\":5.4475602499,\"norm_calls\":0.9178420744},{\"fire_department.firecares_id\":\"79592\",\"date\":1520640000000,\"description.day_of_week\":\"Saturday\",\"hour\":\"10\",\"NFPA.type\":\"EMS\",\"calls\":5,\"mean_calls\":5.4475602499,\"norm_calls\":0.9178420744},{\"fire_department.firecares_id\":\"79592\",\"date\":1460592000000,\"description.day_of_week\":\"Thursday\",\"hour\":\"14\",\"NFPA.type\":\"EMS\",\"calls\":10,\"mean_calls\":5.4475602499,\"norm_calls\":1.8356841487},{\"fire_department.firecares_id\":\"79592\",\"date\":1543536000000,\"description.day_of_week\":\"Friday\",\"hour\":\"18\",\"NFPA.type\":\"EMS\",\"calls\":6,\"mean_calls\":5.4475602499,\"norm_calls\":1.1014104892},{\"fire_department.firecares_id\":\"93345\",\"date\":1545177600000,\"description.day_of_week\":\"Wednesday\",\"hour\":\"19\",\"NFPA.type\":\"FIRE\",\"calls\":4,\"mean_calls\":6.8676058219,\"norm_calls\":0.5824446108},{\"fire_department.firecares_id\":\"93345\",\"date\":1479945600000,\"description.day_of_week\":\"Thursday\",\"hour\":\"13\",\"NFPA.type\":\"EMS\",\"calls\":6,\"mean_calls\":6.8676058219,\"norm_calls\":0.8736669162},{\"fire_department.firecares_id\":\"93345\",\"date\":1546992000000,\"description.day_of_week\":\"Wednesday\",\"hour\":\"17\",\"NFPA.type\":\"FIRE\",\"calls\":7,\"mean_calls\":6.8676058219,\"norm_calls\":1.0192780689},{\"fire_department.firecares_id\":\"79592\",\"date\":1518566400000,\"description.day_of_week\":\"Wednesday\",\"hour\":\"14\",\"NFPA.type\":\"OTHER\",\"calls\":11,\"mean_calls\":5.4475602499,\"norm_calls\":2.0192525636},{\"fire_department.firecares_id\":\"93345\",\"date\":1533600000000,\"description.day_of_week\":\"Tuesday\",\"hour\":\"16\",\"NFPA.type\":\"EMS\",\"calls\":7,\"mean_calls\":6.8676058219,\"norm_calls\":1.0192780689},{\"fire_department.firecares_id\":\"79592\",\"date\":1471996800000,\"description.day_of_week\":\"Wednesday\",\"hour\":\"06\",\"NFPA.type\":\"EMS\",\"calls\":3,\"mean_calls\":5.4475602499,\"norm_calls\":0.5507052446},{\"fire_department.firecares_id\":\"79592\",\"date\":1570665600000,\"description.day_of_week\":\"Thursday\",\"hour\":\"14\",\"NFPA.type\":\"EMS\",\"calls\":2,\"mean_calls\":5.4475602499,\"norm_calls\":0.3671368297},{\"fire_department.firecares_id\":\"79592\",\"date\":1554249600000,\"description.day_of_week\":\"Wednesday\",\"hour\":\"04\",\"NFPA.type\":\"EMS\",\"calls\":13,\"mean_calls\":5.4475602499,\"norm_calls\":2.3863893933},{\"fire_department.firecares_id\":\"79592\",\"date\":1559779200000,\"description.day_of_week\":\"Thursday\",\"hour\":\"13\",\"NFPA.type\":\"EMS\",\"calls\":5,\"mean_calls\":5.4475602499,\"norm_calls\":0.9178420744},{\"fire_department.firecares_id\":\"93345\",\"date\":1492041600000,\"description.day_of_week\":\"Thursday\",\"hour\":\"13\",\"NFPA.type\":\"FIRE\",\"calls\":3,\"mean_calls\":6.8676058219,\"norm_calls\":0.4368334581},{\"fire_department.firecares_id\":\"79592\",\"date\":1489276800000,\"description.day_of_week\":\"Sunday\",\"hour\":\"11\",\"NFPA.type\":\"EMS\",\"calls\":3,\"mean_calls\":5.4475602499,\"norm_calls\":0.5507052446},{\"fire_department.firecares_id\":\"79592\",\"date\":1562457600000,\"description.day_of_week\":\"Sunday\",\"hour\":\"15\",\"NFPA.type\":\"EMS\",\"calls\":4,\"mean_calls\":5.4475602499,\"norm_calls\":0.7342736595},{\"fire_department.firecares_id\":\"93345\",\"date\":1489795200000,\"description.day_of_week\":\"Saturday\",\"hour\":\"22\",\"NFPA.type\":\"EMS\",\"calls\":6,\"mean_calls\":6.8676058219,\"norm_calls\":0.8736669162},{\"fire_department.firecares_id\":\"93345\",\"date\":1552953600000,\"description.day_of_week\":\"Tuesday\",\"hour\":\"19\",\"NFPA.type\":\"EMS\",\"calls\":8,\"mean_calls\":6.8676058219,\"norm_calls\":1.1648892216},{\"fire_department.firecares_id\":\"79592\",\"date\":1531872000000,\"description.day_of_week\":\"Wednesday\",\"hour\":\"21\",\"NFPA.type\":\"EMS\",\"calls\":6,\"mean_calls\":5.4475602499,\"norm_calls\":1.1014104892},{\"fire_department.firecares_id\":\"79592\",\"date\":1481241600000,\"description.day_of_week\":\"Friday\",\"hour\":\"10\",\"NFPA.type\":\"EMS\",\"calls\":5,\"mean_calls\":5.4475602499,\"norm_calls\":0.9178420744},{\"fire_department.firecares_id\":\"79592\",\"date\":1455926400000,\"description.day_of_week\":\"Saturday\",\"hour\":\"00\",\"NFPA.type\":\"FIRE\",\"calls\":2,\"mean_calls\":5.4475602499,\"norm_calls\":0.3671368297},{\"fire_department.firecares_id\":\"79592\",\"date\":1527033600000,\"description.day_of_week\":\"Wednesday\",\"hour\":\"17\",\"NFPA.type\":\"OTHER\",\"calls\":2,\"mean_calls\":5.4475602499,\"norm_calls\":0.3671368297},{\"fire_department.firecares_id\":\"93345\",\"date\":1490400000000,\"description.day_of_week\":\"Saturday\",\"hour\":\"07\",\"NFPA.type\":\"FIRE\",\"calls\":10,\"mean_calls\":6.8676058219,\"norm_calls\":1.456111527},{\"fire_department.firecares_id\":\"93345\",\"date\":1543449600000,\"description.day_of_week\":\"Thursday\",\"hour\":\"16\",\"NFPA.type\":\"FIRE\",\"calls\":2,\"mean_calls\":6.8676058219,\"norm_calls\":0.2912223054},{\"fire_department.firecares_id\":\"93345\",\"date\":1494547200000,\"description.day_of_week\":\"Friday\",\"hour\":\"21\",\"NFPA.type\":\"EMS\",\"calls\":4,\"mean_calls\":6.8676058219,\"norm_calls\":0.5824446108},{\"fire_department.firecares_id\":\"79592\",\"date\":1548115200000,\"description.day_of_week\":\"Tuesday\",\"hour\":\"00\",\"NFPA.type\":\"EMS\",\"calls\":2,\"mean_calls\":5.4475602499,\"norm_calls\":0.3671368297},{\"fire_department.firecares_id\":\"93345\",\"date\":1530662400000,\"description.day_of_week\":\"Wednesday\",\"hour\":\"04\",\"NFPA.type\":\"EMS\",\"calls\":2,\"mean_calls\":6.8676058219,\"norm_calls\":0.2912223054},{\"fire_department.firecares_id\":\"79592\",\"date\":1530316800000,\"description.day_of_week\":\"Saturday\",\"hour\":\"13\",\"NFPA.type\":\"EMS\",\"calls\":5,\"mean_calls\":5.4475602499,\"norm_calls\":0.9178420744},{\"fire_department.firecares_id\":\"93345\",\"date\":1514505600000,\"description.day_of_week\":\"Friday\",\"hour\":\"18\",\"NFPA.type\":\"FIRE\",\"calls\":13,\"mean_calls\":6.8676058219,\"norm_calls\":1.8929449851},{\"fire_department.firecares_id\":\"93345\",\"date\":1494288000000,\"description.day_of_week\":\"Tuesday\",\"hour\":\"20\",\"NFPA.type\":\"EMS\",\"calls\":4,\"mean_calls\":6.8676058219,\"norm_calls\":0.5824446108},{\"fire_department.firecares_id\":\"93345\",\"date\":1506124800000,\"description.day_of_week\":\"Saturday\",\"hour\":\"13\",\"NFPA.type\":\"FIRE\",\"calls\":7,\"mean_calls\":6.8676058219,\"norm_calls\":1.0192780689},{\"fire_department.firecares_id\":\"79592\",\"date\":1505433600000,\"description.day_of_week\":\"Friday\",\"hour\":\"12\",\"NFPA.type\":\"EMS\",\"calls\":10,\"mean_calls\":5.4475602499,\"norm_calls\":1.8356841487},{\"fire_department.firecares_id\":\"79592\",\"date\":1493510400000,\"description.day_of_week\":\"Sunday\",\"hour\":\"14\",\"NFPA.type\":\"EMS\",\"calls\":6,\"mean_calls\":5.4475602499,\"norm_calls\":1.1014104892},{\"fire_department.firecares_id\":\"93345\",\"date\":1574899200000,\"description.day_of_week\":\"Thursday\",\"hour\":\"03\",\"NFPA.type\":\"EMS\",\"calls\":2,\"mean_calls\":6.8676058219,\"norm_calls\":0.2912223054},{\"fire_department.firecares_id\":\"79592\",\"date\":1474156800000,\"description.day_of_week\":\"Sunday\",\"hour\":\"13\",\"NFPA.type\":\"EMS\",\"calls\":3,\"mean_calls\":5.4475602499,\"norm_calls\":0.5507052446},{\"fire_department.firecares_id\":\"93345\",\"date\":1568678400000,\"description.day_of_week\":\"Tuesday\",\"hour\":\"20\",\"NFPA.type\":\"EMS\",\"calls\":10,\"mean_calls\":6.8676058219,\"norm_calls\":1.456111527},{\"fire_department.firecares_id\":\"79592\",\"date\":1555286400000,\"description.day_of_week\":\"Monday\",\"hour\":\"08\",\"NFPA.type\":\"EMS\",\"calls\":5,\"mean_calls\":5.4475602499,\"norm_calls\":0.9178420744},{\"fire_department.firecares_id\":\"79592\",\"date\":1549497600000,\"description.day_of_week\":\"Thursday\",\"hour\":\"06\",\"NFPA.type\":\"EMS\",\"calls\":6,\"mean_calls\":5.4475602499,\"norm_calls\":1.1014104892},{\"fire_department.firecares_id\":\"79592\",\"date\":1491696000000,\"description.day_of_week\":\"Sunday\",\"hour\":\"18\",\"NFPA.type\":\"FIRE\",\"calls\":2,\"mean_calls\":5.4475602499,\"norm_calls\":0.3671368297},{\"fire_department.firecares_id\":\"79592\",\"date\":1473897600000,\"description.day_of_week\":\"Thursday\",\"hour\":\"15\",\"NFPA.type\":\"FIRE\",\"calls\":2,\"mean_calls\":5.4475602499,\"norm_calls\":0.3671368297},{\"fire_department.firecares_id\":\"79592\",\"date\":1543449600000,\"description.day_of_week\":\"Thursday\",\"hour\":\"23\",\"NFPA.type\":\"OTHER\",\"calls\":3,\"mean_calls\":5.4475602499,\"norm_calls\":0.5507052446},{\"fire_department.firecares_id\":\"93345\",\"date\":1523923200000,\"description.day_of_week\":\"Tuesday\",\"hour\":\"17\",\"NFPA.type\":\"FIRE\",\"calls\":10,\"mean_calls\":6.8676058219,\"norm_calls\":1.456111527},{\"fire_department.firecares_id\":\"79592\",\"date\":1495324800000,\"description.day_of_week\":\"Sunday\",\"hour\":\"13\",\"NFPA.type\":\"OTHER\",\"calls\":2,\"mean_calls\":5.4475602499,\"norm_calls\":0.3671368297},{\"fire_department.firecares_id\":\"79592\",\"date\":1444953600000,\"description.day_of_week\":\"Friday\",\"hour\":\"04\",\"NFPA.type\":\"EMS\",\"calls\":3,\"mean_calls\":5.4475602499,\"norm_calls\":0.5507052446},{\"fire_department.firecares_id\":\"93345\",\"date\":1515283200000,\"description.day_of_week\":\"Sunday\",\"hour\":\"23\",\"NFPA.type\":\"EMS\",\"calls\":6,\"mean_calls\":6.8676058219,\"norm_calls\":0.8736669162},{\"fire_department.firecares_id\":\"93345\",\"date\":1502841600000,\"description.day_of_week\":\"Wednesday\",\"hour\":\"05\",\"NFPA.type\":\"EMS\",\"calls\":4,\"mean_calls\":6.8676058219,\"norm_calls\":0.5824446108},{\"fire_department.firecares_id\":\"79592\",\"date\":1514505600000,\"description.day_of_week\":\"Friday\",\"hour\":\"10\",\"NFPA.type\":\"EMS\",\"calls\":8,\"mean_calls\":5.4475602499,\"norm_calls\":1.468547319},{\"fire_department.firecares_id\":\"93345\",\"date\":1552694400000,\"description.day_of_week\":\"Saturday\",\"hour\":\"15\",\"NFPA.type\":\"EMS\",\"calls\":12,\"mean_calls\":6.8676058219,\"norm_calls\":1.7473338324},{\"fire_department.firecares_id\":\"93345\",\"date\":1570665600000,\"description.day_of_week\":\"Thursday\",\"hour\":\"14\",\"NFPA.type\":\"FIRE\",\"calls\":6,\"mean_calls\":6.8676058219,\"norm_calls\":0.8736669162},{\"fire_department.firecares_id\":\"79592\",\"date\":1566864000000,\"description.day_of_week\":\"Tuesday\",\"hour\":\"19\",\"NFPA.type\":\"OTHER\",\"calls\":2,\"mean_calls\":5.4475602499,\"norm_calls\":0.3671368297},{\"fire_department.firecares_id\":\"79592\",\"date\":1465430400000,\"description.day_of_week\":\"Thursday\",\"hour\":\"14\",\"NFPA.type\":\"FIRE\",\"calls\":2,\"mean_calls\":5.4475602499,\"norm_calls\":0.3671368297},{\"fire_department.firecares_id\":\"93345\",\"date\":1506729600000,\"description.day_of_week\":\"Saturday\",\"hour\":\"09\",\"NFPA.type\":\"FIRE\",\"calls\":5,\"mean_calls\":6.8676058219,\"norm_calls\":0.7280557635},{\"fire_department.firecares_id\":\"93345\",\"date\":1536710400000,\"description.day_of_week\":\"Wednesday\",\"hour\":\"04\",\"NFPA.type\":\"FIRE\",\"calls\":4,\"mean_calls\":6.8676058219,\"norm_calls\":0.5824446108},{\"fire_department.firecares_id\":\"93345\",\"date\":1488672000000,\"description.day_of_week\":\"Sunday\",\"hour\":\"01\",\"NFPA.type\":\"FIRE\",\"calls\":4,\"mean_calls\":6.8676058219,\"norm_calls\":0.5824446108},{\"fire_department.firecares_id\":\"93345\",\"date\":1570752000000,\"description.day_of_week\":\"Friday\",\"hour\":\"16\",\"NFPA.type\":\"FIRE\",\"calls\":4,\"mean_calls\":6.8676058219,\"norm_calls\":0.5824446108},{\"fire_department.firecares_id\":\"79592\",\"date\":1502409600000,\"description.day_of_week\":\"Friday\",\"hour\":\"11\",\"NFPA.type\":\"EMS\",\"calls\":6,\"mean_calls\":5.4475602499,\"norm_calls\":1.1014104892},{\"fire_department.firecares_id\":\"79592\",\"date\":1480723200000,\"description.day_of_week\":\"Saturday\",\"hour\":\"11\",\"NFPA.type\":\"EMS\",\"calls\":10,\"mean_calls\":5.4475602499,\"norm_calls\":1.8356841487},{\"fire_department.firecares_id\":\"79592\",\"date\":1466553600000,\"description.day_of_week\":\"Wednesday\",\"hour\":\"18\",\"NFPA.type\":\"EMS\",\"calls\":7,\"mean_calls\":5.4475602499,\"norm_calls\":1.2849789041},{\"fire_department.firecares_id\":\"93345\",\"date\":1535673600000,\"description.day_of_week\":\"Friday\",\"hour\":\"18\",\"NFPA.type\":\"FIRE\",\"calls\":10,\"mean_calls\":6.8676058219,\"norm_calls\":1.456111527},{\"fire_department.firecares_id\":\"93345\",\"date\":1507852800000,\"description.day_of_week\":\"Friday\",\"hour\":\"11\",\"NFPA.type\":\"EMS\",\"calls\":2,\"mean_calls\":6.8676058219,\"norm_calls\":0.2912223054},{\"fire_department.firecares_id\":\"93345\",\"date\":1554595200000,\"description.day_of_week\":\"Sunday\",\"hour\":\"20\",\"NFPA.type\":\"EMS\",\"calls\":8,\"mean_calls\":6.8676058219,\"norm_calls\":1.1648892216},{\"fire_department.firecares_id\":\"79592\",\"date\":1478736000000,\"description.day_of_week\":\"Thursday\",\"hour\":\"09\",\"NFPA.type\":\"EMS\",\"calls\":3,\"mean_calls\":5.4475602499,\"norm_calls\":0.5507052446},{\"fire_department.firecares_id\":\"79592\",\"date\":1574467200000,\"description.day_of_week\":\"Saturday\",\"hour\":\"17\",\"NFPA.type\":\"EMS\",\"calls\":16,\"mean_calls\":5.4475602499,\"norm_calls\":2.937094638},{\"fire_department.firecares_id\":\"93345\",\"date\":1553040000000,\"description.day_of_week\":\"Wednesday\",\"hour\":\"09\",\"NFPA.type\":\"FIRE\",\"calls\":6,\"mean_calls\":6.8676058219,\"norm_calls\":0.8736669162},{\"fire_department.firecares_id\":\"79592\",\"date\":1540944000000,\"description.day_of_week\":\"Wednesday\",\"hour\":\"16\",\"NFPA.type\":\"EMS\",\"calls\":4,\"mean_calls\":5.4475602499,\"norm_calls\":0.7342736595},{\"fire_department.firecares_id\":\"93345\",\"date\":1531267200000,\"description.day_of_week\":\"Wednesday\",\"hour\":\"07\",\"NFPA.type\":\"FIRE\",\"calls\":3,\"mean_calls\":6.8676058219,\"norm_calls\":0.4368334581},{\"fire_department.firecares_id\":\"79592\",\"date\":1526342400000,\"description.day_of_week\":\"Tuesday\",\"hour\":\"22\",\"NFPA.type\":\"EMS\",\"calls\":2,\"mean_calls\":5.4475602499,\"norm_calls\":0.3671368297},{\"fire_department.firecares_id\":\"79592\",\"date\":1566777600000,\"description.day_of_week\":\"Monday\",\"hour\":\"23\",\"NFPA.type\":\"FIRE\",\"calls\":2,\"mean_calls\":5.4475602499,\"norm_calls\":0.3671368297},{\"fire_department.firecares_id\":\"93345\",\"date\":1516752000000,\"description.day_of_week\":\"Wednesday\",\"hour\":\"09\",\"NFPA.type\":\"FIRE\",\"calls\":11,\"mean_calls\":6.8676058219,\"norm_calls\":1.6017226797},{\"fire_department.firecares_id\":\"93345\",\"date\":1498867200000,\"description.day_of_week\":\"Saturday\",\"hour\":\"13\",\"NFPA.type\":\"FIRE\",\"calls\":4,\"mean_calls\":6.8676058219,\"norm_calls\":0.5824446108},{\"fire_department.firecares_id\":\"93345\",\"date\":1526169600000,\"description.day_of_week\":\"Sunday\",\"hour\":\"07\",\"NFPA.type\":\"EMS\",\"calls\":6,\"mean_calls\":6.8676058219,\"norm_calls\":0.8736669162},{\"fire_department.firecares_id\":\"93345\",\"date\":1541635200000,\"description.day_of_week\":\"Thursday\",\"hour\":\"10\",\"NFPA.type\":\"FIRE\",\"calls\":15,\"mean_calls\":6.8676058219,\"norm_calls\":2.1841672905},{\"fire_department.firecares_id\":\"93345\",\"date\":1529452800000,\"description.day_of_week\":\"Wednesday\",\"hour\":\"06\",\"NFPA.type\":\"EMS\",\"calls\":2,\"mean_calls\":6.8676058219,\"norm_calls\":0.2912223054},{\"fire_department.firecares_id\":\"93345\",\"date\":1487116800000,\"description.day_of_week\":\"Wednesday\",\"hour\":\"05\",\"NFPA.type\":\"EMS\",\"calls\":4,\"mean_calls\":6.8676058219,\"norm_calls\":0.5824446108},{\"fire_department.firecares_id\":\"79592\",\"date\":1532217600000,\"description.day_of_week\":\"Sunday\",\"hour\":\"02\",\"NFPA.type\":\"EMS\",\"calls\":4,\"mean_calls\":5.4475602499,\"norm_calls\":0.7342736595},{\"fire_department.firecares_id\":\"93345\",\"date\":1490918400000,\"description.day_of_week\":\"Friday\",\"hour\":\"00\",\"NFPA.type\":\"FIRE\",\"calls\":5,\"mean_calls\":6.8676058219,\"norm_calls\":0.7280557635},{\"fire_department.firecares_id\":\"93345\",\"date\":1487980800000,\"description.day_of_week\":\"Saturday\",\"hour\":\"13\",\"NFPA.type\":\"FIRE\",\"calls\":21,\"mean_calls\":6.8676058219,\"norm_calls\":3.0578342067},{\"fire_department.firecares_id\":\"79592\",\"date\":1504137600000,\"description.day_of_week\":\"Thursday\",\"hour\":\"21\",\"NFPA.type\":\"EMS\",\"calls\":2,\"mean_calls\":5.4475602499,\"norm_calls\":0.3671368297},{\"fire_department.firecares_id\":\"93345\",\"date\":1480464000000,\"description.day_of_week\":\"Wednesday\",\"hour\":\"03\",\"NFPA.type\":\"FIRE\",\"calls\":13,\"mean_calls\":6.8676058219,\"norm_calls\":1.8929449851},{\"fire_department.firecares_id\":\"93345\",\"date\":1570147200000,\"description.day_of_week\":\"Friday\",\"hour\":\"09\",\"NFPA.type\":\"FIRE\",\"calls\":4,\"mean_calls\":6.8676058219,\"norm_calls\":0.5824446108},{\"fire_department.firecares_id\":\"79592\",\"date\":1497312000000,\"description.day_of_week\":\"Tuesday\",\"hour\":\"12\",\"NFPA.type\":\"EMS\",\"calls\":7,\"mean_calls\":5.4475602499,\"norm_calls\":1.2849789041},{\"fire_department.firecares_id\":\"79592\",\"date\":1508457600000,\"description.day_of_week\":\"Friday\",\"hour\":\"07\",\"NFPA.type\":\"EMS\",\"calls\":2,\"mean_calls\":5.4475602499,\"norm_calls\":0.3671368297},{\"fire_department.firecares_id\":\"93345\",\"date\":1530403200000,\"description.day_of_week\":\"Sunday\",\"hour\":\"17\",\"NFPA.type\":\"FIRE\",\"calls\":2,\"mean_calls\":6.8676058219,\"norm_calls\":0.2912223054},{\"fire_department.firecares_id\":\"79592\",\"date\":1451606400000,\"description.day_of_week\":\"Friday\",\"hour\":\"23\",\"NFPA.type\":\"EMS\",\"calls\":8,\"mean_calls\":5.4475602499,\"norm_calls\":1.468547319},{\"fire_department.firecares_id\":\"79592\",\"date\":1496620800000,\"description.day_of_week\":\"Monday\",\"hour\":\"22\",\"NFPA.type\":\"EMS\",\"calls\":4,\"mean_calls\":5.4475602499,\"norm_calls\":0.7342736595},{\"fire_department.firecares_id\":\"79592\",\"date\":1572307200000,\"description.day_of_week\":\"Tuesday\",\"hour\":\"01\",\"NFPA.type\":\"EMS\",\"calls\":2,\"mean_calls\":5.4475602499,\"norm_calls\":0.3671368297},{\"fire_department.firecares_id\":\"93345\",\"date\":1501286400000,\"description.day_of_week\":\"Saturday\",\"hour\":\"18\",\"NFPA.type\":\"FIRE\",\"calls\":4,\"mean_calls\":6.8676058219,\"norm_calls\":0.5824446108},{\"fire_department.firecares_id\":\"93345\",\"date\":1522022400000,\"description.day_of_week\":\"Monday\",\"hour\":\"18\",\"NFPA.type\":\"EMS\",\"calls\":4,\"mean_calls\":6.8676058219,\"norm_calls\":0.5824446108},{\"fire_department.firecares_id\":\"93345\",\"date\":1522195200000,\"description.day_of_week\":\"Wednesday\",\"hour\":\"15\",\"NFPA.type\":\"FIRE\",\"calls\":19,\"mean_calls\":6.8676058219,\"norm_calls\":2.7666119013},{\"fire_department.firecares_id\":\"93345\",\"date\":1533427200000,\"description.day_of_week\":\"Sunday\",\"hour\":\"17\",\"NFPA.type\":\"FIRE\",\"calls\":31,\"mean_calls\":6.8676058219,\"norm_calls\":4.5139457336},{\"fire_department.firecares_id\":\"93345\",\"date\":1507766400000,\"description.day_of_week\":\"Thursday\",\"hour\":\"18\",\"NFPA.type\":\"EMS\",\"calls\":2,\"mean_calls\":6.8676058219,\"norm_calls\":0.2912223054},{\"fire_department.firecares_id\":\"79592\",\"date\":1542240000000,\"description.day_of_week\":\"Thursday\",\"hour\":\"23\",\"NFPA.type\":\"EMS\",\"calls\":11,\"mean_calls\":5.4475602499,\"norm_calls\":2.0192525636},{\"fire_department.firecares_id\":\"93345\",\"date\":1549584000000,\"description.day_of_week\":\"Friday\",\"hour\":\"23\",\"NFPA.type\":\"FIRE\",\"calls\":3,\"mean_calls\":6.8676058219,\"norm_calls\":0.4368334581},{\"fire_department.firecares_id\":\"79592\",\"date\":1537488000000,\"description.day_of_week\":\"Friday\",\"hour\":\"21\",\"NFPA.type\":\"EMS\",\"calls\":3,\"mean_calls\":5.4475602499,\"norm_calls\":0.5507052446},{\"fire_department.firecares_id\":\"93345\",\"date\":1575244800000,\"description.day_of_week\":\"Monday\",\"hour\":\"15\",\"NFPA.type\":\"FIRE\",\"calls\":2,\"mean_calls\":6.8676058219,\"norm_calls\":0.2912223054},{\"fire_department.firecares_id\":\"93345\",\"date\":1534809600000,\"description.day_of_week\":\"Tuesday\",\"hour\":\"21\",\"NFPA.type\":\"EMS\",\"calls\":2,\"mean_calls\":6.8676058219,\"norm_calls\":0.2912223054},{\"fire_department.firecares_id\":\"93345\",\"date\":1514764800000,\"description.day_of_week\":\"Monday\",\"hour\":\"16\",\"NFPA.type\":\"FIRE\",\"calls\":8,\"mean_calls\":6.8676058219,\"norm_calls\":1.1648892216},{\"fire_department.firecares_id\":\"93345\",\"date\":1519344000000,\"description.day_of_week\":\"Friday\",\"hour\":\"22\",\"NFPA.type\":\"FIRE\",\"calls\":7,\"mean_calls\":6.8676058219,\"norm_calls\":1.0192780689},{\"fire_department.firecares_id\":\"79592\",\"date\":1555372800000,\"description.day_of_week\":\"Tuesday\",\"hour\":\"13\",\"NFPA.type\":\"FIRE\",\"calls\":2,\"mean_calls\":5.4475602499,\"norm_calls\":0.3671368297},{\"fire_department.firecares_id\":\"93345\",\"date\":1557532800000,\"description.day_of_week\":\"Saturday\",\"hour\":\"15\",\"NFPA.type\":\"EMS\",\"calls\":6,\"mean_calls\":6.8676058219,\"norm_calls\":0.8736669162},{\"fire_department.firecares_id\":\"79592\",\"date\":1549324800000,\"description.day_of_week\":\"Tuesday\",\"hour\":\"16\",\"NFPA.type\":\"EMS\",\"calls\":14,\"mean_calls\":5.4475602499,\"norm_calls\":2.5699578082},{\"fire_department.firecares_id\":\"93345\",\"date\":1521331200000,\"description.day_of_week\":\"Sunday\",\"hour\":\"10\",\"NFPA.type\":\"FIRE\",\"calls\":2,\"mean_calls\":6.8676058219,\"norm_calls\":0.2912223054},{\"fire_department.firecares_id\":\"93345\",\"date\":1571529600000,\"description.day_of_week\":\"Sunday\",\"hour\":\"20\",\"NFPA.type\":\"EMS\",\"calls\":2,\"mean_calls\":6.8676058219,\"norm_calls\":0.2912223054},{\"fire_department.firecares_id\":\"79592\",\"date\":1524096000000,\"description.day_of_week\":\"Thursday\",\"hour\":\"11\",\"NFPA.type\":\"EMS\",\"calls\":2,\"mean_calls\":5.4475602499,\"norm_calls\":0.3671368297},{\"fire_department.firecares_id\":\"93345\",\"date\":1502668800000,\"description.day_of_week\":\"Monday\",\"hour\":\"00\",\"NFPA.type\":\"FIRE\",\"calls\":8,\"mean_calls\":6.8676058219,\"norm_calls\":1.1648892216},{\"fire_department.firecares_id\":\"93345\",\"date\":1556668800000,\"description.day_of_week\":\"Wednesday\",\"hour\":\"09\",\"NFPA.type\":\"EMS\",\"calls\":4,\"mean_calls\":6.8676058219,\"norm_calls\":0.5824446108},{\"fire_department.firecares_id\":\"79592\",\"date\":1567641600000,\"description.day_of_week\":\"Thursday\",\"hour\":\"13\",\"NFPA.type\":\"EMS\",\"calls\":5,\"mean_calls\":5.4475602499,\"norm_calls\":0.9178420744},{\"fire_department.firecares_id\":\"79592\",\"date\":1441238400000,\"description.day_of_week\":\"Thursday\",\"hour\":\"19\",\"NFPA.type\":\"EMS\",\"calls\":6,\"mean_calls\":5.4475602499,\"norm_calls\":1.1014104892},{\"fire_department.firecares_id\":\"93345\",\"date\":1503446400000,\"description.day_of_week\":\"Wednesday\",\"hour\":\"14\",\"NFPA.type\":\"FIRE\",\"calls\":4,\"mean_calls\":6.8676058219,\"norm_calls\":0.5824446108},{\"fire_department.firecares_id\":\"79592\",\"date\":1467158400000,\"description.day_of_week\":\"Wednesday\",\"hour\":\"11\",\"NFPA.type\":\"EMS\",\"calls\":25,\"mean_calls\":5.4475602499,\"norm_calls\":4.5892103718},{\"fire_department.firecares_id\":\"79592\",\"date\":1437955200000,\"description.day_of_week\":\"Monday\",\"hour\":\"14\",\"NFPA.type\":\"EMS\",\"calls\":20,\"mean_calls\":5.4475602499,\"norm_calls\":3.6713682974},{\"fire_department.firecares_id\":\"93345\",\"date\":1489536000000,\"description.day_of_week\":\"Wednesday\",\"hour\":\"18\",\"NFPA.type\":\"EMS\",\"calls\":10,\"mean_calls\":6.8676058219,\"norm_calls\":1.456111527},{\"fire_department.firecares_id\":\"93345\",\"date\":1565568000000,\"description.day_of_week\":\"Monday\",\"hour\":\"00\",\"NFPA.type\":\"EMS\",\"calls\":6,\"mean_calls\":6.8676058219,\"norm_calls\":0.8736669162},{\"fire_department.firecares_id\":\"93345\",\"date\":1525996800000,\"description.day_of_week\":\"Friday\",\"hour\":\"21\",\"NFPA.type\":\"FIRE\",\"calls\":7,\"mean_calls\":6.8676058219,\"norm_calls\":1.0192780689},{\"fire_department.firecares_id\":\"79592\",\"date\":1485561600000,\"description.day_of_week\":\"Saturday\",\"hour\":\"08\",\"NFPA.type\":\"EMS\",\"calls\":9,\"mean_calls\":5.4475602499,\"norm_calls\":1.6521157339},{\"fire_department.firecares_id\":\"93345\",\"date\":1519430400000,\"description.day_of_week\":\"Saturday\",\"hour\":\"22\",\"NFPA.type\":\"FIRE\",\"calls\":15,\"mean_calls\":6.8676058219,\"norm_calls\":2.1841672905},{\"fire_department.firecares_id\":\"79592\",\"date\":1534464000000,\"description.day_of_week\":\"Friday\",\"hour\":\"06\",\"NFPA.type\":\"EMS\",\"calls\":3,\"mean_calls\":5.4475602499,\"norm_calls\":0.5507052446},{\"fire_department.firecares_id\":\"93345\",\"date\":1549929600000,\"description.day_of_week\":\"Tuesday\",\"hour\":\"01\",\"NFPA.type\":\"FIRE\",\"calls\":11,\"mean_calls\":6.8676058219,\"norm_calls\":1.6017226797},{\"fire_department.firecares_id\":\"93345\",\"date\":1565568000000,\"description.day_of_week\":\"Monday\",\"hour\":\"21\",\"NFPA.type\":\"EMS\",\"calls\":2,\"mean_calls\":6.8676058219,\"norm_calls\":0.2912223054},{\"fire_department.firecares_id\":\"79592\",\"date\":1446163200000,\"description.day_of_week\":\"Friday\",\"hour\":\"23\",\"NFPA.type\":\"EMS\",\"calls\":3,\"mean_calls\":5.4475602499,\"norm_calls\":0.5507052446},{\"fire_department.firecares_id\":\"93345\",\"date\":1548115200000,\"description.day_of_week\":\"Tuesday\",\"hour\":\"06\",\"NFPA.type\":\"FIRE\",\"calls\":7,\"mean_calls\":6.8676058219,\"norm_calls\":1.0192780689},{\"fire_department.firecares_id\":\"93345\",\"date\":1534291200000,\"description.day_of_week\":\"Wednesday\",\"hour\":\"01\",\"NFPA.type\":\"EMS\",\"calls\":14,\"mean_calls\":6.8676058219,\"norm_calls\":2.0385561378},{\"fire_department.firecares_id\":\"93345\",\"date\":1567468800000,\"description.day_of_week\":\"Tuesday\",\"hour\":\"15\",\"NFPA.type\":\"FIRE\",\"calls\":32,\"mean_calls\":6.8676058219,\"norm_calls\":4.6595568863},{\"fire_department.firecares_id\":\"93345\",\"date\":1546387200000,\"description.day_of_week\":\"Wednesday\",\"hour\":\"07\",\"NFPA.type\":\"EMS\",\"calls\":4,\"mean_calls\":6.8676058219,\"norm_calls\":0.5824446108},{\"fire_department.firecares_id\":\"79592\",\"date\":1534982400000,\"description.day_of_week\":\"Thursday\",\"hour\":\"20\",\"NFPA.type\":\"EMS\",\"calls\":2,\"mean_calls\":5.4475602499,\"norm_calls\":0.3671368297},{\"fire_department.firecares_id\":\"79592\",\"date\":1551052800000,\"description.day_of_week\":\"Monday\",\"hour\":\"11\",\"NFPA.type\":\"FIRE\",\"calls\":2,\"mean_calls\":5.4475602499,\"norm_calls\":0.3671368297},{\"fire_department.firecares_id\":\"93345\",\"date\":1520294400000,\"description.day_of_week\":\"Tuesday\",\"hour\":\"19\",\"NFPA.type\":\"OTHER\",\"calls\":2,\"mean_calls\":6.8676058219,\"norm_calls\":0.2912223054},{\"fire_department.firecares_id\":\"79592\",\"date\":1471478400000,\"description.day_of_week\":\"Thursday\",\"hour\":\"16\",\"NFPA.type\":\"OTHER\",\"calls\":2,\"mean_calls\":5.4475602499,\"norm_calls\":0.3671368297},{\"fire_department.firecares_id\":\"93345\",\"date\":1493596800000,\"description.day_of_week\":\"Monday\",\"hour\":\"14\",\"NFPA.type\":\"EMS\",\"calls\":13,\"mean_calls\":6.8676058219,\"norm_calls\":1.8929449851},{\"fire_department.firecares_id\":\"79592\",\"date\":1495411200000,\"description.day_of_week\":\"Monday\",\"hour\":\"12\",\"NFPA.type\":\"EMS\",\"calls\":17,\"mean_calls\":5.4475602499,\"norm_calls\":3.1206630528},{\"fire_department.firecares_id\":\"79592\",\"date\":1435190400000,\"description.day_of_week\":\"Thursday\",\"hour\":\"01\",\"NFPA.type\":\"EMS\",\"calls\":5,\"mean_calls\":5.4475602499,\"norm_calls\":0.9178420744},{\"fire_department.firecares_id\":\"93345\",\"date\":1562457600000,\"description.day_of_week\":\"Sunday\",\"hour\":\"04\",\"NFPA.type\":\"FIRE\",\"calls\":2,\"mean_calls\":6.8676058219,\"norm_calls\":0.2912223054},{\"fire_department.firecares_id\":\"79592\",\"date\":1477612800000,\"description.day_of_week\":\"Friday\",\"hour\":\"06\",\"NFPA.type\":\"EMS\",\"calls\":6,\"mean_calls\":5.4475602499,\"norm_calls\":1.1014104892},{\"fire_department.firecares_id\":\"93345\",\"date\":1494201600000,\"description.day_of_week\":\"Monday\",\"hour\":\"10\",\"NFPA.type\":\"EMS\",\"calls\":4,\"mean_calls\":6.8676058219,\"norm_calls\":0.5824446108},{\"fire_department.firecares_id\":\"93345\",\"date\":1558656000000,\"description.day_of_week\":\"Friday\",\"hour\":\"21\",\"NFPA.type\":\"FIRE\",\"calls\":2,\"mean_calls\":6.8676058219,\"norm_calls\":0.2912223054},{\"fire_department.firecares_id\":\"93345\",\"date\":1498089600000,\"description.day_of_week\":\"Thursday\",\"hour\":\"00\",\"NFPA.type\":\"EMS\",\"calls\":2,\"mean_calls\":6.8676058219,\"norm_calls\":0.2912223054},{\"fire_department.firecares_id\":\"79592\",\"date\":1560124800000,\"description.day_of_week\":\"Monday\",\"hour\":\"13\",\"NFPA.type\":\"EMS\",\"calls\":11,\"mean_calls\":5.4475602499,\"norm_calls\":2.0192525636},{\"fire_department.firecares_id\":\"79592\",\"date\":1484784000000,\"description.day_of_week\":\"Thursday\",\"hour\":\"03\",\"NFPA.type\":\"EMS\",\"calls\":2,\"mean_calls\":5.4475602499,\"norm_calls\":0.3671368297},{\"fire_department.firecares_id\":\"79592\",\"date\":1469923200000,\"description.day_of_week\":\"Sunday\",\"hour\":\"15\",\"NFPA.type\":\"EMS\",\"calls\":4,\"mean_calls\":5.4475602499,\"norm_calls\":0.7342736595},{\"fire_department.firecares_id\":\"93345\",\"date\":1555804800000,\"description.day_of_week\":\"Sunday\",\"hour\":\"22\",\"NFPA.type\":\"EMS\",\"calls\":12,\"mean_calls\":6.8676058219,\"norm_calls\":1.7473338324},{\"fire_department.firecares_id\":\"79592\",\"date\":1479254400000,\"description.day_of_week\":\"Wednesday\",\"hour\":\"08\",\"NFPA.type\":\"EMS\",\"calls\":6,\"mean_calls\":5.4475602499,\"norm_calls\":1.1014104892},{\"fire_department.firecares_id\":\"79592\",\"date\":1549843200000,\"description.day_of_week\":\"Monday\",\"hour\":\"09\",\"NFPA.type\":\"EMS\",\"calls\":8,\"mean_calls\":5.4475602499,\"norm_calls\":1.468547319},{\"fire_department.firecares_id\":\"93345\",\"date\":1510272000000,\"description.day_of_week\":\"Friday\",\"hour\":\"16\",\"NFPA.type\":\"EMS\",\"calls\":2,\"mean_calls\":6.8676058219,\"norm_calls\":0.2912223054},{\"fire_department.firecares_id\":\"79592\",\"date\":1474243200000,\"description.day_of_week\":\"Monday\",\"hour\":\"10\",\"NFPA.type\":\"EMS\",\"calls\":19,\"mean_calls\":5.4475602499,\"norm_calls\":3.4877998826},{\"fire_department.firecares_id\":\"93345\",\"date\":1496102400000,\"description.day_of_week\":\"Tuesday\",\"hour\":\"04\",\"NFPA.type\":\"EMS\",\"calls\":8,\"mean_calls\":6.8676058219,\"norm_calls\":1.1648892216},{\"fire_department.firecares_id\":\"93345\",\"date\":1524873600000,\"description.day_of_week\":\"Saturday\",\"hour\":\"04\",\"NFPA.type\":\"EMS\",\"calls\":4,\"mean_calls\":6.8676058219,\"norm_calls\":0.5824446108},{\"fire_department.firecares_id\":\"79592\",\"date\":1491177600000,\"description.day_of_week\":\"Monday\",\"hour\":\"20\",\"NFPA.type\":\"EMS\",\"calls\":4,\"mean_calls\":5.4475602499,\"norm_calls\":0.7342736595},{\"fire_department.firecares_id\":\"93345\",\"date\":1518480000000,\"description.day_of_week\":\"Tuesday\",\"hour\":\"05\",\"NFPA.type\":\"EMS\",\"calls\":2,\"mean_calls\":6.8676058219,\"norm_calls\":0.2912223054},{\"fire_department.firecares_id\":\"93345\",\"date\":1502064000000,\"description.day_of_week\":\"Monday\",\"hour\":\"10\",\"NFPA.type\":\"FIRE\",\"calls\":11,\"mean_calls\":6.8676058219,\"norm_calls\":1.6017226797},{\"fire_department.firecares_id\":\"79592\",\"date\":1506816000000,\"description.day_of_week\":\"Sunday\",\"hour\":\"14\",\"NFPA.type\":\"EMS\",\"calls\":10,\"mean_calls\":5.4475602499,\"norm_calls\":1.8356841487},{\"fire_department.firecares_id\":\"93345\",\"date\":1542844800000,\"description.day_of_week\":\"Thursday\",\"hour\":\"09\",\"NFPA.type\":\"EMS\",\"calls\":3,\"mean_calls\":6.8676058219,\"norm_calls\":0.4368334581},{\"fire_department.firecares_id\":\"93345\",\"date\":1497225600000,\"description.day_of_week\":\"Monday\",\"hour\":\"22\",\"NFPA.type\":\"FIRE\",\"calls\":5,\"mean_calls\":6.8676058219,\"norm_calls\":0.7280557635},{\"fire_department.firecares_id\":\"93345\",\"date\":1477872000000,\"description.day_of_week\":\"Monday\",\"hour\":\"15\",\"NFPA.type\":\"EMS\",\"calls\":14,\"mean_calls\":6.8676058219,\"norm_calls\":2.0385561378},{\"fire_department.firecares_id\":\"93345\",\"date\":1505088000000,\"description.day_of_week\":\"Monday\",\"hour\":\"14\",\"NFPA.type\":\"EMS\",\"calls\":4,\"mean_calls\":6.8676058219,\"norm_calls\":0.5824446108},{\"fire_department.firecares_id\":\"93345\",\"date\":1490572800000,\"description.day_of_week\":\"Monday\",\"hour\":\"19\",\"NFPA.type\":\"FIRE\",\"calls\":9,\"mean_calls\":6.8676058219,\"norm_calls\":1.3105003743},{\"fire_department.firecares_id\":\"79592\",\"date\":1476403200000,\"description.day_of_week\":\"Friday\",\"hour\":\"11\",\"NFPA.type\":\"OTHER\",\"calls\":4,\"mean_calls\":5.4475602499,\"norm_calls\":0.7342736595},{\"fire_department.firecares_id\":\"79592\",\"date\":1570406400000,\"description.day_of_week\":\"Monday\",\"hour\":\"09\",\"NFPA.type\":\"EMS\",\"calls\":2,\"mean_calls\":5.4475602499,\"norm_calls\":0.3671368297},{\"fire_department.firecares_id\":\"93345\",\"date\":1558656000000,\"description.day_of_week\":\"Friday\",\"hour\":\"08\",\"NFPA.type\":\"FIRE\",\"calls\":3,\"mean_calls\":6.8676058219,\"norm_calls\":0.4368334581},{\"fire_department.firecares_id\":\"93345\",\"date\":1512864000000,\"description.day_of_week\":\"Sunday\",\"hour\":\"05\",\"NFPA.type\":\"EMS\",\"calls\":8,\"mean_calls\":6.8676058219,\"norm_calls\":1.1648892216},{\"fire_department.firecares_id\":\"79592\",\"date\":1553385600000,\"description.day_of_week\":\"Sunday\",\"hour\":\"14\",\"NFPA.type\":\"OTHER\",\"calls\":2,\"mean_calls\":5.4475602499,\"norm_calls\":0.3671368297},{\"fire_department.firecares_id\":\"79592\",\"date\":1482624000000,\"description.day_of_week\":\"Sunday\",\"hour\":\"21\",\"NFPA.type\":\"EMS\",\"calls\":11,\"mean_calls\":5.4475602499,\"norm_calls\":2.0192525636},{\"fire_department.firecares_id\":\"79592\",\"date\":1505692800000,\"description.day_of_week\":\"Monday\",\"hour\":\"15\",\"NFPA.type\":\"EMS\",\"calls\":15,\"mean_calls\":5.4475602499,\"norm_calls\":2.7535262231},{\"fire_department.firecares_id\":\"79592\",\"date\":1500163200000,\"description.day_of_week\":\"Sunday\",\"hour\":\"14\",\"NFPA.type\":\"EMS\",\"calls\":9,\"mean_calls\":5.4475602499,\"norm_calls\":1.6521157339},{\"fire_department.firecares_id\":\"93345\",\"date\":1539043200000,\"description.day_of_week\":\"Tuesday\",\"hour\":\"11\",\"NFPA.type\":\"EMS\",\"calls\":16,\"mean_calls\":6.8676058219,\"norm_calls\":2.3297784432},{\"fire_department.firecares_id\":\"79592\",\"date\":1477612800000,\"description.day_of_week\":\"Friday\",\"hour\":\"11\",\"NFPA.type\":\"FIRE\",\"calls\":2,\"mean_calls\":5.4475602499,\"norm_calls\":0.3671368297},{\"fire_department.firecares_id\":\"79592\",\"date\":1508371200000,\"description.day_of_week\":\"Thursday\",\"hour\":\"02\",\"NFPA.type\":\"EMS\",\"calls\":3,\"mean_calls\":5.4475602499,\"norm_calls\":0.5507052446},{\"fire_department.firecares_id\":\"93345\",\"date\":1486512000000,\"description.day_of_week\":\"Wednesday\",\"hour\":\"12\",\"NFPA.type\":\"FIRE\",\"calls\":2,\"mean_calls\":6.8676058219,\"norm_calls\":0.2912223054},{\"fire_department.firecares_id\":\"79592\",\"date\":1573171200000,\"description.day_of_week\":\"Friday\",\"hour\":\"08\",\"NFPA.type\":\"EMS\",\"calls\":4,\"mean_calls\":5.4475602499,\"norm_calls\":0.7342736595},{\"fire_department.firecares_id\":\"93345\",\"date\":1529107200000,\"description.day_of_week\":\"Saturday\",\"hour\":\"08\",\"NFPA.type\":\"EMS\",\"calls\":4,\"mean_calls\":6.8676058219,\"norm_calls\":0.5824446108},{\"fire_department.firecares_id\":\"93345\",\"date\":1495584000000,\"description.day_of_week\":\"Wednesday\",\"hour\":\"14\",\"NFPA.type\":\"FIRE\",\"calls\":11,\"mean_calls\":6.8676058219,\"norm_calls\":1.6017226797},{\"fire_department.firecares_id\":\"93345\",\"date\":1548288000000,\"description.day_of_week\":\"Thursday\",\"hour\":\"04\",\"NFPA.type\":\"EMS\",\"calls\":5,\"mean_calls\":6.8676058219,\"norm_calls\":0.7280557635},{\"fire_department.firecares_id\":\"79592\",\"date\":1457395200000,\"description.day_of_week\":\"Tuesday\",\"hour\":\"21\",\"NFPA.type\":\"EMS\",\"calls\":3,\"mean_calls\":5.4475602499,\"norm_calls\":0.5507052446},{\"fire_department.firecares_id\":\"93345\",\"date\":1552348800000,\"description.day_of_week\":\"Tuesday\",\"hour\":\"08\",\"NFPA.type\":\"EMS\",\"calls\":6,\"mean_calls\":6.8676058219,\"norm_calls\":0.8736669162},{\"fire_department.firecares_id\":\"93345\",\"date\":1495238400000,\"description.day_of_week\":\"Saturday\",\"hour\":\"19\",\"NFPA.type\":\"FIRE\",\"calls\":12,\"mean_calls\":6.8676058219,\"norm_calls\":1.7473338324},{\"fire_department.firecares_id\":\"79592\",\"date\":1544140800000,\"description.day_of_week\":\"Friday\",\"hour\":\"20\",\"NFPA.type\":\"EMS\",\"calls\":2,\"mean_calls\":5.4475602499,\"norm_calls\":0.3671368297},{\"fire_department.firecares_id\":\"93345\",\"date\":1519084800000,\"description.day_of_week\":\"Tuesday\",\"hour\":\"09\",\"NFPA.type\":\"FIRE\",\"calls\":6,\"mean_calls\":6.8676058219,\"norm_calls\":0.8736669162},{\"fire_department.firecares_id\":\"79592\",\"date\":1477267200000,\"description.day_of_week\":\"Monday\",\"hour\":\"01\",\"NFPA.type\":\"EMS\",\"calls\":2,\"mean_calls\":5.4475602499,\"norm_calls\":0.3671368297},{\"fire_department.firecares_id\":\"79592\",\"date\":1509062400000,\"description.day_of_week\":\"Friday\",\"hour\":\"16\",\"NFPA.type\":\"EMS\",\"calls\":2,\"mean_calls\":5.4475602499,\"norm_calls\":0.3671368297},{\"fire_department.firecares_id\":\"79592\",\"date\":1563494400000,\"description.day_of_week\":\"Friday\",\"hour\":\"19\",\"NFPA.type\":\"EMS\",\"calls\":4,\"mean_calls\":5.4475602499,\"norm_calls\":0.7342736595},{\"fire_department.firecares_id\":\"93345\",\"date\":1535587200000,\"description.day_of_week\":\"Thursday\",\"hour\":\"06\",\"NFPA.type\":\"EMS\",\"calls\":6,\"mean_calls\":6.8676058219,\"norm_calls\":0.8736669162},{\"fire_department.firecares_id\":\"93345\",\"date\":1553990400000,\"description.day_of_week\":\"Sunday\",\"hour\":\"20\",\"NFPA.type\":\"EMS\",\"calls\":10,\"mean_calls\":6.8676058219,\"norm_calls\":1.456111527},{\"fire_department.firecares_id\":\"93345\",\"date\":1518480000000,\"description.day_of_week\":\"Tuesday\",\"hour\":\"06\",\"NFPA.type\":\"EMS\",\"calls\":4,\"mean_calls\":6.8676058219,\"norm_calls\":0.5824446108},{\"fire_department.firecares_id\":\"79592\",\"date\":1474675200000,\"description.day_of_week\":\"Saturday\",\"hour\":\"09\",\"NFPA.type\":\"OTHER\",\"calls\":2,\"mean_calls\":5.4475602499,\"norm_calls\":0.3671368297},{\"fire_department.firecares_id\":\"79592\",\"date\":1523664000000,\"description.day_of_week\":\"Saturday\",\"hour\":\"12\",\"NFPA.type\":\"EMS\",\"calls\":17,\"mean_calls\":5.4475602499,\"norm_calls\":3.1206630528},{\"fire_department.firecares_id\":\"79592\",\"date\":1545177600000,\"description.day_of_week\":\"Wednesday\",\"hour\":\"10\",\"NFPA.type\":\"FIRE\",\"calls\":2,\"mean_calls\":5.4475602499,\"norm_calls\":0.3671368297},{\"fire_department.firecares_id\":\"79592\",\"date\":1538438400000,\"description.day_of_week\":\"Tuesday\",\"hour\":\"01\",\"NFPA.type\":\"EMS\",\"calls\":3,\"mean_calls\":5.4475602499,\"norm_calls\":0.5507052446},{\"fire_department.firecares_id\":\"79592\",\"date\":1497916800000,\"description.day_of_week\":\"Tuesday\",\"hour\":\"01\",\"NFPA.type\":\"EMS\",\"calls\":2,\"mean_calls\":5.4475602499,\"norm_calls\":0.3671368297},{\"fire_department.firecares_id\":\"79592\",\"date\":1512864000000,\"description.day_of_week\":\"Sunday\",\"hour\":\"08\",\"NFPA.type\":\"EMS\",\"calls\":3,\"mean_calls\":5.4475602499,\"norm_calls\":0.5507052446},{\"fire_department.firecares_id\":\"79592\",\"date\":1508112000000,\"description.day_of_week\":\"Monday\",\"hour\":\"20\",\"NFPA.type\":\"EMS\",\"calls\":4,\"mean_calls\":5.4475602499,\"norm_calls\":0.7342736595},{\"fire_department.firecares_id\":\"93345\",\"date\":1547510400000,\"description.day_of_week\":\"Tuesday\",\"hour\":\"17\",\"NFPA.type\":\"FIRE\",\"calls\":9,\"mean_calls\":6.8676058219,\"norm_calls\":1.3105003743},{\"fire_department.firecares_id\":\"79592\",\"date\":1492560000000,\"description.day_of_week\":\"Wednesday\",\"hour\":\"08\",\"NFPA.type\":\"EMS\",\"calls\":3,\"mean_calls\":5.4475602499,\"norm_calls\":0.5507052446},{\"fire_department.firecares_id\":\"93345\",\"date\":1519257600000,\"description.day_of_week\":\"Thursday\",\"hour\":\"11\",\"NFPA.type\":\"FIRE\",\"calls\":4,\"mean_calls\":6.8676058219,\"norm_calls\":0.5824446108},{\"fire_department.firecares_id\":\"93345\",\"date\":1554336000000,\"description.day_of_week\":\"Thursday\",\"hour\":\"21\",\"NFPA.type\":\"FIRE\",\"calls\":22,\"mean_calls\":6.8676058219,\"norm_calls\":3.2034453594},{\"fire_department.firecares_id\":\"79592\",\"date\":1504051200000,\"description.day_of_week\":\"Wednesday\",\"hour\":\"20\",\"NFPA.type\":\"FIRE\",\"calls\":3,\"mean_calls\":5.4475602499,\"norm_calls\":0.5507052446},{\"fire_department.firecares_id\":\"79592\",\"date\":1455926400000,\"description.day_of_week\":\"Saturday\",\"hour\":\"07\",\"NFPA.type\":\"EMS\",\"calls\":4,\"mean_calls\":5.4475602499,\"norm_calls\":0.7342736595},{\"fire_department.firecares_id\":\"79592\",\"date\":1457049600000,\"description.day_of_week\":\"Friday\",\"hour\":\"13\",\"NFPA.type\":\"FIRE\",\"calls\":2,\"mean_calls\":5.4475602499,\"norm_calls\":0.3671368297},{\"fire_department.firecares_id\":\"93345\",\"date\":1563321600000,\"description.day_of_week\":\"Wednesday\",\"hour\":\"07\",\"NFPA.type\":\"FIRE\",\"calls\":7,\"mean_calls\":6.8676058219,\"norm_calls\":1.0192780689},{\"fire_department.firecares_id\":\"93345\",\"date\":1503273600000,\"description.day_of_week\":\"Monday\",\"hour\":\"08\",\"NFPA.type\":\"FIRE\",\"calls\":9,\"mean_calls\":6.8676058219,\"norm_calls\":1.3105003743},{\"fire_department.firecares_id\":\"93345\",\"date\":1539820800000,\"description.day_of_week\":\"Thursday\",\"hour\":\"07\",\"NFPA.type\":\"EMS\",\"calls\":2,\"mean_calls\":6.8676058219,\"norm_calls\":0.2912223054},{\"fire_department.firecares_id\":\"79592\",\"date\":1454544000000,\"description.day_of_week\":\"Thursday\",\"hour\":\"17\",\"NFPA.type\":\"EMS\",\"calls\":6,\"mean_calls\":5.4475602499,\"norm_calls\":1.1014104892},{\"fire_department.firecares_id\":\"93345\",\"date\":1512259200000,\"description.day_of_week\":\"Sunday\",\"hour\":\"07\",\"NFPA.type\":\"EMS\",\"calls\":2,\"mean_calls\":6.8676058219,\"norm_calls\":0.2912223054},{\"fire_department.firecares_id\":\"93345\",\"date\":1546560000000,\"description.day_of_week\":\"Friday\",\"hour\":\"16\",\"NFPA.type\":\"EMS\",\"calls\":10,\"mean_calls\":6.8676058219,\"norm_calls\":1.456111527},{\"fire_department.firecares_id\":\"93345\",\"date\":1534032000000,\"description.day_of_week\":\"Sunday\",\"hour\":\"15\",\"NFPA.type\":\"EMS\",\"calls\":14,\"mean_calls\":6.8676058219,\"norm_calls\":2.0385561378},{\"fire_department.firecares_id\":\"79592\",\"date\":1480204800000,\"description.day_of_week\":\"Sunday\",\"hour\":\"20\",\"NFPA.type\":\"EMS\",\"calls\":6,\"mean_calls\":5.4475602499,\"norm_calls\":1.1014104892},{\"fire_department.firecares_id\":\"93345\",\"date\":1520726400000,\"description.day_of_week\":\"Sunday\",\"hour\":\"06\",\"NFPA.type\":\"EMS\",\"calls\":7,\"mean_calls\":6.8676058219,\"norm_calls\":1.0192780689},{\"fire_department.firecares_id\":\"79592\",\"date\":1512691200000,\"description.day_of_week\":\"Friday\",\"hour\":\"04\",\"NFPA.type\":\"EMS\",\"calls\":2,\"mean_calls\":5.4475602499,\"norm_calls\":0.3671368297},{\"fire_department.firecares_id\":\"79592\",\"date\":1534982400000,\"description.day_of_week\":\"Thursday\",\"hour\":\"19\",\"NFPA.type\":\"EMS\",\"calls\":18,\"mean_calls\":5.4475602499,\"norm_calls\":3.3042314677},{\"fire_department.firecares_id\":\"93345\",\"date\":1480982400000,\"description.day_of_week\":\"Tuesday\",\"hour\":\"20\",\"NFPA.type\":\"EMS\",\"calls\":4,\"mean_calls\":6.8676058219,\"norm_calls\":0.5824446108},{\"fire_department.firecares_id\":\"93345\",\"date\":1525046400000,\"description.day_of_week\":\"Monday\",\"hour\":\"16\",\"NFPA.type\":\"FIRE\",\"calls\":2,\"mean_calls\":6.8676058219,\"norm_calls\":0.2912223054},{\"fire_department.firecares_id\":\"79592\",\"date\":1435276800000,\"description.day_of_week\":\"Friday\",\"hour\":\"09\",\"NFPA.type\":\"EMS\",\"calls\":23,\"mean_calls\":5.4475602499,\"norm_calls\":4.2220735421},{\"fire_department.firecares_id\":\"93345\",\"date\":1485734400000,\"description.day_of_week\":\"Monday\",\"hour\":\"15\",\"NFPA.type\":\"FIRE\",\"calls\":14,\"mean_calls\":6.8676058219,\"norm_calls\":2.0385561378},{\"fire_department.firecares_id\":\"79592\",\"date\":1538438400000,\"description.day_of_week\":\"Tuesday\",\"hour\":\"18\",\"NFPA.type\":\"EMS\",\"calls\":3,\"mean_calls\":5.4475602499,\"norm_calls\":0.5507052446},{\"fire_department.firecares_id\":\"93345\",\"date\":1528588800000,\"description.day_of_week\":\"Sunday\",\"hour\":\"00\",\"NFPA.type\":\"FIRE\",\"calls\":12,\"mean_calls\":6.8676058219,\"norm_calls\":1.7473338324},{\"fire_department.firecares_id\":\"93345\",\"date\":1547769600000,\"description.day_of_week\":\"Friday\",\"hour\":\"05\",\"NFPA.type\":\"FIRE\",\"calls\":7,\"mean_calls\":6.8676058219,\"norm_calls\":1.0192780689},{\"fire_department.firecares_id\":\"93345\",\"date\":1548720000000,\"description.day_of_week\":\"Tuesday\",\"hour\":\"18\",\"NFPA.type\":\"FIRE\",\"calls\":6,\"mean_calls\":6.8676058219,\"norm_calls\":0.8736669162},{\"fire_department.firecares_id\":\"79592\",\"date\":1484784000000,\"description.day_of_week\":\"Thursday\",\"hour\":\"12\",\"NFPA.type\":\"EMS\",\"calls\":15,\"mean_calls\":5.4475602499,\"norm_calls\":2.7535262231},{\"fire_department.firecares_id\":\"93345\",\"date\":1505260800000,\"description.day_of_week\":\"Wednesday\",\"hour\":\"10\",\"NFPA.type\":\"FIRE\",\"calls\":2,\"mean_calls\":6.8676058219,\"norm_calls\":0.2912223054},{\"fire_department.firecares_id\":\"93345\",\"date\":1566777600000,\"description.day_of_week\":\"Monday\",\"hour\":\"18\",\"NFPA.type\":\"EMS\",\"calls\":12,\"mean_calls\":6.8676058219,\"norm_calls\":1.7473338324},{\"fire_department.firecares_id\":\"93345\",\"date\":1555977600000,\"description.day_of_week\":\"Tuesday\",\"hour\":\"10\",\"NFPA.type\":\"EMS\",\"calls\":8,\"mean_calls\":6.8676058219,\"norm_calls\":1.1648892216},{\"fire_department.firecares_id\":\"93345\",\"date\":1573948800000,\"description.day_of_week\":\"Sunday\",\"hour\":\"14\",\"NFPA.type\":\"EMS\",\"calls\":4,\"mean_calls\":6.8676058219,\"norm_calls\":0.5824446108},{\"fire_department.firecares_id\":\"93345\",\"date\":1484870400000,\"description.day_of_week\":\"Friday\",\"hour\":\"22\",\"NFPA.type\":\"EMS\",\"calls\":4,\"mean_calls\":6.8676058219,\"norm_calls\":0.5824446108},{\"fire_department.firecares_id\":\"79592\",\"date\":1545436800000,\"description.day_of_week\":\"Saturday\",\"hour\":\"09\",\"NFPA.type\":\"EMS\",\"calls\":8,\"mean_calls\":5.4475602499,\"norm_calls\":1.468547319},{\"fire_department.firecares_id\":\"93345\",\"date\":1559260800000,\"description.day_of_week\":\"Friday\",\"hour\":\"19\",\"NFPA.type\":\"EMS\",\"calls\":12,\"mean_calls\":6.8676058219,\"norm_calls\":1.7473338324},{\"fire_department.firecares_id\":\"79592\",\"date\":1565308800000,\"description.day_of_week\":\"Friday\",\"hour\":\"19\",\"NFPA.type\":\"EMS\",\"calls\":5,\"mean_calls\":5.4475602499,\"norm_calls\":0.9178420744},{\"fire_department.firecares_id\":\"79592\",\"date\":1544140800000,\"description.day_of_week\":\"Friday\",\"hour\":\"14\",\"NFPA.type\":\"EMS\",\"calls\":14,\"mean_calls\":5.4475602499,\"norm_calls\":2.5699578082},{\"fire_department.firecares_id\":\"79592\",\"date\":1451088000000,\"description.day_of_week\":\"Saturday\",\"hour\":\"15\",\"NFPA.type\":\"OTHER\",\"calls\":2,\"mean_calls\":5.4475602499,\"norm_calls\":0.3671368297},{\"fire_department.firecares_id\":\"93345\",\"date\":1536019200000,\"description.day_of_week\":\"Tuesday\",\"hour\":\"17\",\"NFPA.type\":\"FIRE\",\"calls\":15,\"mean_calls\":6.8676058219,\"norm_calls\":2.1841672905},{\"fire_department.firecares_id\":\"79592\",\"date\":1541808000000,\"description.day_of_week\":\"Saturday\",\"hour\":\"16\",\"NFPA.type\":\"OTHER\",\"calls\":2,\"mean_calls\":5.4475602499,\"norm_calls\":0.3671368297},{\"fire_department.firecares_id\":\"93345\",\"date\":1520121600000,\"description.day_of_week\":\"Sunday\",\"hour\":\"23\",\"NFPA.type\":\"EMS\",\"calls\":9,\"mean_calls\":6.8676058219,\"norm_calls\":1.3105003743},{\"fire_department.firecares_id\":\"93345\",\"date\":1492732800000,\"description.day_of_week\":\"Friday\",\"hour\":\"21\",\"NFPA.type\":\"EMS\",\"calls\":8,\"mean_calls\":6.8676058219,\"norm_calls\":1.1648892216},{\"fire_department.firecares_id\":\"79592\",\"date\":1514073600000,\"description.day_of_week\":\"Sunday\",\"hour\":\"23\",\"NFPA.type\":\"EMS\",\"calls\":6,\"mean_calls\":5.4475602499,\"norm_calls\":1.1014104892},{\"fire_department.firecares_id\":\"79592\",\"date\":1493942400000,\"description.day_of_week\":\"Friday\",\"hour\":\"20\",\"NFPA.type\":\"EMS\",\"calls\":7,\"mean_calls\":5.4475602499,\"norm_calls\":1.2849789041},{\"fire_department.firecares_id\":\"79592\",\"date\":1524700800000,\"description.day_of_week\":\"Thursday\",\"hour\":\"07\",\"NFPA.type\":\"EMS\",\"calls\":12,\"mean_calls\":5.4475602499,\"norm_calls\":2.2028209785},{\"fire_department.firecares_id\":\"93345\",\"date\":1492560000000,\"description.day_of_week\":\"Wednesday\",\"hour\":\"11\",\"NFPA.type\":\"FIRE\",\"calls\":5,\"mean_calls\":6.8676058219,\"norm_calls\":0.7280557635},{\"fire_department.firecares_id\":\"93345\",\"date\":1575331200000,\"description.day_of_week\":\"Tuesday\",\"hour\":\"06\",\"NFPA.type\":\"EMS\",\"calls\":2,\"mean_calls\":6.8676058219,\"norm_calls\":0.2912223054},{\"fire_department.firecares_id\":\"79592\",\"date\":1524009600000,\"description.day_of_week\":\"Wednesday\",\"hour\":\"11\",\"NFPA.type\":\"EMS\",\"calls\":2,\"mean_calls\":5.4475602499,\"norm_calls\":0.3671368297},{\"fire_department.firecares_id\":\"79592\",\"date\":1456617600000,\"description.day_of_week\":\"Sunday\",\"hour\":\"17\",\"NFPA.type\":\"EMS\",\"calls\":12,\"mean_calls\":5.4475602499,\"norm_calls\":2.2028209785},{\"fire_department.firecares_id\":\"93345\",\"date\":1493164800000,\"description.day_of_week\":\"Wednesday\",\"hour\":\"17\",\"NFPA.type\":\"EMS\",\"calls\":8,\"mean_calls\":6.8676058219,\"norm_calls\":1.1648892216},{\"fire_department.firecares_id\":\"93345\",\"date\":1564358400000,\"description.day_of_week\":\"Monday\",\"hour\":\"07\",\"NFPA.type\":\"OTHER\",\"calls\":2,\"mean_calls\":6.8676058219,\"norm_calls\":0.2912223054},{\"fire_department.firecares_id\":\"93345\",\"date\":1519603200000,\"description.day_of_week\":\"Monday\",\"hour\":\"14\",\"NFPA.type\":\"EMS\",\"calls\":6,\"mean_calls\":6.8676058219,\"norm_calls\":0.8736669162},{\"fire_department.firecares_id\":\"79592\",\"date\":1572134400000,\"description.day_of_week\":\"Sunday\",\"hour\":\"20\",\"NFPA.type\":\"OTHER\",\"calls\":3,\"mean_calls\":5.4475602499,\"norm_calls\":0.5507052446},{\"fire_department.firecares_id\":\"93345\",\"date\":1571961600000,\"description.day_of_week\":\"Friday\",\"hour\":\"07\",\"NFPA.type\":\"FIRE\",\"calls\":3,\"mean_calls\":6.8676058219,\"norm_calls\":0.4368334581},{\"fire_department.firecares_id\":\"79592\",\"date\":1484438400000,\"description.day_of_week\":\"Sunday\",\"hour\":\"04\",\"NFPA.type\":\"EMS\",\"calls\":5,\"mean_calls\":5.4475602499,\"norm_calls\":0.9178420744},{\"fire_department.firecares_id\":\"93345\",\"date\":1573689600000,\"description.day_of_week\":\"Thursday\",\"hour\":\"10\",\"NFPA.type\":\"FIRE\",\"calls\":7,\"mean_calls\":6.8676058219,\"norm_calls\":1.0192780689},{\"fire_department.firecares_id\":\"93345\",\"date\":1537315200000,\"description.day_of_week\":\"Wednesday\",\"hour\":\"05\",\"NFPA.type\":\"EMS\",\"calls\":7,\"mean_calls\":6.8676058219,\"norm_calls\":1.0192780689},{\"fire_department.firecares_id\":\"93345\",\"date\":1531094400000,\"description.day_of_week\":\"Monday\",\"hour\":\"10\",\"NFPA.type\":\"FIRE\",\"calls\":12,\"mean_calls\":6.8676058219,\"norm_calls\":1.7473338324},{\"fire_department.firecares_id\":\"79592\",\"date\":1566086400000,\"description.day_of_week\":\"Sunday\",\"hour\":\"15\",\"NFPA.type\":\"FIRE\",\"calls\":2,\"mean_calls\":5.4475602499,\"norm_calls\":0.3671368297},{\"fire_department.firecares_id\":\"79592\",\"date\":1553385600000,\"description.day_of_week\":\"Sunday\",\"hour\":\"08\",\"NFPA.type\":\"EMS\",\"calls\":2,\"mean_calls\":5.4475602499,\"norm_calls\":0.3671368297},{\"fire_department.firecares_id\":\"79592\",\"date\":1481155200000,\"description.day_of_week\":\"Thursday\",\"hour\":\"06\",\"NFPA.type\":\"EMS\",\"calls\":2,\"mean_calls\":5.4475602499,\"norm_calls\":0.3671368297},{\"fire_department.firecares_id\":\"93345\",\"date\":1515801600000,\"description.day_of_week\":\"Saturday\",\"hour\":\"17\",\"NFPA.type\":\"EMS\",\"calls\":8,\"mean_calls\":6.8676058219,\"norm_calls\":1.1648892216},{\"fire_department.firecares_id\":\"93345\",\"date\":1533168000000,\"description.day_of_week\":\"Thursday\",\"hour\":\"07\",\"NFPA.type\":\"EMS\",\"calls\":4,\"mean_calls\":6.8676058219,\"norm_calls\":0.5824446108},{\"fire_department.firecares_id\":\"93345\",\"date\":1564272000000,\"description.day_of_week\":\"Sunday\",\"hour\":\"22\",\"NFPA.type\":\"EMS\",\"calls\":8,\"mean_calls\":6.8676058219,\"norm_calls\":1.1648892216},{\"fire_department.firecares_id\":\"93345\",\"date\":1536278400000,\"description.day_of_week\":\"Friday\",\"hour\":\"00\",\"NFPA.type\":\"EMS\",\"calls\":5,\"mean_calls\":6.8676058219,\"norm_calls\":0.7280557635},{\"fire_department.firecares_id\":\"79592\",\"date\":1499299200000,\"description.day_of_week\":\"Thursday\",\"hour\":\"09\",\"NFPA.type\":\"FIRE\",\"calls\":2,\"mean_calls\":5.4475602499,\"norm_calls\":0.3671368297},{\"fire_department.firecares_id\":\"79592\",\"date\":1565049600000,\"description.day_of_week\":\"Tuesday\",\"hour\":\"13\",\"NFPA.type\":\"EMS\",\"calls\":7,\"mean_calls\":5.4475602499,\"norm_calls\":1.2849789041},{\"fire_department.firecares_id\":\"93345\",\"date\":1510358400000,\"description.day_of_week\":\"Saturday\",\"hour\":\"17\",\"NFPA.type\":\"FIRE\",\"calls\":4,\"mean_calls\":6.8676058219,\"norm_calls\":0.5824446108},{\"fire_department.firecares_id\":\"79592\",\"date\":1479254400000,\"description.day_of_week\":\"Wednesday\",\"hour\":\"06\",\"NFPA.type\":\"EMS\",\"calls\":12,\"mean_calls\":5.4475602499,\"norm_calls\":2.2028209785},{\"fire_department.firecares_id\":\"79592\",\"date\":1477180800000,\"description.day_of_week\":\"Sunday\",\"hour\":\"12\",\"NFPA.type\":\"EMS\",\"calls\":14,\"mean_calls\":5.4475602499,\"norm_calls\":2.5699578082},{\"fire_department.firecares_id\":\"93345\",\"date\":1561507200000,\"description.day_of_week\":\"Wednesday\",\"hour\":\"02\",\"NFPA.type\":\"FIRE\",\"calls\":1,\"mean_calls\":6.8676058219,\"norm_calls\":0.1456111527},{\"fire_department.firecares_id\":\"79592\",\"date\":1570665600000,\"description.day_of_week\":\"Thursday\",\"hour\":\"01\",\"NFPA.type\":\"EMS\",\"calls\":2,\"mean_calls\":5.4475602499,\"norm_calls\":0.3671368297},{\"fire_department.firecares_id\":\"93345\",\"date\":1565395200000,\"description.day_of_week\":\"Saturday\",\"hour\":\"01\",\"NFPA.type\":\"FIRE\",\"calls\":4,\"mean_calls\":6.8676058219,\"norm_calls\":0.5824446108},{\"fire_department.firecares_id\":\"79592\",\"date\":1471046400000,\"description.day_of_week\":\"Saturday\",\"hour\":\"06\",\"NFPA.type\":\"EMS\",\"calls\":3,\"mean_calls\":5.4475602499,\"norm_calls\":0.5507052446},{\"fire_department.firecares_id\":\"93345\",\"date\":1513123200000,\"description.day_of_week\":\"Wednesday\",\"hour\":\"19\",\"NFPA.type\":\"EMS\",\"calls\":3,\"mean_calls\":6.8676058219,\"norm_calls\":0.4368334581},{\"fire_department.firecares_id\":\"79592\",\"date\":1535932800000,\"description.day_of_week\":\"Monday\",\"hour\":\"12\",\"NFPA.type\":\"EMS\",\"calls\":5,\"mean_calls\":5.4475602499,\"norm_calls\":0.9178420744},{\"fire_department.firecares_id\":\"93345\",\"date\":1551225600000,\"description.day_of_week\":\"Wednesday\",\"hour\":\"21\",\"NFPA.type\":\"FIRE\",\"calls\":12,\"mean_calls\":6.8676058219,\"norm_calls\":1.7473338324},{\"fire_department.firecares_id\":\"93345\",\"date\":1508716800000,\"description.day_of_week\":\"Monday\",\"hour\":\"15\",\"NFPA.type\":\"FIRE\",\"calls\":6,\"mean_calls\":6.8676058219,\"norm_calls\":0.8736669162},{\"fire_department.firecares_id\":\"93345\",\"date\":1497052800000,\"description.day_of_week\":\"Saturday\",\"hour\":\"17\",\"NFPA.type\":\"FIRE\",\"calls\":11,\"mean_calls\":6.8676058219,\"norm_calls\":1.6017226797},{\"fire_department.firecares_id\":\"93345\",\"date\":1531267200000,\"description.day_of_week\":\"Wednesday\",\"hour\":\"03\",\"NFPA.type\":\"FIRE\",\"calls\":6,\"mean_calls\":6.8676058219,\"norm_calls\":0.8736669162},{\"fire_department.firecares_id\":\"93345\",\"date\":1565308800000,\"description.day_of_week\":\"Friday\",\"hour\":\"12\",\"NFPA.type\":\"FIRE\",\"calls\":19,\"mean_calls\":6.8676058219,\"norm_calls\":2.7666119013},{\"fire_department.firecares_id\":\"93345\",\"date\":1511827200000,\"description.day_of_week\":\"Tuesday\",\"hour\":\"14\",\"NFPA.type\":\"EMS\",\"calls\":7,\"mean_calls\":6.8676058219,\"norm_calls\":1.0192780689},{\"fire_department.firecares_id\":\"93345\",\"date\":1518912000000,\"description.day_of_week\":\"Sunday\",\"hour\":\"05\",\"NFPA.type\":\"EMS\",\"calls\":2,\"mean_calls\":6.8676058219,\"norm_calls\":0.2912223054},{\"fire_department.firecares_id\":\"93345\",\"date\":1516147200000,\"description.day_of_week\":\"Wednesday\",\"hour\":\"13\",\"NFPA.type\":\"EMS\",\"calls\":6,\"mean_calls\":6.8676058219,\"norm_calls\":0.8736669162},{\"fire_department.firecares_id\":\"93345\",\"date\":1521763200000,\"description.day_of_week\":\"Friday\",\"hour\":\"12\",\"NFPA.type\":\"EMS\",\"calls\":7,\"mean_calls\":6.8676058219,\"norm_calls\":1.0192780689},{\"fire_department.firecares_id\":\"93345\",\"date\":1536796800000,\"description.day_of_week\":\"Thursday\",\"hour\":\"19\",\"NFPA.type\":\"EMS\",\"calls\":6,\"mean_calls\":6.8676058219,\"norm_calls\":0.8736669162},{\"fire_department.firecares_id\":\"79592\",\"date\":1555200000000,\"description.day_of_week\":\"Sunday\",\"hour\":\"13\",\"NFPA.type\":\"EMS\",\"calls\":14,\"mean_calls\":5.4475602499,\"norm_calls\":2.5699578082},{\"fire_department.firecares_id\":\"79592\",\"date\":1530403200000,\"description.day_of_week\":\"Sunday\",\"hour\":\"13\",\"NFPA.type\":\"OTHER\",\"calls\":4,\"mean_calls\":5.4475602499,\"norm_calls\":0.7342736595},{\"fire_department.firecares_id\":\"79592\",\"date\":1476748800000,\"description.day_of_week\":\"Tuesday\",\"hour\":\"21\",\"NFPA.type\":\"EMS\",\"calls\":13,\"mean_calls\":5.4475602499,\"norm_calls\":2.3863893933},{\"fire_department.firecares_id\":\"79592\",\"date\":1511049600000,\"description.day_of_week\":\"Sunday\",\"hour\":\"14\",\"NFPA.type\":\"EMS\",\"calls\":3,\"mean_calls\":5.4475602499,\"norm_calls\":0.5507052446},{\"fire_department.firecares_id\":\"79592\",\"date\":1440806400000,\"description.day_of_week\":\"Saturday\",\"hour\":\"14\",\"NFPA.type\":\"EMS\",\"calls\":5,\"mean_calls\":5.4475602499,\"norm_calls\":0.9178420744},{\"fire_department.firecares_id\":\"93345\",\"date\":1493769600000,\"description.day_of_week\":\"Wednesday\",\"hour\":\"20\",\"NFPA.type\":\"EMS\",\"calls\":8,\"mean_calls\":6.8676058219,\"norm_calls\":1.1648892216},{\"fire_department.firecares_id\":\"93345\",\"date\":1544054400000,\"description.day_of_week\":\"Thursday\",\"hour\":\"20\",\"NFPA.type\":\"FIRE\",\"calls\":11,\"mean_calls\":6.8676058219,\"norm_calls\":1.6017226797},{\"fire_department.firecares_id\":\"93345\",\"date\":1528675200000,\"description.day_of_week\":\"Monday\",\"hour\":\"12\",\"NFPA.type\":\"EMS\",\"calls\":4,\"mean_calls\":6.8676058219,\"norm_calls\":0.5824446108},{\"fire_department.firecares_id\":\"93345\",\"date\":1504569600000,\"description.day_of_week\":\"Tuesday\",\"hour\":\"11\",\"NFPA.type\":\"FIRE\",\"calls\":10,\"mean_calls\":6.8676058219,\"norm_calls\":1.456111527},{\"fire_department.firecares_id\":\"93345\",\"date\":1516838400000,\"description.day_of_week\":\"Thursday\",\"hour\":\"09\",\"NFPA.type\":\"OTHER\",\"calls\":2,\"mean_calls\":6.8676058219,\"norm_calls\":0.2912223054},{\"fire_department.firecares_id\":\"93345\",\"date\":1499299200000,\"description.day_of_week\":\"Thursday\",\"hour\":\"01\",\"NFPA.type\":\"EMS\",\"calls\":2,\"mean_calls\":6.8676058219,\"norm_calls\":0.2912223054},{\"fire_department.firecares_id\":\"93345\",\"date\":1560297600000,\"description.day_of_week\":\"Wednesday\",\"hour\":\"07\",\"NFPA.type\":\"EMS\",\"calls\":4,\"mean_calls\":6.8676058219,\"norm_calls\":0.5824446108},{\"fire_department.firecares_id\":\"93345\",\"date\":1516838400000,\"description.day_of_week\":\"Thursday\",\"hour\":\"20\",\"NFPA.type\":\"EMS\",\"calls\":2,\"mean_calls\":6.8676058219,\"norm_calls\":0.2912223054},{\"fire_department.firecares_id\":\"93345\",\"date\":1559692800000,\"description.day_of_week\":\"Wednesday\",\"hour\":\"10\",\"NFPA.type\":\"FIRE\",\"calls\":4,\"mean_calls\":6.8676058219,\"norm_calls\":0.5824446108},{\"fire_department.firecares_id\":\"79592\",\"date\":1533254400000,\"description.day_of_week\":\"Friday\",\"hour\":\"16\",\"NFPA.type\":\"OTHER\",\"calls\":2,\"mean_calls\":5.4475602499,\"norm_calls\":0.3671368297},{\"fire_department.firecares_id\":\"93345\",\"date\":1543795200000,\"description.day_of_week\":\"Monday\",\"hour\":\"07\",\"NFPA.type\":\"FIRE\",\"calls\":4,\"mean_calls\":6.8676058219,\"norm_calls\":0.5824446108},{\"fire_department.firecares_id\":\"79592\",\"date\":1463616000000,\"description.day_of_week\":\"Thursday\",\"hour\":\"04\",\"NFPA.type\":\"EMS\",\"calls\":7,\"mean_calls\":5.4475602499,\"norm_calls\":1.2849789041},{\"fire_department.firecares_id\":\"93345\",\"date\":1529884800000,\"description.day_of_week\":\"Monday\",\"hour\":\"15\",\"NFPA.type\":\"FIRE\",\"calls\":2,\"mean_calls\":6.8676058219,\"norm_calls\":0.2912223054},{\"fire_department.firecares_id\":\"93345\",\"date\":1502582400000,\"description.day_of_week\":\"Sunday\",\"hour\":\"01\",\"NFPA.type\":\"EMS\",\"calls\":8,\"mean_calls\":6.8676058219,\"norm_calls\":1.1648892216},{\"fire_department.firecares_id\":\"79592\",\"date\":1494460800000,\"description.day_of_week\":\"Thursday\",\"hour\":\"13\",\"NFPA.type\":\"EMS\",\"calls\":5,\"mean_calls\":5.4475602499,\"norm_calls\":0.9178420744},{\"fire_department.firecares_id\":\"79592\",\"date\":1512604800000,\"description.day_of_week\":\"Thursday\",\"hour\":\"19\",\"NFPA.type\":\"FIRE\",\"calls\":2,\"mean_calls\":5.4475602499,\"norm_calls\":0.3671368297},{\"fire_department.firecares_id\":\"93345\",\"date\":1532044800000,\"description.day_of_week\":\"Friday\",\"hour\":\"03\",\"NFPA.type\":\"EMS\",\"calls\":6,\"mean_calls\":6.8676058219,\"norm_calls\":0.8736669162},{\"fire_department.firecares_id\":\"93345\",\"date\":1516665600000,\"description.day_of_week\":\"Tuesday\",\"hour\":\"23\",\"NFPA.type\":\"EMS\",\"calls\":4,\"mean_calls\":6.8676058219,\"norm_calls\":0.5824446108},{\"fire_department.firecares_id\":\"93345\",\"date\":1545868800000,\"description.day_of_week\":\"Thursday\",\"hour\":\"15\",\"NFPA.type\":\"EMS\",\"calls\":6,\"mean_calls\":6.8676058219,\"norm_calls\":0.8736669162},{\"fire_department.firecares_id\":\"93345\",\"date\":1567900800000,\"description.day_of_week\":\"Sunday\",\"hour\":\"01\",\"NFPA.type\":\"FIRE\",\"calls\":6,\"mean_calls\":6.8676058219,\"norm_calls\":0.8736669162},{\"fire_department.firecares_id\":\"93345\",\"date\":1543881600000,\"description.day_of_week\":\"Tuesday\",\"hour\":\"16\",\"NFPA.type\":\"EMS\",\"calls\":10,\"mean_calls\":6.8676058219,\"norm_calls\":1.456111527},{\"fire_department.firecares_id\":\"79592\",\"date\":1510444800000,\"description.day_of_week\":\"Sunday\",\"hour\":\"13\",\"NFPA.type\":\"EMS\",\"calls\":8,\"mean_calls\":5.4475602499,\"norm_calls\":1.468547319},{\"fire_department.firecares_id\":\"79592\",\"date\":1552867200000,\"description.day_of_week\":\"Monday\",\"hour\":\"00\",\"NFPA.type\":\"EMS\",\"calls\":2,\"mean_calls\":5.4475602499,\"norm_calls\":0.3671368297},{\"fire_department.firecares_id\":\"93345\",\"date\":1530489600000,\"description.day_of_week\":\"Monday\",\"hour\":\"00\",\"NFPA.type\":\"FIRE\",\"calls\":13,\"mean_calls\":6.8676058219,\"norm_calls\":1.8929449851},{\"fire_department.firecares_id\":\"93345\",\"date\":1575417600000,\"description.day_of_week\":\"Wednesday\",\"hour\":\"03\",\"NFPA.type\":\"EMS\",\"calls\":4,\"mean_calls\":6.8676058219,\"norm_calls\":0.5824446108},{\"fire_department.firecares_id\":\"79592\",\"date\":1442707200000,\"description.day_of_week\":\"Sunday\",\"hour\":\"11\",\"NFPA.type\":\"EMS\",\"calls\":3,\"mean_calls\":5.4475602499,\"norm_calls\":0.5507052446},{\"fire_department.firecares_id\":\"93345\",\"date\":1511654400000,\"description.day_of_week\":\"Sunday\",\"hour\":\"10\",\"NFPA.type\":\"EMS\",\"calls\":4,\"mean_calls\":6.8676058219,\"norm_calls\":0.5824446108},{\"fire_department.firecares_id\":\"79592\",\"date\":1458604800000,\"description.day_of_week\":\"Tuesday\",\"hour\":\"10\",\"NFPA.type\":\"FIRE\",\"calls\":2,\"mean_calls\":5.4475602499,\"norm_calls\":0.3671368297},{\"fire_department.firecares_id\":\"79592\",\"date\":1567468800000,\"description.day_of_week\":\"Tuesday\",\"hour\":\"13\",\"NFPA.type\":\"EMS\",\"calls\":2,\"mean_calls\":5.4475602499,\"norm_calls\":0.3671368297},{\"fire_department.firecares_id\":\"79592\",\"date\":1450742400000,\"description.day_of_week\":\"Tuesday\",\"hour\":\"16\",\"NFPA.type\":\"EMS\",\"calls\":13,\"mean_calls\":5.4475602499,\"norm_calls\":2.3863893933},{\"fire_department.firecares_id\":\"93345\",\"date\":1556150400000,\"description.day_of_week\":\"Thursday\",\"hour\":\"11\",\"NFPA.type\":\"FIRE\",\"calls\":13,\"mean_calls\":6.8676058219,\"norm_calls\":1.8929449851},{\"fire_department.firecares_id\":\"93345\",\"date\":1505260800000,\"description.day_of_week\":\"Wednesday\",\"hour\":\"02\",\"NFPA.type\":\"EMS\",\"calls\":4,\"mean_calls\":6.8676058219,\"norm_calls\":0.5824446108},{\"fire_department.firecares_id\":\"79592\",\"date\":1516752000000,\"description.day_of_week\":\"Wednesday\",\"hour\":\"05\",\"NFPA.type\":\"EMS\",\"calls\":2,\"mean_calls\":5.4475602499,\"norm_calls\":0.3671368297},{\"fire_department.firecares_id\":\"79592\",\"date\":1559952000000,\"description.day_of_week\":\"Saturday\",\"hour\":\"13\",\"NFPA.type\":\"EMS\",\"calls\":14,\"mean_calls\":5.4475602499,\"norm_calls\":2.5699578082},{\"fire_department.firecares_id\":\"79592\",\"date\":1495065600000,\"description.day_of_week\":\"Thursday\",\"hour\":\"10\",\"NFPA.type\":\"EMS\",\"calls\":8,\"mean_calls\":5.4475602499,\"norm_calls\":1.468547319},{\"fire_department.firecares_id\":\"79592\",\"date\":1446940800000,\"description.day_of_week\":\"Sunday\",\"hour\":\"01\",\"NFPA.type\":\"FIRE\",\"calls\":2,\"mean_calls\":5.4475602499,\"norm_calls\":0.3671368297},{\"fire_department.firecares_id\":\"79592\",\"date\":1515196800000,\"description.day_of_week\":\"Saturday\",\"hour\":\"04\",\"NFPA.type\":\"OTHER\",\"calls\":2,\"mean_calls\":5.4475602499,\"norm_calls\":0.3671368297},{\"fire_department.firecares_id\":\"79592\",\"date\":1567555200000,\"description.day_of_week\":\"Wednesday\",\"hour\":\"14\",\"NFPA.type\":\"EMS\",\"calls\":2,\"mean_calls\":5.4475602499,\"norm_calls\":0.3671368297},{\"fire_department.firecares_id\":\"79592\",\"date\":1455926400000,\"description.day_of_week\":\"Saturday\",\"hour\":\"17\",\"NFPA.type\":\"EMS\",\"calls\":8,\"mean_calls\":5.4475602499,\"norm_calls\":1.468547319},{\"fire_department.firecares_id\":\"93345\",\"date\":1551312000000,\"description.day_of_week\":\"Thursday\",\"hour\":\"17\",\"NFPA.type\":\"EMS\",\"calls\":8,\"mean_calls\":6.8676058219,\"norm_calls\":1.1648892216},{\"fire_department.firecares_id\":\"93345\",\"date\":1519948800000,\"description.day_of_week\":\"Friday\",\"hour\":\"17\",\"NFPA.type\":\"EMS\",\"calls\":4,\"mean_calls\":6.8676058219,\"norm_calls\":0.5824446108},{\"fire_department.firecares_id\":\"79592\",\"date\":1513987200000,\"description.day_of_week\":\"Saturday\",\"hour\":\"13\",\"NFPA.type\":\"FIRE\",\"calls\":4,\"mean_calls\":5.4475602499,\"norm_calls\":0.7342736595},{\"fire_department.firecares_id\":\"93345\",\"date\":1535673600000,\"description.day_of_week\":\"Friday\",\"hour\":\"10\",\"NFPA.type\":\"FIRE\",\"calls\":12,\"mean_calls\":6.8676058219,\"norm_calls\":1.7473338324},{\"fire_department.firecares_id\":\"79592\",\"date\":1488326400000,\"description.day_of_week\":\"Wednesday\",\"hour\":\"02\",\"NFPA.type\":\"EMS\",\"calls\":2,\"mean_calls\":5.4475602499,\"norm_calls\":0.3671368297},{\"fire_department.firecares_id\":\"79592\",\"date\":1493164800000,\"description.day_of_week\":\"Wednesday\",\"hour\":\"08\",\"NFPA.type\":\"EMS\",\"calls\":3,\"mean_calls\":5.4475602499,\"norm_calls\":0.5507052446},{\"fire_department.firecares_id\":\"93345\",\"date\":1522022400000,\"description.day_of_week\":\"Monday\",\"hour\":\"06\",\"NFPA.type\":\"EMS\",\"calls\":2,\"mean_calls\":6.8676058219,\"norm_calls\":0.2912223054},{\"fire_department.firecares_id\":\"79592\",\"date\":1512086400000,\"description.day_of_week\":\"Friday\",\"hour\":\"23\",\"NFPA.type\":\"EMS\",\"calls\":5,\"mean_calls\":5.4475602499,\"norm_calls\":0.9178420744},{\"fire_department.firecares_id\":\"79592\",\"date\":1558742400000,\"description.day_of_week\":\"Saturday\",\"hour\":\"17\",\"NFPA.type\":\"EMS\",\"calls\":2,\"mean_calls\":5.4475602499,\"norm_calls\":0.3671368297},{\"fire_department.firecares_id\":\"93345\",\"date\":1496102400000,\"description.day_of_week\":\"Tuesday\",\"hour\":\"08\",\"NFPA.type\":\"OTHER\",\"calls\":2,\"mean_calls\":6.8676058219,\"norm_calls\":0.2912223054},{\"fire_department.firecares_id\":\"79592\",\"date\":1482710400000,\"description.day_of_week\":\"Monday\",\"hour\":\"05\",\"NFPA.type\":\"EMS\",\"calls\":2,\"mean_calls\":5.4475602499,\"norm_calls\":0.3671368297},{\"fire_department.firecares_id\":\"93345\",\"date\":1501804800000,\"description.day_of_week\":\"Friday\",\"hour\":\"02\",\"NFPA.type\":\"FIRE\",\"calls\":12,\"mean_calls\":6.8676058219,\"norm_calls\":1.7473338324},{\"fire_department.firecares_id\":\"79592\",\"date\":1464739200000,\"description.day_of_week\":\"Wednesday\",\"hour\":\"05\",\"NFPA.type\":\"EMS\",\"calls\":3,\"mean_calls\":5.4475602499,\"norm_calls\":0.5507052446},{\"fire_department.firecares_id\":\"79592\",\"date\":1469232000000,\"description.day_of_week\":\"Saturday\",\"hour\":\"00\",\"NFPA.type\":\"EMS\",\"calls\":2,\"mean_calls\":5.4475602499,\"norm_calls\":0.3671368297},{\"fire_department.firecares_id\":\"79592\",\"date\":1483401600000,\"description.day_of_week\":\"Tuesday\",\"hour\":\"00\",\"NFPA.type\":\"EMS\",\"calls\":2,\"mean_calls\":5.4475602499,\"norm_calls\":0.3671368297},{\"fire_department.firecares_id\":\"93345\",\"date\":1497916800000,\"description.day_of_week\":\"Tuesday\",\"hour\":\"06\",\"NFPA.type\":\"EMS\",\"calls\":2,\"mean_calls\":6.8676058219,\"norm_calls\":0.2912223054},{\"fire_department.firecares_id\":\"93345\",\"date\":1531958400000,\"description.day_of_week\":\"Thursday\",\"hour\":\"08\",\"NFPA.type\":\"OTHER\",\"calls\":2,\"mean_calls\":6.8676058219,\"norm_calls\":0.2912223054},{\"fire_department.firecares_id\":\"79592\",\"date\":1446854400000,\"description.day_of_week\":\"Saturday\",\"hour\":\"17\",\"NFPA.type\":\"EMS\",\"calls\":6,\"mean_calls\":5.4475602499,\"norm_calls\":1.1014104892},{\"fire_department.firecares_id\":\"79592\",\"date\":1566172800000,\"description.day_of_week\":\"Monday\",\"hour\":\"19\",\"NFPA.type\":\"EMS\",\"calls\":6,\"mean_calls\":5.4475602499,\"norm_calls\":1.1014104892},{\"fire_department.firecares_id\":\"79592\",\"date\":1538179200000,\"description.day_of_week\":\"Saturday\",\"hour\":\"11\",\"NFPA.type\":\"EMS\",\"calls\":6,\"mean_calls\":5.4475602499,\"norm_calls\":1.1014104892},{\"fire_department.firecares_id\":\"93345\",\"date\":1537142400000,\"description.day_of_week\":\"Monday\",\"hour\":\"03\",\"NFPA.type\":\"EMS\",\"calls\":2,\"mean_calls\":6.8676058219,\"norm_calls\":0.2912223054},{\"fire_department.firecares_id\":\"93345\",\"date\":1532995200000,\"description.day_of_week\":\"Tuesday\",\"hour\":\"20\",\"NFPA.type\":\"EMS\",\"calls\":6,\"mean_calls\":6.8676058219,\"norm_calls\":0.8736669162},{\"fire_department.firecares_id\":\"93345\",\"date\":1504137600000,\"description.day_of_week\":\"Thursday\",\"hour\":\"01\",\"NFPA.type\":\"EMS\",\"calls\":2,\"mean_calls\":6.8676058219,\"norm_calls\":0.2912223054},{\"fire_department.firecares_id\":\"79592\",\"date\":1471737600000,\"description.day_of_week\":\"Sunday\",\"hour\":\"12\",\"NFPA.type\":\"OTHER\",\"calls\":2,\"mean_calls\":5.4475602499,\"norm_calls\":0.3671368297},{\"fire_department.firecares_id\":\"93345\",\"date\":1487721600000,\"description.day_of_week\":\"Wednesday\",\"hour\":\"17\",\"NFPA.type\":\"EMS\",\"calls\":13,\"mean_calls\":6.8676058219,\"norm_calls\":1.8929449851},{\"fire_department.firecares_id\":\"93345\",\"date\":1484438400000,\"description.day_of_week\":\"Sunday\",\"hour\":\"13\",\"NFPA.type\":\"FIRE\",\"calls\":10,\"mean_calls\":6.8676058219,\"norm_calls\":1.456111527},{\"fire_department.firecares_id\":\"79592\",\"date\":1480982400000,\"description.day_of_week\":\"Tuesday\",\"hour\":\"06\",\"NFPA.type\":\"EMS\",\"calls\":6,\"mean_calls\":5.4475602499,\"norm_calls\":1.1014104892},{\"fire_department.firecares_id\":\"79592\",\"date\":1548547200000,\"description.day_of_week\":\"Sunday\",\"hour\":\"06\",\"NFPA.type\":\"EMS\",\"calls\":2,\"mean_calls\":5.4475602499,\"norm_calls\":0.3671368297},{\"fire_department.firecares_id\":\"93345\",\"date\":1509494400000,\"description.day_of_week\":\"Wednesday\",\"hour\":\"16\",\"NFPA.type\":\"EMS\",\"calls\":4,\"mean_calls\":6.8676058219,\"norm_calls\":0.5824446108},{\"fire_department.firecares_id\":\"93345\",\"date\":1533340800000,\"description.day_of_week\":\"Saturday\",\"hour\":\"22\",\"NFPA.type\":\"EMS\",\"calls\":6,\"mean_calls\":6.8676058219,\"norm_calls\":0.8736669162},{\"fire_department.firecares_id\":\"79592\",\"date\":1490140800000,\"description.day_of_week\":\"Wednesday\",\"hour\":\"11\",\"NFPA.type\":\"EMS\",\"calls\":11,\"mean_calls\":5.4475602499,\"norm_calls\":2.0192525636},{\"fire_department.firecares_id\":\"79592\",\"date\":1435363200000,\"description.day_of_week\":\"Saturday\",\"hour\":\"10\",\"NFPA.type\":\"EMS\",\"calls\":11,\"mean_calls\":5.4475602499,\"norm_calls\":2.0192525636},{\"fire_department.firecares_id\":\"93345\",\"date\":1490140800000,\"description.day_of_week\":\"Wednesday\",\"hour\":\"07\",\"NFPA.type\":\"EMS\",\"calls\":2,\"mean_calls\":6.8676058219,\"norm_calls\":0.2912223054},{\"fire_department.firecares_id\":\"93345\",\"date\":1506643200000,\"description.day_of_week\":\"Friday\",\"hour\":\"05\",\"NFPA.type\":\"EMS\",\"calls\":2,\"mean_calls\":6.8676058219,\"norm_calls\":0.2912223054},{\"fire_department.firecares_id\":\"79592\",\"date\":1530748800000,\"description.day_of_week\":\"Thursday\",\"hour\":\"23\",\"NFPA.type\":\"OTHER\",\"calls\":4,\"mean_calls\":5.4475602499,\"norm_calls\":0.7342736595},{\"fire_department.firecares_id\":\"93345\",\"date\":1561334400000,\"description.day_of_week\":\"Monday\",\"hour\":\"23\",\"NFPA.type\":\"EMS\",\"calls\":6,\"mean_calls\":6.8676058219,\"norm_calls\":0.8736669162},{\"fire_department.firecares_id\":\"79592\",\"date\":1528329600000,\"description.day_of_week\":\"Thursday\",\"hour\":\"08\",\"NFPA.type\":\"FIRE\",\"calls\":2,\"mean_calls\":5.4475602499,\"norm_calls\":0.3671368297},{\"fire_department.firecares_id\":\"79592\",\"date\":1544659200000,\"description.day_of_week\":\"Thursday\",\"hour\":\"22\",\"NFPA.type\":\"EMS\",\"calls\":6,\"mean_calls\":5.4475602499,\"norm_calls\":1.1014104892},{\"fire_department.firecares_id\":\"79592\",\"date\":1522281600000,\"description.day_of_week\":\"Thursday\",\"hour\":\"11\",\"NFPA.type\":\"EMS\",\"calls\":2,\"mean_calls\":5.4475602499,\"norm_calls\":0.3671368297},{\"fire_department.firecares_id\":\"79592\",\"date\":1450396800000,\"description.day_of_week\":\"Friday\",\"hour\":\"07\",\"NFPA.type\":\"FIRE\",\"calls\":2,\"mean_calls\":5.4475602499,\"norm_calls\":0.3671368297},{\"fire_department.firecares_id\":\"79592\",\"date\":1507248000000,\"description.day_of_week\":\"Friday\",\"hour\":\"00\",\"NFPA.type\":\"EMS\",\"calls\":2,\"mean_calls\":5.4475602499,\"norm_calls\":0.3671368297},{\"fire_department.firecares_id\":\"93345\",\"date\":1545609600000,\"description.day_of_week\":\"Monday\",\"hour\":\"15\",\"NFPA.type\":\"FIRE\",\"calls\":7,\"mean_calls\":6.8676058219,\"norm_calls\":1.0192780689},{\"fire_department.firecares_id\":\"79592\",\"date\":1454112000000,\"description.day_of_week\":\"Saturday\",\"hour\":\"07\",\"NFPA.type\":\"EMS\",\"calls\":3,\"mean_calls\":5.4475602499,\"norm_calls\":0.5507052446},{\"fire_department.firecares_id\":\"93345\",\"date\":1496102400000,\"description.day_of_week\":\"Tuesday\",\"hour\":\"05\",\"NFPA.type\":\"EMS\",\"calls\":8,\"mean_calls\":6.8676058219,\"norm_calls\":1.1648892216},{\"fire_department.firecares_id\":\"79592\",\"date\":1568246400000,\"description.day_of_week\":\"Thursday\",\"hour\":\"16\",\"NFPA.type\":\"EMS\",\"calls\":9,\"mean_calls\":5.4475602499,\"norm_calls\":1.6521157339},{\"fire_department.firecares_id\":\"79592\",\"date\":1566000000000,\"description.day_of_week\":\"Saturday\",\"hour\":\"13\",\"NFPA.type\":\"OTHER\",\"calls\":2,\"mean_calls\":5.4475602499,\"norm_calls\":0.3671368297},{\"fire_department.firecares_id\":\"79592\",\"date\":1529884800000,\"description.day_of_week\":\"Monday\",\"hour\":\"10\",\"NFPA.type\":\"EMS\",\"calls\":2,\"mean_calls\":5.4475602499,\"norm_calls\":0.3671368297},{\"fire_department.firecares_id\":\"93345\",\"date\":1571356800000,\"description.day_of_week\":\"Friday\",\"hour\":\"20\",\"NFPA.type\":\"EMS\",\"calls\":9,\"mean_calls\":6.8676058219,\"norm_calls\":1.3105003743},{\"fire_department.firecares_id\":\"93345\",\"date\":1509148800000,\"description.day_of_week\":\"Saturday\",\"hour\":\"00\",\"NFPA.type\":\"FIRE\",\"calls\":4,\"mean_calls\":6.8676058219,\"norm_calls\":0.5824446108},{\"fire_department.firecares_id\":\"79592\",\"date\":1556236800000,\"description.day_of_week\":\"Friday\",\"hour\":\"00\",\"NFPA.type\":\"EMS\",\"calls\":4,\"mean_calls\":5.4475602499,\"norm_calls\":0.7342736595},{\"fire_department.firecares_id\":\"79592\",\"date\":1463702400000,\"description.day_of_week\":\"Friday\",\"hour\":\"00\",\"NFPA.type\":\"FIRE\",\"calls\":2,\"mean_calls\":5.4475602499,\"norm_calls\":0.3671368297},{\"fire_department.firecares_id\":\"93345\",\"date\":1547683200000,\"description.day_of_week\":\"Thursday\",\"hour\":\"23\",\"NFPA.type\":\"EMS\",\"calls\":6,\"mean_calls\":6.8676058219,\"norm_calls\":0.8736669162},{\"fire_department.firecares_id\":\"93345\",\"date\":1574467200000,\"description.day_of_week\":\"Saturday\",\"hour\":\"15\",\"NFPA.type\":\"EMS\",\"calls\":14,\"mean_calls\":6.8676058219,\"norm_calls\":2.0385561378},{\"fire_department.firecares_id\":\"79592\",\"date\":1513123200000,\"description.day_of_week\":\"Wednesday\",\"hour\":\"10\",\"NFPA.type\":\"EMS\",\"calls\":2,\"mean_calls\":5.4475602499,\"norm_calls\":0.3671368297},{\"fire_department.firecares_id\":\"79592\",\"date\":1523836800000,\"description.day_of_week\":\"Monday\",\"hour\":\"14\",\"NFPA.type\":\"FIRE\",\"calls\":2,\"mean_calls\":5.4475602499,\"norm_calls\":0.3671368297},{\"fire_department.firecares_id\":\"79592\",\"date\":1462147200000,\"description.day_of_week\":\"Monday\",\"hour\":\"05\",\"NFPA.type\":\"EMS\",\"calls\":3,\"mean_calls\":5.4475602499,\"norm_calls\":0.5507052446},{\"fire_department.firecares_id\":\"93345\",\"date\":1531872000000,\"description.day_of_week\":\"Wednesday\",\"hour\":\"16\",\"NFPA.type\":\"EMS\",\"calls\":3,\"mean_calls\":6.8676058219,\"norm_calls\":0.4368334581},{\"fire_department.firecares_id\":\"93345\",\"date\":1575244800000,\"description.day_of_week\":\"Monday\",\"hour\":\"19\",\"NFPA.type\":\"FIRE\",\"calls\":15,\"mean_calls\":6.8676058219,\"norm_calls\":2.1841672905},{\"fire_department.firecares_id\":\"79592\",\"date\":1481328000000,\"description.day_of_week\":\"Saturday\",\"hour\":\"08\",\"NFPA.type\":\"EMS\",\"calls\":2,\"mean_calls\":5.4475602499,\"norm_calls\":0.3671368297},{\"fire_department.firecares_id\":\"79592\",\"date\":1475280000000,\"description.day_of_week\":\"Saturday\",\"hour\":\"09\",\"NFPA.type\":\"EMS\",\"calls\":7,\"mean_calls\":5.4475602499,\"norm_calls\":1.2849789041},{\"fire_department.firecares_id\":\"93345\",\"date\":1512950400000,\"description.day_of_week\":\"Monday\",\"hour\":\"00\",\"NFPA.type\":\"EMS\",\"calls\":6,\"mean_calls\":6.8676058219,\"norm_calls\":0.8736669162},{\"fire_department.firecares_id\":\"93345\",\"date\":1513036800000,\"description.day_of_week\":\"Tuesday\",\"hour\":\"18\",\"NFPA.type\":\"FIRE\",\"calls\":9,\"mean_calls\":6.8676058219,\"norm_calls\":1.3105003743},{\"fire_department.firecares_id\":\"79592\",\"date\":1449273600000,\"description.day_of_week\":\"Saturday\",\"hour\":\"16\",\"NFPA.type\":\"FIRE\",\"calls\":2,\"mean_calls\":5.4475602499,\"norm_calls\":0.3671368297},{\"fire_department.firecares_id\":\"93345\",\"date\":1535587200000,\"description.day_of_week\":\"Thursday\",\"hour\":\"12\",\"NFPA.type\":\"EMS\",\"calls\":16,\"mean_calls\":6.8676058219,\"norm_calls\":2.3297784432},{\"fire_department.firecares_id\":\"79592\",\"date\":1511308800000,\"description.day_of_week\":\"Wednesday\",\"hour\":\"03\",\"NFPA.type\":\"EMS\",\"calls\":2,\"mean_calls\":5.4475602499,\"norm_calls\":0.3671368297},{\"fire_department.firecares_id\":\"93345\",\"date\":1506384000000,\"description.day_of_week\":\"Tuesday\",\"hour\":\"16\",\"NFPA.type\":\"EMS\",\"calls\":10,\"mean_calls\":6.8676058219,\"norm_calls\":1.456111527},{\"fire_department.firecares_id\":\"93345\",\"date\":1497657600000,\"description.day_of_week\":\"Saturday\",\"hour\":\"22\",\"NFPA.type\":\"FIRE\",\"calls\":6,\"mean_calls\":6.8676058219,\"norm_calls\":0.8736669162},{\"fire_department.firecares_id\":\"79592\",\"date\":1437004800000,\"description.day_of_week\":\"Thursday\",\"hour\":\"11\",\"NFPA.type\":\"OTHER\",\"calls\":2,\"mean_calls\":5.4475602499,\"norm_calls\":0.3671368297},{\"fire_department.firecares_id\":\"93345\",\"date\":1569196800000,\"description.day_of_week\":\"Monday\",\"hour\":\"18\",\"NFPA.type\":\"EMS\",\"calls\":14,\"mean_calls\":6.8676058219,\"norm_calls\":2.0385561378},{\"fire_department.firecares_id\":\"93345\",\"date\":1477785600000,\"description.day_of_week\":\"Sunday\",\"hour\":\"09\",\"NFPA.type\":\"EMS\",\"calls\":6,\"mean_calls\":6.8676058219,\"norm_calls\":0.8736669162},{\"fire_department.firecares_id\":\"79592\",\"date\":1521590400000,\"description.day_of_week\":\"Wednesday\",\"hour\":\"22\",\"NFPA.type\":\"EMS\",\"calls\":5,\"mean_calls\":5.4475602499,\"norm_calls\":0.9178420744},{\"fire_department.firecares_id\":\"93345\",\"date\":1548374400000,\"description.day_of_week\":\"Friday\",\"hour\":\"16\",\"NFPA.type\":\"EMS\",\"calls\":13,\"mean_calls\":6.8676058219,\"norm_calls\":1.8929449851},{\"fire_department.firecares_id\":\"79592\",\"date\":1528416000000,\"description.day_of_week\":\"Friday\",\"hour\":\"09\",\"NFPA.type\":\"EMS\",\"calls\":3,\"mean_calls\":5.4475602499,\"norm_calls\":0.5507052446},{\"fire_department.firecares_id\":\"79592\",\"date\":1548547200000,\"description.day_of_week\":\"Sunday\",\"hour\":\"16\",\"NFPA.type\":\"EMS\",\"calls\":5,\"mean_calls\":5.4475602499,\"norm_calls\":0.9178420744},{\"fire_department.firecares_id\":\"79592\",\"date\":1531785600000,\"description.day_of_week\":\"Tuesday\",\"hour\":\"08\",\"NFPA.type\":\"FIRE\",\"calls\":2,\"mean_calls\":5.4475602499,\"norm_calls\":0.3671368297},{\"fire_department.firecares_id\":\"93345\",\"date\":1568246400000,\"description.day_of_week\":\"Thursday\",\"hour\":\"02\",\"NFPA.type\":\"FIRE\",\"calls\":2,\"mean_calls\":6.8676058219,\"norm_calls\":0.2912223054},{\"fire_department.firecares_id\":\"93345\",\"date\":1564444800000,\"description.day_of_week\":\"Tuesday\",\"hour\":\"08\",\"NFPA.type\":\"EMS\",\"calls\":8,\"mean_calls\":6.8676058219,\"norm_calls\":1.1648892216},{\"fire_department.firecares_id\":\"93345\",\"date\":1528416000000,\"description.day_of_week\":\"Friday\",\"hour\":\"22\",\"NFPA.type\":\"FIRE\",\"calls\":12,\"mean_calls\":6.8676058219,\"norm_calls\":1.7473338324},{\"fire_department.firecares_id\":\"79592\",\"date\":1513123200000,\"description.day_of_week\":\"Wednesday\",\"hour\":\"21\",\"NFPA.type\":\"EMS\",\"calls\":16,\"mean_calls\":5.4475602499,\"norm_calls\":2.937094638},{\"fire_department.firecares_id\":\"93345\",\"date\":1512345600000,\"description.day_of_week\":\"Monday\",\"hour\":\"02\",\"NFPA.type\":\"FIRE\",\"calls\":8,\"mean_calls\":6.8676058219,\"norm_calls\":1.1648892216},{\"fire_department.firecares_id\":\"79592\",\"date\":1508716800000,\"description.day_of_week\":\"Monday\",\"hour\":\"14\",\"NFPA.type\":\"EMS\",\"calls\":2,\"mean_calls\":5.4475602499,\"norm_calls\":0.3671368297},{\"fire_department.firecares_id\":\"79592\",\"date\":1510876800000,\"description.day_of_week\":\"Friday\",\"hour\":\"05\",\"NFPA.type\":\"EMS\",\"calls\":8,\"mean_calls\":5.4475602499,\"norm_calls\":1.468547319},{\"fire_department.firecares_id\":\"79592\",\"date\":1467763200000,\"description.day_of_week\":\"Wednesday\",\"hour\":\"20\",\"NFPA.type\":\"EMS\",\"calls\":4,\"mean_calls\":5.4475602499,\"norm_calls\":0.7342736595},{\"fire_department.firecares_id\":\"79592\",\"date\":1569369600000,\"description.day_of_week\":\"Wednesday\",\"hour\":\"06\",\"NFPA.type\":\"EMS\",\"calls\":2,\"mean_calls\":5.4475602499,\"norm_calls\":0.3671368297},{\"fire_department.firecares_id\":\"79592\",\"date\":1554768000000,\"description.day_of_week\":\"Tuesday\",\"hour\":\"16\",\"NFPA.type\":\"EMS\",\"calls\":5,\"mean_calls\":5.4475602499,\"norm_calls\":0.9178420744},{\"fire_department.firecares_id\":\"93345\",\"date\":1559952000000,\"description.day_of_week\":\"Saturday\",\"hour\":\"23\",\"NFPA.type\":\"EMS\",\"calls\":6,\"mean_calls\":6.8676058219,\"norm_calls\":0.8736669162},{\"fire_department.firecares_id\":\"93345\",\"date\":1545782400000,\"description.day_of_week\":\"Wednesday\",\"hour\":\"06\",\"NFPA.type\":\"EMS\",\"calls\":6,\"mean_calls\":6.8676058219,\"norm_calls\":0.8736669162},{\"fire_department.firecares_id\":\"93345\",\"date\":1563148800000,\"description.day_of_week\":\"Monday\",\"hour\":\"21\",\"NFPA.type\":\"FIRE\",\"calls\":13,\"mean_calls\":6.8676058219,\"norm_calls\":1.8929449851},{\"fire_department.firecares_id\":\"79592\",\"date\":1462492800000,\"description.day_of_week\":\"Friday\",\"hour\":\"11\",\"NFPA.type\":\"EMS\",\"calls\":6,\"mean_calls\":5.4475602499,\"norm_calls\":1.1014104892},{\"fire_department.firecares_id\":\"93345\",\"date\":1493251200000,\"description.day_of_week\":\"Thursday\",\"hour\":\"10\",\"NFPA.type\":\"EMS\",\"calls\":9,\"mean_calls\":6.8676058219,\"norm_calls\":1.3105003743},{\"fire_department.firecares_id\":\"93345\",\"date\":1512259200000,\"description.day_of_week\":\"Sunday\",\"hour\":\"10\",\"NFPA.type\":\"EMS\",\"calls\":7,\"mean_calls\":6.8676058219,\"norm_calls\":1.0192780689},{\"fire_department.firecares_id\":\"79592\",\"date\":1568073600000,\"description.day_of_week\":\"Tuesday\",\"hour\":\"12\",\"NFPA.type\":\"EMS\",\"calls\":3,\"mean_calls\":5.4475602499,\"norm_calls\":0.5507052446},{\"fire_department.firecares_id\":\"79592\",\"date\":1546041600000,\"description.day_of_week\":\"Saturday\",\"hour\":\"13\",\"NFPA.type\":\"EMS\",\"calls\":10,\"mean_calls\":5.4475602499,\"norm_calls\":1.8356841487},{\"fire_department.firecares_id\":\"93345\",\"date\":1541980800000,\"description.day_of_week\":\"Monday\",\"hour\":\"02\",\"NFPA.type\":\"FIRE\",\"calls\":3,\"mean_calls\":6.8676058219,\"norm_calls\":0.4368334581},{\"fire_department.firecares_id\":\"79592\",\"date\":1475539200000,\"description.day_of_week\":\"Tuesday\",\"hour\":\"22\",\"NFPA.type\":\"EMS\",\"calls\":2,\"mean_calls\":5.4475602499,\"norm_calls\":0.3671368297},{\"fire_department.firecares_id\":\"93345\",\"date\":1570147200000,\"description.day_of_week\":\"Friday\",\"hour\":\"23\",\"NFPA.type\":\"EMS\",\"calls\":15,\"mean_calls\":6.8676058219,\"norm_calls\":2.1841672905},{\"fire_department.firecares_id\":\"79592\",\"date\":1491436800000,\"description.day_of_week\":\"Thursday\",\"hour\":\"13\",\"NFPA.type\":\"FIRE\",\"calls\":4,\"mean_calls\":5.4475602499,\"norm_calls\":0.7342736595},{\"fire_department.firecares_id\":\"93345\",\"date\":1499558400000,\"description.day_of_week\":\"Sunday\",\"hour\":\"18\",\"NFPA.type\":\"EMS\",\"calls\":11,\"mean_calls\":6.8676058219,\"norm_calls\":1.6017226797},{\"fire_department.firecares_id\":\"79592\",\"date\":1487030400000,\"description.day_of_week\":\"Tuesday\",\"hour\":\"14\",\"NFPA.type\":\"FIRE\",\"calls\":2,\"mean_calls\":5.4475602499,\"norm_calls\":0.3671368297},{\"fire_department.firecares_id\":\"79592\",\"date\":1500681600000,\"description.day_of_week\":\"Saturday\",\"hour\":\"00\",\"NFPA.type\":\"EMS\",\"calls\":7,\"mean_calls\":5.4475602499,\"norm_calls\":1.2849789041},{\"fire_department.firecares_id\":\"93345\",\"date\":1487203200000,\"description.day_of_week\":\"Thursday\",\"hour\":\"10\",\"NFPA.type\":\"EMS\",\"calls\":4,\"mean_calls\":6.8676058219,\"norm_calls\":0.5824446108},{\"fire_department.firecares_id\":\"93345\",\"date\":1569542400000,\"description.day_of_week\":\"Friday\",\"hour\":\"00\",\"NFPA.type\":\"EMS\",\"calls\":6,\"mean_calls\":6.8676058219,\"norm_calls\":0.8736669162},{\"fire_department.firecares_id\":\"93345\",\"date\":1517529600000,\"description.day_of_week\":\"Friday\",\"hour\":\"20\",\"NFPA.type\":\"EMS\",\"calls\":10,\"mean_calls\":6.8676058219,\"norm_calls\":1.456111527},{\"fire_department.firecares_id\":\"79592\",\"date\":1559001600000,\"description.day_of_week\":\"Tuesday\",\"hour\":\"08\",\"NFPA.type\":\"OTHER\",\"calls\":2,\"mean_calls\":5.4475602499,\"norm_calls\":0.3671368297},{\"fire_department.firecares_id\":\"93345\",\"date\":1497052800000,\"description.day_of_week\":\"Saturday\",\"hour\":\"05\",\"NFPA.type\":\"EMS\",\"calls\":2,\"mean_calls\":6.8676058219,\"norm_calls\":0.2912223054},{\"fire_department.firecares_id\":\"93345\",\"date\":1487721600000,\"description.day_of_week\":\"Wednesday\",\"hour\":\"15\",\"NFPA.type\":\"EMS\",\"calls\":10,\"mean_calls\":6.8676058219,\"norm_calls\":1.456111527},{\"fire_department.firecares_id\":\"79592\",\"date\":1568246400000,\"description.day_of_week\":\"Thursday\",\"hour\":\"10\",\"NFPA.type\":\"OTHER\",\"calls\":2,\"mean_calls\":5.4475602499,\"norm_calls\":0.3671368297},{\"fire_department.firecares_id\":\"93345\",\"date\":1551312000000,\"description.day_of_week\":\"Thursday\",\"hour\":\"11\",\"NFPA.type\":\"EMS\",\"calls\":6,\"mean_calls\":6.8676058219,\"norm_calls\":0.8736669162},{\"fire_department.firecares_id\":\"79592\",\"date\":1566518400000,\"description.day_of_week\":\"Friday\",\"hour\":\"20\",\"NFPA.type\":\"EMS\",\"calls\":8,\"mean_calls\":5.4475602499,\"norm_calls\":1.468547319},{\"fire_department.firecares_id\":\"93345\",\"date\":1571097600000,\"description.day_of_week\":\"Tuesday\",\"hour\":\"11\",\"NFPA.type\":\"EMS\",\"calls\":7,\"mean_calls\":6.8676058219,\"norm_calls\":1.0192780689},{\"fire_department.firecares_id\":\"79592\",\"date\":1526342400000,\"description.day_of_week\":\"Tuesday\",\"hour\":\"11\",\"NFPA.type\":\"FIRE\",\"calls\":4,\"mean_calls\":5.4475602499,\"norm_calls\":0.7342736595},{\"fire_department.firecares_id\":\"79592\",\"date\":1564963200000,\"description.day_of_week\":\"Monday\",\"hour\":\"16\",\"NFPA.type\":\"EMS\",\"calls\":10,\"mean_calls\":5.4475602499,\"norm_calls\":1.8356841487},{\"fire_department.firecares_id\":\"79592\",\"date\":1554422400000,\"description.day_of_week\":\"Friday\",\"hour\":\"11\",\"NFPA.type\":\"EMS\",\"calls\":14,\"mean_calls\":5.4475602499,\"norm_calls\":2.5699578082},{\"fire_department.firecares_id\":\"79592\",\"date\":1573603200000,\"description.day_of_week\":\"Wednesday\",\"hour\":\"18\",\"NFPA.type\":\"EMS\",\"calls\":2,\"mean_calls\":5.4475602499,\"norm_calls\":0.3671368297},{\"fire_department.firecares_id\":\"79592\",\"date\":1432339200000,\"description.day_of_week\":\"Saturday\",\"hour\":\"15\",\"NFPA.type\":\"EMS\",\"calls\":11,\"mean_calls\":5.4475602499,\"norm_calls\":2.0192525636},{\"fire_department.firecares_id\":\"93345\",\"date\":1538352000000,\"description.day_of_week\":\"Monday\",\"hour\":\"08\",\"NFPA.type\":\"FIRE\",\"calls\":4,\"mean_calls\":6.8676058219,\"norm_calls\":0.5824446108},{\"fire_department.firecares_id\":\"93345\",\"date\":1572652800000,\"description.day_of_week\":\"Saturday\",\"hour\":\"16\",\"NFPA.type\":\"FIRE\",\"calls\":7,\"mean_calls\":6.8676058219,\"norm_calls\":1.0192780689},{\"fire_department.firecares_id\":\"93345\",\"date\":1497830400000,\"description.day_of_week\":\"Monday\",\"hour\":\"20\",\"NFPA.type\":\"FIRE\",\"calls\":3,\"mean_calls\":6.8676058219,\"norm_calls\":0.4368334581},{\"fire_department.firecares_id\":\"79592\",\"date\":1437609600000,\"description.day_of_week\":\"Thursday\",\"hour\":\"20\",\"NFPA.type\":\"EMS\",\"calls\":5,\"mean_calls\":5.4475602499,\"norm_calls\":0.9178420744},{\"fire_department.firecares_id\":\"79592\",\"date\":1499558400000,\"description.day_of_week\":\"Sunday\",\"hour\":\"14\",\"NFPA.type\":\"EMS\",\"calls\":5,\"mean_calls\":5.4475602499,\"norm_calls\":0.9178420744},{\"fire_department.firecares_id\":\"79592\",\"date\":1444521600000,\"description.day_of_week\":\"Sunday\",\"hour\":\"02\",\"NFPA.type\":\"EMS\",\"calls\":4,\"mean_calls\":5.4475602499,\"norm_calls\":0.7342736595},{\"fire_department.firecares_id\":\"93345\",\"date\":1530144000000,\"description.day_of_week\":\"Thursday\",\"hour\":\"09\",\"NFPA.type\":\"EMS\",\"calls\":14,\"mean_calls\":6.8676058219,\"norm_calls\":2.0385561378},{\"fire_department.firecares_id\":\"79592\",\"date\":1562544000000,\"description.day_of_week\":\"Monday\",\"hour\":\"18\",\"NFPA.type\":\"EMS\",\"calls\":14,\"mean_calls\":5.4475602499,\"norm_calls\":2.5699578082},{\"fire_department.firecares_id\":\"79592\",\"date\":1437609600000,\"description.day_of_week\":\"Thursday\",\"hour\":\"05\",\"NFPA.type\":\"EMS\",\"calls\":3,\"mean_calls\":5.4475602499,\"norm_calls\":0.5507052446},{\"fire_department.firecares_id\":\"79592\",\"date\":1466899200000,\"description.day_of_week\":\"Sunday\",\"hour\":\"15\",\"NFPA.type\":\"FIRE\",\"calls\":2,\"mean_calls\":5.4475602499,\"norm_calls\":0.3671368297},{\"fire_department.firecares_id\":\"93345\",\"date\":1477440000000,\"description.day_of_week\":\"Wednesday\",\"hour\":\"23\",\"NFPA.type\":\"FIRE\",\"calls\":6,\"mean_calls\":6.8676058219,\"norm_calls\":0.8736669162},{\"fire_department.firecares_id\":\"79592\",\"date\":1436832000000,\"description.day_of_week\":\"Tuesday\",\"hour\":\"15\",\"NFPA.type\":\"EMS\",\"calls\":2,\"mean_calls\":5.4475602499,\"norm_calls\":0.3671368297},{\"fire_department.firecares_id\":\"93345\",\"date\":1563840000000,\"description.day_of_week\":\"Tuesday\",\"hour\":\"21\",\"NFPA.type\":\"FIRE\",\"calls\":3,\"mean_calls\":6.8676058219,\"norm_calls\":0.4368334581},{\"fire_department.firecares_id\":\"79592\",\"date\":1483574400000,\"description.day_of_week\":\"Thursday\",\"hour\":\"21\",\"NFPA.type\":\"EMS\",\"calls\":4,\"mean_calls\":5.4475602499,\"norm_calls\":0.7342736595},{\"fire_department.firecares_id\":\"93345\",\"date\":1484956800000,\"description.day_of_week\":\"Saturday\",\"hour\":\"19\",\"NFPA.type\":\"FIRE\",\"calls\":11,\"mean_calls\":6.8676058219,\"norm_calls\":1.6017226797},{\"fire_department.firecares_id\":\"93345\",\"date\":1492300800000,\"description.day_of_week\":\"Sunday\",\"hour\":\"02\",\"NFPA.type\":\"EMS\",\"calls\":4,\"mean_calls\":6.8676058219,\"norm_calls\":0.5824446108},{\"fire_department.firecares_id\":\"79592\",\"date\":1554940800000,\"description.day_of_week\":\"Thursday\",\"hour\":\"05\",\"NFPA.type\":\"EMS\",\"calls\":2,\"mean_calls\":5.4475602499,\"norm_calls\":0.3671368297},{\"fire_department.firecares_id\":\"93345\",\"date\":1498694400000,\"description.day_of_week\":\"Thursday\",\"hour\":\"04\",\"NFPA.type\":\"FIRE\",\"calls\":7,\"mean_calls\":6.8676058219,\"norm_calls\":1.0192780689},{\"fire_department.firecares_id\":\"93345\",\"date\":1536364800000,\"description.day_of_week\":\"Saturday\",\"hour\":\"16\",\"NFPA.type\":\"EMS\",\"calls\":7,\"mean_calls\":6.8676058219,\"norm_calls\":1.0192780689},{\"fire_department.firecares_id\":\"93345\",\"date\":1510531200000,\"description.day_of_week\":\"Monday\",\"hour\":\"20\",\"NFPA.type\":\"EMS\",\"calls\":9,\"mean_calls\":6.8676058219,\"norm_calls\":1.3105003743},{\"fire_department.firecares_id\":\"93345\",\"date\":1565913600000,\"description.day_of_week\":\"Friday\",\"hour\":\"18\",\"NFPA.type\":\"EMS\",\"calls\":4,\"mean_calls\":6.8676058219,\"norm_calls\":0.5824446108},{\"fire_department.firecares_id\":\"79592\",\"date\":1443484800000,\"description.day_of_week\":\"Tuesday\",\"hour\":\"10\",\"NFPA.type\":\"EMS\",\"calls\":6,\"mean_calls\":5.4475602499,\"norm_calls\":1.1014104892},{\"fire_department.firecares_id\":\"93345\",\"date\":1526342400000,\"description.day_of_week\":\"Tuesday\",\"hour\":\"11\",\"NFPA.type\":\"OTHER\",\"calls\":2,\"mean_calls\":6.8676058219,\"norm_calls\":0.2912223054},{\"fire_department.firecares_id\":\"79592\",\"date\":1457568000000,\"description.day_of_week\":\"Thursday\",\"hour\":\"02\",\"NFPA.type\":\"FIRE\",\"calls\":2,\"mean_calls\":5.4475602499,\"norm_calls\":0.3671368297},{\"fire_department.firecares_id\":\"93345\",\"date\":1494806400000,\"description.day_of_week\":\"Monday\",\"hour\":\"15\",\"NFPA.type\":\"FIRE\",\"calls\":3,\"mean_calls\":6.8676058219,\"norm_calls\":0.4368334581},{\"fire_department.firecares_id\":\"79592\",\"date\":1461542400000,\"description.day_of_week\":\"Monday\",\"hour\":\"09\",\"NFPA.type\":\"EMS\",\"calls\":8,\"mean_calls\":5.4475602499,\"norm_calls\":1.468547319},{\"fire_department.firecares_id\":\"79592\",\"date\":1557014400000,\"description.day_of_week\":\"Sunday\",\"hour\":\"21\",\"NFPA.type\":\"FIRE\",\"calls\":5,\"mean_calls\":5.4475602499,\"norm_calls\":0.9178420744},{\"fire_department.firecares_id\":\"93345\",\"date\":1494892800000,\"description.day_of_week\":\"Tuesday\",\"hour\":\"14\",\"NFPA.type\":\"OTHER\",\"calls\":2,\"mean_calls\":6.8676058219,\"norm_calls\":0.2912223054},{\"fire_department.firecares_id\":\"93345\",\"date\":1493769600000,\"description.day_of_week\":\"Wednesday\",\"hour\":\"18\",\"NFPA.type\":\"EMS\",\"calls\":17,\"mean_calls\":6.8676058219,\"norm_calls\":2.4753895959},{\"fire_department.firecares_id\":\"93345\",\"date\":1561593600000,\"description.day_of_week\":\"Thursday\",\"hour\":\"16\",\"NFPA.type\":\"FIRE\",\"calls\":22,\"mean_calls\":6.8676058219,\"norm_calls\":3.2034453594},{\"fire_department.firecares_id\":\"79592\",\"date\":1538179200000,\"description.day_of_week\":\"Saturday\",\"hour\":\"21\",\"NFPA.type\":\"EMS\",\"calls\":10,\"mean_calls\":5.4475602499,\"norm_calls\":1.8356841487},{\"fire_department.firecares_id\":\"93345\",\"date\":1556841600000,\"description.day_of_week\":\"Friday\",\"hour\":\"04\",\"NFPA.type\":\"EMS\",\"calls\":6,\"mean_calls\":6.8676058219,\"norm_calls\":0.8736669162},{\"fire_department.firecares_id\":\"79592\",\"date\":1551916800000,\"description.day_of_week\":\"Thursday\",\"hour\":\"03\",\"NFPA.type\":\"EMS\",\"calls\":2,\"mean_calls\":5.4475602499,\"norm_calls\":0.3671368297},{\"fire_department.firecares_id\":\"79592\",\"date\":1559433600000,\"description.day_of_week\":\"Sunday\",\"hour\":\"20\",\"NFPA.type\":\"EMS\",\"calls\":2,\"mean_calls\":5.4475602499,\"norm_calls\":0.3671368297},{\"fire_department.firecares_id\":\"93345\",\"date\":1505606400000,\"description.day_of_week\":\"Sunday\",\"hour\":\"08\",\"NFPA.type\":\"EMS\",\"calls\":4,\"mean_calls\":6.8676058219,\"norm_calls\":0.5824446108},{\"fire_department.firecares_id\":\"79592\",\"date\":1548720000000,\"description.day_of_week\":\"Tuesday\",\"hour\":\"18\",\"NFPA.type\":\"OTHER\",\"calls\":2,\"mean_calls\":5.4475602499,\"norm_calls\":0.3671368297},{\"fire_department.firecares_id\":\"79592\",\"date\":1555545600000,\"description.day_of_week\":\"Thursday\",\"hour\":\"06\",\"NFPA.type\":\"EMS\",\"calls\":5,\"mean_calls\":5.4475602499,\"norm_calls\":0.9178420744},{\"fire_department.firecares_id\":\"79592\",\"date\":1509408000000,\"description.day_of_week\":\"Tuesday\",\"hour\":\"18\",\"NFPA.type\":\"FIRE\",\"calls\":12,\"mean_calls\":5.4475602499,\"norm_calls\":2.2028209785},{\"fire_department.firecares_id\":\"79592\",\"date\":1518566400000,\"description.day_of_week\":\"Wednesday\",\"hour\":\"14\",\"NFPA.type\":\"FIRE\",\"calls\":13,\"mean_calls\":5.4475602499,\"norm_calls\":2.3863893933},{\"fire_department.firecares_id\":\"93345\",\"date\":1503878400000,\"description.day_of_week\":\"Monday\",\"hour\":\"12\",\"NFPA.type\":\"EMS\",\"calls\":11,\"mean_calls\":6.8676058219,\"norm_calls\":1.6017226797},{\"fire_department.firecares_id\":\"79592\",\"date\":1516752000000,\"description.day_of_week\":\"Wednesday\",\"hour\":\"23\",\"NFPA.type\":\"FIRE\",\"calls\":5,\"mean_calls\":5.4475602499,\"norm_calls\":0.9178420744},{\"fire_department.firecares_id\":\"79592\",\"date\":1549670400000,\"description.day_of_week\":\"Saturday\",\"hour\":\"11\",\"NFPA.type\":\"EMS\",\"calls\":7,\"mean_calls\":5.4475602499,\"norm_calls\":1.2849789041},{\"fire_department.firecares_id\":\"79592\",\"date\":1570752000000,\"description.day_of_week\":\"Friday\",\"hour\":\"14\",\"NFPA.type\":\"OTHER\",\"calls\":2,\"mean_calls\":5.4475602499,\"norm_calls\":0.3671368297},{\"fire_department.firecares_id\":\"93345\",\"date\":1537056000000,\"description.day_of_week\":\"Sunday\",\"hour\":\"05\",\"NFPA.type\":\"EMS\",\"calls\":6,\"mean_calls\":6.8676058219,\"norm_calls\":0.8736669162},{\"fire_department.firecares_id\":\"93345\",\"date\":1521936000000,\"description.day_of_week\":\"Sunday\",\"hour\":\"22\",\"NFPA.type\":\"EMS\",\"calls\":4,\"mean_calls\":6.8676058219,\"norm_calls\":0.5824446108},{\"fire_department.firecares_id\":\"79592\",\"date\":1555545600000,\"description.day_of_week\":\"Thursday\",\"hour\":\"03\",\"NFPA.type\":\"FIRE\",\"calls\":2,\"mean_calls\":5.4475602499,\"norm_calls\":0.3671368297},{\"fire_department.firecares_id\":\"93345\",\"date\":1494892800000,\"description.day_of_week\":\"Tuesday\",\"hour\":\"19\",\"NFPA.type\":\"EMS\",\"calls\":6,\"mean_calls\":6.8676058219,\"norm_calls\":0.8736669162},{\"fire_department.firecares_id\":\"93345\",\"date\":1572566400000,\"description.day_of_week\":\"Friday\",\"hour\":\"10\",\"NFPA.type\":\"EMS\",\"calls\":4,\"mean_calls\":6.8676058219,\"norm_calls\":0.5824446108},{\"fire_department.firecares_id\":\"93345\",\"date\":1518393600000,\"description.day_of_week\":\"Monday\",\"hour\":\"09\",\"NFPA.type\":\"FIRE\",\"calls\":2,\"mean_calls\":6.8676058219,\"norm_calls\":0.2912223054},{\"fire_department.firecares_id\":\"79592\",\"date\":1573776000000,\"description.day_of_week\":\"Friday\",\"hour\":\"23\",\"NFPA.type\":\"EMS\",\"calls\":5,\"mean_calls\":5.4475602499,\"norm_calls\":0.9178420744},{\"fire_department.firecares_id\":\"93345\",\"date\":1525564800000,\"description.day_of_week\":\"Sunday\",\"hour\":\"16\",\"NFPA.type\":\"FIRE\",\"calls\":5,\"mean_calls\":6.8676058219,\"norm_calls\":0.7280557635},{\"fire_department.firecares_id\":\"79592\",\"date\":1489104000000,\"description.day_of_week\":\"Friday\",\"hour\":\"14\",\"NFPA.type\":\"EMS\",\"calls\":5,\"mean_calls\":5.4475602499,\"norm_calls\":0.9178420744},{\"fire_department.firecares_id\":\"79592\",\"date\":1480809600000,\"description.day_of_week\":\"Sunday\",\"hour\":\"10\",\"NFPA.type\":\"FIRE\",\"calls\":2,\"mean_calls\":5.4475602499,\"norm_calls\":0.3671368297},{\"fire_department.firecares_id\":\"93345\",\"date\":1556150400000,\"description.day_of_week\":\"Thursday\",\"hour\":\"18\",\"NFPA.type\":\"FIRE\",\"calls\":12,\"mean_calls\":6.8676058219,\"norm_calls\":1.7473338324},{\"fire_department.firecares_id\":\"79592\",\"date\":1454716800000,\"description.day_of_week\":\"Saturday\",\"hour\":\"21\",\"NFPA.type\":\"EMS\",\"calls\":6,\"mean_calls\":5.4475602499,\"norm_calls\":1.1014104892},{\"fire_department.firecares_id\":\"79592\",\"date\":1497225600000,\"description.day_of_week\":\"Monday\",\"hour\":\"22\",\"NFPA.type\":\"EMS\",\"calls\":2,\"mean_calls\":5.4475602499,\"norm_calls\":0.3671368297},{\"fire_department.firecares_id\":\"79592\",\"date\":1471392000000,\"description.day_of_week\":\"Wednesday\",\"hour\":\"09\",\"NFPA.type\":\"FIRE\",\"calls\":13,\"mean_calls\":5.4475602499,\"norm_calls\":2.3863893933},{\"fire_department.firecares_id\":\"93345\",\"date\":1478995200000,\"description.day_of_week\":\"Sunday\",\"hour\":\"10\",\"NFPA.type\":\"EMS\",\"calls\":5,\"mean_calls\":6.8676058219,\"norm_calls\":0.7280557635},{\"fire_department.firecares_id\":\"79592\",\"date\":1435881600000,\"description.day_of_week\":\"Friday\",\"hour\":\"09\",\"NFPA.type\":\"EMS\",\"calls\":5,\"mean_calls\":5.4475602499,\"norm_calls\":0.9178420744},{\"fire_department.firecares_id\":\"79592\",\"date\":1459641600000,\"description.day_of_week\":\"Sunday\",\"hour\":\"16\",\"NFPA.type\":\"EMS\",\"calls\":14,\"mean_calls\":5.4475602499,\"norm_calls\":2.5699578082},{\"fire_department.firecares_id\":\"79592\",\"date\":1434844800000,\"description.day_of_week\":\"Sunday\",\"hour\":\"00\",\"NFPA.type\":\"FIRE\",\"calls\":3,\"mean_calls\":5.4475602499,\"norm_calls\":0.5507052446},{\"fire_department.firecares_id\":\"93345\",\"date\":1555200000000,\"description.day_of_week\":\"Sunday\",\"hour\":\"16\",\"NFPA.type\":\"FIRE\",\"calls\":4,\"mean_calls\":6.8676058219,\"norm_calls\":0.5824446108},{\"fire_department.firecares_id\":\"79592\",\"date\":1514851200000,\"description.day_of_week\":\"Tuesday\",\"hour\":\"16\",\"NFPA.type\":\"EMS\",\"calls\":8,\"mean_calls\":5.4475602499,\"norm_calls\":1.468547319},{\"fire_department.firecares_id\":\"93345\",\"date\":1564531200000,\"description.day_of_week\":\"Wednesday\",\"hour\":\"12\",\"NFPA.type\":\"FIRE\",\"calls\":4,\"mean_calls\":6.8676058219,\"norm_calls\":0.5824446108},{\"fire_department.firecares_id\":\"79592\",\"date\":1470787200000,\"description.day_of_week\":\"Wednesday\",\"hour\":\"10\",\"NFPA.type\":\"FIRE\",\"calls\":2,\"mean_calls\":5.4475602499,\"norm_calls\":0.3671368297},{\"fire_department.firecares_id\":\"93345\",\"date\":1512432000000,\"description.day_of_week\":\"Tuesday\",\"hour\":\"04\",\"NFPA.type\":\"FIRE\",\"calls\":5,\"mean_calls\":6.8676058219,\"norm_calls\":0.7280557635},{\"fire_department.firecares_id\":\"79592\",\"date\":1465516800000,\"description.day_of_week\":\"Friday\",\"hour\":\"19\",\"NFPA.type\":\"EMS\",\"calls\":3,\"mean_calls\":5.4475602499,\"norm_calls\":0.5507052446},{\"fire_department.firecares_id\":\"79592\",\"date\":1462492800000,\"description.day_of_week\":\"Friday\",\"hour\":\"07\",\"NFPA.type\":\"EMS\",\"calls\":9,\"mean_calls\":5.4475602499,\"norm_calls\":1.6521157339},{\"fire_department.firecares_id\":\"93345\",\"date\":1513555200000,\"description.day_of_week\":\"Monday\",\"hour\":\"23\",\"NFPA.type\":\"FIRE\",\"calls\":17,\"mean_calls\":6.8676058219,\"norm_calls\":2.4753895959},{\"fire_department.firecares_id\":\"79592\",\"date\":1568937600000,\"description.day_of_week\":\"Friday\",\"hour\":\"17\",\"NFPA.type\":\"FIRE\",\"calls\":2,\"mean_calls\":5.4475602499,\"norm_calls\":0.3671368297},{\"fire_department.firecares_id\":\"93345\",\"date\":1531699200000,\"description.day_of_week\":\"Monday\",\"hour\":\"22\",\"NFPA.type\":\"FIRE\",\"calls\":1,\"mean_calls\":6.8676058219,\"norm_calls\":0.1456111527},{\"fire_department.firecares_id\":\"79592\",\"date\":1539216000000,\"description.day_of_week\":\"Thursday\",\"hour\":\"06\",\"NFPA.type\":\"EMS\",\"calls\":14,\"mean_calls\":5.4475602499,\"norm_calls\":2.5699578082},{\"fire_department.firecares_id\":\"93345\",\"date\":1540512000000,\"description.day_of_week\":\"Friday\",\"hour\":\"11\",\"NFPA.type\":\"EMS\",\"calls\":11,\"mean_calls\":6.8676058219,\"norm_calls\":1.6017226797},{\"fire_department.firecares_id\":\"93345\",\"date\":1558137600000,\"description.day_of_week\":\"Saturday\",\"hour\":\"16\",\"NFPA.type\":\"EMS\",\"calls\":11,\"mean_calls\":6.8676058219,\"norm_calls\":1.6017226797},{\"fire_department.firecares_id\":\"79592\",\"date\":1528848000000,\"description.day_of_week\":\"Wednesday\",\"hour\":\"07\",\"NFPA.type\":\"EMS\",\"calls\":4,\"mean_calls\":5.4475602499,\"norm_calls\":0.7342736595},{\"fire_department.firecares_id\":\"93345\",\"date\":1493078400000,\"description.day_of_week\":\"Tuesday\",\"hour\":\"01\",\"NFPA.type\":\"EMS\",\"calls\":4,\"mean_calls\":6.8676058219,\"norm_calls\":0.5824446108},{\"fire_department.firecares_id\":\"79592\",\"date\":1547769600000,\"description.day_of_week\":\"Friday\",\"hour\":\"22\",\"NFPA.type\":\"EMS\",\"calls\":7,\"mean_calls\":5.4475602499,\"norm_calls\":1.2849789041},{\"fire_department.firecares_id\":\"79592\",\"date\":1484956800000,\"description.day_of_week\":\"Saturday\",\"hour\":\"04\",\"NFPA.type\":\"EMS\",\"calls\":4,\"mean_calls\":5.4475602499,\"norm_calls\":0.7342736595},{\"fire_department.firecares_id\":\"79592\",\"date\":1471132800000,\"description.day_of_week\":\"Sunday\",\"hour\":\"11\",\"NFPA.type\":\"EMS\",\"calls\":6,\"mean_calls\":5.4475602499,\"norm_calls\":1.1014104892},{\"fire_department.firecares_id\":\"79592\",\"date\":1436572800000,\"description.day_of_week\":\"Saturday\",\"hour\":\"01\",\"NFPA.type\":\"EMS\",\"calls\":3,\"mean_calls\":5.4475602499,\"norm_calls\":0.5507052446},{\"fire_department.firecares_id\":\"79592\",\"date\":1504483200000,\"description.day_of_week\":\"Monday\",\"hour\":\"12\",\"NFPA.type\":\"FIRE\",\"calls\":2,\"mean_calls\":5.4475602499,\"norm_calls\":0.3671368297},{\"fire_department.firecares_id\":\"79592\",\"date\":1544832000000,\"description.day_of_week\":\"Saturday\",\"hour\":\"15\",\"NFPA.type\":\"FIRE\",\"calls\":2,\"mean_calls\":5.4475602499,\"norm_calls\":0.3671368297},{\"fire_department.firecares_id\":\"79592\",\"date\":1446681600000,\"description.day_of_week\":\"Thursday\",\"hour\":\"16\",\"NFPA.type\":\"EMS\",\"calls\":14,\"mean_calls\":5.4475602499,\"norm_calls\":2.5699578082},{\"fire_department.firecares_id\":\"93345\",\"date\":1526601600000,\"description.day_of_week\":\"Friday\",\"hour\":\"08\",\"NFPA.type\":\"EMS\",\"calls\":6,\"mean_calls\":6.8676058219,\"norm_calls\":0.8736669162},{\"fire_department.firecares_id\":\"79592\",\"date\":1531699200000,\"description.day_of_week\":\"Monday\",\"hour\":\"16\",\"NFPA.type\":\"EMS\",\"calls\":5,\"mean_calls\":5.4475602499,\"norm_calls\":0.9178420744},{\"fire_department.firecares_id\":\"93345\",\"date\":1488412800000,\"description.day_of_week\":\"Thursday\",\"hour\":\"12\",\"NFPA.type\":\"EMS\",\"calls\":3,\"mean_calls\":6.8676058219,\"norm_calls\":0.4368334581},{\"fire_department.firecares_id\":\"93345\",\"date\":1481500800000,\"description.day_of_week\":\"Monday\",\"hour\":\"13\",\"NFPA.type\":\"FIRE\",\"calls\":4,\"mean_calls\":6.8676058219,\"norm_calls\":0.5824446108},{\"fire_department.firecares_id\":\"93345\",\"date\":1557187200000,\"description.day_of_week\":\"Tuesday\",\"hour\":\"13\",\"NFPA.type\":\"FIRE\",\"calls\":3,\"mean_calls\":6.8676058219,\"norm_calls\":0.4368334581},{\"fire_department.firecares_id\":\"79592\",\"date\":1482019200000,\"description.day_of_week\":\"Sunday\",\"hour\":\"07\",\"NFPA.type\":\"EMS\",\"calls\":3,\"mean_calls\":5.4475602499,\"norm_calls\":0.5507052446},{\"fire_department.firecares_id\":\"93345\",\"date\":1537142400000,\"description.day_of_week\":\"Monday\",\"hour\":\"20\",\"NFPA.type\":\"EMS\",\"calls\":6,\"mean_calls\":6.8676058219,\"norm_calls\":0.8736669162},{\"fire_department.firecares_id\":\"79592\",\"date\":1464220800000,\"description.day_of_week\":\"Thursday\",\"hour\":\"12\",\"NFPA.type\":\"EMS\",\"calls\":8,\"mean_calls\":5.4475602499,\"norm_calls\":1.468547319},{\"fire_department.firecares_id\":\"93345\",\"date\":1540080000000,\"description.day_of_week\":\"Sunday\",\"hour\":\"11\",\"NFPA.type\":\"EMS\",\"calls\":6,\"mean_calls\":6.8676058219,\"norm_calls\":0.8736669162},{\"fire_department.firecares_id\":\"93345\",\"date\":1540598400000,\"description.day_of_week\":\"Saturday\",\"hour\":\"08\",\"NFPA.type\":\"EMS\",\"calls\":2,\"mean_calls\":6.8676058219,\"norm_calls\":0.2912223054},{\"fire_department.firecares_id\":\"93345\",\"date\":1537574400000,\"description.day_of_week\":\"Saturday\",\"hour\":\"12\",\"NFPA.type\":\"OTHER\",\"calls\":2,\"mean_calls\":6.8676058219,\"norm_calls\":0.2912223054},{\"fire_department.firecares_id\":\"93345\",\"date\":1504051200000,\"description.day_of_week\":\"Wednesday\",\"hour\":\"13\",\"NFPA.type\":\"EMS\",\"calls\":4,\"mean_calls\":6.8676058219,\"norm_calls\":0.5824446108},{\"fire_department.firecares_id\":\"93345\",\"date\":1570492800000,\"description.day_of_week\":\"Tuesday\",\"hour\":\"14\",\"NFPA.type\":\"FIRE\",\"calls\":3,\"mean_calls\":6.8676058219,\"norm_calls\":0.4368334581},{\"fire_department.firecares_id\":\"93345\",\"date\":1551484800000,\"description.day_of_week\":\"Saturday\",\"hour\":\"09\",\"NFPA.type\":\"EMS\",\"calls\":6,\"mean_calls\":6.8676058219,\"norm_calls\":0.8736669162},{\"fire_department.firecares_id\":\"79592\",\"date\":1541635200000,\"description.day_of_week\":\"Thursday\",\"hour\":\"16\",\"NFPA.type\":\"OTHER\",\"calls\":2,\"mean_calls\":5.4475602499,\"norm_calls\":0.3671368297},{\"fire_department.firecares_id\":\"93345\",\"date\":1479772800000,\"description.day_of_week\":\"Tuesday\",\"hour\":\"22\",\"NFPA.type\":\"FIRE\",\"calls\":12,\"mean_calls\":6.8676058219,\"norm_calls\":1.7473338324},{\"fire_department.firecares_id\":\"79592\",\"date\":1510358400000,\"description.day_of_week\":\"Saturday\",\"hour\":\"07\",\"NFPA.type\":\"EMS\",\"calls\":4,\"mean_calls\":5.4475602499,\"norm_calls\":0.7342736595},{\"fire_department.firecares_id\":\"79592\",\"date\":1443744000000,\"description.day_of_week\":\"Friday\",\"hour\":\"15\",\"NFPA.type\":\"EMS\",\"calls\":26,\"mean_calls\":5.4475602499,\"norm_calls\":4.7727787867},{\"fire_department.firecares_id\":\"79592\",\"date\":1445644800000,\"description.day_of_week\":\"Saturday\",\"hour\":\"22\",\"NFPA.type\":\"EMS\",\"calls\":3,\"mean_calls\":5.4475602499,\"norm_calls\":0.5507052446},{\"fire_department.firecares_id\":\"93345\",\"date\":1527811200000,\"description.day_of_week\":\"Friday\",\"hour\":\"16\",\"NFPA.type\":\"FIRE\",\"calls\":7,\"mean_calls\":6.8676058219,\"norm_calls\":1.0192780689},{\"fire_department.firecares_id\":\"79592\",\"date\":1459641600000,\"description.day_of_week\":\"Sunday\",\"hour\":\"19\",\"NFPA.type\":\"EMS\",\"calls\":2,\"mean_calls\":5.4475602499,\"norm_calls\":0.3671368297},{\"fire_department.firecares_id\":\"79592\",\"date\":1571097600000,\"description.day_of_week\":\"Tuesday\",\"hour\":\"15\",\"NFPA.type\":\"EMS\",\"calls\":11,\"mean_calls\":5.4475602499,\"norm_calls\":2.0192525636}]'"
      ]
     },
     "execution_count": 247,
     "metadata": {},
     "output_type": "execute_result"
    }
   ],
   "source": [
    "hourly.to_json( orient='records')"
   ]
  },
  {
   "cell_type": "code",
   "execution_count": null,
   "metadata": {},
   "outputs": [],
   "source": []
  },
  {
   "cell_type": "code",
   "execution_count": null,
   "metadata": {},
   "outputs": [],
   "source": []
  },
  {
   "cell_type": "code",
   "execution_count": 244,
   "metadata": {},
   "outputs": [
    {
     "name": "stdout",
     "output_type": "stream",
     "text": [
      "Help on method to_json in module pandas.core.generic:\n",
      "\n",
      "to_json(path_or_buf=None, orient=None, date_format=None, double_precision=10, force_ascii=True, date_unit='ms', default_handler=None, lines=False, compression='infer', index=True) method of pandas.core.frame.DataFrame instance\n",
      "    Convert the object to a JSON string.\n",
      "    \n",
      "    Note NaN's and None will be converted to null and datetime objects\n",
      "    will be converted to UNIX timestamps.\n",
      "    \n",
      "    Parameters\n",
      "    ----------\n",
      "    path_or_buf : string or file handle, optional\n",
      "        File path or object. If not specified, the result is returned as\n",
      "        a string.\n",
      "    orient : string\n",
      "        Indication of expected JSON string format.\n",
      "    \n",
      "        * Series\n",
      "    \n",
      "          - default is 'index'\n",
      "          - allowed values are: {'split','records','index','table'}\n",
      "    \n",
      "        * DataFrame\n",
      "    \n",
      "          - default is 'columns'\n",
      "          - allowed values are:\n",
      "            {'split','records','index','columns','values','table'}\n",
      "    \n",
      "        * The format of the JSON string\n",
      "    \n",
      "          - 'split' : dict like {'index' -> [index],\n",
      "            'columns' -> [columns], 'data' -> [values]}\n",
      "          - 'records' : list like\n",
      "            [{column -> value}, ... , {column -> value}]\n",
      "          - 'index' : dict like {index -> {column -> value}}\n",
      "          - 'columns' : dict like {column -> {index -> value}}\n",
      "          - 'values' : just the values array\n",
      "          - 'table' : dict like {'schema': {schema}, 'data': {data}}\n",
      "            describing the data, and the data component is\n",
      "            like ``orient='records'``.\n",
      "    \n",
      "            .. versionchanged:: 0.20.0\n",
      "    \n",
      "    date_format : {None, 'epoch', 'iso'}\n",
      "        Type of date conversion. 'epoch' = epoch milliseconds,\n",
      "        'iso' = ISO8601. The default depends on the `orient`. For\n",
      "        ``orient='table'``, the default is 'iso'. For all other orients,\n",
      "        the default is 'epoch'.\n",
      "    double_precision : int, default 10\n",
      "        The number of decimal places to use when encoding\n",
      "        floating point values.\n",
      "    force_ascii : bool, default True\n",
      "        Force encoded string to be ASCII.\n",
      "    date_unit : string, default 'ms' (milliseconds)\n",
      "        The time unit to encode to, governs timestamp and ISO8601\n",
      "        precision.  One of 's', 'ms', 'us', 'ns' for second, millisecond,\n",
      "        microsecond, and nanosecond respectively.\n",
      "    default_handler : callable, default None\n",
      "        Handler to call if object cannot otherwise be converted to a\n",
      "        suitable format for JSON. Should receive a single argument which is\n",
      "        the object to convert and return a serialisable object.\n",
      "    lines : bool, default False\n",
      "        If 'orient' is 'records' write out line delimited json format. Will\n",
      "        throw ValueError if incorrect 'orient' since others are not list\n",
      "        like.\n",
      "    \n",
      "        .. versionadded:: 0.19.0\n",
      "    \n",
      "    compression : {'infer', 'gzip', 'bz2', 'zip', 'xz', None}\n",
      "    \n",
      "        A string representing the compression to use in the output file,\n",
      "        only used when the first argument is a filename. By default, the\n",
      "        compression is inferred from the filename.\n",
      "    \n",
      "        .. versionadded:: 0.21.0\n",
      "        .. versionchanged:: 0.24.0\n",
      "           'infer' option added and set to default\n",
      "    index : bool, default True\n",
      "        Whether to include the index values in the JSON string. Not\n",
      "        including the index (``index=False``) is only supported when\n",
      "        orient is 'split' or 'table'.\n",
      "    \n",
      "        .. versionadded:: 0.23.0\n",
      "    \n",
      "    Returns\n",
      "    -------\n",
      "    None or str\n",
      "        If path_or_buf is None, returns the resulting json format as a\n",
      "        string. Otherwise returns None.\n",
      "    \n",
      "    See Also\n",
      "    --------\n",
      "    read_json\n",
      "    \n",
      "    Examples\n",
      "    --------\n",
      "    \n",
      "    >>> df = pd.DataFrame([['a', 'b'], ['c', 'd']],\n",
      "    ...                   index=['row 1', 'row 2'],\n",
      "    ...                   columns=['col 1', 'col 2'])\n",
      "    >>> df.to_json(orient='split')\n",
      "    '{\"columns\":[\"col 1\",\"col 2\"],\n",
      "      \"index\":[\"row 1\",\"row 2\"],\n",
      "      \"data\":[[\"a\",\"b\"],[\"c\",\"d\"]]}'\n",
      "    \n",
      "    Encoding/decoding a Dataframe using ``'records'`` formatted JSON.\n",
      "    Note that index labels are not preserved with this encoding.\n",
      "    \n",
      "    >>> df.to_json(orient='records')\n",
      "    '[{\"col 1\":\"a\",\"col 2\":\"b\"},{\"col 1\":\"c\",\"col 2\":\"d\"}]'\n",
      "    \n",
      "    Encoding/decoding a Dataframe using ``'index'`` formatted JSON:\n",
      "    \n",
      "    >>> df.to_json(orient='index')\n",
      "    '{\"row 1\":{\"col 1\":\"a\",\"col 2\":\"b\"},\"row 2\":{\"col 1\":\"c\",\"col 2\":\"d\"}}'\n",
      "    \n",
      "    Encoding/decoding a Dataframe using ``'columns'`` formatted JSON:\n",
      "    \n",
      "    >>> df.to_json(orient='columns')\n",
      "    '{\"col 1\":{\"row 1\":\"a\",\"row 2\":\"c\"},\"col 2\":{\"row 1\":\"b\",\"row 2\":\"d\"}}'\n",
      "    \n",
      "    Encoding/decoding a Dataframe using ``'values'`` formatted JSON:\n",
      "    \n",
      "    >>> df.to_json(orient='values')\n",
      "    '[[\"a\",\"b\"],[\"c\",\"d\"]]'\n",
      "    \n",
      "    Encoding with Table Schema\n",
      "    \n",
      "    >>> df.to_json(orient='table')\n",
      "    '{\"schema\": {\"fields\": [{\"name\": \"index\", \"type\": \"string\"},\n",
      "                            {\"name\": \"col 1\", \"type\": \"string\"},\n",
      "                            {\"name\": \"col 2\", \"type\": \"string\"}],\n",
      "                 \"primaryKey\": \"index\",\n",
      "                 \"pandas_version\": \"0.20.0\"},\n",
      "      \"data\": [{\"index\": \"row 1\", \"col 1\": \"a\", \"col 2\": \"b\"},\n",
      "               {\"index\": \"row 2\", \"col 1\": \"c\", \"col 2\": \"d\"}]}'\n",
      "\n"
     ]
    }
   ],
   "source": [
    "help(hourly.to_json)"
   ]
  },
  {
   "cell_type": "code",
   "execution_count": null,
   "metadata": {},
   "outputs": [],
   "source": []
  },
  {
   "cell_type": "code",
   "execution_count": null,
   "metadata": {},
   "outputs": [],
   "source": []
  },
  {
   "cell_type": "code",
   "execution_count": null,
   "metadata": {},
   "outputs": [],
   "source": []
  },
  {
   "cell_type": "code",
   "execution_count": 236,
   "metadata": {},
   "outputs": [
    {
     "name": "stdout",
     "output_type": "stream",
     "text": [
      "{\"agent\": {\"agentid\": \"john\"}, \"content\": {\"eventType\": \"view\", \"othervar\": \"new\"}}\n"
     ]
    }
   ],
   "source": [
    "jsondata = {}\n",
    "agent={}\n",
    "content={}\n",
    "agent['agentid'] = 'john'\n",
    "content['eventType'] = 'view'\n",
    "content['othervar'] = \"new\"\n",
    "\n",
    "jsondata['agent'] = agent\n",
    "jsondata['content'] = content\n",
    "print(json.dumps(jsondata))"
   ]
  },
  {
   "cell_type": "code",
   "execution_count": null,
   "metadata": {},
   "outputs": [],
   "source": []
  },
  {
   "cell_type": "code",
   "execution_count": null,
   "metadata": {},
   "outputs": [],
   "source": []
  },
  {
   "cell_type": "code",
   "execution_count": null,
   "metadata": {},
   "outputs": [],
   "source": []
  },
  {
   "cell_type": "code",
   "execution_count": 225,
   "metadata": {},
   "outputs": [],
   "source": [
    "#Make every combination of departments, days of week, and hour\n",
    "from itertools import product\n",
    "dep_list = hourly['fire_department.firecares_id'].unique()\n",
    "days = hourly['description.day_of_week'].unique()\n",
    "hours = hourly['hour'].unique()\n",
    "\n",
    "\n",
    "test_df = pd.DataFrame(list(product(dep_list, days, hours)), columns=['fire_department.firecares_id', 'description.day_of_week', 'hour'])\n",
    "test_features = pd.get_dummies(test_df)[feature_list]\n",
    "\n",
    "\n"
   ]
  },
  {
   "cell_type": "code",
   "execution_count": null,
   "metadata": {},
   "outputs": [],
   "source": []
  },
  {
   "cell_type": "code",
   "execution_count": null,
   "metadata": {},
   "outputs": [],
   "source": []
  },
  {
   "cell_type": "code",
   "execution_count": null,
   "metadata": {},
   "outputs": [],
   "source": []
  },
  {
   "cell_type": "code",
   "execution_count": null,
   "metadata": {},
   "outputs": [],
   "source": []
  },
  {
   "cell_type": "code",
   "execution_count": 226,
   "metadata": {},
   "outputs": [],
   "source": [
    "#Make every combination of departments, days of week, and hour\n",
    "from itertools import product\n",
    "dep_list = hourly['fire_department.firecares_id'].unique()\n",
    "days = hourly['description.day_of_week'].unique()\n",
    "hours = hourly['hour'].unique()\n",
    "\n",
    "\n",
    "test_df = pd.DataFrame(list(product(dep_list, days, hours)), columns=['fire_department.firecares_id', 'description.day_of_week', 'hour'])\n",
    "test_features = pd.get_dummies(test_df)[feature_list]\n",
    "test_df['predictions'] = rf.predict(test_features)"
   ]
  },
  {
   "cell_type": "code",
   "execution_count": 228,
   "metadata": {},
   "outputs": [],
   "source": [
    "features = hourly[['fire_department.firecares_id', 'description.day_of_week', 'hour']]\n",
    "features = pd.get_dummies(features)[feature_list]\n",
    "labels = hourly['norm_calls']"
   ]
  },
  {
   "cell_type": "code",
   "execution_count": 229,
   "metadata": {},
   "outputs": [
    {
     "data": {
      "text/plain": [
       "RandomForestRegressor(bootstrap=True, criterion='mse', max_depth=None,\n",
       "           max_features='auto', max_leaf_nodes=None,\n",
       "           min_impurity_decrease=0.0, min_impurity_split=None,\n",
       "           min_samples_leaf=1, min_samples_split=2,\n",
       "           min_weight_fraction_leaf=0.0, n_estimators=1000, n_jobs=None,\n",
       "           oob_score=False, random_state=None, verbose=0, warm_start=False)"
      ]
     },
     "execution_count": 229,
     "metadata": {},
     "output_type": "execute_result"
    }
   ],
   "source": [
    "from sklearn.ensemble import RandomForestRegressor\n",
    "# Now use scikit-learn's random forestion regression model to predict daily ems call volumes\n",
    "rf = RandomForestRegressor(n_estimators = 1000)\n",
    "\n",
    "# Train the model on training data\n",
    "rf.fit(features, labels)"
   ]
  },
  {
   "cell_type": "code",
   "execution_count": 230,
   "metadata": {},
   "outputs": [
    {
     "data": {
      "text/plain": [
       "([<matplotlib.axis.YTick at 0x7f9c3cacd4a8>,\n",
       "  <matplotlib.axis.YTick at 0x7f9c3cacdb70>,\n",
       "  <matplotlib.axis.YTick at 0x7f9c3cb5f1d0>],\n",
       " <a list of 0 Text yticklabel objects>)"
      ]
     },
     "execution_count": 230,
     "metadata": {},
     "output_type": "execute_result"
    },
    {
     "data": {
      "image/png": "[encoded data removed]",
      "text/plain": [
       "<Figure size 864x576 with 1 Axes>"
      ]
     },
     "metadata": {
      "needs_background": "light"
     },
     "output_type": "display_data"
    }
   ],
   "source": [
    "department = '93345'\n",
    "# department = '79592'\n",
    "day = 'Tuesday'\n",
    "\n",
    "subset = test_df[(test_df['fire_department.firecares_id'] == department) \n",
    "                 & (test_df['description.day_of_week'] == day)]\n",
    "subset = subset.sort_values(by='hour')\n",
    "plt.rcParams['figure.figsize'] = [12,8]\n",
    "subset.plot.bar(x='hour', y='predictions', color='dodgerblue', width=.7)\n",
    "plt.yticks([0.7,1,1.3], [])"
   ]
  },
  {
   "cell_type": "code",
   "execution_count": null,
   "metadata": {},
   "outputs": [],
   "source": []
  },
  {
   "cell_type": "code",
   "execution_count": null,
   "metadata": {},
   "outputs": [],
   "source": []
  },
  {
   "cell_type": "code",
   "execution_count": null,
   "metadata": {},
   "outputs": [],
   "source": []
  },
  {
   "cell_type": "code",
   "execution_count": null,
   "metadata": {},
   "outputs": [],
   "source": []
  },
  {
   "cell_type": "code",
   "execution_count": null,
   "metadata": {},
   "outputs": [],
   "source": []
  },
  {
   "cell_type": "code",
   "execution_count": null,
   "metadata": {},
   "outputs": [],
   "source": []
  },
  {
   "cell_type": "code",
   "execution_count": null,
   "metadata": {},
   "outputs": [],
   "source": []
  },
  {
   "cell_type": "code",
   "execution_count": null,
   "metadata": {},
   "outputs": [],
   "source": []
  },
  {
   "cell_type": "code",
   "execution_count": null,
   "metadata": {},
   "outputs": [],
   "source": []
  },
  {
   "cell_type": "code",
   "execution_count": null,
   "metadata": {},
   "outputs": [],
   "source": []
  },
  {
   "cell_type": "code",
   "execution_count": null,
   "metadata": {},
   "outputs": [],
   "source": []
  },
  {
   "cell_type": "code",
   "execution_count": null,
   "metadata": {},
   "outputs": [],
   "source": []
  },
  {
   "cell_type": "code",
   "execution_count": null,
   "metadata": {},
   "outputs": [],
   "source": []
  },
  {
   "cell_type": "code",
   "execution_count": null,
   "metadata": {},
   "outputs": [],
   "source": []
  },
  {
   "cell_type": "code",
   "execution_count": null,
   "metadata": {},
   "outputs": [],
   "source": []
  },
  {
   "cell_type": "code",
   "execution_count": null,
   "metadata": {},
   "outputs": [],
   "source": []
  },
  {
   "cell_type": "code",
   "execution_count": null,
   "metadata": {},
   "outputs": [],
   "source": []
  },
  {
   "cell_type": "code",
   "execution_count": null,
   "metadata": {},
   "outputs": [],
   "source": []
  },
  {
   "cell_type": "code",
   "execution_count": null,
   "metadata": {},
   "outputs": [],
   "source": []
  },
  {
   "cell_type": "code",
   "execution_count": null,
   "metadata": {},
   "outputs": [],
   "source": []
  },
  {
   "cell_type": "code",
   "execution_count": null,
   "metadata": {},
   "outputs": [],
   "source": []
  },
  {
   "cell_type": "code",
   "execution_count": null,
   "metadata": {},
   "outputs": [],
   "source": []
  },
  {
   "cell_type": "code",
   "execution_count": null,
   "metadata": {},
   "outputs": [],
   "source": []
  },
  {
   "cell_type": "code",
   "execution_count": null,
   "metadata": {},
   "outputs": [],
   "source": []
  },
  {
   "cell_type": "code",
   "execution_count": null,
   "metadata": {},
   "outputs": [],
   "source": []
  },
  {
   "cell_type": "code",
   "execution_count": null,
   "metadata": {},
   "outputs": [],
   "source": []
  },
  {
   "cell_type": "code",
   "execution_count": null,
   "metadata": {},
   "outputs": [],
   "source": []
  },
  {
   "cell_type": "code",
   "execution_count": null,
   "metadata": {},
   "outputs": [],
   "source": []
  },
  {
   "cell_type": "code",
   "execution_count": 103,
   "metadata": {},
   "outputs": [],
   "source": [
    "feature_list = ['fire_department.firecares_id_79592',\n",
    "       'fire_department.firecares_id_93345', 'description.day_of_week_Friday',\n",
    "       'description.day_of_week_Monday', 'description.day_of_week_Saturday',\n",
    "       'description.day_of_week_Sunday', 'description.day_of_week_Thursday',\n",
    "       'description.day_of_week_Tuesday', 'description.day_of_week_Wednesday',\n",
    "       'hour_00', 'hour_01', 'hour_02', 'hour_03', 'hour_04', 'hour_05',\n",
    "       'hour_06', 'hour_07', 'hour_08', 'hour_09', 'hour_10', 'hour_11',\n",
    "       'hour_12', 'hour_13', 'hour_14', 'hour_15', 'hour_16', 'hour_17',\n",
    "       'hour_18', 'hour_19', 'hour_20', 'hour_21', 'hour_22', 'hour_23']  "
   ]
  },
  {
   "cell_type": "code",
   "execution_count": null,
   "metadata": {},
   "outputs": [],
   "source": []
  },
  {
   "cell_type": "code",
   "execution_count": null,
   "metadata": {},
   "outputs": [],
   "source": []
  },
  {
   "cell_type": "code",
   "execution_count": null,
   "metadata": {},
   "outputs": [],
   "source": []
  },
  {
   "cell_type": "code",
   "execution_count": null,
   "metadata": {},
   "outputs": [],
   "source": []
  },
  {
   "cell_type": "code",
   "execution_count": null,
   "metadata": {},
   "outputs": [],
   "source": []
  },
  {
   "cell_type": "code",
   "execution_count": 87,
   "metadata": {},
   "outputs": [],
   "source": [
    "hourly[['fire_department.firecares_id', 'description.day_of_week', 'hour', 'calls']].to_json('test', orient='records')"
   ]
  },
  {
   "cell_type": "code",
   "execution_count": null,
   "metadata": {},
   "outputs": [],
   "source": []
  },
  {
   "cell_type": "code",
   "execution_count": null,
   "metadata": {},
   "outputs": [],
   "source": []
  },
  {
   "cell_type": "code",
   "execution_count": 88,
   "metadata": {},
   "outputs": [
    {
     "data": {
      "text/html": [
       "<div>\n",
       "<style scoped>\n",
       "    .dataframe tbody tr th:only-of-type {\n",
       "        vertical-align: middle;\n",
       "    }\n",
       "\n",
       "    .dataframe tbody tr th {\n",
       "        vertical-align: top;\n",
       "    }\n",
       "\n",
       "    .dataframe thead th {\n",
       "        text-align: right;\n",
       "    }\n",
       "</style>\n",
       "<table border=\"1\" class=\"dataframe\">\n",
       "  <thead>\n",
       "    <tr style=\"text-align: right;\">\n",
       "      <th></th>\n",
       "      <th>fire_department.firecares_id</th>\n",
       "      <th>date</th>\n",
       "      <th>description.day_of_week</th>\n",
       "      <th>hour</th>\n",
       "      <th>calls</th>\n",
       "      <th>mean_calls</th>\n",
       "      <th>norm_calls</th>\n",
       "    </tr>\n",
       "  </thead>\n",
       "  <tbody>\n",
       "    <tr>\n",
       "      <th>23429</th>\n",
       "      <td>79592</td>\n",
       "      <td>2018-09-24</td>\n",
       "      <td>Monday</td>\n",
       "      <td>09</td>\n",
       "      <td>5</td>\n",
       "      <td>6.908699</td>\n",
       "      <td>0.723725</td>\n",
       "    </tr>\n",
       "    <tr>\n",
       "      <th>47518</th>\n",
       "      <td>93345</td>\n",
       "      <td>2018-09-05</td>\n",
       "      <td>Wednesday</td>\n",
       "      <td>12</td>\n",
       "      <td>17</td>\n",
       "      <td>11.748610</td>\n",
       "      <td>1.446980</td>\n",
       "    </tr>\n",
       "    <tr>\n",
       "      <th>20196</th>\n",
       "      <td>79592</td>\n",
       "      <td>2018-04-05</td>\n",
       "      <td>Thursday</td>\n",
       "      <td>01</td>\n",
       "      <td>5</td>\n",
       "      <td>6.908699</td>\n",
       "      <td>0.723725</td>\n",
       "    </tr>\n",
       "    <tr>\n",
       "      <th>6976</th>\n",
       "      <td>79592</td>\n",
       "      <td>2016-05-11</td>\n",
       "      <td>Wednesday</td>\n",
       "      <td>19</td>\n",
       "      <td>7</td>\n",
       "      <td>6.908699</td>\n",
       "      <td>1.013215</td>\n",
       "    </tr>\n",
       "    <tr>\n",
       "      <th>44807</th>\n",
       "      <td>93345</td>\n",
       "      <td>2018-05-11</td>\n",
       "      <td>Friday</td>\n",
       "      <td>19</td>\n",
       "      <td>2</td>\n",
       "      <td>11.748610</td>\n",
       "      <td>0.170233</td>\n",
       "    </tr>\n",
       "    <tr>\n",
       "      <th>...</th>\n",
       "      <td>...</td>\n",
       "      <td>...</td>\n",
       "      <td>...</td>\n",
       "      <td>...</td>\n",
       "      <td>...</td>\n",
       "      <td>...</td>\n",
       "      <td>...</td>\n",
       "    </tr>\n",
       "    <tr>\n",
       "      <th>16243</th>\n",
       "      <td>79592</td>\n",
       "      <td>2017-09-11</td>\n",
       "      <td>Monday</td>\n",
       "      <td>01</td>\n",
       "      <td>23</td>\n",
       "      <td>6.908699</td>\n",
       "      <td>3.329136</td>\n",
       "    </tr>\n",
       "    <tr>\n",
       "      <th>42235</th>\n",
       "      <td>93345</td>\n",
       "      <td>2018-01-20</td>\n",
       "      <td>Saturday</td>\n",
       "      <td>11</td>\n",
       "      <td>15</td>\n",
       "      <td>11.748610</td>\n",
       "      <td>1.276747</td>\n",
       "    </tr>\n",
       "    <tr>\n",
       "      <th>20935</th>\n",
       "      <td>79592</td>\n",
       "      <td>2018-05-13</td>\n",
       "      <td>Sunday</td>\n",
       "      <td>16</td>\n",
       "      <td>4</td>\n",
       "      <td>6.908699</td>\n",
       "      <td>0.578980</td>\n",
       "    </tr>\n",
       "    <tr>\n",
       "      <th>1743</th>\n",
       "      <td>79592</td>\n",
       "      <td>2015-08-08</td>\n",
       "      <td>Saturday</td>\n",
       "      <td>20</td>\n",
       "      <td>11</td>\n",
       "      <td>6.908699</td>\n",
       "      <td>1.592195</td>\n",
       "    </tr>\n",
       "    <tr>\n",
       "      <th>30938</th>\n",
       "      <td>79592</td>\n",
       "      <td>2019-10-19</td>\n",
       "      <td>Saturday</td>\n",
       "      <td>20</td>\n",
       "      <td>2</td>\n",
       "      <td>6.908699</td>\n",
       "      <td>0.289490</td>\n",
       "    </tr>\n",
       "  </tbody>\n",
       "</table>\n",
       "<p>1000 rows × 7 columns</p>\n",
       "</div>"
      ],
      "text/plain": [
       "      fire_department.firecares_id       date description.day_of_week hour  \\\n",
       "23429                        79592 2018-09-24                  Monday   09   \n",
       "47518                        93345 2018-09-05               Wednesday   12   \n",
       "20196                        79592 2018-04-05                Thursday   01   \n",
       "6976                         79592 2016-05-11               Wednesday   19   \n",
       "44807                        93345 2018-05-11                  Friday   19   \n",
       "...                            ...        ...                     ...  ...   \n",
       "16243                        79592 2017-09-11                  Monday   01   \n",
       "42235                        93345 2018-01-20                Saturday   11   \n",
       "20935                        79592 2018-05-13                  Sunday   16   \n",
       "1743                         79592 2015-08-08                Saturday   20   \n",
       "30938                        79592 2019-10-19                Saturday   20   \n",
       "\n",
       "       calls  mean_calls  norm_calls  \n",
       "23429      5    6.908699    0.723725  \n",
       "47518     17   11.748610    1.446980  \n",
       "20196      5    6.908699    0.723725  \n",
       "6976       7    6.908699    1.013215  \n",
       "44807      2   11.748610    0.170233  \n",
       "...      ...         ...         ...  \n",
       "16243     23    6.908699    3.329136  \n",
       "42235     15   11.748610    1.276747  \n",
       "20935      4    6.908699    0.578980  \n",
       "1743      11    6.908699    1.592195  \n",
       "30938      2    6.908699    0.289490  \n",
       "\n",
       "[1000 rows x 7 columns]"
      ]
     },
     "execution_count": 88,
     "metadata": {},
     "output_type": "execute_result"
    }
   ],
   "source": [
    "hourly"
   ]
  },
  {
   "cell_type": "code",
   "execution_count": 85,
   "metadata": {},
   "outputs": [],
   "source": []
  },
  {
   "cell_type": "code",
   "execution_count": 81,
   "metadata": {},
   "outputs": [
    {
     "data": {
      "text/html": [
       "<div>\n",
       "<style scoped>\n",
       "    .dataframe tbody tr th:only-of-type {\n",
       "        vertical-align: middle;\n",
       "    }\n",
       "\n",
       "    .dataframe tbody tr th {\n",
       "        vertical-align: top;\n",
       "    }\n",
       "\n",
       "    .dataframe thead th {\n",
       "        text-align: right;\n",
       "    }\n",
       "</style>\n",
       "<table border=\"1\" class=\"dataframe\">\n",
       "  <thead>\n",
       "    <tr style=\"text-align: right;\">\n",
       "      <th></th>\n",
       "      <th>fire_department.firecares_id</th>\n",
       "      <th>date</th>\n",
       "      <th>description.day_of_week</th>\n",
       "      <th>hour</th>\n",
       "      <th>calls</th>\n",
       "      <th>mean_calls</th>\n",
       "      <th>norm_calls</th>\n",
       "    </tr>\n",
       "  </thead>\n",
       "  <tbody>\n",
       "    <tr>\n",
       "      <th>12500</th>\n",
       "      <td>79592</td>\n",
       "      <td>2017-02-25</td>\n",
       "      <td>Saturday</td>\n",
       "      <td>14</td>\n",
       "      <td>2</td>\n",
       "      <td>6.908699</td>\n",
       "      <td>0.289490</td>\n",
       "    </tr>\n",
       "    <tr>\n",
       "      <th>7493</th>\n",
       "      <td>79592</td>\n",
       "      <td>2016-06-08</td>\n",
       "      <td>Wednesday</td>\n",
       "      <td>19</td>\n",
       "      <td>15</td>\n",
       "      <td>6.908699</td>\n",
       "      <td>2.171176</td>\n",
       "    </tr>\n",
       "    <tr>\n",
       "      <th>43353</th>\n",
       "      <td>93345</td>\n",
       "      <td>2018-03-09</td>\n",
       "      <td>Friday</td>\n",
       "      <td>13</td>\n",
       "      <td>15</td>\n",
       "      <td>11.748610</td>\n",
       "      <td>1.276747</td>\n",
       "    </tr>\n",
       "    <tr>\n",
       "      <th>26607</th>\n",
       "      <td>79592</td>\n",
       "      <td>2019-03-08</td>\n",
       "      <td>Friday</td>\n",
       "      <td>07</td>\n",
       "      <td>5</td>\n",
       "      <td>6.908699</td>\n",
       "      <td>0.723725</td>\n",
       "    </tr>\n",
       "    <tr>\n",
       "      <th>36576</th>\n",
       "      <td>93345</td>\n",
       "      <td>2017-05-21</td>\n",
       "      <td>Sunday</td>\n",
       "      <td>11</td>\n",
       "      <td>12</td>\n",
       "      <td>11.748610</td>\n",
       "      <td>1.021397</td>\n",
       "    </tr>\n",
       "    <tr>\n",
       "      <th>...</th>\n",
       "      <td>...</td>\n",
       "      <td>...</td>\n",
       "      <td>...</td>\n",
       "      <td>...</td>\n",
       "      <td>...</td>\n",
       "      <td>...</td>\n",
       "      <td>...</td>\n",
       "    </tr>\n",
       "    <tr>\n",
       "      <th>1465</th>\n",
       "      <td>79592</td>\n",
       "      <td>2015-07-24</td>\n",
       "      <td>Friday</td>\n",
       "      <td>15</td>\n",
       "      <td>4</td>\n",
       "      <td>6.908699</td>\n",
       "      <td>0.578980</td>\n",
       "    </tr>\n",
       "    <tr>\n",
       "      <th>5211</th>\n",
       "      <td>79592</td>\n",
       "      <td>2016-02-10</td>\n",
       "      <td>Wednesday</td>\n",
       "      <td>14</td>\n",
       "      <td>4</td>\n",
       "      <td>6.908699</td>\n",
       "      <td>0.578980</td>\n",
       "    </tr>\n",
       "    <tr>\n",
       "      <th>4312</th>\n",
       "      <td>79592</td>\n",
       "      <td>2015-12-26</td>\n",
       "      <td>Saturday</td>\n",
       "      <td>03</td>\n",
       "      <td>4</td>\n",
       "      <td>6.908699</td>\n",
       "      <td>0.578980</td>\n",
       "    </tr>\n",
       "    <tr>\n",
       "      <th>10386</th>\n",
       "      <td>79592</td>\n",
       "      <td>2016-11-09</td>\n",
       "      <td>Wednesday</td>\n",
       "      <td>21</td>\n",
       "      <td>8</td>\n",
       "      <td>6.908699</td>\n",
       "      <td>1.157960</td>\n",
       "    </tr>\n",
       "    <tr>\n",
       "      <th>5563</th>\n",
       "      <td>79592</td>\n",
       "      <td>2016-02-28</td>\n",
       "      <td>Sunday</td>\n",
       "      <td>13</td>\n",
       "      <td>9</td>\n",
       "      <td>6.908699</td>\n",
       "      <td>1.302705</td>\n",
       "    </tr>\n",
       "  </tbody>\n",
       "</table>\n",
       "<p>1000 rows × 7 columns</p>\n",
       "</div>"
      ],
      "text/plain": [
       "      fire_department.firecares_id       date description.day_of_week hour  \\\n",
       "12500                        79592 2017-02-25                Saturday   14   \n",
       "7493                         79592 2016-06-08               Wednesday   19   \n",
       "43353                        93345 2018-03-09                  Friday   13   \n",
       "26607                        79592 2019-03-08                  Friday   07   \n",
       "36576                        93345 2017-05-21                  Sunday   11   \n",
       "...                            ...        ...                     ...  ...   \n",
       "1465                         79592 2015-07-24                  Friday   15   \n",
       "5211                         79592 2016-02-10               Wednesday   14   \n",
       "4312                         79592 2015-12-26                Saturday   03   \n",
       "10386                        79592 2016-11-09               Wednesday   21   \n",
       "5563                         79592 2016-02-28                  Sunday   13   \n",
       "\n",
       "       calls  mean_calls  norm_calls  \n",
       "12500      2    6.908699    0.289490  \n",
       "7493      15    6.908699    2.171176  \n",
       "43353     15   11.748610    1.276747  \n",
       "26607      5    6.908699    0.723725  \n",
       "36576     12   11.748610    1.021397  \n",
       "...      ...         ...         ...  \n",
       "1465       4    6.908699    0.578980  \n",
       "5211       4    6.908699    0.578980  \n",
       "4312       4    6.908699    0.578980  \n",
       "10386      8    6.908699    1.157960  \n",
       "5563       9    6.908699    1.302705  \n",
       "\n",
       "[1000 rows x 7 columns]"
      ]
     },
     "execution_count": 81,
     "metadata": {},
     "output_type": "execute_result"
    }
   ],
   "source": []
  },
  {
   "cell_type": "code",
   "execution_count": null,
   "metadata": {},
   "outputs": [],
   "source": []
  },
  {
   "cell_type": "code",
   "execution_count": null,
   "metadata": {},
   "outputs": [],
   "source": []
  },
  {
   "cell_type": "code",
   "execution_count": null,
   "metadata": {},
   "outputs": [],
   "source": []
  },
  {
   "cell_type": "code",
   "execution_count": null,
   "metadata": {},
   "outputs": [],
   "source": []
  },
  {
   "cell_type": "code",
   "execution_count": null,
   "metadata": {},
   "outputs": [],
   "source": []
  },
  {
   "cell_type": "code",
   "execution_count": null,
   "metadata": {},
   "outputs": [],
   "source": []
  },
  {
   "cell_type": "code",
   "execution_count": null,
   "metadata": {},
   "outputs": [],
   "source": []
  },
  {
   "cell_type": "code",
   "execution_count": null,
   "metadata": {},
   "outputs": [],
   "source": []
  },
  {
   "cell_type": "code",
   "execution_count": 74,
   "metadata": {},
   "outputs": [
    {
     "data": {
      "text/plain": [
       "array(['10', '11', '12', '13', '14', '15', '16', '17', '18', '19', '20',\n",
       "       '21', '00', '03', '04', '07', '08', '09', '22', '23', '06', '01',\n",
       "       '02', '05'], dtype=object)"
      ]
     },
     "execution_count": 74,
     "metadata": {},
     "output_type": "execute_result"
    }
   ],
   "source": [
    "hourly['hour'].unique()"
   ]
  },
  {
   "cell_type": "code",
   "execution_count": 75,
   "metadata": {},
   "outputs": [
    {
     "data": {
      "text/plain": [
       "array(['79592', '93345'], dtype=object)"
      ]
     },
     "execution_count": 75,
     "metadata": {},
     "output_type": "execute_result"
    }
   ],
   "source": [
    "fdid_list"
   ]
  },
  {
   "cell_type": "code",
   "execution_count": 80,
   "metadata": {},
   "outputs": [
    {
     "data": {
      "text/html": [
       "<div>\n",
       "<style scoped>\n",
       "    .dataframe tbody tr th:only-of-type {\n",
       "        vertical-align: middle;\n",
       "    }\n",
       "\n",
       "    .dataframe tbody tr th {\n",
       "        vertical-align: top;\n",
       "    }\n",
       "\n",
       "    .dataframe thead th {\n",
       "        text-align: right;\n",
       "    }\n",
       "</style>\n",
       "<table border=\"1\" class=\"dataframe\">\n",
       "  <thead>\n",
       "    <tr style=\"text-align: right;\">\n",
       "      <th></th>\n",
       "      <th>fire_department.firecares_id</th>\n",
       "      <th>date</th>\n",
       "      <th>description.day_of_week</th>\n",
       "      <th>hour</th>\n",
       "      <th>calls</th>\n",
       "      <th>mean_calls</th>\n",
       "      <th>norm_calls</th>\n",
       "    </tr>\n",
       "  </thead>\n",
       "  <tbody>\n",
       "    <tr>\n",
       "      <th>0</th>\n",
       "      <td>79592</td>\n",
       "      <td>2015-05-05</td>\n",
       "      <td>Tuesday</td>\n",
       "      <td>10</td>\n",
       "      <td>18</td>\n",
       "      <td>6.908699</td>\n",
       "      <td>2.605411</td>\n",
       "    </tr>\n",
       "    <tr>\n",
       "      <th>1</th>\n",
       "      <td>79592</td>\n",
       "      <td>2015-05-05</td>\n",
       "      <td>Tuesday</td>\n",
       "      <td>11</td>\n",
       "      <td>11</td>\n",
       "      <td>6.908699</td>\n",
       "      <td>1.592195</td>\n",
       "    </tr>\n",
       "    <tr>\n",
       "      <th>2</th>\n",
       "      <td>79592</td>\n",
       "      <td>2015-05-05</td>\n",
       "      <td>Tuesday</td>\n",
       "      <td>12</td>\n",
       "      <td>10</td>\n",
       "      <td>6.908699</td>\n",
       "      <td>1.447450</td>\n",
       "    </tr>\n",
       "    <tr>\n",
       "      <th>3</th>\n",
       "      <td>79592</td>\n",
       "      <td>2015-05-05</td>\n",
       "      <td>Tuesday</td>\n",
       "      <td>13</td>\n",
       "      <td>11</td>\n",
       "      <td>6.908699</td>\n",
       "      <td>1.592195</td>\n",
       "    </tr>\n",
       "    <tr>\n",
       "      <th>4</th>\n",
       "      <td>79592</td>\n",
       "      <td>2015-05-05</td>\n",
       "      <td>Tuesday</td>\n",
       "      <td>14</td>\n",
       "      <td>6</td>\n",
       "      <td>6.908699</td>\n",
       "      <td>0.868470</td>\n",
       "    </tr>\n",
       "    <tr>\n",
       "      <th>...</th>\n",
       "      <td>...</td>\n",
       "      <td>...</td>\n",
       "      <td>...</td>\n",
       "      <td>...</td>\n",
       "      <td>...</td>\n",
       "      <td>...</td>\n",
       "      <td>...</td>\n",
       "    </tr>\n",
       "    <tr>\n",
       "      <th>58068</th>\n",
       "      <td>93345</td>\n",
       "      <td>2019-12-05</td>\n",
       "      <td>Thursday</td>\n",
       "      <td>05</td>\n",
       "      <td>2</td>\n",
       "      <td>11.748610</td>\n",
       "      <td>0.170233</td>\n",
       "    </tr>\n",
       "    <tr>\n",
       "      <th>58069</th>\n",
       "      <td>93345</td>\n",
       "      <td>2019-12-05</td>\n",
       "      <td>Thursday</td>\n",
       "      <td>06</td>\n",
       "      <td>5</td>\n",
       "      <td>11.748610</td>\n",
       "      <td>0.425582</td>\n",
       "    </tr>\n",
       "    <tr>\n",
       "      <th>58070</th>\n",
       "      <td>93345</td>\n",
       "      <td>2019-12-05</td>\n",
       "      <td>Thursday</td>\n",
       "      <td>07</td>\n",
       "      <td>10</td>\n",
       "      <td>11.748610</td>\n",
       "      <td>0.851164</td>\n",
       "    </tr>\n",
       "    <tr>\n",
       "      <th>58071</th>\n",
       "      <td>93345</td>\n",
       "      <td>2019-12-05</td>\n",
       "      <td>Thursday</td>\n",
       "      <td>08</td>\n",
       "      <td>17</td>\n",
       "      <td>11.748610</td>\n",
       "      <td>1.446980</td>\n",
       "    </tr>\n",
       "    <tr>\n",
       "      <th>58072</th>\n",
       "      <td>93345</td>\n",
       "      <td>2019-12-05</td>\n",
       "      <td>Thursday</td>\n",
       "      <td>09</td>\n",
       "      <td>12</td>\n",
       "      <td>11.748610</td>\n",
       "      <td>1.021397</td>\n",
       "    </tr>\n",
       "  </tbody>\n",
       "</table>\n",
       "<p>58073 rows × 7 columns</p>\n",
       "</div>"
      ],
      "text/plain": [
       "      fire_department.firecares_id       date description.day_of_week hour  \\\n",
       "0                            79592 2015-05-05                 Tuesday   10   \n",
       "1                            79592 2015-05-05                 Tuesday   11   \n",
       "2                            79592 2015-05-05                 Tuesday   12   \n",
       "3                            79592 2015-05-05                 Tuesday   13   \n",
       "4                            79592 2015-05-05                 Tuesday   14   \n",
       "...                            ...        ...                     ...  ...   \n",
       "58068                        93345 2019-12-05                Thursday   05   \n",
       "58069                        93345 2019-12-05                Thursday   06   \n",
       "58070                        93345 2019-12-05                Thursday   07   \n",
       "58071                        93345 2019-12-05                Thursday   08   \n",
       "58072                        93345 2019-12-05                Thursday   09   \n",
       "\n",
       "       calls  mean_calls  norm_calls  \n",
       "0         18    6.908699    2.605411  \n",
       "1         11    6.908699    1.592195  \n",
       "2         10    6.908699    1.447450  \n",
       "3         11    6.908699    1.592195  \n",
       "4          6    6.908699    0.868470  \n",
       "...      ...         ...         ...  \n",
       "58068      2   11.748610    0.170233  \n",
       "58069      5   11.748610    0.425582  \n",
       "58070     10   11.748610    0.851164  \n",
       "58071     17   11.748610    1.446980  \n",
       "58072     12   11.748610    1.021397  \n",
       "\n",
       "[58073 rows x 7 columns]"
      ]
     },
     "execution_count": 80,
     "metadata": {},
     "output_type": "execute_result"
    }
   ],
   "source": [
    "hourly\n"
   ]
  },
  {
   "cell_type": "code",
   "execution_count": 79,
   "metadata": {},
   "outputs": [
    {
     "data": {
      "text/plain": [
       "<matplotlib.axes._subplots.AxesSubplot at 0x7f9c3d23f208>"
      ]
     },
     "execution_count": 79,
     "metadata": {},
     "output_type": "execute_result"
    },
    {
     "data": {
      "image/png": "[encoded data removed]",
      "text/plain": [
       "<Figure size 432x288 with 1 Axes>"
      ]
     },
     "metadata": {
      "needs_background": "light"
     },
     "output_type": "display_data"
    }
   ],
   "source": [
    "hourly.boxplot('norm_calls', by='hour')"
   ]
  },
  {
   "cell_type": "code",
   "execution_count": null,
   "metadata": {},
   "outputs": [],
   "source": []
  },
  {
   "cell_type": "code",
   "execution_count": null,
   "metadata": {},
   "outputs": [],
   "source": []
  },
  {
   "cell_type": "code",
   "execution_count": null,
   "metadata": {},
   "outputs": [],
   "source": []
  },
  {
   "cell_type": "code",
   "execution_count": null,
   "metadata": {},
   "outputs": [],
   "source": []
  },
  {
   "cell_type": "code",
   "execution_count": null,
   "metadata": {},
   "outputs": [],
   "source": []
  },
  {
   "cell_type": "code",
   "execution_count": null,
   "metadata": {},
   "outputs": [],
   "source": []
  },
  {
   "cell_type": "code",
   "execution_count": null,
   "metadata": {},
   "outputs": [],
   "source": []
  },
  {
   "cell_type": "code",
   "execution_count": 30,
   "metadata": {},
   "outputs": [],
   "source": [
    "# Hourly aggregation\n",
    "hourly = df.drop(['description.event_opened','NFPA.type','weather'],axis=1).groupby(['date', \n",
    "                                                                'hour',\n",
    "                                                                'fire_department.firecares_id'])"
   ]
  },
  {
   "cell_type": "code",
   "execution_count": 26,
   "metadata": {},
   "outputs": [
    {
     "data": {
      "text/html": [
       "<div>\n",
       "<style scoped>\n",
       "    .dataframe tbody tr th:only-of-type {\n",
       "        vertical-align: middle;\n",
       "    }\n",
       "\n",
       "    .dataframe tbody tr th {\n",
       "        vertical-align: top;\n",
       "    }\n",
       "\n",
       "    .dataframe thead th {\n",
       "        text-align: right;\n",
       "    }\n",
       "</style>\n",
       "<table border=\"1\" class=\"dataframe\">\n",
       "  <thead>\n",
       "    <tr style=\"text-align: right;\">\n",
       "      <th></th>\n",
       "      <th>date</th>\n",
       "      <th>hour</th>\n",
       "      <th>fire_department.firecares_id</th>\n",
       "      <th>temperatureHigh</th>\n",
       "      <th>precipIntensity</th>\n",
       "    </tr>\n",
       "  </thead>\n",
       "  <tbody>\n",
       "    <tr>\n",
       "      <th>0</th>\n",
       "      <td>2016-05-31</td>\n",
       "      <td>22</td>\n",
       "      <td>93345</td>\n",
       "      <td>84.004286</td>\n",
       "      <td>0.000000</td>\n",
       "    </tr>\n",
       "    <tr>\n",
       "      <th>1</th>\n",
       "      <td>2016-10-26</td>\n",
       "      <td>22</td>\n",
       "      <td>93345</td>\n",
       "      <td>61.018462</td>\n",
       "      <td>0.000000</td>\n",
       "    </tr>\n",
       "    <tr>\n",
       "      <th>2</th>\n",
       "      <td>2016-10-27</td>\n",
       "      <td>22</td>\n",
       "      <td>93345</td>\n",
       "      <td>69.756538</td>\n",
       "      <td>0.001411</td>\n",
       "    </tr>\n",
       "    <tr>\n",
       "      <th>3</th>\n",
       "      <td>2016-10-28</td>\n",
       "      <td>22</td>\n",
       "      <td>93345</td>\n",
       "      <td>64.516796</td>\n",
       "      <td>0.000000</td>\n",
       "    </tr>\n",
       "    <tr>\n",
       "      <th>4</th>\n",
       "      <td>2016-10-29</td>\n",
       "      <td>22</td>\n",
       "      <td>93345</td>\n",
       "      <td>75.396895</td>\n",
       "      <td>0.000001</td>\n",
       "    </tr>\n",
       "    <tr>\n",
       "      <th>...</th>\n",
       "      <td>...</td>\n",
       "      <td>...</td>\n",
       "      <td>...</td>\n",
       "      <td>...</td>\n",
       "      <td>...</td>\n",
       "    </tr>\n",
       "    <tr>\n",
       "      <th>1132</th>\n",
       "      <td>2019-12-01</td>\n",
       "      <td>22</td>\n",
       "      <td>93345</td>\n",
       "      <td>50.927547</td>\n",
       "      <td>0.015975</td>\n",
       "    </tr>\n",
       "    <tr>\n",
       "      <th>1133</th>\n",
       "      <td>2019-12-02</td>\n",
       "      <td>22</td>\n",
       "      <td>93345</td>\n",
       "      <td>49.032110</td>\n",
       "      <td>0.004459</td>\n",
       "    </tr>\n",
       "    <tr>\n",
       "      <th>1134</th>\n",
       "      <td>2019-12-03</td>\n",
       "      <td>22</td>\n",
       "      <td>93345</td>\n",
       "      <td>51.590464</td>\n",
       "      <td>0.000193</td>\n",
       "    </tr>\n",
       "    <tr>\n",
       "      <th>1135</th>\n",
       "      <td>2019-12-04</td>\n",
       "      <td>22</td>\n",
       "      <td>93345</td>\n",
       "      <td>52.676278</td>\n",
       "      <td>0.000226</td>\n",
       "    </tr>\n",
       "    <tr>\n",
       "      <th>1136</th>\n",
       "      <td>2019-12-05</td>\n",
       "      <td>22</td>\n",
       "      <td>93345</td>\n",
       "      <td>51.994571</td>\n",
       "      <td>0.000200</td>\n",
       "    </tr>\n",
       "  </tbody>\n",
       "</table>\n",
       "<p>1137 rows × 5 columns</p>\n",
       "</div>"
      ],
      "text/plain": [
       "           date hour fire_department.firecares_id  temperatureHigh  \\\n",
       "0    2016-05-31   22                        93345        84.004286   \n",
       "1    2016-10-26   22                        93345        61.018462   \n",
       "2    2016-10-27   22                        93345        69.756538   \n",
       "3    2016-10-28   22                        93345        64.516796   \n",
       "4    2016-10-29   22                        93345        75.396895   \n",
       "...         ...  ...                          ...              ...   \n",
       "1132 2019-12-01   22                        93345        50.927547   \n",
       "1133 2019-12-02   22                        93345        49.032110   \n",
       "1134 2019-12-03   22                        93345        51.590464   \n",
       "1135 2019-12-04   22                        93345        52.676278   \n",
       "1136 2019-12-05   22                        93345        51.994571   \n",
       "\n",
       "      precipIntensity  \n",
       "0            0.000000  \n",
       "1            0.000000  \n",
       "2            0.001411  \n",
       "3            0.000000  \n",
       "4            0.000001  \n",
       "...               ...  \n",
       "1132         0.015975  \n",
       "1133         0.004459  \n",
       "1134         0.000193  \n",
       "1135         0.000226  \n",
       "1136         0.000200  \n",
       "\n",
       "[1137 rows x 5 columns]"
      ]
     },
     "execution_count": 26,
     "metadata": {},
     "output_type": "execute_result"
    }
   ],
   "source": [
    "#Need average calls for each department for each department"
   ]
  },
  {
   "cell_type": "code",
   "execution_count": null,
   "metadata": {},
   "outputs": [],
   "source": []
  },
  {
   "cell_type": "code",
   "execution_count": null,
   "metadata": {},
   "outputs": [],
   "source": []
  },
  {
   "cell_type": "code",
   "execution_count": null,
   "metadata": {},
   "outputs": [],
   "source": []
  },
  {
   "cell_type": "code",
   "execution_count": null,
   "metadata": {},
   "outputs": [],
   "source": []
  },
  {
   "cell_type": "code",
   "execution_count": null,
   "metadata": {},
   "outputs": [],
   "source": []
  },
  {
   "cell_type": "code",
   "execution_count": null,
   "metadata": {},
   "outputs": [],
   "source": []
  },
  {
   "cell_type": "code",
   "execution_count": 13,
   "metadata": {},
   "outputs": [
    {
     "ename": "KeyError",
     "evalue": "'precipAccumulation'",
     "output_type": "error",
     "traceback": [
      "\u001b[0;31m---------------------------------------------------------------------------\u001b[0m",
      "\u001b[0;31mKeyError\u001b[0m                                  Traceback (most recent call last)",
      "\u001b[0;32m~/.local/lib/python3.6/site-packages/pandas/core/indexes/base.py\u001b[0m in \u001b[0;36mget_loc\u001b[0;34m(self, key, method, tolerance)\u001b[0m\n\u001b[1;32m   2896\u001b[0m             \u001b[0;32mtry\u001b[0m\u001b[0;34m:\u001b[0m\u001b[0;34m\u001b[0m\u001b[0;34m\u001b[0m\u001b[0m\n\u001b[0;32m-> 2897\u001b[0;31m                 \u001b[0;32mreturn\u001b[0m \u001b[0mself\u001b[0m\u001b[0;34m.\u001b[0m\u001b[0m_engine\u001b[0m\u001b[0;34m.\u001b[0m\u001b[0mget_loc\u001b[0m\u001b[0;34m(\u001b[0m\u001b[0mkey\u001b[0m\u001b[0;34m)\u001b[0m\u001b[0;34m\u001b[0m\u001b[0;34m\u001b[0m\u001b[0m\n\u001b[0m\u001b[1;32m   2898\u001b[0m             \u001b[0;32mexcept\u001b[0m \u001b[0mKeyError\u001b[0m\u001b[0;34m:\u001b[0m\u001b[0;34m\u001b[0m\u001b[0;34m\u001b[0m\u001b[0m\n",
      "\u001b[0;32mpandas/_libs/index.pyx\u001b[0m in \u001b[0;36mpandas._libs.index.IndexEngine.get_loc\u001b[0;34m()\u001b[0m\n",
      "\u001b[0;32mpandas/_libs/index.pyx\u001b[0m in \u001b[0;36mpandas._libs.index.IndexEngine.get_loc\u001b[0;34m()\u001b[0m\n",
      "\u001b[0;32mpandas/_libs/hashtable_class_helper.pxi\u001b[0m in \u001b[0;36mpandas._libs.hashtable.PyObjectHashTable.get_item\u001b[0;34m()\u001b[0m\n",
      "\u001b[0;32mpandas/_libs/hashtable_class_helper.pxi\u001b[0m in \u001b[0;36mpandas._libs.hashtable.PyObjectHashTable.get_item\u001b[0;34m()\u001b[0m\n",
      "\u001b[0;31mKeyError\u001b[0m: 'precipAccumulation'",
      "\nDuring handling of the above exception, another exception occurred:\n",
      "\u001b[0;31mKeyError\u001b[0m                                  Traceback (most recent call last)",
      "\u001b[0;32m<ipython-input-13-b4d094330aea>\u001b[0m in \u001b[0;36m<module>\u001b[0;34m\u001b[0m\n\u001b[1;32m     52\u001b[0m \u001b[0mdaily\u001b[0m\u001b[0;34m[\u001b[0m\u001b[0;34m'zother'\u001b[0m\u001b[0;34m]\u001b[0m \u001b[0;34m=\u001b[0m \u001b[0;34m(\u001b[0m\u001b[0mdaily\u001b[0m\u001b[0;34m[\u001b[0m\u001b[0;34m'other_calls'\u001b[0m\u001b[0;34m]\u001b[0m \u001b[0;34m-\u001b[0m \u001b[0mdaily\u001b[0m\u001b[0;34m[\u001b[0m\u001b[0;34m'mean_other'\u001b[0m\u001b[0;34m]\u001b[0m\u001b[0;34m)\u001b[0m\u001b[0;34m/\u001b[0m\u001b[0mdaily\u001b[0m\u001b[0;34m[\u001b[0m\u001b[0;34m'std_other'\u001b[0m\u001b[0;34m]\u001b[0m\u001b[0;34m\u001b[0m\u001b[0;34m\u001b[0m\u001b[0m\n\u001b[1;32m     53\u001b[0m \u001b[0;34m\u001b[0m\u001b[0m\n\u001b[0;32m---> 54\u001b[0;31m \u001b[0mdaily\u001b[0m\u001b[0;34m[\u001b[0m\u001b[0;34m'precipAccumulation'\u001b[0m\u001b[0;34m]\u001b[0m \u001b[0;34m=\u001b[0m \u001b[0mdaily\u001b[0m\u001b[0;34m[\u001b[0m\u001b[0;34m'precipAccumulation'\u001b[0m\u001b[0;34m]\u001b[0m\u001b[0;34m.\u001b[0m\u001b[0mfillna\u001b[0m\u001b[0;34m(\u001b[0m\u001b[0;36m0\u001b[0m\u001b[0;34m)\u001b[0m\u001b[0;34m\u001b[0m\u001b[0;34m\u001b[0m\u001b[0m\n\u001b[0m\u001b[1;32m     55\u001b[0m \u001b[0mdaily\u001b[0m\u001b[0;34m[\u001b[0m\u001b[0;34m'precipIntensity'\u001b[0m\u001b[0;34m]\u001b[0m \u001b[0;34m=\u001b[0m \u001b[0mdaily\u001b[0m\u001b[0;34m[\u001b[0m\u001b[0;34m'precipAccumulation'\u001b[0m\u001b[0;34m]\u001b[0m\u001b[0;34m.\u001b[0m\u001b[0mfillna\u001b[0m\u001b[0;34m(\u001b[0m\u001b[0;36m0\u001b[0m\u001b[0;34m)\u001b[0m\u001b[0;34m\u001b[0m\u001b[0;34m\u001b[0m\u001b[0m\n\u001b[1;32m     56\u001b[0m \u001b[0mdaily\u001b[0m\u001b[0;34m[\u001b[0m\u001b[0;34m'precipType'\u001b[0m\u001b[0;34m]\u001b[0m \u001b[0;34m=\u001b[0m \u001b[0mdaily\u001b[0m\u001b[0;34m[\u001b[0m\u001b[0;34m'precipType'\u001b[0m\u001b[0;34m]\u001b[0m\u001b[0;34m.\u001b[0m\u001b[0mfillna\u001b[0m\u001b[0;34m(\u001b[0m\u001b[0;34m'None'\u001b[0m\u001b[0;34m)\u001b[0m\u001b[0;34m\u001b[0m\u001b[0;34m\u001b[0m\u001b[0m\n",
      "\u001b[0;32m~/.local/lib/python3.6/site-packages/pandas/core/frame.py\u001b[0m in \u001b[0;36m__getitem__\u001b[0;34m(self, key)\u001b[0m\n\u001b[1;32m   2993\u001b[0m             \u001b[0;32mif\u001b[0m \u001b[0mself\u001b[0m\u001b[0;34m.\u001b[0m\u001b[0mcolumns\u001b[0m\u001b[0;34m.\u001b[0m\u001b[0mnlevels\u001b[0m \u001b[0;34m>\u001b[0m \u001b[0;36m1\u001b[0m\u001b[0;34m:\u001b[0m\u001b[0;34m\u001b[0m\u001b[0;34m\u001b[0m\u001b[0m\n\u001b[1;32m   2994\u001b[0m                 \u001b[0;32mreturn\u001b[0m \u001b[0mself\u001b[0m\u001b[0;34m.\u001b[0m\u001b[0m_getitem_multilevel\u001b[0m\u001b[0;34m(\u001b[0m\u001b[0mkey\u001b[0m\u001b[0;34m)\u001b[0m\u001b[0;34m\u001b[0m\u001b[0;34m\u001b[0m\u001b[0m\n\u001b[0;32m-> 2995\u001b[0;31m             \u001b[0mindexer\u001b[0m \u001b[0;34m=\u001b[0m \u001b[0mself\u001b[0m\u001b[0;34m.\u001b[0m\u001b[0mcolumns\u001b[0m\u001b[0;34m.\u001b[0m\u001b[0mget_loc\u001b[0m\u001b[0;34m(\u001b[0m\u001b[0mkey\u001b[0m\u001b[0;34m)\u001b[0m\u001b[0;34m\u001b[0m\u001b[0;34m\u001b[0m\u001b[0m\n\u001b[0m\u001b[1;32m   2996\u001b[0m             \u001b[0;32mif\u001b[0m \u001b[0mis_integer\u001b[0m\u001b[0;34m(\u001b[0m\u001b[0mindexer\u001b[0m\u001b[0;34m)\u001b[0m\u001b[0;34m:\u001b[0m\u001b[0;34m\u001b[0m\u001b[0;34m\u001b[0m\u001b[0m\n\u001b[1;32m   2997\u001b[0m                 \u001b[0mindexer\u001b[0m \u001b[0;34m=\u001b[0m \u001b[0;34m[\u001b[0m\u001b[0mindexer\u001b[0m\u001b[0;34m]\u001b[0m\u001b[0;34m\u001b[0m\u001b[0;34m\u001b[0m\u001b[0m\n",
      "\u001b[0;32m~/.local/lib/python3.6/site-packages/pandas/core/indexes/base.py\u001b[0m in \u001b[0;36mget_loc\u001b[0;34m(self, key, method, tolerance)\u001b[0m\n\u001b[1;32m   2897\u001b[0m                 \u001b[0;32mreturn\u001b[0m \u001b[0mself\u001b[0m\u001b[0;34m.\u001b[0m\u001b[0m_engine\u001b[0m\u001b[0;34m.\u001b[0m\u001b[0mget_loc\u001b[0m\u001b[0;34m(\u001b[0m\u001b[0mkey\u001b[0m\u001b[0;34m)\u001b[0m\u001b[0;34m\u001b[0m\u001b[0;34m\u001b[0m\u001b[0m\n\u001b[1;32m   2898\u001b[0m             \u001b[0;32mexcept\u001b[0m \u001b[0mKeyError\u001b[0m\u001b[0;34m:\u001b[0m\u001b[0;34m\u001b[0m\u001b[0;34m\u001b[0m\u001b[0m\n\u001b[0;32m-> 2899\u001b[0;31m                 \u001b[0;32mreturn\u001b[0m \u001b[0mself\u001b[0m\u001b[0;34m.\u001b[0m\u001b[0m_engine\u001b[0m\u001b[0;34m.\u001b[0m\u001b[0mget_loc\u001b[0m\u001b[0;34m(\u001b[0m\u001b[0mself\u001b[0m\u001b[0;34m.\u001b[0m\u001b[0m_maybe_cast_indexer\u001b[0m\u001b[0;34m(\u001b[0m\u001b[0mkey\u001b[0m\u001b[0;34m)\u001b[0m\u001b[0;34m)\u001b[0m\u001b[0;34m\u001b[0m\u001b[0;34m\u001b[0m\u001b[0m\n\u001b[0m\u001b[1;32m   2900\u001b[0m         \u001b[0mindexer\u001b[0m \u001b[0;34m=\u001b[0m \u001b[0mself\u001b[0m\u001b[0;34m.\u001b[0m\u001b[0mget_indexer\u001b[0m\u001b[0;34m(\u001b[0m\u001b[0;34m[\u001b[0m\u001b[0mkey\u001b[0m\u001b[0;34m]\u001b[0m\u001b[0;34m,\u001b[0m \u001b[0mmethod\u001b[0m\u001b[0;34m=\u001b[0m\u001b[0mmethod\u001b[0m\u001b[0;34m,\u001b[0m \u001b[0mtolerance\u001b[0m\u001b[0;34m=\u001b[0m\u001b[0mtolerance\u001b[0m\u001b[0;34m)\u001b[0m\u001b[0;34m\u001b[0m\u001b[0;34m\u001b[0m\u001b[0m\n\u001b[1;32m   2901\u001b[0m         \u001b[0;32mif\u001b[0m \u001b[0mindexer\u001b[0m\u001b[0;34m.\u001b[0m\u001b[0mndim\u001b[0m \u001b[0;34m>\u001b[0m \u001b[0;36m1\u001b[0m \u001b[0;32mor\u001b[0m \u001b[0mindexer\u001b[0m\u001b[0;34m.\u001b[0m\u001b[0msize\u001b[0m \u001b[0;34m>\u001b[0m \u001b[0;36m1\u001b[0m\u001b[0;34m:\u001b[0m\u001b[0;34m\u001b[0m\u001b[0;34m\u001b[0m\u001b[0m\n",
      "\u001b[0;32mpandas/_libs/index.pyx\u001b[0m in \u001b[0;36mpandas._libs.index.IndexEngine.get_loc\u001b[0;34m()\u001b[0m\n",
      "\u001b[0;32mpandas/_libs/index.pyx\u001b[0m in \u001b[0;36mpandas._libs.index.IndexEngine.get_loc\u001b[0;34m()\u001b[0m\n",
      "\u001b[0;32mpandas/_libs/hashtable_class_helper.pxi\u001b[0m in \u001b[0;36mpandas._libs.hashtable.PyObjectHashTable.get_item\u001b[0;34m()\u001b[0m\n",
      "\u001b[0;32mpandas/_libs/hashtable_class_helper.pxi\u001b[0m in \u001b[0;36mpandas._libs.hashtable.PyObjectHashTable.get_item\u001b[0;34m()\u001b[0m\n",
      "\u001b[0;31mKeyError\u001b[0m: 'precipAccumulation'"
     ]
    }
   ],
   "source": [
    "#Getting the list of all departments in the dataframe\n",
    "fdid_list = df['fire_department.firecares_id'].unique()\n",
    "\n",
    "\n",
    "# Day aggregation\n",
    "daily = df.drop(['description.event_opened','NFPA.type'],axis=1).groupby(['date', \n",
    "                                                                'description.day_of_week',\n",
    "                                                                'fire_department.firecares_id']).aggregate(np.mean).reset_index()\n",
    "def myagg(x):\n",
    "    d = {\n",
    "        'ems_calls': np.sum(x['NFPA.type'] == 'EMS'),\n",
    "        'fire_calls': np.sum(x['NFPA.type'] == 'FIRE'),\n",
    "        'other_calls': np.sum(x['NFPA.type'] == 'OTHER'),\n",
    "        'precipType': x.iloc[0]['precipType'],\n",
    "        'holiday': x.iloc[0]['holiday']\n",
    "    }\n",
    "    return pd.Series(d,index=d.keys())\n",
    "\n",
    "\n",
    "calls = df[['date','NFPA.type','fire_department.firecares_id','precipType', 'holiday']].groupby(['date','fire_department.firecares_id']).apply(myagg).reset_index()\n",
    "daily = daily.merge(calls,on=['date','fire_department.firecares_id'])\n",
    "\n",
    "#Appending the mean and standard deviation to the daily dataframe\n",
    "mean = daily[['fire_department.firecares_id','fire_calls','ems_calls','other_calls']].groupby(['fire_department.firecares_id']).aggregate(np.mean).reset_index()\n",
    "mean = mean.rename(columns={'fire_calls': 'mean_fire', 'ems_calls': 'mean_ems', 'other_calls': 'mean_other'})\n",
    "\n",
    "std = daily[['fire_department.firecares_id','fire_calls','ems_calls','other_calls']].groupby(['fire_department.firecares_id']).aggregate(np.std).reset_index()\n",
    "std = std.rename(columns={'fire_calls': 'std_fire', 'ems_calls': 'std_ems', 'other_calls': 'std_other' })\n",
    "daily = daily.merge(mean,on=['fire_department.firecares_id']).merge(std,on=['fire_department.firecares_id'])\n",
    "\n",
    "daily['zfire'] = (daily['fire_calls'] - daily['mean_fire'])/daily['std_fire']\n",
    "daily['zems'] = (daily['ems_calls'] - daily['mean_ems'])/daily['std_ems']\n",
    "daily['zother'] = (daily['other_calls'] - daily['mean_other'])/daily['std_other']\n",
    "\n",
    "#In a few places the day of the week is wrong. This line prevents that issue from causing bugs\n",
    "daily = daily.drop_duplicates(['fire_department.firecares_id', 'date']).reset_index(drop=True)\n",
    "\n",
    "#Dropping outliers\n",
    "daily = daily[np.abs(daily['zems']) < 2.0].reset_index(drop=True)\n",
    "\n",
    "#Then recalculating quantities\n",
    "daily = daily.drop(['mean_fire','std_fire', 'mean_ems', 'std_ems', 'mean_other', 'std_other'],axis=1)\n",
    "mean = daily[['fire_department.firecares_id','fire_calls','ems_calls','other_calls']].groupby(['fire_department.firecares_id']).aggregate(np.mean).reset_index()\n",
    "mean = mean.rename(columns={'fire_calls': 'mean_fire', 'ems_calls': 'mean_ems', 'other_calls': 'mean_other'})\n",
    "\n",
    "std = daily[['fire_department.firecares_id','fire_calls','ems_calls','other_calls']].groupby(['fire_department.firecares_id']).aggregate(np.std).reset_index()\n",
    "std = std.rename(columns={'fire_calls': 'std_fire', 'ems_calls': 'std_ems', 'other_calls': 'std_other' })\n",
    "daily = daily.merge(mean,on=['fire_department.firecares_id']).merge(std,on=['fire_department.firecares_id'])\n",
    "\n",
    "daily['zfire'] = (daily['fire_calls'] - daily['mean_fire'])/daily['std_fire']\n",
    "daily['zems'] = (daily['ems_calls'] - daily['mean_ems'])/daily['std_ems']\n",
    "daily['zother'] = (daily['other_calls'] - daily['mean_other'])/daily['std_other']\n",
    "\n",
    "daily['precipAccumulation'] = daily['precipAccumulation'].fillna(0)\n",
    "daily['precipIntensity'] = daily['precipAccumulation'].fillna(0)\n",
    "daily['precipType'] = daily['precipType'].fillna('None')\n",
    "\n",
    "#Adding month as a feature\n",
    "daily['month'] = daily['date'].apply(lambda x: str(x.month))"
   ]
  },
  {
   "cell_type": "code",
   "execution_count": null,
   "metadata": {},
   "outputs": [],
   "source": []
  },
  {
   "cell_type": "code",
   "execution_count": null,
   "metadata": {},
   "outputs": [],
   "source": []
  },
  {
   "cell_type": "code",
   "execution_count": null,
   "metadata": {},
   "outputs": [],
   "source": []
  },
  {
   "cell_type": "code",
   "execution_count": null,
   "metadata": {},
   "outputs": [],
   "source": []
  },
  {
   "cell_type": "code",
   "execution_count": null,
   "metadata": {},
   "outputs": [],
   "source": []
  },
  {
   "cell_type": "code",
   "execution_count": 2,
   "metadata": {},
   "outputs": [],
   "source": [
    "df = pd.read_json('./data/query_results.json')"
   ]
  },
  {
   "cell_type": "code",
   "execution_count": null,
   "metadata": {},
   "outputs": [],
   "source": []
  },
  {
   "cell_type": "code",
   "execution_count": null,
   "metadata": {},
   "outputs": [],
   "source": []
  },
  {
   "cell_type": "code",
   "execution_count": null,
   "metadata": {},
   "outputs": [],
   "source": []
  },
  {
   "cell_type": "code",
   "execution_count": null,
   "metadata": {},
   "outputs": [],
   "source": []
  },
  {
   "cell_type": "code",
   "execution_count": null,
   "metadata": {},
   "outputs": [],
   "source": []
  },
  {
   "cell_type": "code",
   "execution_count": null,
   "metadata": {},
   "outputs": [],
   "source": []
  },
  {
   "cell_type": "code",
   "execution_count": null,
   "metadata": {},
   "outputs": [],
   "source": []
  },
  {
   "cell_type": "code",
   "execution_count": null,
   "metadata": {},
   "outputs": [],
   "source": []
  },
  {
   "cell_type": "markdown",
   "metadata": {},
   "source": [
    "Once we have the data locally, we can use use the tools provided by the SageMaker Python SDK to upload the data to a default bucket. "
   ]
  },
  {
   "cell_type": "code",
   "execution_count": 3,
   "metadata": {},
   "outputs": [],
   "source": [
    "WORK_DIRECTORY = 'data'\n",
    "train_input = sagemaker_session.upload_data(WORK_DIRECTORY, key_prefix=\"{}/{}\".format(prefix, WORK_DIRECTORY) )"
   ]
  },
  {
   "cell_type": "markdown",
   "metadata": {},
   "source": [
    "## Create SageMaker Scikit Estimator <a class=\"anchor\" id=\"create_sklearn_estimator\"></a>\n",
    "\n",
    "To run our Scikit-learn training script on SageMaker, we construct a `sagemaker.sklearn.estimator.sklearn` estimator, which accepts several constructor arguments:\n",
    "\n",
    "* __entry_point__: The path to the Python script SageMaker runs for training and prediction.\n",
    "* __role__: Role ARN\n",
    "* __train_instance_type__ *(optional)*: The type of SageMaker instances for training. __Note__: Because Scikit-learn does not natively support GPU training, Sagemaker Scikit-learn does not currently support training on GPU instance types.\n",
    "* __sagemaker_session__ *(optional)*: The session used to train on Sagemaker.\n",
    "* __hyperparameters__ *(optional)*: A dictionary passed to the train function as hyperparameters.\n",
    "\n",
    "To see the code for the SKLearn Estimator, see here: https://github.com/aws/sagemaker-python-sdk/tree/master/src/sagemaker/sklearn"
   ]
  },
  {
   "cell_type": "code",
   "execution_count": 4,
   "metadata": {},
   "outputs": [],
   "source": [
    "from sagemaker.sklearn.estimator import SKLearn\n",
    "\n",
    "script_path = 'ems_call_prediction.py'\n",
    "\n",
    "sklearn = SKLearn(\n",
    "    entry_point=script_path,\n",
    "    train_instance_type=\"ml.c4.xlarge\",\n",
    "    role=role,\n",
    "    sagemaker_session=sagemaker_session,\n",
    "    hyperparameters={'n_estimators': 1000})"
   ]
  },
  {
   "cell_type": "markdown",
   "metadata": {},
   "source": [
    "## Train SKLearn Estimator on EMS data <a class=\"anchor\" id=\"train_sklearn\"></a>\n",
    "Training is very simple, just call `fit` on the Estimator! This will start a SageMaker Training job that will download the data for us, invoke our scikit-learn code (in the provided script file), and save any model artifacts that the script creates."
   ]
  },
  {
   "cell_type": "code",
   "execution_count": 5,
   "metadata": {
    "scrolled": true
   },
   "outputs": [
    {
     "name": "stdout",
     "output_type": "stream",
     "text": [
      "Creating tmp7294zq7f_algo-1-x7ddc_1 ... \n",
      "\u001b[1BAttaching to tmp7294zq7f_algo-1-x7ddc_12mdone\u001b[0m\n",
      "\u001b[36malgo-1-x7ddc_1  |\u001b[0m 2020-01-09 20:19:43,580 sagemaker-containers INFO     Imported framework sagemaker_sklearn_container.training\n",
      "\u001b[36malgo-1-x7ddc_1  |\u001b[0m 2020-01-09 20:19:43,585 sagemaker-containers INFO     No GPUs detected (normal if no gpus installed)\n",
      "\u001b[36malgo-1-x7ddc_1  |\u001b[0m 2020-01-09 20:19:43,603 sagemaker_sklearn_container.training INFO     Invoking user training script.\n",
      "\u001b[36malgo-1-x7ddc_1  |\u001b[0m 2020-01-09 20:19:43,902 sagemaker-containers INFO     Module ems_call_prediction does not provide a setup.py. \n",
      "\u001b[36malgo-1-x7ddc_1  |\u001b[0m Generating setup.py\n",
      "\u001b[36malgo-1-x7ddc_1  |\u001b[0m 2020-01-09 20:19:43,903 sagemaker-containers INFO     Generating setup.cfg\n",
      "\u001b[36malgo-1-x7ddc_1  |\u001b[0m 2020-01-09 20:19:43,903 sagemaker-containers INFO     Generating MANIFEST.in\n",
      "\u001b[36malgo-1-x7ddc_1  |\u001b[0m 2020-01-09 20:19:43,903 sagemaker-containers INFO     Installing module with the following command:\n",
      "\u001b[36malgo-1-x7ddc_1  |\u001b[0m /usr/bin/python3 -m pip install . \n",
      "\u001b[36malgo-1-x7ddc_1  |\u001b[0m Processing /opt/ml/code\n",
      "\u001b[36malgo-1-x7ddc_1  |\u001b[0m Building wheels for collected packages: ems-call-prediction\n",
      "\u001b[36malgo-1-x7ddc_1  |\u001b[0m   Building wheel for ems-call-prediction (setup.py) ... \u001b[?25ldone\n",
      "\u001b[36malgo-1-x7ddc_1  |\u001b[0m \u001b[?25h  Created wheel for ems-call-prediction: filename=ems_call_prediction-1.0.0-py2.py3-none-any.whl size=4932 sha256=e10bb2c83da8a24cae3e296f603e473e493a9a074e4ab2906b01e5b6e45c532f\n",
      "\u001b[36malgo-1-x7ddc_1  |\u001b[0m   Stored in directory: /tmp/pip-ephem-wheel-cache-6y988f0s/wheels/35/24/16/37574d11bf9bde50616c67372a334f94fa8356bc7164af8ca3\n",
      "\u001b[36malgo-1-x7ddc_1  |\u001b[0m Successfully built ems-call-prediction\n",
      "\u001b[36malgo-1-x7ddc_1  |\u001b[0m Installing collected packages: ems-call-prediction\n",
      "\u001b[36malgo-1-x7ddc_1  |\u001b[0m Successfully installed ems-call-prediction-1.0.0\n",
      "\u001b[36malgo-1-x7ddc_1  |\u001b[0m \u001b[33mWARNING: You are using pip version 19.2.3, however version 19.3.1 is available.\n",
      "\u001b[36malgo-1-x7ddc_1  |\u001b[0m You should consider upgrading via the 'pip install --upgrade pip' command.\u001b[0m\n",
      "\u001b[36malgo-1-x7ddc_1  |\u001b[0m 2020-01-09 20:19:45,059 sagemaker-containers INFO     No GPUs detected (normal if no gpus installed)\n",
      "\u001b[36malgo-1-x7ddc_1  |\u001b[0m 2020-01-09 20:19:45,078 sagemaker-containers INFO     Invoking user script\n",
      "\u001b[36malgo-1-x7ddc_1  |\u001b[0m \n",
      "\u001b[36malgo-1-x7ddc_1  |\u001b[0m Training Env:\n",
      "\u001b[36malgo-1-x7ddc_1  |\u001b[0m \n",
      "\u001b[36malgo-1-x7ddc_1  |\u001b[0m {\n",
      "\u001b[36malgo-1-x7ddc_1  |\u001b[0m     \"module_dir\": \"s3://sagemaker-us-east-2-445861113736/sagemaker-scikit-learn-2020-01-09-20-19-41-134/source/sourcedir.tar.gz\",\n",
      "\u001b[36malgo-1-x7ddc_1  |\u001b[0m     \"is_master\": true,\n",
      "\u001b[36malgo-1-x7ddc_1  |\u001b[0m     \"module_name\": \"ems_call_prediction\",\n",
      "\u001b[36malgo-1-x7ddc_1  |\u001b[0m     \"hyperparameters\": {\n",
      "\u001b[36malgo-1-x7ddc_1  |\u001b[0m         \"n_estimators\": 1000\n",
      "\u001b[36malgo-1-x7ddc_1  |\u001b[0m     },\n",
      "\u001b[36malgo-1-x7ddc_1  |\u001b[0m     \"channel_input_dirs\": {\n",
      "\u001b[36malgo-1-x7ddc_1  |\u001b[0m         \"train\": \"/opt/ml/input/data/train\"\n",
      "\u001b[36malgo-1-x7ddc_1  |\u001b[0m     },\n",
      "\u001b[36malgo-1-x7ddc_1  |\u001b[0m     \"input_data_config\": {\n",
      "\u001b[36malgo-1-x7ddc_1  |\u001b[0m         \"train\": {\n",
      "\u001b[36malgo-1-x7ddc_1  |\u001b[0m             \"TrainingInputMode\": \"File\"\n",
      "\u001b[36malgo-1-x7ddc_1  |\u001b[0m         }\n",
      "\u001b[36malgo-1-x7ddc_1  |\u001b[0m     },\n",
      "\u001b[36malgo-1-x7ddc_1  |\u001b[0m     \"resource_config\": {\n",
      "\u001b[36malgo-1-x7ddc_1  |\u001b[0m         \"hosts\": [\n",
      "\u001b[36malgo-1-x7ddc_1  |\u001b[0m             \"algo-1-x7ddc\"\n",
      "\u001b[36malgo-1-x7ddc_1  |\u001b[0m         ],\n",
      "\u001b[36malgo-1-x7ddc_1  |\u001b[0m         \"current_host\": \"algo-1-x7ddc\"\n",
      "\u001b[36malgo-1-x7ddc_1  |\u001b[0m     },\n",
      "\u001b[36malgo-1-x7ddc_1  |\u001b[0m     \"job_name\": \"sagemaker-scikit-learn-2020-01-09-20-19-41-134\",\n",
      "\u001b[36malgo-1-x7ddc_1  |\u001b[0m     \"input_config_dir\": \"/opt/ml/input/config\",\n",
      "\u001b[36malgo-1-x7ddc_1  |\u001b[0m     \"additional_framework_parameters\": {},\n",
      "\u001b[36malgo-1-x7ddc_1  |\u001b[0m     \"output_data_dir\": \"/opt/ml/output/data\",\n",
      "\u001b[36malgo-1-x7ddc_1  |\u001b[0m     \"num_cpus\": 64,\n",
      "\u001b[36malgo-1-x7ddc_1  |\u001b[0m     \"framework_module\": \"sagemaker_sklearn_container.training:main\",\n",
      "\u001b[36malgo-1-x7ddc_1  |\u001b[0m     \"log_level\": 20,\n",
      "\u001b[36malgo-1-x7ddc_1  |\u001b[0m     \"master_hostname\": \"algo-1-x7ddc\",\n",
      "\u001b[36malgo-1-x7ddc_1  |\u001b[0m     \"current_host\": \"algo-1-x7ddc\",\n",
      "\u001b[36malgo-1-x7ddc_1  |\u001b[0m     \"hosts\": [\n",
      "\u001b[36malgo-1-x7ddc_1  |\u001b[0m         \"algo-1-x7ddc\"\n",
      "\u001b[36malgo-1-x7ddc_1  |\u001b[0m     ],\n",
      "\u001b[36malgo-1-x7ddc_1  |\u001b[0m     \"network_interface_name\": \"eth0\",\n",
      "\u001b[36malgo-1-x7ddc_1  |\u001b[0m     \"output_intermediate_dir\": \"/opt/ml/output/intermediate\",\n",
      "\u001b[36malgo-1-x7ddc_1  |\u001b[0m     \"output_dir\": \"/opt/ml/output\",\n",
      "\u001b[36malgo-1-x7ddc_1  |\u001b[0m     \"input_dir\": \"/opt/ml/input\",\n",
      "\u001b[36malgo-1-x7ddc_1  |\u001b[0m     \"num_gpus\": 0,\n",
      "\u001b[36malgo-1-x7ddc_1  |\u001b[0m     \"user_entry_point\": \"ems_call_prediction.py\",\n",
      "\u001b[36malgo-1-x7ddc_1  |\u001b[0m     \"model_dir\": \"/opt/ml/model\"\n",
      "\u001b[36malgo-1-x7ddc_1  |\u001b[0m }\n",
      "\u001b[36malgo-1-x7ddc_1  |\u001b[0m \n",
      "\u001b[36malgo-1-x7ddc_1  |\u001b[0m Environment variables:\n",
      "\u001b[36malgo-1-x7ddc_1  |\u001b[0m \n",
      "\u001b[36malgo-1-x7ddc_1  |\u001b[0m SM_OUTPUT_DATA_DIR=/opt/ml/output/data\n",
      "\u001b[36malgo-1-x7ddc_1  |\u001b[0m SM_FRAMEWORK_MODULE=sagemaker_sklearn_container.training:main\n",
      "\u001b[36malgo-1-x7ddc_1  |\u001b[0m SM_INPUT_DATA_CONFIG={\"train\":{\"TrainingInputMode\":\"File\"}}\n",
      "\u001b[36malgo-1-x7ddc_1  |\u001b[0m SM_OUTPUT_DIR=/opt/ml/output\n",
      "\u001b[36malgo-1-x7ddc_1  |\u001b[0m SM_INPUT_DIR=/opt/ml/input\n",
      "\u001b[36malgo-1-x7ddc_1  |\u001b[0m SM_TRAINING_ENV={\"additional_framework_parameters\":{},\"channel_input_dirs\":{\"train\":\"/opt/ml/input/data/train\"},\"current_host\":\"algo-1-x7ddc\",\"framework_module\":\"sagemaker_sklearn_container.training:main\",\"hosts\":[\"algo-1-x7ddc\"],\"hyperparameters\":{\"n_estimators\":1000},\"input_config_dir\":\"/opt/ml/input/config\",\"input_data_config\":{\"train\":{\"TrainingInputMode\":\"File\"}},\"input_dir\":\"/opt/ml/input\",\"is_master\":true,\"job_name\":\"sagemaker-scikit-learn-2020-01-09-20-19-41-134\",\"log_level\":20,\"master_hostname\":\"algo-1-x7ddc\",\"model_dir\":\"/opt/ml/model\",\"module_dir\":\"s3://sagemaker-us-east-2-445861113736/sagemaker-scikit-learn-2020-01-09-20-19-41-134/source/sourcedir.tar.gz\",\"module_name\":\"ems_call_prediction\",\"network_interface_name\":\"eth0\",\"num_cpus\":64,\"num_gpus\":0,\"output_data_dir\":\"/opt/ml/output/data\",\"output_dir\":\"/opt/ml/output\",\"output_intermediate_dir\":\"/opt/ml/output/intermediate\",\"resource_config\":{\"current_host\":\"algo-1-x7ddc\",\"hosts\":[\"algo-1-x7ddc\"]},\"user_entry_point\":\"ems_call_prediction.py\"}\n",
      "\u001b[36malgo-1-x7ddc_1  |\u001b[0m SM_CHANNELS=[\"train\"]\n",
      "\u001b[36malgo-1-x7ddc_1  |\u001b[0m SM_USER_ARGS=[\"--n_estimators\",\"1000\"]\n",
      "\u001b[36malgo-1-x7ddc_1  |\u001b[0m SM_HPS={\"n_estimators\":1000}\n",
      "\u001b[36malgo-1-x7ddc_1  |\u001b[0m SM_HOSTS=[\"algo-1-x7ddc\"]\n",
      "\u001b[36malgo-1-x7ddc_1  |\u001b[0m PYTHONPATH=/usr/local/bin:/usr/lib/python35.zip:/usr/lib/python3.5:/usr/lib/python3.5/plat-x86_64-linux-gnu:/usr/lib/python3.5/lib-dynload:/usr/local/lib/python3.5/dist-packages:/usr/lib/python3/dist-packages\n",
      "\u001b[36malgo-1-x7ddc_1  |\u001b[0m SM_MODEL_DIR=/opt/ml/model\n",
      "\u001b[36malgo-1-x7ddc_1  |\u001b[0m SM_MODULE_NAME=ems_call_prediction\n",
      "\u001b[36malgo-1-x7ddc_1  |\u001b[0m SM_NUM_CPUS=64\n",
      "\u001b[36malgo-1-x7ddc_1  |\u001b[0m SM_CHANNEL_TRAIN=/opt/ml/input/data/train\n",
      "\u001b[36malgo-1-x7ddc_1  |\u001b[0m SM_HP_N_ESTIMATORS=1000\n",
      "\u001b[36malgo-1-x7ddc_1  |\u001b[0m SM_USER_ENTRY_POINT=ems_call_prediction.py\n",
      "\u001b[36malgo-1-x7ddc_1  |\u001b[0m SM_MODULE_DIR=s3://sagemaker-us-east-2-445861113736/sagemaker-scikit-learn-2020-01-09-20-19-41-134/source/sourcedir.tar.gz\n",
      "\u001b[36malgo-1-x7ddc_1  |\u001b[0m SM_LOG_LEVEL=20\n",
      "\u001b[36malgo-1-x7ddc_1  |\u001b[0m SM_INPUT_CONFIG_DIR=/opt/ml/input/config\n",
      "\u001b[36malgo-1-x7ddc_1  |\u001b[0m SM_FRAMEWORK_PARAMS={}\n",
      "\u001b[36malgo-1-x7ddc_1  |\u001b[0m SM_NUM_GPUS=0\n",
      "\u001b[36malgo-1-x7ddc_1  |\u001b[0m SM_NETWORK_INTERFACE_NAME=eth0\n",
      "\u001b[36malgo-1-x7ddc_1  |\u001b[0m SM_OUTPUT_INTERMEDIATE_DIR=/opt/ml/output/intermediate\n",
      "\u001b[36malgo-1-x7ddc_1  |\u001b[0m SM_RESOURCE_CONFIG={\"current_host\":\"algo-1-x7ddc\",\"hosts\":[\"algo-1-x7ddc\"]}\n",
      "\u001b[36malgo-1-x7ddc_1  |\u001b[0m SM_CURRENT_HOST=algo-1-x7ddc\n",
      "\u001b[36malgo-1-x7ddc_1  |\u001b[0m \n",
      "\u001b[36malgo-1-x7ddc_1  |\u001b[0m Invoking script with the following command:\n",
      "\u001b[36malgo-1-x7ddc_1  |\u001b[0m \n",
      "\u001b[36malgo-1-x7ddc_1  |\u001b[0m /usr/bin/python3 -m ems_call_prediction --n_estimators 1000\n",
      "\u001b[36malgo-1-x7ddc_1  |\u001b[0m \n",
      "\u001b[36malgo-1-x7ddc_1  |\u001b[0m \n",
      "\u001b[36malgo-1-x7ddc_1  |\u001b[0m 2020-01-09 20:19:51,691 sagemaker-containers INFO     Reporting training SUCCESS\n",
      "\u001b[36mtmp7294zq7f_algo-1-x7ddc_1 exited with code 0\n",
      "\u001b[0mAborting on container exit...\n"
     ]
    },
    {
     "name": "stdout",
     "output_type": "stream",
     "text": [
      "===== Job Complete =====\n"
     ]
    }
   ],
   "source": [
    "sklearn.fit({'train': train_input})"
   ]
  },
  {
   "cell_type": "markdown",
   "metadata": {},
   "source": [
    "## Using the trained model to make inference requests <a class=\"anchor\" id=\"inference\"></a>\n",
    "\n",
    "### Deploy the model <a class=\"anchor\" id=\"deploy\"></a>\n",
    "\n",
    "Deploying the model to SageMaker hosting just requires a `deploy` call on the fitted model. This call takes an instance count and instance type."
   ]
  },
  {
   "cell_type": "code",
   "execution_count": null,
   "metadata": {},
   "outputs": [],
   "source": [
    "predictor = sklearn.deploy(initial_instance_count=1, instance_type=\"ml.m4.xlarge\")"
   ]
  },
  {
   "cell_type": "markdown",
   "metadata": {},
   "source": [
    "### Choose some data and use it for a prediction <a class=\"anchor\" id=\"prediction_request\"></a>\n",
    "\n",
    "In order to do some predictions, we'll extract some of the data we used for training and do predictions against it. This is, of course, bad statistical practice, but a good way to see how the mechanism works."
   ]
  },
  {
   "cell_type": "code",
   "execution_count": null,
   "metadata": {},
   "outputs": [],
   "source": [
    "import os\n",
    "import pandas as pd\n",
    "import json\n",
    "from sklearn.ensemble import RandomForestRegressor\n",
    "from pandas.io.json import json_normalize\n",
    "from dateutil.relativedelta import SU\n",
    "from pandas.tseries.holiday import USFederalHolidayCalendar as calendar\n",
    "from pandas.tseries.holiday import AbstractHolidayCalendar\n",
    "from pandas.tseries.offsets import CustomBusinessDay\n",
    "from pandas.tseries.holiday import Holiday\n",
    "import datetime\n",
    "from sklearn.externals import joblib\n",
    "import numpy as np\n",
    "\n",
    "dataloc = './prediction_data/test_data.json'\n",
    "with open(dataloc) as data_file:\n",
    "    data = json.load(data_file)\n",
    "features = pd.io.json.json_normalize(data['prediction_data'])\n",
    "\n",
    "\n",
    "#Converting df dates to datetime objects for holiday merging\n",
    "features['date'] = features.apply(lambda x: datetime.datetime.strptime(x['date'],'%Y-%m-%d'),axis=1)\n",
    "\n",
    "#We can create new rules with this class inheritance\n",
    "class custom_calendar(AbstractHolidayCalendar):\n",
    "    new_rules = [\n",
    "        Holiday('Halloween', month=10,day=31),\n",
    "        Holiday('Christmas Eve', month=12,day=24),\n",
    "        Holiday('New Years Eve', month=12,day=31),\n",
    "        Holiday('DST time change', month=3, day=1, offset=pd.DateOffset(weekday=SU(2)))\n",
    "    ]\n",
    "    rules = calendar().rules + new_rules\n",
    "\n",
    "cal = custom_calendar()\n",
    "start = np.min(features['date'])\n",
    "end = np.max(features['date'])\n",
    "holidays = cal.holidays(start=start,end=end,return_name=True).reset_index()\n",
    "holidays = holidays.rename(columns={'index':'date', 0:'holiday'})\n",
    "\n",
    "#But really we want the Monday after the time change\n",
    "holidays['date'] = holidays.apply(lambda x: x['date'] + datetime.timedelta(days=1) \n",
    "               if x['holiday'] == 'DST time change' else x['date'], axis=1)\n",
    "\n",
    "features = features.merge(holidays, on='date', how='left')\n",
    "features['holiday'] = features['holiday'].fillna('none')\n",
    "#Filling missing values with the average\n",
    "features['high_temp'] = features['high_temp'].fillna(np.mean(features['high_temp']))\n",
    "\n",
    "#No longer need the date since we have all the information we need (day of week and month)\n",
    "features = features.drop('date',axis=1)\n",
    "#Using one hot encoding for categorical variables. Ask me if you want me to explain this further.\n",
    "features = pd.get_dummies(features)\n",
    "\n",
    "#Splitting the data into features (predictors) and labels (the quantity we want to predict)\n",
    "labels = features['ems_calls']\n",
    "features = features.drop('ems_calls',axis=1)"
   ]
  },
  {
   "cell_type": "markdown",
   "metadata": {},
   "source": [
    "Prediction is as easy as calling predict with the predictor we got back from deploy and the data we want to do predictions with. The output from the endpoint return an numerical representation of the classification prediction; in the original dataset, these are flower names, but in this example the labels are numerical. We can compare against the original label that we parsed."
   ]
  },
  {
   "cell_type": "code",
   "execution_count": null,
   "metadata": {},
   "outputs": [],
   "source": [
    "print(predictor.predict(features.values))"
   ]
  },
  {
   "cell_type": "markdown",
   "metadata": {},
   "source": [
    "### Endpoint cleanup <a class=\"anchor\" id=\"endpoint_cleanup\"></a>\n",
    "\n",
    "When you're done with the endpoint, you'll want to clean it up."
   ]
  },
  {
   "cell_type": "code",
   "execution_count": null,
   "metadata": {},
   "outputs": [],
   "source": [
    "sklearn.delete_endpoint()"
   ]
  },
  {
   "cell_type": "markdown",
   "metadata": {},
   "source": [
    "## Batch Transform <a class=\"anchor\" id=\"batch_transform\"></a>\n",
    "We can also use the trained model for asynchronous batch inference on S3 data using SageMaker Batch Transform."
   ]
  },
  {
   "cell_type": "code",
   "execution_count": 7,
   "metadata": {},
   "outputs": [],
   "source": [
    "# Define a SKLearn Transformer from the trained SKLearn Estimator\n",
    "transformer = sklearn.transformer(instance_count=1, instance_type='ml.m4.xlarge')"
   ]
  },
  {
   "cell_type": "markdown",
   "metadata": {},
   "source": [
    "### Prepare Input Data <a class=\"anchor\" id=\"prepare_input_data\"></a>\n",
    "We will extract 10 random samples of 100 rows from the training data, then split the features (X) from the labels (Y). Then upload the input data to a given location in S3."
   ]
  },
  {
   "cell_type": "code",
   "execution_count": 8,
   "metadata": {},
   "outputs": [],
   "source": [
    "#Upload test data to s3\n",
    "WORK_DIRECTORY = 'prediction_data'\n",
    "batch_input_s3 = sagemaker_session.upload_data(WORK_DIRECTORY, key_prefix=\"{}/{}\".format(prefix, WORK_DIRECTORY) )"
   ]
  },
  {
   "cell_type": "markdown",
   "metadata": {},
   "source": [
    "### Run Transform Job <a class=\"anchor\" id=\"run_transform_job\"></a>\n",
    "Using the Transformer, run a transform job on the S3 input data."
   ]
  },
  {
   "cell_type": "code",
   "execution_count": 9,
   "metadata": {},
   "outputs": [
    {
     "name": "stdout",
     "output_type": "stream",
     "text": [
      "Waiting for transform job: sagemaker-scikit-learn-2019-10-03-16-54-00-785\n",
      "..................\u001b[31mProcessing /opt/ml/code\u001b[0m\n",
      "\u001b[31mBuilding wheels for collected packages: ems-call-prediction\n",
      "  Building wheel for ems-call-prediction (setup.py): started\n",
      "  Building wheel for ems-call-prediction (setup.py): finished with status 'done'\n",
      "  Created wheel for ems-call-prediction: filename=ems_call_prediction-1.0.0-py2.py3-none-any.whl size=4932 sha256=da6007a06a48f17f4e7e5df2d689a325893003d2745ce572e099e3f44b42aebf\n",
      "  Stored in directory: /tmp/pip-ephem-wheel-cache-i4ajwoa7/wheels/35/24/16/37574d11bf9bde50616c67372a334f94fa8356bc7164af8ca3\u001b[0m\n",
      "\u001b[31mSuccessfully built ems-call-prediction\u001b[0m\n",
      "\u001b[31mInstalling collected packages: ems-call-prediction\u001b[0m\n",
      "\u001b[31mSuccessfully installed ems-call-prediction-1.0.0\u001b[0m\n",
      "\u001b[31m[2019-10-03 16:56:52 +0000] [37] [INFO] Starting gunicorn 19.9.0\u001b[0m\n",
      "\u001b[31m[2019-10-03 16:56:52 +0000] [37] [INFO] Listening at: unix:/tmp/gunicorn.sock (37)\u001b[0m\n",
      "\u001b[31m[2019-10-03 16:56:52 +0000] [37] [INFO] Using worker: gevent\u001b[0m\n",
      "\u001b[31m[2019-10-03 16:56:52 +0000] [40] [INFO] Booting worker with pid: 40\u001b[0m\n",
      "\u001b[31m[2019-10-03 16:56:52 +0000] [41] [INFO] Booting worker with pid: 41\u001b[0m\n",
      "\u001b[31m[2019-10-03 16:56:52 +0000] [45] [INFO] Booting worker with pid: 45\u001b[0m\n",
      "\u001b[31m[2019-10-03 16:56:52 +0000] [46] [INFO] Booting worker with pid: 46\u001b[0m\n",
      "\u001b[31m2019-10-03 16:57:05,377 INFO - sagemaker-containers - No GPUs detected (normal if no gpus installed)\u001b[0m\n",
      "\u001b[31m169.254.255.130 - - [03/Oct/2019:16:57:06 +0000] \"GET /ping HTTP/1.1\" 200 0 \"-\" \"Go-http-client/1.1\"\u001b[0m\n",
      "\u001b[31m169.254.255.130 - - [03/Oct/2019:16:57:06 +0000] \"GET /execution-parameters HTTP/1.1\" 404 232 \"-\" \"Go-http-client/1.1\"\u001b[0m\n",
      "\u001b[31m169.254.255.130 - - [03/Oct/2019:16:57:06 +0000] \"POST /invocations HTTP/1.1\" 200 2961 \"-\" \"Go-http-client/1.1\"\u001b[0m\n",
      "\n"
     ]
    }
   ],
   "source": [
    "# Start a transform job and wait for it to finish\n",
    "transformer.transform(batch_input_s3, content_type='application/json')\n",
    "print('Waiting for transform job: ' + transformer.latest_transform_job.job_name)\n",
    "transformer.wait()"
   ]
  },
  {
   "cell_type": "markdown",
   "metadata": {},
   "source": [
    "### Check Output Data  <a class=\"anchor\" id=\"check_output_data\"></a>\n",
    "After the transform job has completed, download the output data from S3. For each file \"f\" in the input data, we have a corresponding file \"f.out\" containing the predicted labels from each input row. We can compare the predicted labels to the true labels saved earlier."
   ]
  },
  {
   "cell_type": "code",
   "execution_count": 10,
   "metadata": {},
   "outputs": [
    {
     "name": "stdout",
     "output_type": "stream",
     "text": [
      "download: s3://sagemaker-us-east-2-445861113736/sagemaker-scikit-learn-2019-10-03-16-54-00-785/test_data.json.out to batch_data/output/test_data.json.out\n",
      "[14.262, 13.651, 13.776, 64.899, 32.359, 80.751, 119.24432222222221, 67.791, 14.291, 9.6, 77.111, 11.977, 71.26, 17.555, 76.62, 71.955, 65.988, 69.633, 72.4, 67.801, 16.868, 15.341, 14.491, 68.154, 73.672, 13.88, 11.946, 94.801953968254, 30.46, 76.214, 12.099, 32.963, 111.37256608946599, 75.409, 13.584, 10.49, 13.494, 14.924, 20.175, 13.632, 11.323, 79.148, 13.037, 13.741, 71.156, 12.984, 13.376, 71.529, 13.335, 14.749, 63.824, 73.622, 13.242, 10.425, 14.079, 70.725, 35.103, 14.916, 68.318, 16.027, 13.933, 13.86, 15.153, 61.511, 12.992, 69.234, 69.987, 13.4, 65.712, 11.144, 73.905, 63.855, 78.564, 69.216, 10.006, 12.519, 34.603, 65.763, 78.152, 13.837, 87.715, 13.497, 69.304, 68.77, 13.061, 69.625, 11.177, 9.125, 73.762, 69.42, 68.098, 70.547, 66.93, 16.691, 69.59, 16.193, 12.927, 73.688, 65.495, 72.673, 74.601, 66.103, 78.257, 14.602, 77.926, 12.563, 11.194, 73.189, 13.907, 64.898, 78.776, 86.40980952380953, 74.366, 33.019, 9.718, 9.49, 75.839, 12.261, 14.203, 77.327, 13.315, 14.497, 10.363, 106.61329285714305, 74.848, 71.418, 73.904, 80.499, 10.952, 34.172, 9.84, 15.954, 82.723, 68.645, 13.707, 66.998, 13.093, 73.693, 11.446, 34.867, 70.483, 81.997, 66.657, 68.591, 71.718, 83.028, 87.985, 75.177, 68.816, 78.751, 67.674, 14.53, 14.584, 10.709, 67.433, 64.054, 68.744, 12.735, 68.651, 72.595, 73.207, 76.443, 68.709, 87.266, 9.372, 12.915, 13.765, 68.825, 32.829, 75.886, 12.89, 79.234, 33.572, 94.801953968254, 12.178, 29.611, 14.85, 74.366, 34.057, 15.214, 72.201, 69.634, 73.877, 15.388, 78.361, 74.289, 80.711, 13.029, 15.583, 70.212, 72.791, 11.122, 67.854, 76.387, 73.813, 77.439, 65.774, 10.246, 70.459, 69.825, 68.103, 12.831, 13.49, 66.907, 75.996, 12.392, 74.366, 75.152, 13.795, 64.088, 13.661, 73.69385357142858, 33.164, 82.827, 72.102, 70.941, 72.143, 71.488, 13.863, 70.82, 12.435, 73.983, 66.787, 14.16, 29.337, 70.492, 76.39, 15.87, 74.796, 10.067, 73.073, 14.775, 66.981, 67.305, 13.277, 76.176, 12.369, 12.013, 15.519, 35.281, 13.843, 10.792, 68.624, 66.955, 75.262, 12.093, 11.282, 13.05, 90.98998928571427, 37.094, 70.013, 69.106, 10.854, 74.081, 13.546, 14.392, 10.308, 68.206, 33.916, 15.178, 10.041, 14.332, 11.898, 68.216, 75.743, 31.311, 71.281, 10.041, 74.526, 73.69385357142858, 13.828, 68.403, 92.08649404761906, 14.93, 70.543, 65.311, 73.618, 13.645, 77.125, 31.935, 13.194, 72.985, 73.628, 36.836, 13.945, 11.404, 71.579, 72.246, 68.684, 11.822, 98.12545079365086, 10.565, 14.766, 10.606, 64.758, 71.565, 15.454, 11.505, 13.314, 76.84, 14.442, 14.896, 12.38, 73.341, 14.098, 10.145, 71.308, 75.574, 73.551, 78.7, 16.722, 66.284, 72.214, 33.145, 14.022, 69.344, 13.671, 10.329, 32.378, 74.6, 63.302, 12.392, 68.751, 17.76, 70.814, 66.432, 35.414, 76.208, 36.409, 77.563, 73.725, 33.859, 68.424, 77.488, 12.777, 16.565, 16.226, 73.936, 12.871, 13.205, 73.318, 34.691, 35.696, 10.445, 68.256, 70.629, 13.837, 74.657, 86.40980952380953, 16.206, 63.366, 66.724, 11.669, 66.012, 68.393, 71.26, 14.463, 73.289, 75.592]"
     ]
    }
   ],
   "source": [
    "# Download the output data from S3 to local filesystem\n",
    "batch_output = transformer.output_path\n",
    "!mkdir -p batch_data/output\n",
    "!aws s3 cp --recursive $batch_output/ batch_data/output/\n",
    "# Head to see what the batch output looks like\n",
    "!head batch_data/output/*"
   ]
  },
  {
   "cell_type": "code",
   "execution_count": 73,
   "metadata": {},
   "outputs": [],
   "source": [
    "# Pulling the predictions, comparing to the observed number of calls"
   ]
  },
  {
   "cell_type": "code",
   "execution_count": 74,
   "metadata": {},
   "outputs": [
    {
     "data": {
      "text/plain": [
       "Text(0, 0.5, 'actual')"
      ]
     },
     "execution_count": 74,
     "metadata": {},
     "output_type": "execute_result"
    },
    {
     "data": {
      "image/png": "[encoded data removed]",
      "text/plain": [
       "<Figure size 432x288 with 1 Axes>"
      ]
     },
     "metadata": {},
     "output_type": "display_data"
    }
   ],
   "source": [
    "import numpy as np\n",
    "import pandas as pd\n",
    "import matplotlib.pyplot as plt\n",
    "output_loc = './batch_data/output/test_data.json.out'\n",
    "\n",
    "with open (output_loc, \"r\") as myfile:\n",
    "    data=myfile.readlines()\n",
    "    \n",
    "string_output = data[0].replace('[','').replace(']','')\n",
    "\n",
    "predicted = np.genfromtxt(StringIO(string_output),delimiter=',')\n",
    "actual = np.genfromtxt('observed',delimiter=',')[1:,1]\n",
    "plt.scatter(predicted,actual,alpha=0.3)\n",
    "plt.xlabel('predicted')\n",
    "plt.ylabel('actual')"
   ]
  }
 ],
 "metadata": {
  "kernelspec": {
   "display_name": "Python 3",
   "language": "python",
   "name": "python3"
  },
  "language_info": {
   "codemirror_mode": {
    "name": "ipython",
    "version": 3
   },
   "file_extension": ".py",
   "mimetype": "text/x-python",
   "name": "python",
   "nbconvert_exporter": "python",
   "pygments_lexer": "ipython3",
   "version": "3.6.8"
  }
 },
 "nbformat": 4,
 "nbformat_minor": 2
}
