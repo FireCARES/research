{
 "cells": [
  {
   "cell_type": "markdown",
   "metadata": {},
   "source": [
    "First, lets create our Sagemaker session and role, and create a S3 prefix to use for the notebook example."
   ]
  },
  {
   "cell_type": "code",
   "execution_count": 1,
   "metadata": {},
   "outputs": [
    {
     "name": "stderr",
     "output_type": "stream",
     "text": [
      "Couldn't call 'get_role' to get Role ARN from role name tyler.c.buffington@utexas.edu to get Role path.\n"
     ]
    },
    {
     "ename": "ValueError",
     "evalue": "The current AWS identity is not a role: arn:aws:iam::445861113736:user/tyler.c.buffington@utexas.edu, therefore it cannot be used as a SageMaker execution role",
     "output_type": "error",
     "traceback": [
      "\u001b[0;31m---------------------------------------------------------------------------\u001b[0m",
      "\u001b[0;31mValueError\u001b[0m                                Traceback (most recent call last)",
      "\u001b[0;32m<ipython-input-1-e2f40d9496f2>\u001b[0m in \u001b[0;36m<module>\u001b[0;34m\u001b[0m\n\u001b[1;32m      8\u001b[0m \u001b[0;34m\u001b[0m\u001b[0m\n\u001b[1;32m      9\u001b[0m \u001b[0;31m# Get a SageMaker-compatible role used by this Notebook Instance.\u001b[0m\u001b[0;34m\u001b[0m\u001b[0;34m\u001b[0m\u001b[0;34m\u001b[0m\u001b[0m\n\u001b[0;32m---> 10\u001b[0;31m \u001b[0mrole\u001b[0m \u001b[0;34m=\u001b[0m \u001b[0mget_execution_role\u001b[0m\u001b[0;34m(\u001b[0m\u001b[0;34m)\u001b[0m\u001b[0;34m\u001b[0m\u001b[0;34m\u001b[0m\u001b[0m\n\u001b[0m",
      "\u001b[0;32m~/.local/lib/python3.6/site-packages/sagemaker/session.py\u001b[0m in \u001b[0;36mget_execution_role\u001b[0;34m(sagemaker_session)\u001b[0m\n\u001b[1;32m   3274\u001b[0m         \u001b[0;34m\"SageMaker execution role\"\u001b[0m\u001b[0;34m\u001b[0m\u001b[0;34m\u001b[0m\u001b[0m\n\u001b[1;32m   3275\u001b[0m     )\n\u001b[0;32m-> 3276\u001b[0;31m     \u001b[0;32mraise\u001b[0m \u001b[0mValueError\u001b[0m\u001b[0;34m(\u001b[0m\u001b[0mmessage\u001b[0m\u001b[0;34m.\u001b[0m\u001b[0mformat\u001b[0m\u001b[0;34m(\u001b[0m\u001b[0marn\u001b[0m\u001b[0;34m)\u001b[0m\u001b[0;34m)\u001b[0m\u001b[0;34m\u001b[0m\u001b[0;34m\u001b[0m\u001b[0m\n\u001b[0m\u001b[1;32m   3277\u001b[0m \u001b[0;34m\u001b[0m\u001b[0m\n\u001b[1;32m   3278\u001b[0m \u001b[0;34m\u001b[0m\u001b[0m\n",
      "\u001b[0;31mValueError\u001b[0m: The current AWS identity is not a role: arn:aws:iam::445861113736:user/tyler.c.buffington@utexas.edu, therefore it cannot be used as a SageMaker execution role"
     ]
    }
   ],
   "source": [
    "# S3 prefix\n",
    "prefix = 'ems_call_volume'\n",
    "\n",
    "import sagemaker\n",
    "from sagemaker import get_execution_role\n",
    "\n",
    "sagemaker_session = sagemaker.Session()\n",
    "\n",
    "# Get a SageMaker-compatible role used by this Notebook Instance.\n",
    "role = get_execution_role()"
   ]
  },
  {
   "cell_type": "code",
   "execution_count": 8,
   "metadata": {},
   "outputs": [],
   "source": [
    "from elasticsearch import Elasticsearch\n",
    "from elasticsearch_dsl import Search\n",
    "from elasticsearch_dsl import Q\n",
    "import pandas as pd\n",
    "import numpy as np\n",
    "from tqdm import tqdm_notebook\n",
    "import datetime\n",
    "import json\n",
    "import matplotlib.pyplot as plt\n",
    "from sklearn.ensemble import RandomForestRegressor\n",
    "from sklearn.model_selection import train_test_split\n",
    "from pandas.tseries.holiday import USFederalHolidayCalendar as calendar\n",
    "from pandas.tseries.holiday import AbstractHolidayCalendar\n",
    "from pandas.tseries.offsets import CustomBusinessDay\n",
    "from pandas.tseries.holiday import Holiday\n",
    "from dateutil.relativedelta import SU\n",
    "from dateutil.relativedelta import TH\n",
    "from sklearn.preprocessing import StandardScaler\n",
    "from sklearn.decomposition import PCA\n",
    "plt.style.use('ggplot')"
   ]
  },
  {
   "cell_type": "code",
   "execution_count": 1,
   "metadata": {},
   "outputs": [],
   "source": [
    "import boto3\n",
    "import sagemaker\n",
    "from sagemaker import get_execution_role\n",
    "import pandas as pd\n",
    "\n",
    "# S3 prefix\n",
    "prefix = 'ems_call_volume'\n",
    "# session = boto3.session.Session(region_name='us-east-2')\n",
    "# sagemaker_session = sagemaker.LocalSession(boto_session=session)\n",
    "sagemaker_session = sagemaker.LocalSession()\n",
    "\n",
    "# Get a SageMaker-compatible role used by this Notebook Instance.\n",
    "# role = 'arn:aws:iam::467626235021:role/service-role/AmazonSageMaker-ExecutionRole-20190830T140378'\n",
    "role = 'arn:aws:iam::445861113736:role/service-role/AmazonSageMaker-ExecutionRole-20190903T114521'"
   ]
  },
  {
   "cell_type": "markdown",
   "metadata": {},
   "source": [
    "## Upload the data for training <a class=\"anchor\" id=\"upload_data\"></a>\n",
    "\n",
    "I performed the following query to get the data. Right now, I'm just saving the dataframe as shown below."
   ]
  },
  {
   "cell_type": "code",
   "execution_count": 71,
   "metadata": {},
   "outputs": [],
   "source": [
    "from elasticsearch import Elasticsearch\n",
    "from elasticsearch_dsl import Search\n",
    "from elasticsearch_dsl import Q\n",
    "import json\n",
    "#Generating the dataframe from NFORS\n",
    "es = Elasticsearch()\n",
    "s = Search(using=es,index='*-fire-incident-*')\n",
    "s = s.source(['description.event_opened',\n",
    "                     'description.day_of_week',\n",
    "                    'NFPA.type',\n",
    "                     'fire_department.firecares_id'])\n",
    "\n",
    "\n",
    "\n",
    "q = Q(\"match\",fire_department__firecares_id =  '79592') | Q(\"match\",fire_department__firecares_id =  '93345')\n",
    "results = s.query(q)\n",
    "\n",
    "#Performing the query and converting to pandas dataframe\n",
    "df = pd.DataFrame((d.to_dict() for d in tqdm_notebook(results.scan())))\n",
    "json_struct = json.loads(df.to_json(orient=\"records\"))\n",
    "\n",
    "df = pd.io.json.json_normalize(json_struct)\n",
    "\n",
    "#Converting date\n",
    "df['date'] = df['description.event_opened'].apply(lambda x: x[:10])\n",
    "df['month'] = df.apply(lambda x: x['date'][5:7], axis=1)\n",
    "df['hour'] = df['description.event_opened'].apply(lambda x: x[11:13])\n",
    "\n",
    "\n",
    "#Converting df dates to datetime objects\n",
    "df['date'] = df.apply(lambda x: datetime.datetime.strptime(x['date'],'%Y-%m-%d'),axis=1)\n",
    "# df['date'] = df.apply(lambda x: datetime.datetime.strptime(x['date'],'%Y-%m-%d'),axis=1)\n",
    "\n",
    "#Renaming columns for convenience\n",
    "new_col = list(df.columns)\n",
    "for i,column in enumerate(df.columns):\n",
    "    new_col[i] = column.replace('weather.currently.','').replace('weather.daily.','')\n",
    "df.columns = new_col\n",
    "\n",
    "df.to_pickle('query_results')"
   ]
  },
  {
   "cell_type": "code",
   "execution_count": 220,
   "metadata": {},
   "outputs": [
    {
     "data": {
      "text/html": [
       "<div>\n",
       "<style scoped>\n",
       "    .dataframe tbody tr th:only-of-type {\n",
       "        vertical-align: middle;\n",
       "    }\n",
       "\n",
       "    .dataframe tbody tr th {\n",
       "        vertical-align: top;\n",
       "    }\n",
       "\n",
       "    .dataframe thead th {\n",
       "        text-align: right;\n",
       "    }\n",
       "</style>\n",
       "<table border=\"1\" class=\"dataframe\">\n",
       "  <thead>\n",
       "    <tr style=\"text-align: right;\">\n",
       "      <th></th>\n",
       "      <th>fire_department.firecares_id</th>\n",
       "      <th>description.event_opened</th>\n",
       "      <th>description.day_of_week</th>\n",
       "      <th>NFPA.type</th>\n",
       "      <th>NFPA</th>\n",
       "      <th>date</th>\n",
       "      <th>month</th>\n",
       "      <th>hour</th>\n",
       "    </tr>\n",
       "  </thead>\n",
       "  <tbody>\n",
       "    <tr>\n",
       "      <th>0</th>\n",
       "      <td>79592</td>\n",
       "      <td>2015-05-23T18:47:38-04:00</td>\n",
       "      <td>Saturday</td>\n",
       "      <td>FIRE</td>\n",
       "      <td>NaN</td>\n",
       "      <td>2015-05-23</td>\n",
       "      <td>05</td>\n",
       "      <td>18</td>\n",
       "    </tr>\n",
       "    <tr>\n",
       "      <th>1</th>\n",
       "      <td>79592</td>\n",
       "      <td>2015-06-22T10:18:04-04:00</td>\n",
       "      <td>Monday</td>\n",
       "      <td>EMS</td>\n",
       "      <td>NaN</td>\n",
       "      <td>2015-06-22</td>\n",
       "      <td>06</td>\n",
       "      <td>10</td>\n",
       "    </tr>\n",
       "    <tr>\n",
       "      <th>2</th>\n",
       "      <td>79592</td>\n",
       "      <td>2015-07-09T09:54:35-04:00</td>\n",
       "      <td>Thursday</td>\n",
       "      <td>EMS</td>\n",
       "      <td>NaN</td>\n",
       "      <td>2015-07-09</td>\n",
       "      <td>07</td>\n",
       "      <td>09</td>\n",
       "    </tr>\n",
       "    <tr>\n",
       "      <th>3</th>\n",
       "      <td>79592</td>\n",
       "      <td>2015-08-10T18:26:06-04:00</td>\n",
       "      <td>Monday</td>\n",
       "      <td>FIRE</td>\n",
       "      <td>NaN</td>\n",
       "      <td>2015-08-10</td>\n",
       "      <td>08</td>\n",
       "      <td>18</td>\n",
       "    </tr>\n",
       "    <tr>\n",
       "      <th>4</th>\n",
       "      <td>79592</td>\n",
       "      <td>2015-09-15T10:58:30-04:00</td>\n",
       "      <td>Tuesday</td>\n",
       "      <td>EMS</td>\n",
       "      <td>NaN</td>\n",
       "      <td>2015-09-15</td>\n",
       "      <td>09</td>\n",
       "      <td>10</td>\n",
       "    </tr>\n",
       "    <tr>\n",
       "      <th>...</th>\n",
       "      <td>...</td>\n",
       "      <td>...</td>\n",
       "      <td>...</td>\n",
       "      <td>...</td>\n",
       "      <td>...</td>\n",
       "      <td>...</td>\n",
       "      <td>...</td>\n",
       "      <td>...</td>\n",
       "    </tr>\n",
       "    <tr>\n",
       "      <th>528329</th>\n",
       "      <td>93345</td>\n",
       "      <td>2018-01-24T17:47:53-05:00</td>\n",
       "      <td>Wednesday</td>\n",
       "      <td>EMS</td>\n",
       "      <td>NaN</td>\n",
       "      <td>2018-01-24</td>\n",
       "      <td>01</td>\n",
       "      <td>17</td>\n",
       "    </tr>\n",
       "    <tr>\n",
       "      <th>528330</th>\n",
       "      <td>93345</td>\n",
       "      <td>2018-01-19T17:42:03-05:00</td>\n",
       "      <td>Friday</td>\n",
       "      <td>FIRE</td>\n",
       "      <td>NaN</td>\n",
       "      <td>2018-01-19</td>\n",
       "      <td>01</td>\n",
       "      <td>17</td>\n",
       "    </tr>\n",
       "    <tr>\n",
       "      <th>528331</th>\n",
       "      <td>93345</td>\n",
       "      <td>2018-01-29T11:33:44-05:00</td>\n",
       "      <td>Monday</td>\n",
       "      <td>EMS</td>\n",
       "      <td>NaN</td>\n",
       "      <td>2018-01-29</td>\n",
       "      <td>01</td>\n",
       "      <td>11</td>\n",
       "    </tr>\n",
       "    <tr>\n",
       "      <th>528332</th>\n",
       "      <td>93345</td>\n",
       "      <td>2018-01-06T19:46:58-05:00</td>\n",
       "      <td>Saturday</td>\n",
       "      <td>EMS</td>\n",
       "      <td>NaN</td>\n",
       "      <td>2018-01-06</td>\n",
       "      <td>01</td>\n",
       "      <td>19</td>\n",
       "    </tr>\n",
       "    <tr>\n",
       "      <th>528333</th>\n",
       "      <td>93345</td>\n",
       "      <td>2018-01-15T21:12:40-05:00</td>\n",
       "      <td>Monday</td>\n",
       "      <td>EMS</td>\n",
       "      <td>NaN</td>\n",
       "      <td>2018-01-15</td>\n",
       "      <td>01</td>\n",
       "      <td>21</td>\n",
       "    </tr>\n",
       "  </tbody>\n",
       "</table>\n",
       "<p>528334 rows × 8 columns</p>\n",
       "</div>"
      ],
      "text/plain": [
       "       fire_department.firecares_id   description.event_opened  \\\n",
       "0                             79592  2015-05-23T18:47:38-04:00   \n",
       "1                             79592  2015-06-22T10:18:04-04:00   \n",
       "2                             79592  2015-07-09T09:54:35-04:00   \n",
       "3                             79592  2015-08-10T18:26:06-04:00   \n",
       "4                             79592  2015-09-15T10:58:30-04:00   \n",
       "...                             ...                        ...   \n",
       "528329                        93345  2018-01-24T17:47:53-05:00   \n",
       "528330                        93345  2018-01-19T17:42:03-05:00   \n",
       "528331                        93345  2018-01-29T11:33:44-05:00   \n",
       "528332                        93345  2018-01-06T19:46:58-05:00   \n",
       "528333                        93345  2018-01-15T21:12:40-05:00   \n",
       "\n",
       "       description.day_of_week NFPA.type  NFPA       date month hour  \n",
       "0                     Saturday      FIRE   NaN 2015-05-23    05   18  \n",
       "1                       Monday       EMS   NaN 2015-06-22    06   10  \n",
       "2                     Thursday       EMS   NaN 2015-07-09    07   09  \n",
       "3                       Monday      FIRE   NaN 2015-08-10    08   18  \n",
       "4                      Tuesday       EMS   NaN 2015-09-15    09   10  \n",
       "...                        ...       ...   ...        ...   ...  ...  \n",
       "528329               Wednesday       EMS   NaN 2018-01-24    01   17  \n",
       "528330                  Friday      FIRE   NaN 2018-01-19    01   17  \n",
       "528331                  Monday       EMS   NaN 2018-01-29    01   11  \n",
       "528332                Saturday       EMS   NaN 2018-01-06    01   19  \n",
       "528333                  Monday       EMS   NaN 2018-01-15    01   21  \n",
       "\n",
       "[528334 rows x 8 columns]"
      ]
     },
     "execution_count": 220,
     "metadata": {},
     "output_type": "execute_result"
    }
   ],
   "source": [
    "df"
   ]
  },
  {
   "cell_type": "code",
   "execution_count": 72,
   "metadata": {},
   "outputs": [],
   "source": [
    "#Getting the list of all departments in the dataframe\n",
    "fdid_list = df['fire_department.firecares_id'].unique()\n"
   ]
  },
  {
   "cell_type": "code",
   "execution_count": 117,
   "metadata": {},
   "outputs": [],
   "source": [
    "feature_list = ['fire_department.firecares_id_79592',\n",
    "       'fire_department.firecares_id_93345', 'description.day_of_week_Friday',\n",
    "       'description.day_of_week_Monday', 'description.day_of_week_Saturday',\n",
    "       'description.day_of_week_Sunday', 'description.day_of_week_Thursday',\n",
    "       'description.day_of_week_Tuesday', 'description.day_of_week_Wednesday',\n",
    "       'hour_00', 'hour_01', 'hour_02', 'hour_03', 'hour_04', 'hour_05',\n",
    "       'hour_06', 'hour_07', 'hour_08', 'hour_09', 'hour_10', 'hour_11',\n",
    "       'hour_12', 'hour_13', 'hour_14', 'hour_15', 'hour_16', 'hour_17',\n",
    "       'hour_18', 'hour_19', 'hour_20', 'hour_21', 'hour_22', 'hour_23']  "
   ]
  },
  {
   "cell_type": "code",
   "execution_count": null,
   "metadata": {},
   "outputs": [],
   "source": []
  },
  {
   "cell_type": "code",
   "execution_count": null,
   "metadata": {},
   "outputs": [],
   "source": []
  },
  {
   "cell_type": "code",
   "execution_count": null,
   "metadata": {},
   "outputs": [],
   "source": []
  },
  {
   "cell_type": "code",
   "execution_count": 221,
   "metadata": {},
   "outputs": [],
   "source": [
    "hourly = df[['fire_department.firecares_id', 'date','description.day_of_week', 'hour', 'NFPA.type']].groupby(['fire_department.firecares_id', 'date','description.day_of_week', 'hour', 'NFPA.type']).aggregate(len).reset_index()\n",
    "hourly = hourly.rename(columns={0: 'calls'})\n",
    "\n",
    "#Determine the mean of each department by hour\n",
    "means = hourly[['fire_department.firecares_id','calls']].groupby('fire_department.firecares_id').aggregate(np.mean).reset_index()\n",
    "means = means.rename(columns={'calls':'mean_calls'})\n",
    "hourly = hourly.merge(means, on='fire_department.firecares_id')\n",
    "hourly['norm_calls'] = hourly['calls']/hourly['mean_calls']\n",
    "\n",
    "hourly = hourly.sample(1000)"
   ]
  },
  {
   "cell_type": "code",
   "execution_count": 205,
   "metadata": {},
   "outputs": [
    {
     "data": {
      "text/plain": [
       "RandomForestRegressor(bootstrap=True, criterion='mse', max_depth=None,\n",
       "           max_features='auto', max_leaf_nodes=None,\n",
       "           min_impurity_decrease=0.0, min_impurity_split=None,\n",
       "           min_samples_leaf=1, min_samples_split=2,\n",
       "           min_weight_fraction_leaf=0.0, n_estimators=1000, n_jobs=None,\n",
       "           oob_score=False, random_state=None, verbose=0, warm_start=False)"
      ]
     },
     "execution_count": 205,
     "metadata": {},
     "output_type": "execute_result"
    }
   ],
   "source": [
    "fire = fire[fire['NFPA.type']=='FIRE']\n",
    "\n",
    "features = fire[['fire_department.firecares_id', 'description.day_of_week', 'hour']]\n",
    "features = pd.get_dummies(features)[feature_list]\n",
    "labels = fire['norm_calls']\n",
    "\n",
    "\n",
    "from sklearn.ensemble import RandomForestRegressor\n",
    "# Now use scikit-learn's random forestion regression model to predict daily ems call volumes\n",
    "rf_fire = RandomForestRegressor(n_estimators = 1000)\n",
    "\n",
    "# Train the model on training data\n",
    "rf_fire.fit(features, labels)"
   ]
  },
  {
   "cell_type": "code",
   "execution_count": 210,
   "metadata": {},
   "outputs": [
    {
     "data": {
      "text/plain": [
       "RandomForestRegressor(bootstrap=True, criterion='mse', max_depth=None,\n",
       "           max_features='auto', max_leaf_nodes=None,\n",
       "           min_impurity_decrease=0.0, min_impurity_split=None,\n",
       "           min_samples_leaf=1, min_samples_split=2,\n",
       "           min_weight_fraction_leaf=0.0, n_estimators=1000, n_jobs=None,\n",
       "           oob_score=False, random_state=None, verbose=0, warm_start=False)"
      ]
     },
     "execution_count": 210,
     "metadata": {},
     "output_type": "execute_result"
    }
   ],
   "source": [
    "ems = hourly[hourly['NFPA.type']=='EMS']\n",
    "\n",
    "\n",
    "features = ems[['fire_department.firecares_id', 'description.day_of_week', 'hour']]\n",
    "features = pd.get_dummies(features)[feature_list]\n",
    "labels = ems['norm_calls']\n",
    "\n",
    "\n",
    "from sklearn.ensemble import RandomForestRegressor\n",
    "# Now use scikit-learn's random forestion regression model to predict daily ems call volumes\n",
    "rf_ems = RandomForestRegressor(n_estimators = 1000)\n",
    "\n",
    "# Train the model on training data\n",
    "rf_ems.fit(features, labels)"
   ]
  },
  {
   "cell_type": "code",
   "execution_count": 211,
   "metadata": {},
   "outputs": [],
   "source": [
    "#Make every combination of departments, days of week, and hour\n",
    "from itertools import product\n",
    "dep_list = hourly['fire_department.firecares_id'].unique()\n",
    "days = hourly['description.day_of_week'].unique()\n",
    "hours = hourly['hour'].unique()\n",
    "\n",
    "\n",
    "test_df = pd.DataFrame(list(product(dep_list, days, hours)), columns=['fire_department.firecares_id', 'description.day_of_week', 'hour'])\n",
    "test_features = pd.get_dummies(test_df)[feature_list]\n",
    "test_df['predictions_fire'] = rf_fire.predict(test_features)\n",
    "test_df['predictions_ems'] = rf_ems.predict(test_features)\n",
    "\n",
    "\n"
   ]
  },
  {
   "cell_type": "code",
   "execution_count": 217,
   "metadata": {},
   "outputs": [
    {
     "data": {
      "image/png": "[encoded data removed]",
      "text/plain": [
       "<Figure size 864x576 with 1 Axes>"
      ]
     },
     "metadata": {
      "needs_background": "light"
     },
     "output_type": "display_data"
    }
   ],
   "source": [
    "for dep in test_df['fire_department.firecares_id'].unique():\n",
    "    subset = test_df[test_df['fire_department.firecares_id'] == dep]\n",
    "    plt.scatter(subset['predictions_fire'], subset['predictions_ems'])\n"
   ]
  },
  {
   "cell_type": "code",
   "execution_count": null,
   "metadata": {},
   "outputs": [],
   "source": []
  },
  {
   "cell_type": "code",
   "execution_count": null,
   "metadata": {},
   "outputs": [],
   "source": [
    "#Make every combination of departments, days of week, and hour\n",
    "from itertools import product\n",
    "dep_list = hourly['fire_department.firecares_id'].unique()\n",
    "days = hourly['description.day_of_week'].unique()\n",
    "hours = hourly['hour'].unique()\n",
    "\n",
    "\n",
    "test_df = pd.DataFrame(list(product(dep_list, days, hours)), columns=['fire_department.firecares_id', 'description.day_of_week', 'hour'])\n",
    "test_features = pd.get_dummies(test_df)[feature_list]\n",
    "test_df['predictions'] = rf.predict(test_features)"
   ]
  },
  {
   "cell_type": "code",
   "execution_count": null,
   "metadata": {},
   "outputs": [],
   "source": []
  },
  {
   "cell_type": "code",
   "execution_count": null,
   "metadata": {},
   "outputs": [],
   "source": []
  },
  {
   "cell_type": "code",
   "execution_count": null,
   "metadata": {},
   "outputs": [],
   "source": []
  },
  {
   "cell_type": "code",
   "execution_count": null,
   "metadata": {},
   "outputs": [],
   "source": []
  },
  {
   "cell_type": "code",
   "execution_count": null,
   "metadata": {},
   "outputs": [],
   "source": []
  },
  {
   "cell_type": "code",
   "execution_count": null,
   "metadata": {},
   "outputs": [],
   "source": []
  },
  {
   "cell_type": "code",
   "execution_count": null,
   "metadata": {},
   "outputs": [],
   "source": []
  },
  {
   "cell_type": "code",
   "execution_count": 118,
   "metadata": {},
   "outputs": [],
   "source": [
    "features = hourly[['fire_department.firecares_id', 'description.day_of_week', 'hour']]\n",
    "features = pd.get_dummies(features)[feature_list]\n",
    "labels = hourly['norm_calls']"
   ]
  },
  {
   "cell_type": "code",
   "execution_count": 119,
   "metadata": {},
   "outputs": [
    {
     "data": {
      "text/plain": [
       "RandomForestRegressor(bootstrap=True, criterion='mse', max_depth=None,\n",
       "           max_features='auto', max_leaf_nodes=None,\n",
       "           min_impurity_decrease=0.0, min_impurity_split=None,\n",
       "           min_samples_leaf=1, min_samples_split=2,\n",
       "           min_weight_fraction_leaf=0.0, n_estimators=1000, n_jobs=None,\n",
       "           oob_score=False, random_state=None, verbose=0, warm_start=False)"
      ]
     },
     "execution_count": 119,
     "metadata": {},
     "output_type": "execute_result"
    }
   ],
   "source": [
    "from sklearn.ensemble import RandomForestRegressor\n",
    "# Now use scikit-learn's random forestion regression model to predict daily ems call volumes\n",
    "rf = RandomForestRegressor(n_estimators = 1000)\n",
    "\n",
    "# Train the model on training data\n",
    "rf.fit(features, labels)"
   ]
  },
  {
   "cell_type": "code",
   "execution_count": 122,
   "metadata": {},
   "outputs": [],
   "source": [
    "#Make every combination of departments, days of week, and hour\n",
    "from itertools import product\n",
    "dep_list = hourly['fire_department.firecares_id'].unique()\n",
    "days = hourly['description.day_of_week'].unique()\n",
    "hours = hourly['hour'].unique()\n",
    "\n",
    "\n",
    "test_df = pd.DataFrame(list(product(dep_list, days, hours)), columns=['fire_department.firecares_id', 'description.day_of_week', 'hour'])\n",
    "test_features = pd.get_dummies(test_df)[feature_list]\n",
    "test_df['predictions'] = rf.predict(test_features)\n",
    "\n"
   ]
  },
  {
   "cell_type": "code",
   "execution_count": 194,
   "metadata": {},
   "outputs": [
    {
     "data": {
      "text/html": [
       "<div>\n",
       "<style scoped>\n",
       "    .dataframe tbody tr th:only-of-type {\n",
       "        vertical-align: middle;\n",
       "    }\n",
       "\n",
       "    .dataframe tbody tr th {\n",
       "        vertical-align: top;\n",
       "    }\n",
       "\n",
       "    .dataframe thead th {\n",
       "        text-align: right;\n",
       "    }\n",
       "</style>\n",
       "<table border=\"1\" class=\"dataframe\">\n",
       "  <thead>\n",
       "    <tr style=\"text-align: right;\">\n",
       "      <th></th>\n",
       "      <th>fire_department.firecares_id</th>\n",
       "      <th>description.day_of_week</th>\n",
       "      <th>hour</th>\n",
       "      <th>predictions</th>\n",
       "    </tr>\n",
       "  </thead>\n",
       "  <tbody>\n",
       "    <tr>\n",
       "      <th>0</th>\n",
       "      <td>79592</td>\n",
       "      <td>Tuesday</td>\n",
       "      <td>10</td>\n",
       "      <td>1.269717</td>\n",
       "    </tr>\n",
       "    <tr>\n",
       "      <th>1</th>\n",
       "      <td>79592</td>\n",
       "      <td>Tuesday</td>\n",
       "      <td>11</td>\n",
       "      <td>1.329592</td>\n",
       "    </tr>\n",
       "    <tr>\n",
       "      <th>2</th>\n",
       "      <td>79592</td>\n",
       "      <td>Tuesday</td>\n",
       "      <td>12</td>\n",
       "      <td>1.236778</td>\n",
       "    </tr>\n",
       "    <tr>\n",
       "      <th>3</th>\n",
       "      <td>79592</td>\n",
       "      <td>Tuesday</td>\n",
       "      <td>13</td>\n",
       "      <td>1.266074</td>\n",
       "    </tr>\n",
       "    <tr>\n",
       "      <th>4</th>\n",
       "      <td>79592</td>\n",
       "      <td>Tuesday</td>\n",
       "      <td>14</td>\n",
       "      <td>1.225326</td>\n",
       "    </tr>\n",
       "    <tr>\n",
       "      <th>...</th>\n",
       "      <td>...</td>\n",
       "      <td>...</td>\n",
       "      <td>...</td>\n",
       "      <td>...</td>\n",
       "    </tr>\n",
       "    <tr>\n",
       "      <th>331</th>\n",
       "      <td>93345</td>\n",
       "      <td>Monday</td>\n",
       "      <td>23</td>\n",
       "      <td>0.748211</td>\n",
       "    </tr>\n",
       "    <tr>\n",
       "      <th>332</th>\n",
       "      <td>93345</td>\n",
       "      <td>Monday</td>\n",
       "      <td>06</td>\n",
       "      <td>0.689775</td>\n",
       "    </tr>\n",
       "    <tr>\n",
       "      <th>333</th>\n",
       "      <td>93345</td>\n",
       "      <td>Monday</td>\n",
       "      <td>01</td>\n",
       "      <td>0.601595</td>\n",
       "    </tr>\n",
       "    <tr>\n",
       "      <th>334</th>\n",
       "      <td>93345</td>\n",
       "      <td>Monday</td>\n",
       "      <td>02</td>\n",
       "      <td>0.541245</td>\n",
       "    </tr>\n",
       "    <tr>\n",
       "      <th>335</th>\n",
       "      <td>93345</td>\n",
       "      <td>Monday</td>\n",
       "      <td>05</td>\n",
       "      <td>0.465530</td>\n",
       "    </tr>\n",
       "  </tbody>\n",
       "</table>\n",
       "<p>336 rows × 4 columns</p>\n",
       "</div>"
      ],
      "text/plain": [
       "    fire_department.firecares_id description.day_of_week hour  predictions\n",
       "0                          79592                 Tuesday   10     1.269717\n",
       "1                          79592                 Tuesday   11     1.329592\n",
       "2                          79592                 Tuesday   12     1.236778\n",
       "3                          79592                 Tuesday   13     1.266074\n",
       "4                          79592                 Tuesday   14     1.225326\n",
       "..                           ...                     ...  ...          ...\n",
       "331                        93345                  Monday   23     0.748211\n",
       "332                        93345                  Monday   06     0.689775\n",
       "333                        93345                  Monday   01     0.601595\n",
       "334                        93345                  Monday   02     0.541245\n",
       "335                        93345                  Monday   05     0.465530\n",
       "\n",
       "[336 rows x 4 columns]"
      ]
     },
     "execution_count": 194,
     "metadata": {},
     "output_type": "execute_result"
    }
   ],
   "source": [
    "test_df"
   ]
  },
  {
   "cell_type": "code",
   "execution_count": null,
   "metadata": {},
   "outputs": [],
   "source": []
  },
  {
   "cell_type": "code",
   "execution_count": null,
   "metadata": {},
   "outputs": [],
   "source": []
  },
  {
   "cell_type": "code",
   "execution_count": null,
   "metadata": {},
   "outputs": [],
   "source": []
  },
  {
   "cell_type": "code",
   "execution_count": 193,
   "metadata": {},
   "outputs": [
    {
     "data": {
      "text/html": [
       "<div>\n",
       "<style scoped>\n",
       "    .dataframe tbody tr th:only-of-type {\n",
       "        vertical-align: middle;\n",
       "    }\n",
       "\n",
       "    .dataframe tbody tr th {\n",
       "        vertical-align: top;\n",
       "    }\n",
       "\n",
       "    .dataframe thead th {\n",
       "        text-align: right;\n",
       "    }\n",
       "</style>\n",
       "<table border=\"1\" class=\"dataframe\">\n",
       "  <thead>\n",
       "    <tr style=\"text-align: right;\">\n",
       "      <th></th>\n",
       "      <th>fire_department.firecares_id</th>\n",
       "      <th>date</th>\n",
       "      <th>description.day_of_week</th>\n",
       "      <th>hour</th>\n",
       "      <th>calls</th>\n",
       "      <th>mean_calls</th>\n",
       "      <th>norm_calls</th>\n",
       "    </tr>\n",
       "  </thead>\n",
       "  <tbody>\n",
       "    <tr>\n",
       "      <th>0</th>\n",
       "      <td>79592</td>\n",
       "      <td>2015-05-05</td>\n",
       "      <td>Tuesday</td>\n",
       "      <td>10</td>\n",
       "      <td>18</td>\n",
       "      <td>6.908699</td>\n",
       "      <td>2.605411</td>\n",
       "    </tr>\n",
       "    <tr>\n",
       "      <th>1</th>\n",
       "      <td>79592</td>\n",
       "      <td>2015-05-05</td>\n",
       "      <td>Tuesday</td>\n",
       "      <td>11</td>\n",
       "      <td>11</td>\n",
       "      <td>6.908699</td>\n",
       "      <td>1.592195</td>\n",
       "    </tr>\n",
       "    <tr>\n",
       "      <th>2</th>\n",
       "      <td>79592</td>\n",
       "      <td>2015-05-05</td>\n",
       "      <td>Tuesday</td>\n",
       "      <td>12</td>\n",
       "      <td>10</td>\n",
       "      <td>6.908699</td>\n",
       "      <td>1.447450</td>\n",
       "    </tr>\n",
       "    <tr>\n",
       "      <th>3</th>\n",
       "      <td>79592</td>\n",
       "      <td>2015-05-05</td>\n",
       "      <td>Tuesday</td>\n",
       "      <td>13</td>\n",
       "      <td>11</td>\n",
       "      <td>6.908699</td>\n",
       "      <td>1.592195</td>\n",
       "    </tr>\n",
       "    <tr>\n",
       "      <th>4</th>\n",
       "      <td>79592</td>\n",
       "      <td>2015-05-05</td>\n",
       "      <td>Tuesday</td>\n",
       "      <td>14</td>\n",
       "      <td>6</td>\n",
       "      <td>6.908699</td>\n",
       "      <td>0.868470</td>\n",
       "    </tr>\n",
       "    <tr>\n",
       "      <th>...</th>\n",
       "      <td>...</td>\n",
       "      <td>...</td>\n",
       "      <td>...</td>\n",
       "      <td>...</td>\n",
       "      <td>...</td>\n",
       "      <td>...</td>\n",
       "      <td>...</td>\n",
       "    </tr>\n",
       "    <tr>\n",
       "      <th>58068</th>\n",
       "      <td>93345</td>\n",
       "      <td>2019-12-05</td>\n",
       "      <td>Thursday</td>\n",
       "      <td>05</td>\n",
       "      <td>2</td>\n",
       "      <td>11.748610</td>\n",
       "      <td>0.170233</td>\n",
       "    </tr>\n",
       "    <tr>\n",
       "      <th>58069</th>\n",
       "      <td>93345</td>\n",
       "      <td>2019-12-05</td>\n",
       "      <td>Thursday</td>\n",
       "      <td>06</td>\n",
       "      <td>5</td>\n",
       "      <td>11.748610</td>\n",
       "      <td>0.425582</td>\n",
       "    </tr>\n",
       "    <tr>\n",
       "      <th>58070</th>\n",
       "      <td>93345</td>\n",
       "      <td>2019-12-05</td>\n",
       "      <td>Thursday</td>\n",
       "      <td>07</td>\n",
       "      <td>10</td>\n",
       "      <td>11.748610</td>\n",
       "      <td>0.851164</td>\n",
       "    </tr>\n",
       "    <tr>\n",
       "      <th>58071</th>\n",
       "      <td>93345</td>\n",
       "      <td>2019-12-05</td>\n",
       "      <td>Thursday</td>\n",
       "      <td>08</td>\n",
       "      <td>17</td>\n",
       "      <td>11.748610</td>\n",
       "      <td>1.446980</td>\n",
       "    </tr>\n",
       "    <tr>\n",
       "      <th>58072</th>\n",
       "      <td>93345</td>\n",
       "      <td>2019-12-05</td>\n",
       "      <td>Thursday</td>\n",
       "      <td>09</td>\n",
       "      <td>12</td>\n",
       "      <td>11.748610</td>\n",
       "      <td>1.021397</td>\n",
       "    </tr>\n",
       "  </tbody>\n",
       "</table>\n",
       "<p>58073 rows × 7 columns</p>\n",
       "</div>"
      ],
      "text/plain": [
       "      fire_department.firecares_id       date description.day_of_week hour  \\\n",
       "0                            79592 2015-05-05                 Tuesday   10   \n",
       "1                            79592 2015-05-05                 Tuesday   11   \n",
       "2                            79592 2015-05-05                 Tuesday   12   \n",
       "3                            79592 2015-05-05                 Tuesday   13   \n",
       "4                            79592 2015-05-05                 Tuesday   14   \n",
       "...                            ...        ...                     ...  ...   \n",
       "58068                        93345 2019-12-05                Thursday   05   \n",
       "58069                        93345 2019-12-05                Thursday   06   \n",
       "58070                        93345 2019-12-05                Thursday   07   \n",
       "58071                        93345 2019-12-05                Thursday   08   \n",
       "58072                        93345 2019-12-05                Thursday   09   \n",
       "\n",
       "       calls  mean_calls  norm_calls  \n",
       "0         18    6.908699    2.605411  \n",
       "1         11    6.908699    1.592195  \n",
       "2         10    6.908699    1.447450  \n",
       "3         11    6.908699    1.592195  \n",
       "4          6    6.908699    0.868470  \n",
       "...      ...         ...         ...  \n",
       "58068      2   11.748610    0.170233  \n",
       "58069      5   11.748610    0.425582  \n",
       "58070     10   11.748610    0.851164  \n",
       "58071     17   11.748610    1.446980  \n",
       "58072     12   11.748610    1.021397  \n",
       "\n",
       "[58073 rows x 7 columns]"
      ]
     },
     "execution_count": 193,
     "metadata": {},
     "output_type": "execute_result"
    }
   ],
   "source": []
  },
  {
   "cell_type": "code",
   "execution_count": null,
   "metadata": {},
   "outputs": [],
   "source": []
  },
  {
   "cell_type": "code",
   "execution_count": null,
   "metadata": {},
   "outputs": [],
   "source": []
  },
  {
   "cell_type": "code",
   "execution_count": null,
   "metadata": {},
   "outputs": [],
   "source": []
  },
  {
   "cell_type": "code",
   "execution_count": null,
   "metadata": {},
   "outputs": [],
   "source": []
  },
  {
   "cell_type": "code",
   "execution_count": null,
   "metadata": {},
   "outputs": [],
   "source": []
  },
  {
   "cell_type": "code",
   "execution_count": null,
   "metadata": {},
   "outputs": [],
   "source": []
  },
  {
   "cell_type": "code",
   "execution_count": null,
   "metadata": {},
   "outputs": [],
   "source": []
  },
  {
   "cell_type": "code",
   "execution_count": 218,
   "metadata": {},
   "outputs": [
    {
     "ename": "KeyError",
     "evalue": "'predictions'",
     "output_type": "error",
     "traceback": [
      "\u001b[0;31m---------------------------------------------------------------------------\u001b[0m",
      "\u001b[0;31mKeyError\u001b[0m                                  Traceback (most recent call last)",
      "\u001b[0;32m~/.local/lib/python3.6/site-packages/pandas/core/indexes/base.py\u001b[0m in \u001b[0;36mget_loc\u001b[0;34m(self, key, method, tolerance)\u001b[0m\n\u001b[1;32m   2896\u001b[0m             \u001b[0;32mtry\u001b[0m\u001b[0;34m:\u001b[0m\u001b[0;34m\u001b[0m\u001b[0;34m\u001b[0m\u001b[0m\n\u001b[0;32m-> 2897\u001b[0;31m                 \u001b[0;32mreturn\u001b[0m \u001b[0mself\u001b[0m\u001b[0;34m.\u001b[0m\u001b[0m_engine\u001b[0m\u001b[0;34m.\u001b[0m\u001b[0mget_loc\u001b[0m\u001b[0;34m(\u001b[0m\u001b[0mkey\u001b[0m\u001b[0;34m)\u001b[0m\u001b[0;34m\u001b[0m\u001b[0;34m\u001b[0m\u001b[0m\n\u001b[0m\u001b[1;32m   2898\u001b[0m             \u001b[0;32mexcept\u001b[0m \u001b[0mKeyError\u001b[0m\u001b[0;34m:\u001b[0m\u001b[0;34m\u001b[0m\u001b[0;34m\u001b[0m\u001b[0m\n",
      "\u001b[0;32mpandas/_libs/index.pyx\u001b[0m in \u001b[0;36mpandas._libs.index.IndexEngine.get_loc\u001b[0;34m()\u001b[0m\n",
      "\u001b[0;32mpandas/_libs/index.pyx\u001b[0m in \u001b[0;36mpandas._libs.index.IndexEngine.get_loc\u001b[0;34m()\u001b[0m\n",
      "\u001b[0;32mpandas/_libs/hashtable_class_helper.pxi\u001b[0m in \u001b[0;36mpandas._libs.hashtable.PyObjectHashTable.get_item\u001b[0;34m()\u001b[0m\n",
      "\u001b[0;32mpandas/_libs/hashtable_class_helper.pxi\u001b[0m in \u001b[0;36mpandas._libs.hashtable.PyObjectHashTable.get_item\u001b[0;34m()\u001b[0m\n",
      "\u001b[0;31mKeyError\u001b[0m: 'predictions'",
      "\nDuring handling of the above exception, another exception occurred:\n",
      "\u001b[0;31mKeyError\u001b[0m                                  Traceback (most recent call last)",
      "\u001b[0;32m<ipython-input-218-097672db7d39>\u001b[0m in \u001b[0;36m<module>\u001b[0;34m\u001b[0m\n\u001b[1;32m      7\u001b[0m \u001b[0msubset\u001b[0m \u001b[0;34m=\u001b[0m \u001b[0msubset\u001b[0m\u001b[0;34m.\u001b[0m\u001b[0msort_values\u001b[0m\u001b[0;34m(\u001b[0m\u001b[0mby\u001b[0m\u001b[0;34m=\u001b[0m\u001b[0;34m'hour'\u001b[0m\u001b[0;34m)\u001b[0m\u001b[0;34m\u001b[0m\u001b[0;34m\u001b[0m\u001b[0m\n\u001b[1;32m      8\u001b[0m \u001b[0mplt\u001b[0m\u001b[0;34m.\u001b[0m\u001b[0mrcParams\u001b[0m\u001b[0;34m[\u001b[0m\u001b[0;34m'figure.figsize'\u001b[0m\u001b[0;34m]\u001b[0m \u001b[0;34m=\u001b[0m \u001b[0;34m[\u001b[0m\u001b[0;36m12\u001b[0m\u001b[0;34m,\u001b[0m\u001b[0;36m8\u001b[0m\u001b[0;34m]\u001b[0m\u001b[0;34m\u001b[0m\u001b[0;34m\u001b[0m\u001b[0m\n\u001b[0;32m----> 9\u001b[0;31m \u001b[0msubset\u001b[0m\u001b[0;34m.\u001b[0m\u001b[0mplot\u001b[0m\u001b[0;34m.\u001b[0m\u001b[0mbar\u001b[0m\u001b[0;34m(\u001b[0m\u001b[0mx\u001b[0m\u001b[0;34m=\u001b[0m\u001b[0;34m'hour'\u001b[0m\u001b[0;34m,\u001b[0m \u001b[0my\u001b[0m\u001b[0;34m=\u001b[0m\u001b[0;34m'predictions'\u001b[0m\u001b[0;34m,\u001b[0m \u001b[0mcolor\u001b[0m\u001b[0;34m=\u001b[0m\u001b[0;34m'dodgerblue'\u001b[0m\u001b[0;34m,\u001b[0m \u001b[0mwidth\u001b[0m\u001b[0;34m=\u001b[0m\u001b[0;36m.7\u001b[0m\u001b[0;34m)\u001b[0m\u001b[0;34m\u001b[0m\u001b[0;34m\u001b[0m\u001b[0m\n\u001b[0m\u001b[1;32m     10\u001b[0m \u001b[0mplt\u001b[0m\u001b[0;34m.\u001b[0m\u001b[0myticks\u001b[0m\u001b[0;34m(\u001b[0m\u001b[0;34m[\u001b[0m\u001b[0;36m0.7\u001b[0m\u001b[0;34m,\u001b[0m\u001b[0;36m1\u001b[0m\u001b[0;34m,\u001b[0m\u001b[0;36m1.3\u001b[0m\u001b[0;34m]\u001b[0m\u001b[0;34m,\u001b[0m \u001b[0;34m[\u001b[0m\u001b[0;34m]\u001b[0m\u001b[0;34m)\u001b[0m\u001b[0;34m\u001b[0m\u001b[0;34m\u001b[0m\u001b[0m\n",
      "\u001b[0;32m~/.local/lib/python3.6/site-packages/pandas/plotting/_core.py\u001b[0m in \u001b[0;36mbar\u001b[0;34m(self, x, y, **kwargs)\u001b[0m\n\u001b[1;32m    946\u001b[0m             \u001b[0;34m>>\u001b[0m\u001b[0;34m>\u001b[0m \u001b[0max\u001b[0m \u001b[0;34m=\u001b[0m \u001b[0mdf\u001b[0m\u001b[0;34m.\u001b[0m\u001b[0mplot\u001b[0m\u001b[0;34m.\u001b[0m\u001b[0mbar\u001b[0m\u001b[0;34m(\u001b[0m\u001b[0mx\u001b[0m\u001b[0;34m=\u001b[0m\u001b[0;34m'lifespan'\u001b[0m\u001b[0;34m,\u001b[0m \u001b[0mrot\u001b[0m\u001b[0;34m=\u001b[0m\u001b[0;36m0\u001b[0m\u001b[0;34m)\u001b[0m\u001b[0;34m\u001b[0m\u001b[0;34m\u001b[0m\u001b[0m\n\u001b[1;32m    947\u001b[0m         \"\"\"\n\u001b[0;32m--> 948\u001b[0;31m         \u001b[0;32mreturn\u001b[0m \u001b[0mself\u001b[0m\u001b[0;34m(\u001b[0m\u001b[0mkind\u001b[0m\u001b[0;34m=\u001b[0m\u001b[0;34m\"bar\"\u001b[0m\u001b[0;34m,\u001b[0m \u001b[0mx\u001b[0m\u001b[0;34m=\u001b[0m\u001b[0mx\u001b[0m\u001b[0;34m,\u001b[0m \u001b[0my\u001b[0m\u001b[0;34m=\u001b[0m\u001b[0my\u001b[0m\u001b[0;34m,\u001b[0m \u001b[0;34m**\u001b[0m\u001b[0mkwargs\u001b[0m\u001b[0;34m)\u001b[0m\u001b[0;34m\u001b[0m\u001b[0;34m\u001b[0m\u001b[0m\n\u001b[0m\u001b[1;32m    949\u001b[0m \u001b[0;34m\u001b[0m\u001b[0m\n\u001b[1;32m    950\u001b[0m     \u001b[0;32mdef\u001b[0m \u001b[0mbarh\u001b[0m\u001b[0;34m(\u001b[0m\u001b[0mself\u001b[0m\u001b[0;34m,\u001b[0m \u001b[0mx\u001b[0m\u001b[0;34m=\u001b[0m\u001b[0;32mNone\u001b[0m\u001b[0;34m,\u001b[0m \u001b[0my\u001b[0m\u001b[0;34m=\u001b[0m\u001b[0;32mNone\u001b[0m\u001b[0;34m,\u001b[0m \u001b[0;34m**\u001b[0m\u001b[0mkwargs\u001b[0m\u001b[0;34m)\u001b[0m\u001b[0;34m:\u001b[0m\u001b[0;34m\u001b[0m\u001b[0;34m\u001b[0m\u001b[0m\n",
      "\u001b[0;32m~/.local/lib/python3.6/site-packages/pandas/plotting/_core.py\u001b[0m in \u001b[0;36m__call__\u001b[0;34m(self, *args, **kwargs)\u001b[0m\n\u001b[1;32m    778\u001b[0m \u001b[0;34m\u001b[0m\u001b[0m\n\u001b[1;32m    779\u001b[0m                 \u001b[0;31m# don't overwrite\u001b[0m\u001b[0;34m\u001b[0m\u001b[0;34m\u001b[0m\u001b[0;34m\u001b[0m\u001b[0m\n\u001b[0;32m--> 780\u001b[0;31m                 \u001b[0mdata\u001b[0m \u001b[0;34m=\u001b[0m \u001b[0mdata\u001b[0m\u001b[0;34m[\u001b[0m\u001b[0my\u001b[0m\u001b[0;34m]\u001b[0m\u001b[0;34m.\u001b[0m\u001b[0mcopy\u001b[0m\u001b[0;34m(\u001b[0m\u001b[0;34m)\u001b[0m\u001b[0;34m\u001b[0m\u001b[0;34m\u001b[0m\u001b[0m\n\u001b[0m\u001b[1;32m    781\u001b[0m \u001b[0;34m\u001b[0m\u001b[0m\n\u001b[1;32m    782\u001b[0m                 \u001b[0;32mif\u001b[0m \u001b[0misinstance\u001b[0m\u001b[0;34m(\u001b[0m\u001b[0mdata\u001b[0m\u001b[0;34m,\u001b[0m \u001b[0mABCSeries\u001b[0m\u001b[0;34m)\u001b[0m\u001b[0;34m:\u001b[0m\u001b[0;34m\u001b[0m\u001b[0;34m\u001b[0m\u001b[0m\n",
      "\u001b[0;32m~/.local/lib/python3.6/site-packages/pandas/core/frame.py\u001b[0m in \u001b[0;36m__getitem__\u001b[0;34m(self, key)\u001b[0m\n\u001b[1;32m   2993\u001b[0m             \u001b[0;32mif\u001b[0m \u001b[0mself\u001b[0m\u001b[0;34m.\u001b[0m\u001b[0mcolumns\u001b[0m\u001b[0;34m.\u001b[0m\u001b[0mnlevels\u001b[0m \u001b[0;34m>\u001b[0m \u001b[0;36m1\u001b[0m\u001b[0;34m:\u001b[0m\u001b[0;34m\u001b[0m\u001b[0;34m\u001b[0m\u001b[0m\n\u001b[1;32m   2994\u001b[0m                 \u001b[0;32mreturn\u001b[0m \u001b[0mself\u001b[0m\u001b[0;34m.\u001b[0m\u001b[0m_getitem_multilevel\u001b[0m\u001b[0;34m(\u001b[0m\u001b[0mkey\u001b[0m\u001b[0;34m)\u001b[0m\u001b[0;34m\u001b[0m\u001b[0;34m\u001b[0m\u001b[0m\n\u001b[0;32m-> 2995\u001b[0;31m             \u001b[0mindexer\u001b[0m \u001b[0;34m=\u001b[0m \u001b[0mself\u001b[0m\u001b[0;34m.\u001b[0m\u001b[0mcolumns\u001b[0m\u001b[0;34m.\u001b[0m\u001b[0mget_loc\u001b[0m\u001b[0;34m(\u001b[0m\u001b[0mkey\u001b[0m\u001b[0;34m)\u001b[0m\u001b[0;34m\u001b[0m\u001b[0;34m\u001b[0m\u001b[0m\n\u001b[0m\u001b[1;32m   2996\u001b[0m             \u001b[0;32mif\u001b[0m \u001b[0mis_integer\u001b[0m\u001b[0;34m(\u001b[0m\u001b[0mindexer\u001b[0m\u001b[0;34m)\u001b[0m\u001b[0;34m:\u001b[0m\u001b[0;34m\u001b[0m\u001b[0;34m\u001b[0m\u001b[0m\n\u001b[1;32m   2997\u001b[0m                 \u001b[0mindexer\u001b[0m \u001b[0;34m=\u001b[0m \u001b[0;34m[\u001b[0m\u001b[0mindexer\u001b[0m\u001b[0;34m]\u001b[0m\u001b[0;34m\u001b[0m\u001b[0;34m\u001b[0m\u001b[0m\n",
      "\u001b[0;32m~/.local/lib/python3.6/site-packages/pandas/core/indexes/base.py\u001b[0m in \u001b[0;36mget_loc\u001b[0;34m(self, key, method, tolerance)\u001b[0m\n\u001b[1;32m   2897\u001b[0m                 \u001b[0;32mreturn\u001b[0m \u001b[0mself\u001b[0m\u001b[0;34m.\u001b[0m\u001b[0m_engine\u001b[0m\u001b[0;34m.\u001b[0m\u001b[0mget_loc\u001b[0m\u001b[0;34m(\u001b[0m\u001b[0mkey\u001b[0m\u001b[0;34m)\u001b[0m\u001b[0;34m\u001b[0m\u001b[0;34m\u001b[0m\u001b[0m\n\u001b[1;32m   2898\u001b[0m             \u001b[0;32mexcept\u001b[0m \u001b[0mKeyError\u001b[0m\u001b[0;34m:\u001b[0m\u001b[0;34m\u001b[0m\u001b[0;34m\u001b[0m\u001b[0m\n\u001b[0;32m-> 2899\u001b[0;31m                 \u001b[0;32mreturn\u001b[0m \u001b[0mself\u001b[0m\u001b[0;34m.\u001b[0m\u001b[0m_engine\u001b[0m\u001b[0;34m.\u001b[0m\u001b[0mget_loc\u001b[0m\u001b[0;34m(\u001b[0m\u001b[0mself\u001b[0m\u001b[0;34m.\u001b[0m\u001b[0m_maybe_cast_indexer\u001b[0m\u001b[0;34m(\u001b[0m\u001b[0mkey\u001b[0m\u001b[0;34m)\u001b[0m\u001b[0;34m)\u001b[0m\u001b[0;34m\u001b[0m\u001b[0;34m\u001b[0m\u001b[0m\n\u001b[0m\u001b[1;32m   2900\u001b[0m         \u001b[0mindexer\u001b[0m \u001b[0;34m=\u001b[0m \u001b[0mself\u001b[0m\u001b[0;34m.\u001b[0m\u001b[0mget_indexer\u001b[0m\u001b[0;34m(\u001b[0m\u001b[0;34m[\u001b[0m\u001b[0mkey\u001b[0m\u001b[0;34m]\u001b[0m\u001b[0;34m,\u001b[0m \u001b[0mmethod\u001b[0m\u001b[0;34m=\u001b[0m\u001b[0mmethod\u001b[0m\u001b[0;34m,\u001b[0m \u001b[0mtolerance\u001b[0m\u001b[0;34m=\u001b[0m\u001b[0mtolerance\u001b[0m\u001b[0;34m)\u001b[0m\u001b[0;34m\u001b[0m\u001b[0;34m\u001b[0m\u001b[0m\n\u001b[1;32m   2901\u001b[0m         \u001b[0;32mif\u001b[0m \u001b[0mindexer\u001b[0m\u001b[0;34m.\u001b[0m\u001b[0mndim\u001b[0m \u001b[0;34m>\u001b[0m \u001b[0;36m1\u001b[0m \u001b[0;32mor\u001b[0m \u001b[0mindexer\u001b[0m\u001b[0;34m.\u001b[0m\u001b[0msize\u001b[0m \u001b[0;34m>\u001b[0m \u001b[0;36m1\u001b[0m\u001b[0;34m:\u001b[0m\u001b[0;34m\u001b[0m\u001b[0;34m\u001b[0m\u001b[0m\n",
      "\u001b[0;32mpandas/_libs/index.pyx\u001b[0m in \u001b[0;36mpandas._libs.index.IndexEngine.get_loc\u001b[0;34m()\u001b[0m\n",
      "\u001b[0;32mpandas/_libs/index.pyx\u001b[0m in \u001b[0;36mpandas._libs.index.IndexEngine.get_loc\u001b[0;34m()\u001b[0m\n",
      "\u001b[0;32mpandas/_libs/hashtable_class_helper.pxi\u001b[0m in \u001b[0;36mpandas._libs.hashtable.PyObjectHashTable.get_item\u001b[0;34m()\u001b[0m\n",
      "\u001b[0;32mpandas/_libs/hashtable_class_helper.pxi\u001b[0m in \u001b[0;36mpandas._libs.hashtable.PyObjectHashTable.get_item\u001b[0;34m()\u001b[0m\n",
      "\u001b[0;31mKeyError\u001b[0m: 'predictions'"
     ]
    }
   ],
   "source": [
    "department = '93345'\n",
    "# department = '79592'\n",
    "day = 'Tuesday'\n",
    "\n",
    "subset = test_df[(test_df['fire_department.firecares_id'] == department) \n",
    "                 & (test_df['description.day_of_week'] == day)]\n",
    "subset = subset.sort_values(by='hour')\n",
    "plt.rcParams['figure.figsize'] = [12,8]\n",
    "subset.plot.bar(x='hour', y='predictions', color='dodgerblue', width=.7)\n",
    "plt.yticks([0.7,1,1.3], [])"
   ]
  },
  {
   "cell_type": "code",
   "execution_count": null,
   "metadata": {},
   "outputs": [],
   "source": []
  },
  {
   "cell_type": "code",
   "execution_count": null,
   "metadata": {},
   "outputs": [],
   "source": []
  },
  {
   "cell_type": "code",
   "execution_count": null,
   "metadata": {},
   "outputs": [],
   "source": []
  },
  {
   "cell_type": "code",
   "execution_count": null,
   "metadata": {},
   "outputs": [],
   "source": []
  },
  {
   "cell_type": "code",
   "execution_count": null,
   "metadata": {},
   "outputs": [],
   "source": []
  },
  {
   "cell_type": "code",
   "execution_count": null,
   "metadata": {},
   "outputs": [],
   "source": []
  },
  {
   "cell_type": "code",
   "execution_count": null,
   "metadata": {},
   "outputs": [],
   "source": []
  },
  {
   "cell_type": "code",
   "execution_count": null,
   "metadata": {},
   "outputs": [],
   "source": []
  },
  {
   "cell_type": "code",
   "execution_count": null,
   "metadata": {},
   "outputs": [],
   "source": []
  },
  {
   "cell_type": "code",
   "execution_count": null,
   "metadata": {},
   "outputs": [],
   "source": []
  },
  {
   "cell_type": "code",
   "execution_count": null,
   "metadata": {},
   "outputs": [],
   "source": []
  },
  {
   "cell_type": "code",
   "execution_count": null,
   "metadata": {},
   "outputs": [],
   "source": []
  },
  {
   "cell_type": "code",
   "execution_count": null,
   "metadata": {},
   "outputs": [],
   "source": []
  },
  {
   "cell_type": "code",
   "execution_count": null,
   "metadata": {},
   "outputs": [],
   "source": []
  },
  {
   "cell_type": "code",
   "execution_count": null,
   "metadata": {},
   "outputs": [],
   "source": []
  },
  {
   "cell_type": "code",
   "execution_count": null,
   "metadata": {},
   "outputs": [],
   "source": []
  },
  {
   "cell_type": "code",
   "execution_count": null,
   "metadata": {},
   "outputs": [],
   "source": []
  },
  {
   "cell_type": "code",
   "execution_count": null,
   "metadata": {},
   "outputs": [],
   "source": []
  },
  {
   "cell_type": "code",
   "execution_count": null,
   "metadata": {},
   "outputs": [],
   "source": []
  },
  {
   "cell_type": "code",
   "execution_count": null,
   "metadata": {},
   "outputs": [],
   "source": []
  },
  {
   "cell_type": "code",
   "execution_count": null,
   "metadata": {},
   "outputs": [],
   "source": []
  },
  {
   "cell_type": "code",
   "execution_count": null,
   "metadata": {},
   "outputs": [],
   "source": []
  },
  {
   "cell_type": "code",
   "execution_count": null,
   "metadata": {},
   "outputs": [],
   "source": []
  },
  {
   "cell_type": "code",
   "execution_count": null,
   "metadata": {},
   "outputs": [],
   "source": []
  },
  {
   "cell_type": "code",
   "execution_count": null,
   "metadata": {},
   "outputs": [],
   "source": []
  },
  {
   "cell_type": "code",
   "execution_count": null,
   "metadata": {},
   "outputs": [],
   "source": []
  },
  {
   "cell_type": "code",
   "execution_count": null,
   "metadata": {},
   "outputs": [],
   "source": []
  },
  {
   "cell_type": "code",
   "execution_count": null,
   "metadata": {},
   "outputs": [],
   "source": []
  },
  {
   "cell_type": "code",
   "execution_count": 103,
   "metadata": {},
   "outputs": [],
   "source": [
    "feature_list = ['fire_department.firecares_id_79592',\n",
    "       'fire_department.firecares_id_93345', 'description.day_of_week_Friday',\n",
    "       'description.day_of_week_Monday', 'description.day_of_week_Saturday',\n",
    "       'description.day_of_week_Sunday', 'description.day_of_week_Thursday',\n",
    "       'description.day_of_week_Tuesday', 'description.day_of_week_Wednesday',\n",
    "       'hour_00', 'hour_01', 'hour_02', 'hour_03', 'hour_04', 'hour_05',\n",
    "       'hour_06', 'hour_07', 'hour_08', 'hour_09', 'hour_10', 'hour_11',\n",
    "       'hour_12', 'hour_13', 'hour_14', 'hour_15', 'hour_16', 'hour_17',\n",
    "       'hour_18', 'hour_19', 'hour_20', 'hour_21', 'hour_22', 'hour_23']  "
   ]
  },
  {
   "cell_type": "code",
   "execution_count": null,
   "metadata": {},
   "outputs": [],
   "source": []
  },
  {
   "cell_type": "code",
   "execution_count": null,
   "metadata": {},
   "outputs": [],
   "source": []
  },
  {
   "cell_type": "code",
   "execution_count": null,
   "metadata": {},
   "outputs": [],
   "source": []
  },
  {
   "cell_type": "code",
   "execution_count": null,
   "metadata": {},
   "outputs": [],
   "source": []
  },
  {
   "cell_type": "code",
   "execution_count": null,
   "metadata": {},
   "outputs": [],
   "source": []
  },
  {
   "cell_type": "code",
   "execution_count": 87,
   "metadata": {},
   "outputs": [],
   "source": [
    "hourly[['fire_department.firecares_id', 'description.day_of_week', 'hour', 'calls']].to_json('test', orient='records')"
   ]
  },
  {
   "cell_type": "code",
   "execution_count": null,
   "metadata": {},
   "outputs": [],
   "source": []
  },
  {
   "cell_type": "code",
   "execution_count": null,
   "metadata": {},
   "outputs": [],
   "source": []
  },
  {
   "cell_type": "code",
   "execution_count": 88,
   "metadata": {},
   "outputs": [
    {
     "data": {
      "text/html": [
       "<div>\n",
       "<style scoped>\n",
       "    .dataframe tbody tr th:only-of-type {\n",
       "        vertical-align: middle;\n",
       "    }\n",
       "\n",
       "    .dataframe tbody tr th {\n",
       "        vertical-align: top;\n",
       "    }\n",
       "\n",
       "    .dataframe thead th {\n",
       "        text-align: right;\n",
       "    }\n",
       "</style>\n",
       "<table border=\"1\" class=\"dataframe\">\n",
       "  <thead>\n",
       "    <tr style=\"text-align: right;\">\n",
       "      <th></th>\n",
       "      <th>fire_department.firecares_id</th>\n",
       "      <th>date</th>\n",
       "      <th>description.day_of_week</th>\n",
       "      <th>hour</th>\n",
       "      <th>calls</th>\n",
       "      <th>mean_calls</th>\n",
       "      <th>norm_calls</th>\n",
       "    </tr>\n",
       "  </thead>\n",
       "  <tbody>\n",
       "    <tr>\n",
       "      <th>23429</th>\n",
       "      <td>79592</td>\n",
       "      <td>2018-09-24</td>\n",
       "      <td>Monday</td>\n",
       "      <td>09</td>\n",
       "      <td>5</td>\n",
       "      <td>6.908699</td>\n",
       "      <td>0.723725</td>\n",
       "    </tr>\n",
       "    <tr>\n",
       "      <th>47518</th>\n",
       "      <td>93345</td>\n",
       "      <td>2018-09-05</td>\n",
       "      <td>Wednesday</td>\n",
       "      <td>12</td>\n",
       "      <td>17</td>\n",
       "      <td>11.748610</td>\n",
       "      <td>1.446980</td>\n",
       "    </tr>\n",
       "    <tr>\n",
       "      <th>20196</th>\n",
       "      <td>79592</td>\n",
       "      <td>2018-04-05</td>\n",
       "      <td>Thursday</td>\n",
       "      <td>01</td>\n",
       "      <td>5</td>\n",
       "      <td>6.908699</td>\n",
       "      <td>0.723725</td>\n",
       "    </tr>\n",
       "    <tr>\n",
       "      <th>6976</th>\n",
       "      <td>79592</td>\n",
       "      <td>2016-05-11</td>\n",
       "      <td>Wednesday</td>\n",
       "      <td>19</td>\n",
       "      <td>7</td>\n",
       "      <td>6.908699</td>\n",
       "      <td>1.013215</td>\n",
       "    </tr>\n",
       "    <tr>\n",
       "      <th>44807</th>\n",
       "      <td>93345</td>\n",
       "      <td>2018-05-11</td>\n",
       "      <td>Friday</td>\n",
       "      <td>19</td>\n",
       "      <td>2</td>\n",
       "      <td>11.748610</td>\n",
       "      <td>0.170233</td>\n",
       "    </tr>\n",
       "    <tr>\n",
       "      <th>...</th>\n",
       "      <td>...</td>\n",
       "      <td>...</td>\n",
       "      <td>...</td>\n",
       "      <td>...</td>\n",
       "      <td>...</td>\n",
       "      <td>...</td>\n",
       "      <td>...</td>\n",
       "    </tr>\n",
       "    <tr>\n",
       "      <th>16243</th>\n",
       "      <td>79592</td>\n",
       "      <td>2017-09-11</td>\n",
       "      <td>Monday</td>\n",
       "      <td>01</td>\n",
       "      <td>23</td>\n",
       "      <td>6.908699</td>\n",
       "      <td>3.329136</td>\n",
       "    </tr>\n",
       "    <tr>\n",
       "      <th>42235</th>\n",
       "      <td>93345</td>\n",
       "      <td>2018-01-20</td>\n",
       "      <td>Saturday</td>\n",
       "      <td>11</td>\n",
       "      <td>15</td>\n",
       "      <td>11.748610</td>\n",
       "      <td>1.276747</td>\n",
       "    </tr>\n",
       "    <tr>\n",
       "      <th>20935</th>\n",
       "      <td>79592</td>\n",
       "      <td>2018-05-13</td>\n",
       "      <td>Sunday</td>\n",
       "      <td>16</td>\n",
       "      <td>4</td>\n",
       "      <td>6.908699</td>\n",
       "      <td>0.578980</td>\n",
       "    </tr>\n",
       "    <tr>\n",
       "      <th>1743</th>\n",
       "      <td>79592</td>\n",
       "      <td>2015-08-08</td>\n",
       "      <td>Saturday</td>\n",
       "      <td>20</td>\n",
       "      <td>11</td>\n",
       "      <td>6.908699</td>\n",
       "      <td>1.592195</td>\n",
       "    </tr>\n",
       "    <tr>\n",
       "      <th>30938</th>\n",
       "      <td>79592</td>\n",
       "      <td>2019-10-19</td>\n",
       "      <td>Saturday</td>\n",
       "      <td>20</td>\n",
       "      <td>2</td>\n",
       "      <td>6.908699</td>\n",
       "      <td>0.289490</td>\n",
       "    </tr>\n",
       "  </tbody>\n",
       "</table>\n",
       "<p>1000 rows × 7 columns</p>\n",
       "</div>"
      ],
      "text/plain": [
       "      fire_department.firecares_id       date description.day_of_week hour  \\\n",
       "23429                        79592 2018-09-24                  Monday   09   \n",
       "47518                        93345 2018-09-05               Wednesday   12   \n",
       "20196                        79592 2018-04-05                Thursday   01   \n",
       "6976                         79592 2016-05-11               Wednesday   19   \n",
       "44807                        93345 2018-05-11                  Friday   19   \n",
       "...                            ...        ...                     ...  ...   \n",
       "16243                        79592 2017-09-11                  Monday   01   \n",
       "42235                        93345 2018-01-20                Saturday   11   \n",
       "20935                        79592 2018-05-13                  Sunday   16   \n",
       "1743                         79592 2015-08-08                Saturday   20   \n",
       "30938                        79592 2019-10-19                Saturday   20   \n",
       "\n",
       "       calls  mean_calls  norm_calls  \n",
       "23429      5    6.908699    0.723725  \n",
       "47518     17   11.748610    1.446980  \n",
       "20196      5    6.908699    0.723725  \n",
       "6976       7    6.908699    1.013215  \n",
       "44807      2   11.748610    0.170233  \n",
       "...      ...         ...         ...  \n",
       "16243     23    6.908699    3.329136  \n",
       "42235     15   11.748610    1.276747  \n",
       "20935      4    6.908699    0.578980  \n",
       "1743      11    6.908699    1.592195  \n",
       "30938      2    6.908699    0.289490  \n",
       "\n",
       "[1000 rows x 7 columns]"
      ]
     },
     "execution_count": 88,
     "metadata": {},
     "output_type": "execute_result"
    }
   ],
   "source": [
    "hourly"
   ]
  },
  {
   "cell_type": "code",
   "execution_count": 85,
   "metadata": {},
   "outputs": [],
   "source": []
  },
  {
   "cell_type": "code",
   "execution_count": 81,
   "metadata": {},
   "outputs": [
    {
     "data": {
      "text/html": [
       "<div>\n",
       "<style scoped>\n",
       "    .dataframe tbody tr th:only-of-type {\n",
       "        vertical-align: middle;\n",
       "    }\n",
       "\n",
       "    .dataframe tbody tr th {\n",
       "        vertical-align: top;\n",
       "    }\n",
       "\n",
       "    .dataframe thead th {\n",
       "        text-align: right;\n",
       "    }\n",
       "</style>\n",
       "<table border=\"1\" class=\"dataframe\">\n",
       "  <thead>\n",
       "    <tr style=\"text-align: right;\">\n",
       "      <th></th>\n",
       "      <th>fire_department.firecares_id</th>\n",
       "      <th>date</th>\n",
       "      <th>description.day_of_week</th>\n",
       "      <th>hour</th>\n",
       "      <th>calls</th>\n",
       "      <th>mean_calls</th>\n",
       "      <th>norm_calls</th>\n",
       "    </tr>\n",
       "  </thead>\n",
       "  <tbody>\n",
       "    <tr>\n",
       "      <th>12500</th>\n",
       "      <td>79592</td>\n",
       "      <td>2017-02-25</td>\n",
       "      <td>Saturday</td>\n",
       "      <td>14</td>\n",
       "      <td>2</td>\n",
       "      <td>6.908699</td>\n",
       "      <td>0.289490</td>\n",
       "    </tr>\n",
       "    <tr>\n",
       "      <th>7493</th>\n",
       "      <td>79592</td>\n",
       "      <td>2016-06-08</td>\n",
       "      <td>Wednesday</td>\n",
       "      <td>19</td>\n",
       "      <td>15</td>\n",
       "      <td>6.908699</td>\n",
       "      <td>2.171176</td>\n",
       "    </tr>\n",
       "    <tr>\n",
       "      <th>43353</th>\n",
       "      <td>93345</td>\n",
       "      <td>2018-03-09</td>\n",
       "      <td>Friday</td>\n",
       "      <td>13</td>\n",
       "      <td>15</td>\n",
       "      <td>11.748610</td>\n",
       "      <td>1.276747</td>\n",
       "    </tr>\n",
       "    <tr>\n",
       "      <th>26607</th>\n",
       "      <td>79592</td>\n",
       "      <td>2019-03-08</td>\n",
       "      <td>Friday</td>\n",
       "      <td>07</td>\n",
       "      <td>5</td>\n",
       "      <td>6.908699</td>\n",
       "      <td>0.723725</td>\n",
       "    </tr>\n",
       "    <tr>\n",
       "      <th>36576</th>\n",
       "      <td>93345</td>\n",
       "      <td>2017-05-21</td>\n",
       "      <td>Sunday</td>\n",
       "      <td>11</td>\n",
       "      <td>12</td>\n",
       "      <td>11.748610</td>\n",
       "      <td>1.021397</td>\n",
       "    </tr>\n",
       "    <tr>\n",
       "      <th>...</th>\n",
       "      <td>...</td>\n",
       "      <td>...</td>\n",
       "      <td>...</td>\n",
       "      <td>...</td>\n",
       "      <td>...</td>\n",
       "      <td>...</td>\n",
       "      <td>...</td>\n",
       "    </tr>\n",
       "    <tr>\n",
       "      <th>1465</th>\n",
       "      <td>79592</td>\n",
       "      <td>2015-07-24</td>\n",
       "      <td>Friday</td>\n",
       "      <td>15</td>\n",
       "      <td>4</td>\n",
       "      <td>6.908699</td>\n",
       "      <td>0.578980</td>\n",
       "    </tr>\n",
       "    <tr>\n",
       "      <th>5211</th>\n",
       "      <td>79592</td>\n",
       "      <td>2016-02-10</td>\n",
       "      <td>Wednesday</td>\n",
       "      <td>14</td>\n",
       "      <td>4</td>\n",
       "      <td>6.908699</td>\n",
       "      <td>0.578980</td>\n",
       "    </tr>\n",
       "    <tr>\n",
       "      <th>4312</th>\n",
       "      <td>79592</td>\n",
       "      <td>2015-12-26</td>\n",
       "      <td>Saturday</td>\n",
       "      <td>03</td>\n",
       "      <td>4</td>\n",
       "      <td>6.908699</td>\n",
       "      <td>0.578980</td>\n",
       "    </tr>\n",
       "    <tr>\n",
       "      <th>10386</th>\n",
       "      <td>79592</td>\n",
       "      <td>2016-11-09</td>\n",
       "      <td>Wednesday</td>\n",
       "      <td>21</td>\n",
       "      <td>8</td>\n",
       "      <td>6.908699</td>\n",
       "      <td>1.157960</td>\n",
       "    </tr>\n",
       "    <tr>\n",
       "      <th>5563</th>\n",
       "      <td>79592</td>\n",
       "      <td>2016-02-28</td>\n",
       "      <td>Sunday</td>\n",
       "      <td>13</td>\n",
       "      <td>9</td>\n",
       "      <td>6.908699</td>\n",
       "      <td>1.302705</td>\n",
       "    </tr>\n",
       "  </tbody>\n",
       "</table>\n",
       "<p>1000 rows × 7 columns</p>\n",
       "</div>"
      ],
      "text/plain": [
       "      fire_department.firecares_id       date description.day_of_week hour  \\\n",
       "12500                        79592 2017-02-25                Saturday   14   \n",
       "7493                         79592 2016-06-08               Wednesday   19   \n",
       "43353                        93345 2018-03-09                  Friday   13   \n",
       "26607                        79592 2019-03-08                  Friday   07   \n",
       "36576                        93345 2017-05-21                  Sunday   11   \n",
       "...                            ...        ...                     ...  ...   \n",
       "1465                         79592 2015-07-24                  Friday   15   \n",
       "5211                         79592 2016-02-10               Wednesday   14   \n",
       "4312                         79592 2015-12-26                Saturday   03   \n",
       "10386                        79592 2016-11-09               Wednesday   21   \n",
       "5563                         79592 2016-02-28                  Sunday   13   \n",
       "\n",
       "       calls  mean_calls  norm_calls  \n",
       "12500      2    6.908699    0.289490  \n",
       "7493      15    6.908699    2.171176  \n",
       "43353     15   11.748610    1.276747  \n",
       "26607      5    6.908699    0.723725  \n",
       "36576     12   11.748610    1.021397  \n",
       "...      ...         ...         ...  \n",
       "1465       4    6.908699    0.578980  \n",
       "5211       4    6.908699    0.578980  \n",
       "4312       4    6.908699    0.578980  \n",
       "10386      8    6.908699    1.157960  \n",
       "5563       9    6.908699    1.302705  \n",
       "\n",
       "[1000 rows x 7 columns]"
      ]
     },
     "execution_count": 81,
     "metadata": {},
     "output_type": "execute_result"
    }
   ],
   "source": []
  },
  {
   "cell_type": "code",
   "execution_count": null,
   "metadata": {},
   "outputs": [],
   "source": []
  },
  {
   "cell_type": "code",
   "execution_count": null,
   "metadata": {},
   "outputs": [],
   "source": []
  },
  {
   "cell_type": "code",
   "execution_count": null,
   "metadata": {},
   "outputs": [],
   "source": []
  },
  {
   "cell_type": "code",
   "execution_count": null,
   "metadata": {},
   "outputs": [],
   "source": []
  },
  {
   "cell_type": "code",
   "execution_count": null,
   "metadata": {},
   "outputs": [],
   "source": []
  },
  {
   "cell_type": "code",
   "execution_count": null,
   "metadata": {},
   "outputs": [],
   "source": []
  },
  {
   "cell_type": "code",
   "execution_count": null,
   "metadata": {},
   "outputs": [],
   "source": []
  },
  {
   "cell_type": "code",
   "execution_count": null,
   "metadata": {},
   "outputs": [],
   "source": []
  },
  {
   "cell_type": "code",
   "execution_count": 74,
   "metadata": {},
   "outputs": [
    {
     "data": {
      "text/plain": [
       "array(['10', '11', '12', '13', '14', '15', '16', '17', '18', '19', '20',\n",
       "       '21', '00', '03', '04', '07', '08', '09', '22', '23', '06', '01',\n",
       "       '02', '05'], dtype=object)"
      ]
     },
     "execution_count": 74,
     "metadata": {},
     "output_type": "execute_result"
    }
   ],
   "source": [
    "hourly['hour'].unique()"
   ]
  },
  {
   "cell_type": "code",
   "execution_count": 75,
   "metadata": {},
   "outputs": [
    {
     "data": {
      "text/plain": [
       "array(['79592', '93345'], dtype=object)"
      ]
     },
     "execution_count": 75,
     "metadata": {},
     "output_type": "execute_result"
    }
   ],
   "source": [
    "fdid_list"
   ]
  },
  {
   "cell_type": "code",
   "execution_count": 80,
   "metadata": {},
   "outputs": [
    {
     "data": {
      "text/html": [
       "<div>\n",
       "<style scoped>\n",
       "    .dataframe tbody tr th:only-of-type {\n",
       "        vertical-align: middle;\n",
       "    }\n",
       "\n",
       "    .dataframe tbody tr th {\n",
       "        vertical-align: top;\n",
       "    }\n",
       "\n",
       "    .dataframe thead th {\n",
       "        text-align: right;\n",
       "    }\n",
       "</style>\n",
       "<table border=\"1\" class=\"dataframe\">\n",
       "  <thead>\n",
       "    <tr style=\"text-align: right;\">\n",
       "      <th></th>\n",
       "      <th>fire_department.firecares_id</th>\n",
       "      <th>date</th>\n",
       "      <th>description.day_of_week</th>\n",
       "      <th>hour</th>\n",
       "      <th>calls</th>\n",
       "      <th>mean_calls</th>\n",
       "      <th>norm_calls</th>\n",
       "    </tr>\n",
       "  </thead>\n",
       "  <tbody>\n",
       "    <tr>\n",
       "      <th>0</th>\n",
       "      <td>79592</td>\n",
       "      <td>2015-05-05</td>\n",
       "      <td>Tuesday</td>\n",
       "      <td>10</td>\n",
       "      <td>18</td>\n",
       "      <td>6.908699</td>\n",
       "      <td>2.605411</td>\n",
       "    </tr>\n",
       "    <tr>\n",
       "      <th>1</th>\n",
       "      <td>79592</td>\n",
       "      <td>2015-05-05</td>\n",
       "      <td>Tuesday</td>\n",
       "      <td>11</td>\n",
       "      <td>11</td>\n",
       "      <td>6.908699</td>\n",
       "      <td>1.592195</td>\n",
       "    </tr>\n",
       "    <tr>\n",
       "      <th>2</th>\n",
       "      <td>79592</td>\n",
       "      <td>2015-05-05</td>\n",
       "      <td>Tuesday</td>\n",
       "      <td>12</td>\n",
       "      <td>10</td>\n",
       "      <td>6.908699</td>\n",
       "      <td>1.447450</td>\n",
       "    </tr>\n",
       "    <tr>\n",
       "      <th>3</th>\n",
       "      <td>79592</td>\n",
       "      <td>2015-05-05</td>\n",
       "      <td>Tuesday</td>\n",
       "      <td>13</td>\n",
       "      <td>11</td>\n",
       "      <td>6.908699</td>\n",
       "      <td>1.592195</td>\n",
       "    </tr>\n",
       "    <tr>\n",
       "      <th>4</th>\n",
       "      <td>79592</td>\n",
       "      <td>2015-05-05</td>\n",
       "      <td>Tuesday</td>\n",
       "      <td>14</td>\n",
       "      <td>6</td>\n",
       "      <td>6.908699</td>\n",
       "      <td>0.868470</td>\n",
       "    </tr>\n",
       "    <tr>\n",
       "      <th>...</th>\n",
       "      <td>...</td>\n",
       "      <td>...</td>\n",
       "      <td>...</td>\n",
       "      <td>...</td>\n",
       "      <td>...</td>\n",
       "      <td>...</td>\n",
       "      <td>...</td>\n",
       "    </tr>\n",
       "    <tr>\n",
       "      <th>58068</th>\n",
       "      <td>93345</td>\n",
       "      <td>2019-12-05</td>\n",
       "      <td>Thursday</td>\n",
       "      <td>05</td>\n",
       "      <td>2</td>\n",
       "      <td>11.748610</td>\n",
       "      <td>0.170233</td>\n",
       "    </tr>\n",
       "    <tr>\n",
       "      <th>58069</th>\n",
       "      <td>93345</td>\n",
       "      <td>2019-12-05</td>\n",
       "      <td>Thursday</td>\n",
       "      <td>06</td>\n",
       "      <td>5</td>\n",
       "      <td>11.748610</td>\n",
       "      <td>0.425582</td>\n",
       "    </tr>\n",
       "    <tr>\n",
       "      <th>58070</th>\n",
       "      <td>93345</td>\n",
       "      <td>2019-12-05</td>\n",
       "      <td>Thursday</td>\n",
       "      <td>07</td>\n",
       "      <td>10</td>\n",
       "      <td>11.748610</td>\n",
       "      <td>0.851164</td>\n",
       "    </tr>\n",
       "    <tr>\n",
       "      <th>58071</th>\n",
       "      <td>93345</td>\n",
       "      <td>2019-12-05</td>\n",
       "      <td>Thursday</td>\n",
       "      <td>08</td>\n",
       "      <td>17</td>\n",
       "      <td>11.748610</td>\n",
       "      <td>1.446980</td>\n",
       "    </tr>\n",
       "    <tr>\n",
       "      <th>58072</th>\n",
       "      <td>93345</td>\n",
       "      <td>2019-12-05</td>\n",
       "      <td>Thursday</td>\n",
       "      <td>09</td>\n",
       "      <td>12</td>\n",
       "      <td>11.748610</td>\n",
       "      <td>1.021397</td>\n",
       "    </tr>\n",
       "  </tbody>\n",
       "</table>\n",
       "<p>58073 rows × 7 columns</p>\n",
       "</div>"
      ],
      "text/plain": [
       "      fire_department.firecares_id       date description.day_of_week hour  \\\n",
       "0                            79592 2015-05-05                 Tuesday   10   \n",
       "1                            79592 2015-05-05                 Tuesday   11   \n",
       "2                            79592 2015-05-05                 Tuesday   12   \n",
       "3                            79592 2015-05-05                 Tuesday   13   \n",
       "4                            79592 2015-05-05                 Tuesday   14   \n",
       "...                            ...        ...                     ...  ...   \n",
       "58068                        93345 2019-12-05                Thursday   05   \n",
       "58069                        93345 2019-12-05                Thursday   06   \n",
       "58070                        93345 2019-12-05                Thursday   07   \n",
       "58071                        93345 2019-12-05                Thursday   08   \n",
       "58072                        93345 2019-12-05                Thursday   09   \n",
       "\n",
       "       calls  mean_calls  norm_calls  \n",
       "0         18    6.908699    2.605411  \n",
       "1         11    6.908699    1.592195  \n",
       "2         10    6.908699    1.447450  \n",
       "3         11    6.908699    1.592195  \n",
       "4          6    6.908699    0.868470  \n",
       "...      ...         ...         ...  \n",
       "58068      2   11.748610    0.170233  \n",
       "58069      5   11.748610    0.425582  \n",
       "58070     10   11.748610    0.851164  \n",
       "58071     17   11.748610    1.446980  \n",
       "58072     12   11.748610    1.021397  \n",
       "\n",
       "[58073 rows x 7 columns]"
      ]
     },
     "execution_count": 80,
     "metadata": {},
     "output_type": "execute_result"
    }
   ],
   "source": [
    "hourly\n"
   ]
  },
  {
   "cell_type": "code",
   "execution_count": 79,
   "metadata": {},
   "outputs": [
    {
     "data": {
      "text/plain": [
       "<matplotlib.axes._subplots.AxesSubplot at 0x7f9c3d23f208>"
      ]
     },
     "execution_count": 79,
     "metadata": {},
     "output_type": "execute_result"
    },
    {
     "data": {
      "image/png": "[encoded data removed]",
      "text/plain": [
       "<Figure size 432x288 with 1 Axes>"
      ]
     },
     "metadata": {
      "needs_background": "light"
     },
     "output_type": "display_data"
    }
   ],
   "source": [
    "hourly.boxplot('norm_calls', by='hour')"
   ]
  },
  {
   "cell_type": "code",
   "execution_count": null,
   "metadata": {},
   "outputs": [],
   "source": []
  },
  {
   "cell_type": "code",
   "execution_count": null,
   "metadata": {},
   "outputs": [],
   "source": []
  },
  {
   "cell_type": "code",
   "execution_count": null,
   "metadata": {},
   "outputs": [],
   "source": []
  },
  {
   "cell_type": "code",
   "execution_count": null,
   "metadata": {},
   "outputs": [],
   "source": []
  },
  {
   "cell_type": "code",
   "execution_count": null,
   "metadata": {},
   "outputs": [],
   "source": []
  },
  {
   "cell_type": "code",
   "execution_count": null,
   "metadata": {},
   "outputs": [],
   "source": []
  },
  {
   "cell_type": "code",
   "execution_count": null,
   "metadata": {},
   "outputs": [],
   "source": []
  },
  {
   "cell_type": "code",
   "execution_count": 30,
   "metadata": {},
   "outputs": [],
   "source": [
    "# Hourly aggregation\n",
    "hourly = df.drop(['description.event_opened','NFPA.type','weather'],axis=1).groupby(['date', \n",
    "                                                                'hour',\n",
    "                                                                'fire_department.firecares_id'])"
   ]
  },
  {
   "cell_type": "code",
   "execution_count": 26,
   "metadata": {},
   "outputs": [
    {
     "data": {
      "text/html": [
       "<div>\n",
       "<style scoped>\n",
       "    .dataframe tbody tr th:only-of-type {\n",
       "        vertical-align: middle;\n",
       "    }\n",
       "\n",
       "    .dataframe tbody tr th {\n",
       "        vertical-align: top;\n",
       "    }\n",
       "\n",
       "    .dataframe thead th {\n",
       "        text-align: right;\n",
       "    }\n",
       "</style>\n",
       "<table border=\"1\" class=\"dataframe\">\n",
       "  <thead>\n",
       "    <tr style=\"text-align: right;\">\n",
       "      <th></th>\n",
       "      <th>date</th>\n",
       "      <th>hour</th>\n",
       "      <th>fire_department.firecares_id</th>\n",
       "      <th>temperatureHigh</th>\n",
       "      <th>precipIntensity</th>\n",
       "    </tr>\n",
       "  </thead>\n",
       "  <tbody>\n",
       "    <tr>\n",
       "      <th>0</th>\n",
       "      <td>2016-05-31</td>\n",
       "      <td>22</td>\n",
       "      <td>93345</td>\n",
       "      <td>84.004286</td>\n",
       "      <td>0.000000</td>\n",
       "    </tr>\n",
       "    <tr>\n",
       "      <th>1</th>\n",
       "      <td>2016-10-26</td>\n",
       "      <td>22</td>\n",
       "      <td>93345</td>\n",
       "      <td>61.018462</td>\n",
       "      <td>0.000000</td>\n",
       "    </tr>\n",
       "    <tr>\n",
       "      <th>2</th>\n",
       "      <td>2016-10-27</td>\n",
       "      <td>22</td>\n",
       "      <td>93345</td>\n",
       "      <td>69.756538</td>\n",
       "      <td>0.001411</td>\n",
       "    </tr>\n",
       "    <tr>\n",
       "      <th>3</th>\n",
       "      <td>2016-10-28</td>\n",
       "      <td>22</td>\n",
       "      <td>93345</td>\n",
       "      <td>64.516796</td>\n",
       "      <td>0.000000</td>\n",
       "    </tr>\n",
       "    <tr>\n",
       "      <th>4</th>\n",
       "      <td>2016-10-29</td>\n",
       "      <td>22</td>\n",
       "      <td>93345</td>\n",
       "      <td>75.396895</td>\n",
       "      <td>0.000001</td>\n",
       "    </tr>\n",
       "    <tr>\n",
       "      <th>...</th>\n",
       "      <td>...</td>\n",
       "      <td>...</td>\n",
       "      <td>...</td>\n",
       "      <td>...</td>\n",
       "      <td>...</td>\n",
       "    </tr>\n",
       "    <tr>\n",
       "      <th>1132</th>\n",
       "      <td>2019-12-01</td>\n",
       "      <td>22</td>\n",
       "      <td>93345</td>\n",
       "      <td>50.927547</td>\n",
       "      <td>0.015975</td>\n",
       "    </tr>\n",
       "    <tr>\n",
       "      <th>1133</th>\n",
       "      <td>2019-12-02</td>\n",
       "      <td>22</td>\n",
       "      <td>93345</td>\n",
       "      <td>49.032110</td>\n",
       "      <td>0.004459</td>\n",
       "    </tr>\n",
       "    <tr>\n",
       "      <th>1134</th>\n",
       "      <td>2019-12-03</td>\n",
       "      <td>22</td>\n",
       "      <td>93345</td>\n",
       "      <td>51.590464</td>\n",
       "      <td>0.000193</td>\n",
       "    </tr>\n",
       "    <tr>\n",
       "      <th>1135</th>\n",
       "      <td>2019-12-04</td>\n",
       "      <td>22</td>\n",
       "      <td>93345</td>\n",
       "      <td>52.676278</td>\n",
       "      <td>0.000226</td>\n",
       "    </tr>\n",
       "    <tr>\n",
       "      <th>1136</th>\n",
       "      <td>2019-12-05</td>\n",
       "      <td>22</td>\n",
       "      <td>93345</td>\n",
       "      <td>51.994571</td>\n",
       "      <td>0.000200</td>\n",
       "    </tr>\n",
       "  </tbody>\n",
       "</table>\n",
       "<p>1137 rows × 5 columns</p>\n",
       "</div>"
      ],
      "text/plain": [
       "           date hour fire_department.firecares_id  temperatureHigh  \\\n",
       "0    2016-05-31   22                        93345        84.004286   \n",
       "1    2016-10-26   22                        93345        61.018462   \n",
       "2    2016-10-27   22                        93345        69.756538   \n",
       "3    2016-10-28   22                        93345        64.516796   \n",
       "4    2016-10-29   22                        93345        75.396895   \n",
       "...         ...  ...                          ...              ...   \n",
       "1132 2019-12-01   22                        93345        50.927547   \n",
       "1133 2019-12-02   22                        93345        49.032110   \n",
       "1134 2019-12-03   22                        93345        51.590464   \n",
       "1135 2019-12-04   22                        93345        52.676278   \n",
       "1136 2019-12-05   22                        93345        51.994571   \n",
       "\n",
       "      precipIntensity  \n",
       "0            0.000000  \n",
       "1            0.000000  \n",
       "2            0.001411  \n",
       "3            0.000000  \n",
       "4            0.000001  \n",
       "...               ...  \n",
       "1132         0.015975  \n",
       "1133         0.004459  \n",
       "1134         0.000193  \n",
       "1135         0.000226  \n",
       "1136         0.000200  \n",
       "\n",
       "[1137 rows x 5 columns]"
      ]
     },
     "execution_count": 26,
     "metadata": {},
     "output_type": "execute_result"
    }
   ],
   "source": [
    "#Need average calls for each department for each department"
   ]
  },
  {
   "cell_type": "code",
   "execution_count": null,
   "metadata": {},
   "outputs": [],
   "source": []
  },
  {
   "cell_type": "code",
   "execution_count": null,
   "metadata": {},
   "outputs": [],
   "source": []
  },
  {
   "cell_type": "code",
   "execution_count": null,
   "metadata": {},
   "outputs": [],
   "source": []
  },
  {
   "cell_type": "code",
   "execution_count": null,
   "metadata": {},
   "outputs": [],
   "source": []
  },
  {
   "cell_type": "code",
   "execution_count": null,
   "metadata": {},
   "outputs": [],
   "source": []
  },
  {
   "cell_type": "code",
   "execution_count": null,
   "metadata": {},
   "outputs": [],
   "source": []
  },
  {
   "cell_type": "code",
   "execution_count": 13,
   "metadata": {},
   "outputs": [
    {
     "ename": "KeyError",
     "evalue": "'precipAccumulation'",
     "output_type": "error",
     "traceback": [
      "\u001b[0;31m---------------------------------------------------------------------------\u001b[0m",
      "\u001b[0;31mKeyError\u001b[0m                                  Traceback (most recent call last)",
      "\u001b[0;32m~/.local/lib/python3.6/site-packages/pandas/core/indexes/base.py\u001b[0m in \u001b[0;36mget_loc\u001b[0;34m(self, key, method, tolerance)\u001b[0m\n\u001b[1;32m   2896\u001b[0m             \u001b[0;32mtry\u001b[0m\u001b[0;34m:\u001b[0m\u001b[0;34m\u001b[0m\u001b[0;34m\u001b[0m\u001b[0m\n\u001b[0;32m-> 2897\u001b[0;31m                 \u001b[0;32mreturn\u001b[0m \u001b[0mself\u001b[0m\u001b[0;34m.\u001b[0m\u001b[0m_engine\u001b[0m\u001b[0;34m.\u001b[0m\u001b[0mget_loc\u001b[0m\u001b[0;34m(\u001b[0m\u001b[0mkey\u001b[0m\u001b[0;34m)\u001b[0m\u001b[0;34m\u001b[0m\u001b[0;34m\u001b[0m\u001b[0m\n\u001b[0m\u001b[1;32m   2898\u001b[0m             \u001b[0;32mexcept\u001b[0m \u001b[0mKeyError\u001b[0m\u001b[0;34m:\u001b[0m\u001b[0;34m\u001b[0m\u001b[0;34m\u001b[0m\u001b[0m\n",
      "\u001b[0;32mpandas/_libs/index.pyx\u001b[0m in \u001b[0;36mpandas._libs.index.IndexEngine.get_loc\u001b[0;34m()\u001b[0m\n",
      "\u001b[0;32mpandas/_libs/index.pyx\u001b[0m in \u001b[0;36mpandas._libs.index.IndexEngine.get_loc\u001b[0;34m()\u001b[0m\n",
      "\u001b[0;32mpandas/_libs/hashtable_class_helper.pxi\u001b[0m in \u001b[0;36mpandas._libs.hashtable.PyObjectHashTable.get_item\u001b[0;34m()\u001b[0m\n",
      "\u001b[0;32mpandas/_libs/hashtable_class_helper.pxi\u001b[0m in \u001b[0;36mpandas._libs.hashtable.PyObjectHashTable.get_item\u001b[0;34m()\u001b[0m\n",
      "\u001b[0;31mKeyError\u001b[0m: 'precipAccumulation'",
      "\nDuring handling of the above exception, another exception occurred:\n",
      "\u001b[0;31mKeyError\u001b[0m                                  Traceback (most recent call last)",
      "\u001b[0;32m<ipython-input-13-b4d094330aea>\u001b[0m in \u001b[0;36m<module>\u001b[0;34m\u001b[0m\n\u001b[1;32m     52\u001b[0m \u001b[0mdaily\u001b[0m\u001b[0;34m[\u001b[0m\u001b[0;34m'zother'\u001b[0m\u001b[0;34m]\u001b[0m \u001b[0;34m=\u001b[0m \u001b[0;34m(\u001b[0m\u001b[0mdaily\u001b[0m\u001b[0;34m[\u001b[0m\u001b[0;34m'other_calls'\u001b[0m\u001b[0;34m]\u001b[0m \u001b[0;34m-\u001b[0m \u001b[0mdaily\u001b[0m\u001b[0;34m[\u001b[0m\u001b[0;34m'mean_other'\u001b[0m\u001b[0;34m]\u001b[0m\u001b[0;34m)\u001b[0m\u001b[0;34m/\u001b[0m\u001b[0mdaily\u001b[0m\u001b[0;34m[\u001b[0m\u001b[0;34m'std_other'\u001b[0m\u001b[0;34m]\u001b[0m\u001b[0;34m\u001b[0m\u001b[0;34m\u001b[0m\u001b[0m\n\u001b[1;32m     53\u001b[0m \u001b[0;34m\u001b[0m\u001b[0m\n\u001b[0;32m---> 54\u001b[0;31m \u001b[0mdaily\u001b[0m\u001b[0;34m[\u001b[0m\u001b[0;34m'precipAccumulation'\u001b[0m\u001b[0;34m]\u001b[0m \u001b[0;34m=\u001b[0m \u001b[0mdaily\u001b[0m\u001b[0;34m[\u001b[0m\u001b[0;34m'precipAccumulation'\u001b[0m\u001b[0;34m]\u001b[0m\u001b[0;34m.\u001b[0m\u001b[0mfillna\u001b[0m\u001b[0;34m(\u001b[0m\u001b[0;36m0\u001b[0m\u001b[0;34m)\u001b[0m\u001b[0;34m\u001b[0m\u001b[0;34m\u001b[0m\u001b[0m\n\u001b[0m\u001b[1;32m     55\u001b[0m \u001b[0mdaily\u001b[0m\u001b[0;34m[\u001b[0m\u001b[0;34m'precipIntensity'\u001b[0m\u001b[0;34m]\u001b[0m \u001b[0;34m=\u001b[0m \u001b[0mdaily\u001b[0m\u001b[0;34m[\u001b[0m\u001b[0;34m'precipAccumulation'\u001b[0m\u001b[0;34m]\u001b[0m\u001b[0;34m.\u001b[0m\u001b[0mfillna\u001b[0m\u001b[0;34m(\u001b[0m\u001b[0;36m0\u001b[0m\u001b[0;34m)\u001b[0m\u001b[0;34m\u001b[0m\u001b[0;34m\u001b[0m\u001b[0m\n\u001b[1;32m     56\u001b[0m \u001b[0mdaily\u001b[0m\u001b[0;34m[\u001b[0m\u001b[0;34m'precipType'\u001b[0m\u001b[0;34m]\u001b[0m \u001b[0;34m=\u001b[0m \u001b[0mdaily\u001b[0m\u001b[0;34m[\u001b[0m\u001b[0;34m'precipType'\u001b[0m\u001b[0;34m]\u001b[0m\u001b[0;34m.\u001b[0m\u001b[0mfillna\u001b[0m\u001b[0;34m(\u001b[0m\u001b[0;34m'None'\u001b[0m\u001b[0;34m)\u001b[0m\u001b[0;34m\u001b[0m\u001b[0;34m\u001b[0m\u001b[0m\n",
      "\u001b[0;32m~/.local/lib/python3.6/site-packages/pandas/core/frame.py\u001b[0m in \u001b[0;36m__getitem__\u001b[0;34m(self, key)\u001b[0m\n\u001b[1;32m   2993\u001b[0m             \u001b[0;32mif\u001b[0m \u001b[0mself\u001b[0m\u001b[0;34m.\u001b[0m\u001b[0mcolumns\u001b[0m\u001b[0;34m.\u001b[0m\u001b[0mnlevels\u001b[0m \u001b[0;34m>\u001b[0m \u001b[0;36m1\u001b[0m\u001b[0;34m:\u001b[0m\u001b[0;34m\u001b[0m\u001b[0;34m\u001b[0m\u001b[0m\n\u001b[1;32m   2994\u001b[0m                 \u001b[0;32mreturn\u001b[0m \u001b[0mself\u001b[0m\u001b[0;34m.\u001b[0m\u001b[0m_getitem_multilevel\u001b[0m\u001b[0;34m(\u001b[0m\u001b[0mkey\u001b[0m\u001b[0;34m)\u001b[0m\u001b[0;34m\u001b[0m\u001b[0;34m\u001b[0m\u001b[0m\n\u001b[0;32m-> 2995\u001b[0;31m             \u001b[0mindexer\u001b[0m \u001b[0;34m=\u001b[0m \u001b[0mself\u001b[0m\u001b[0;34m.\u001b[0m\u001b[0mcolumns\u001b[0m\u001b[0;34m.\u001b[0m\u001b[0mget_loc\u001b[0m\u001b[0;34m(\u001b[0m\u001b[0mkey\u001b[0m\u001b[0;34m)\u001b[0m\u001b[0;34m\u001b[0m\u001b[0;34m\u001b[0m\u001b[0m\n\u001b[0m\u001b[1;32m   2996\u001b[0m             \u001b[0;32mif\u001b[0m \u001b[0mis_integer\u001b[0m\u001b[0;34m(\u001b[0m\u001b[0mindexer\u001b[0m\u001b[0;34m)\u001b[0m\u001b[0;34m:\u001b[0m\u001b[0;34m\u001b[0m\u001b[0;34m\u001b[0m\u001b[0m\n\u001b[1;32m   2997\u001b[0m                 \u001b[0mindexer\u001b[0m \u001b[0;34m=\u001b[0m \u001b[0;34m[\u001b[0m\u001b[0mindexer\u001b[0m\u001b[0;34m]\u001b[0m\u001b[0;34m\u001b[0m\u001b[0;34m\u001b[0m\u001b[0m\n",
      "\u001b[0;32m~/.local/lib/python3.6/site-packages/pandas/core/indexes/base.py\u001b[0m in \u001b[0;36mget_loc\u001b[0;34m(self, key, method, tolerance)\u001b[0m\n\u001b[1;32m   2897\u001b[0m                 \u001b[0;32mreturn\u001b[0m \u001b[0mself\u001b[0m\u001b[0;34m.\u001b[0m\u001b[0m_engine\u001b[0m\u001b[0;34m.\u001b[0m\u001b[0mget_loc\u001b[0m\u001b[0;34m(\u001b[0m\u001b[0mkey\u001b[0m\u001b[0;34m)\u001b[0m\u001b[0;34m\u001b[0m\u001b[0;34m\u001b[0m\u001b[0m\n\u001b[1;32m   2898\u001b[0m             \u001b[0;32mexcept\u001b[0m \u001b[0mKeyError\u001b[0m\u001b[0;34m:\u001b[0m\u001b[0;34m\u001b[0m\u001b[0;34m\u001b[0m\u001b[0m\n\u001b[0;32m-> 2899\u001b[0;31m                 \u001b[0;32mreturn\u001b[0m \u001b[0mself\u001b[0m\u001b[0;34m.\u001b[0m\u001b[0m_engine\u001b[0m\u001b[0;34m.\u001b[0m\u001b[0mget_loc\u001b[0m\u001b[0;34m(\u001b[0m\u001b[0mself\u001b[0m\u001b[0;34m.\u001b[0m\u001b[0m_maybe_cast_indexer\u001b[0m\u001b[0;34m(\u001b[0m\u001b[0mkey\u001b[0m\u001b[0;34m)\u001b[0m\u001b[0;34m)\u001b[0m\u001b[0;34m\u001b[0m\u001b[0;34m\u001b[0m\u001b[0m\n\u001b[0m\u001b[1;32m   2900\u001b[0m         \u001b[0mindexer\u001b[0m \u001b[0;34m=\u001b[0m \u001b[0mself\u001b[0m\u001b[0;34m.\u001b[0m\u001b[0mget_indexer\u001b[0m\u001b[0;34m(\u001b[0m\u001b[0;34m[\u001b[0m\u001b[0mkey\u001b[0m\u001b[0;34m]\u001b[0m\u001b[0;34m,\u001b[0m \u001b[0mmethod\u001b[0m\u001b[0;34m=\u001b[0m\u001b[0mmethod\u001b[0m\u001b[0;34m,\u001b[0m \u001b[0mtolerance\u001b[0m\u001b[0;34m=\u001b[0m\u001b[0mtolerance\u001b[0m\u001b[0;34m)\u001b[0m\u001b[0;34m\u001b[0m\u001b[0;34m\u001b[0m\u001b[0m\n\u001b[1;32m   2901\u001b[0m         \u001b[0;32mif\u001b[0m \u001b[0mindexer\u001b[0m\u001b[0;34m.\u001b[0m\u001b[0mndim\u001b[0m \u001b[0;34m>\u001b[0m \u001b[0;36m1\u001b[0m \u001b[0;32mor\u001b[0m \u001b[0mindexer\u001b[0m\u001b[0;34m.\u001b[0m\u001b[0msize\u001b[0m \u001b[0;34m>\u001b[0m \u001b[0;36m1\u001b[0m\u001b[0;34m:\u001b[0m\u001b[0;34m\u001b[0m\u001b[0;34m\u001b[0m\u001b[0m\n",
      "\u001b[0;32mpandas/_libs/index.pyx\u001b[0m in \u001b[0;36mpandas._libs.index.IndexEngine.get_loc\u001b[0;34m()\u001b[0m\n",
      "\u001b[0;32mpandas/_libs/index.pyx\u001b[0m in \u001b[0;36mpandas._libs.index.IndexEngine.get_loc\u001b[0;34m()\u001b[0m\n",
      "\u001b[0;32mpandas/_libs/hashtable_class_helper.pxi\u001b[0m in \u001b[0;36mpandas._libs.hashtable.PyObjectHashTable.get_item\u001b[0;34m()\u001b[0m\n",
      "\u001b[0;32mpandas/_libs/hashtable_class_helper.pxi\u001b[0m in \u001b[0;36mpandas._libs.hashtable.PyObjectHashTable.get_item\u001b[0;34m()\u001b[0m\n",
      "\u001b[0;31mKeyError\u001b[0m: 'precipAccumulation'"
     ]
    }
   ],
   "source": [
    "#Getting the list of all departments in the dataframe\n",
    "fdid_list = df['fire_department.firecares_id'].unique()\n",
    "\n",
    "\n",
    "# Day aggregation\n",
    "daily = df.drop(['description.event_opened','NFPA.type'],axis=1).groupby(['date', \n",
    "                                                                'description.day_of_week',\n",
    "                                                                'fire_department.firecares_id']).aggregate(np.mean).reset_index()\n",
    "def myagg(x):\n",
    "    d = {\n",
    "        'ems_calls': np.sum(x['NFPA.type'] == 'EMS'),\n",
    "        'fire_calls': np.sum(x['NFPA.type'] == 'FIRE'),\n",
    "        'other_calls': np.sum(x['NFPA.type'] == 'OTHER'),\n",
    "        'precipType': x.iloc[0]['precipType'],\n",
    "        'holiday': x.iloc[0]['holiday']\n",
    "    }\n",
    "    return pd.Series(d,index=d.keys())\n",
    "\n",
    "\n",
    "calls = df[['date','NFPA.type','fire_department.firecares_id','precipType', 'holiday']].groupby(['date','fire_department.firecares_id']).apply(myagg).reset_index()\n",
    "daily = daily.merge(calls,on=['date','fire_department.firecares_id'])\n",
    "\n",
    "#Appending the mean and standard deviation to the daily dataframe\n",
    "mean = daily[['fire_department.firecares_id','fire_calls','ems_calls','other_calls']].groupby(['fire_department.firecares_id']).aggregate(np.mean).reset_index()\n",
    "mean = mean.rename(columns={'fire_calls': 'mean_fire', 'ems_calls': 'mean_ems', 'other_calls': 'mean_other'})\n",
    "\n",
    "std = daily[['fire_department.firecares_id','fire_calls','ems_calls','other_calls']].groupby(['fire_department.firecares_id']).aggregate(np.std).reset_index()\n",
    "std = std.rename(columns={'fire_calls': 'std_fire', 'ems_calls': 'std_ems', 'other_calls': 'std_other' })\n",
    "daily = daily.merge(mean,on=['fire_department.firecares_id']).merge(std,on=['fire_department.firecares_id'])\n",
    "\n",
    "daily['zfire'] = (daily['fire_calls'] - daily['mean_fire'])/daily['std_fire']\n",
    "daily['zems'] = (daily['ems_calls'] - daily['mean_ems'])/daily['std_ems']\n",
    "daily['zother'] = (daily['other_calls'] - daily['mean_other'])/daily['std_other']\n",
    "\n",
    "#In a few places the day of the week is wrong. This line prevents that issue from causing bugs\n",
    "daily = daily.drop_duplicates(['fire_department.firecares_id', 'date']).reset_index(drop=True)\n",
    "\n",
    "#Dropping outliers\n",
    "daily = daily[np.abs(daily['zems']) < 2.0].reset_index(drop=True)\n",
    "\n",
    "#Then recalculating quantities\n",
    "daily = daily.drop(['mean_fire','std_fire', 'mean_ems', 'std_ems', 'mean_other', 'std_other'],axis=1)\n",
    "mean = daily[['fire_department.firecares_id','fire_calls','ems_calls','other_calls']].groupby(['fire_department.firecares_id']).aggregate(np.mean).reset_index()\n",
    "mean = mean.rename(columns={'fire_calls': 'mean_fire', 'ems_calls': 'mean_ems', 'other_calls': 'mean_other'})\n",
    "\n",
    "std = daily[['fire_department.firecares_id','fire_calls','ems_calls','other_calls']].groupby(['fire_department.firecares_id']).aggregate(np.std).reset_index()\n",
    "std = std.rename(columns={'fire_calls': 'std_fire', 'ems_calls': 'std_ems', 'other_calls': 'std_other' })\n",
    "daily = daily.merge(mean,on=['fire_department.firecares_id']).merge(std,on=['fire_department.firecares_id'])\n",
    "\n",
    "daily['zfire'] = (daily['fire_calls'] - daily['mean_fire'])/daily['std_fire']\n",
    "daily['zems'] = (daily['ems_calls'] - daily['mean_ems'])/daily['std_ems']\n",
    "daily['zother'] = (daily['other_calls'] - daily['mean_other'])/daily['std_other']\n",
    "\n",
    "daily['precipAccumulation'] = daily['precipAccumulation'].fillna(0)\n",
    "daily['precipIntensity'] = daily['precipAccumulation'].fillna(0)\n",
    "daily['precipType'] = daily['precipType'].fillna('None')\n",
    "\n",
    "#Adding month as a feature\n",
    "daily['month'] = daily['date'].apply(lambda x: str(x.month))"
   ]
  },
  {
   "cell_type": "code",
   "execution_count": null,
   "metadata": {},
   "outputs": [],
   "source": []
  },
  {
   "cell_type": "code",
   "execution_count": null,
   "metadata": {},
   "outputs": [],
   "source": []
  },
  {
   "cell_type": "code",
   "execution_count": null,
   "metadata": {},
   "outputs": [],
   "source": []
  },
  {
   "cell_type": "code",
   "execution_count": null,
   "metadata": {},
   "outputs": [],
   "source": []
  },
  {
   "cell_type": "code",
   "execution_count": null,
   "metadata": {},
   "outputs": [],
   "source": []
  },
  {
   "cell_type": "code",
   "execution_count": 2,
   "metadata": {},
   "outputs": [],
   "source": [
    "df = pd.read_json('./data/query_results.json')"
   ]
  },
  {
   "cell_type": "code",
   "execution_count": null,
   "metadata": {},
   "outputs": [],
   "source": []
  },
  {
   "cell_type": "code",
   "execution_count": null,
   "metadata": {},
   "outputs": [],
   "source": []
  },
  {
   "cell_type": "code",
   "execution_count": null,
   "metadata": {},
   "outputs": [],
   "source": []
  },
  {
   "cell_type": "code",
   "execution_count": null,
   "metadata": {},
   "outputs": [],
   "source": []
  },
  {
   "cell_type": "code",
   "execution_count": null,
   "metadata": {},
   "outputs": [],
   "source": []
  },
  {
   "cell_type": "code",
   "execution_count": null,
   "metadata": {},
   "outputs": [],
   "source": []
  },
  {
   "cell_type": "code",
   "execution_count": null,
   "metadata": {},
   "outputs": [],
   "source": []
  },
  {
   "cell_type": "code",
   "execution_count": null,
   "metadata": {},
   "outputs": [],
   "source": []
  },
  {
   "cell_type": "markdown",
   "metadata": {},
   "source": [
    "Once we have the data locally, we can use use the tools provided by the SageMaker Python SDK to upload the data to a default bucket. "
   ]
  },
  {
   "cell_type": "code",
   "execution_count": 3,
   "metadata": {},
   "outputs": [],
   "source": [
    "WORK_DIRECTORY = 'data'\n",
    "train_input = sagemaker_session.upload_data(WORK_DIRECTORY, key_prefix=\"{}/{}\".format(prefix, WORK_DIRECTORY) )"
   ]
  },
  {
   "cell_type": "markdown",
   "metadata": {},
   "source": [
    "## Create SageMaker Scikit Estimator <a class=\"anchor\" id=\"create_sklearn_estimator\"></a>\n",
    "\n",
    "To run our Scikit-learn training script on SageMaker, we construct a `sagemaker.sklearn.estimator.sklearn` estimator, which accepts several constructor arguments:\n",
    "\n",
    "* __entry_point__: The path to the Python script SageMaker runs for training and prediction.\n",
    "* __role__: Role ARN\n",
    "* __train_instance_type__ *(optional)*: The type of SageMaker instances for training. __Note__: Because Scikit-learn does not natively support GPU training, Sagemaker Scikit-learn does not currently support training on GPU instance types.\n",
    "* __sagemaker_session__ *(optional)*: The session used to train on Sagemaker.\n",
    "* __hyperparameters__ *(optional)*: A dictionary passed to the train function as hyperparameters.\n",
    "\n",
    "To see the code for the SKLearn Estimator, see here: https://github.com/aws/sagemaker-python-sdk/tree/master/src/sagemaker/sklearn"
   ]
  },
  {
   "cell_type": "code",
   "execution_count": 4,
   "metadata": {},
   "outputs": [],
   "source": [
    "from sagemaker.sklearn.estimator import SKLearn\n",
    "\n",
    "script_path = 'ems_call_prediction.py'\n",
    "\n",
    "sklearn = SKLearn(\n",
    "    entry_point=script_path,\n",
    "    train_instance_type=\"ml.c4.xlarge\",\n",
    "    role=role,\n",
    "    sagemaker_session=sagemaker_session,\n",
    "    hyperparameters={'n_estimators': 1000})"
   ]
  },
  {
   "cell_type": "markdown",
   "metadata": {},
   "source": [
    "## Train SKLearn Estimator on EMS data <a class=\"anchor\" id=\"train_sklearn\"></a>\n",
    "Training is very simple, just call `fit` on the Estimator! This will start a SageMaker Training job that will download the data for us, invoke our scikit-learn code (in the provided script file), and save any model artifacts that the script creates."
   ]
  },
  {
   "cell_type": "code",
   "execution_count": 5,
   "metadata": {
    "scrolled": true
   },
   "outputs": [
    {
     "name": "stdout",
     "output_type": "stream",
     "text": [
      "Creating tmp7294zq7f_algo-1-x7ddc_1 ... \n",
      "\u001b[1BAttaching to tmp7294zq7f_algo-1-x7ddc_12mdone\u001b[0m\n",
      "\u001b[36malgo-1-x7ddc_1  |\u001b[0m 2020-01-09 20:19:43,580 sagemaker-containers INFO     Imported framework sagemaker_sklearn_container.training\n",
      "\u001b[36malgo-1-x7ddc_1  |\u001b[0m 2020-01-09 20:19:43,585 sagemaker-containers INFO     No GPUs detected (normal if no gpus installed)\n",
      "\u001b[36malgo-1-x7ddc_1  |\u001b[0m 2020-01-09 20:19:43,603 sagemaker_sklearn_container.training INFO     Invoking user training script.\n",
      "\u001b[36malgo-1-x7ddc_1  |\u001b[0m 2020-01-09 20:19:43,902 sagemaker-containers INFO     Module ems_call_prediction does not provide a setup.py. \n",
      "\u001b[36malgo-1-x7ddc_1  |\u001b[0m Generating setup.py\n",
      "\u001b[36malgo-1-x7ddc_1  |\u001b[0m 2020-01-09 20:19:43,903 sagemaker-containers INFO     Generating setup.cfg\n",
      "\u001b[36malgo-1-x7ddc_1  |\u001b[0m 2020-01-09 20:19:43,903 sagemaker-containers INFO     Generating MANIFEST.in\n",
      "\u001b[36malgo-1-x7ddc_1  |\u001b[0m 2020-01-09 20:19:43,903 sagemaker-containers INFO     Installing module with the following command:\n",
      "\u001b[36malgo-1-x7ddc_1  |\u001b[0m /usr/bin/python3 -m pip install . \n",
      "\u001b[36malgo-1-x7ddc_1  |\u001b[0m Processing /opt/ml/code\n",
      "\u001b[36malgo-1-x7ddc_1  |\u001b[0m Building wheels for collected packages: ems-call-prediction\n",
      "\u001b[36malgo-1-x7ddc_1  |\u001b[0m   Building wheel for ems-call-prediction (setup.py) ... \u001b[?25ldone\n",
      "\u001b[36malgo-1-x7ddc_1  |\u001b[0m \u001b[?25h  Created wheel for ems-call-prediction: filename=ems_call_prediction-1.0.0-py2.py3-none-any.whl size=4932 sha256=e10bb2c83da8a24cae3e296f603e473e493a9a074e4ab2906b01e5b6e45c532f\n",
      "\u001b[36malgo-1-x7ddc_1  |\u001b[0m   Stored in directory: /tmp/pip-ephem-wheel-cache-6y988f0s/wheels/35/24/16/37574d11bf9bde50616c67372a334f94fa8356bc7164af8ca3\n",
      "\u001b[36malgo-1-x7ddc_1  |\u001b[0m Successfully built ems-call-prediction\n",
      "\u001b[36malgo-1-x7ddc_1  |\u001b[0m Installing collected packages: ems-call-prediction\n",
      "\u001b[36malgo-1-x7ddc_1  |\u001b[0m Successfully installed ems-call-prediction-1.0.0\n",
      "\u001b[36malgo-1-x7ddc_1  |\u001b[0m \u001b[33mWARNING: You are using pip version 19.2.3, however version 19.3.1 is available.\n",
      "\u001b[36malgo-1-x7ddc_1  |\u001b[0m You should consider upgrading via the 'pip install --upgrade pip' command.\u001b[0m\n",
      "\u001b[36malgo-1-x7ddc_1  |\u001b[0m 2020-01-09 20:19:45,059 sagemaker-containers INFO     No GPUs detected (normal if no gpus installed)\n",
      "\u001b[36malgo-1-x7ddc_1  |\u001b[0m 2020-01-09 20:19:45,078 sagemaker-containers INFO     Invoking user script\n",
      "\u001b[36malgo-1-x7ddc_1  |\u001b[0m \n",
      "\u001b[36malgo-1-x7ddc_1  |\u001b[0m Training Env:\n",
      "\u001b[36malgo-1-x7ddc_1  |\u001b[0m \n",
      "\u001b[36malgo-1-x7ddc_1  |\u001b[0m {\n",
      "\u001b[36malgo-1-x7ddc_1  |\u001b[0m     \"module_dir\": \"s3://sagemaker-us-east-2-445861113736/sagemaker-scikit-learn-2020-01-09-20-19-41-134/source/sourcedir.tar.gz\",\n",
      "\u001b[36malgo-1-x7ddc_1  |\u001b[0m     \"is_master\": true,\n",
      "\u001b[36malgo-1-x7ddc_1  |\u001b[0m     \"module_name\": \"ems_call_prediction\",\n",
      "\u001b[36malgo-1-x7ddc_1  |\u001b[0m     \"hyperparameters\": {\n",
      "\u001b[36malgo-1-x7ddc_1  |\u001b[0m         \"n_estimators\": 1000\n",
      "\u001b[36malgo-1-x7ddc_1  |\u001b[0m     },\n",
      "\u001b[36malgo-1-x7ddc_1  |\u001b[0m     \"channel_input_dirs\": {\n",
      "\u001b[36malgo-1-x7ddc_1  |\u001b[0m         \"train\": \"/opt/ml/input/data/train\"\n",
      "\u001b[36malgo-1-x7ddc_1  |\u001b[0m     },\n",
      "\u001b[36malgo-1-x7ddc_1  |\u001b[0m     \"input_data_config\": {\n",
      "\u001b[36malgo-1-x7ddc_1  |\u001b[0m         \"train\": {\n",
      "\u001b[36malgo-1-x7ddc_1  |\u001b[0m             \"TrainingInputMode\": \"File\"\n",
      "\u001b[36malgo-1-x7ddc_1  |\u001b[0m         }\n",
      "\u001b[36malgo-1-x7ddc_1  |\u001b[0m     },\n",
      "\u001b[36malgo-1-x7ddc_1  |\u001b[0m     \"resource_config\": {\n",
      "\u001b[36malgo-1-x7ddc_1  |\u001b[0m         \"hosts\": [\n",
      "\u001b[36malgo-1-x7ddc_1  |\u001b[0m             \"algo-1-x7ddc\"\n",
      "\u001b[36malgo-1-x7ddc_1  |\u001b[0m         ],\n",
      "\u001b[36malgo-1-x7ddc_1  |\u001b[0m         \"current_host\": \"algo-1-x7ddc\"\n",
      "\u001b[36malgo-1-x7ddc_1  |\u001b[0m     },\n",
      "\u001b[36malgo-1-x7ddc_1  |\u001b[0m     \"job_name\": \"sagemaker-scikit-learn-2020-01-09-20-19-41-134\",\n",
      "\u001b[36malgo-1-x7ddc_1  |\u001b[0m     \"input_config_dir\": \"/opt/ml/input/config\",\n",
      "\u001b[36malgo-1-x7ddc_1  |\u001b[0m     \"additional_framework_parameters\": {},\n",
      "\u001b[36malgo-1-x7ddc_1  |\u001b[0m     \"output_data_dir\": \"/opt/ml/output/data\",\n",
      "\u001b[36malgo-1-x7ddc_1  |\u001b[0m     \"num_cpus\": 64,\n",
      "\u001b[36malgo-1-x7ddc_1  |\u001b[0m     \"framework_module\": \"sagemaker_sklearn_container.training:main\",\n",
      "\u001b[36malgo-1-x7ddc_1  |\u001b[0m     \"log_level\": 20,\n",
      "\u001b[36malgo-1-x7ddc_1  |\u001b[0m     \"master_hostname\": \"algo-1-x7ddc\",\n",
      "\u001b[36malgo-1-x7ddc_1  |\u001b[0m     \"current_host\": \"algo-1-x7ddc\",\n",
      "\u001b[36malgo-1-x7ddc_1  |\u001b[0m     \"hosts\": [\n",
      "\u001b[36malgo-1-x7ddc_1  |\u001b[0m         \"algo-1-x7ddc\"\n",
      "\u001b[36malgo-1-x7ddc_1  |\u001b[0m     ],\n",
      "\u001b[36malgo-1-x7ddc_1  |\u001b[0m     \"network_interface_name\": \"eth0\",\n",
      "\u001b[36malgo-1-x7ddc_1  |\u001b[0m     \"output_intermediate_dir\": \"/opt/ml/output/intermediate\",\n",
      "\u001b[36malgo-1-x7ddc_1  |\u001b[0m     \"output_dir\": \"/opt/ml/output\",\n",
      "\u001b[36malgo-1-x7ddc_1  |\u001b[0m     \"input_dir\": \"/opt/ml/input\",\n",
      "\u001b[36malgo-1-x7ddc_1  |\u001b[0m     \"num_gpus\": 0,\n",
      "\u001b[36malgo-1-x7ddc_1  |\u001b[0m     \"user_entry_point\": \"ems_call_prediction.py\",\n",
      "\u001b[36malgo-1-x7ddc_1  |\u001b[0m     \"model_dir\": \"/opt/ml/model\"\n",
      "\u001b[36malgo-1-x7ddc_1  |\u001b[0m }\n",
      "\u001b[36malgo-1-x7ddc_1  |\u001b[0m \n",
      "\u001b[36malgo-1-x7ddc_1  |\u001b[0m Environment variables:\n",
      "\u001b[36malgo-1-x7ddc_1  |\u001b[0m \n",
      "\u001b[36malgo-1-x7ddc_1  |\u001b[0m SM_OUTPUT_DATA_DIR=/opt/ml/output/data\n",
      "\u001b[36malgo-1-x7ddc_1  |\u001b[0m SM_FRAMEWORK_MODULE=sagemaker_sklearn_container.training:main\n",
      "\u001b[36malgo-1-x7ddc_1  |\u001b[0m SM_INPUT_DATA_CONFIG={\"train\":{\"TrainingInputMode\":\"File\"}}\n",
      "\u001b[36malgo-1-x7ddc_1  |\u001b[0m SM_OUTPUT_DIR=/opt/ml/output\n",
      "\u001b[36malgo-1-x7ddc_1  |\u001b[0m SM_INPUT_DIR=/opt/ml/input\n",
      "\u001b[36malgo-1-x7ddc_1  |\u001b[0m SM_TRAINING_ENV={\"additional_framework_parameters\":{},\"channel_input_dirs\":{\"train\":\"/opt/ml/input/data/train\"},\"current_host\":\"algo-1-x7ddc\",\"framework_module\":\"sagemaker_sklearn_container.training:main\",\"hosts\":[\"algo-1-x7ddc\"],\"hyperparameters\":{\"n_estimators\":1000},\"input_config_dir\":\"/opt/ml/input/config\",\"input_data_config\":{\"train\":{\"TrainingInputMode\":\"File\"}},\"input_dir\":\"/opt/ml/input\",\"is_master\":true,\"job_name\":\"sagemaker-scikit-learn-2020-01-09-20-19-41-134\",\"log_level\":20,\"master_hostname\":\"algo-1-x7ddc\",\"model_dir\":\"/opt/ml/model\",\"module_dir\":\"s3://sagemaker-us-east-2-445861113736/sagemaker-scikit-learn-2020-01-09-20-19-41-134/source/sourcedir.tar.gz\",\"module_name\":\"ems_call_prediction\",\"network_interface_name\":\"eth0\",\"num_cpus\":64,\"num_gpus\":0,\"output_data_dir\":\"/opt/ml/output/data\",\"output_dir\":\"/opt/ml/output\",\"output_intermediate_dir\":\"/opt/ml/output/intermediate\",\"resource_config\":{\"current_host\":\"algo-1-x7ddc\",\"hosts\":[\"algo-1-x7ddc\"]},\"user_entry_point\":\"ems_call_prediction.py\"}\n",
      "\u001b[36malgo-1-x7ddc_1  |\u001b[0m SM_CHANNELS=[\"train\"]\n",
      "\u001b[36malgo-1-x7ddc_1  |\u001b[0m SM_USER_ARGS=[\"--n_estimators\",\"1000\"]\n",
      "\u001b[36malgo-1-x7ddc_1  |\u001b[0m SM_HPS={\"n_estimators\":1000}\n",
      "\u001b[36malgo-1-x7ddc_1  |\u001b[0m SM_HOSTS=[\"algo-1-x7ddc\"]\n",
      "\u001b[36malgo-1-x7ddc_1  |\u001b[0m PYTHONPATH=/usr/local/bin:/usr/lib/python35.zip:/usr/lib/python3.5:/usr/lib/python3.5/plat-x86_64-linux-gnu:/usr/lib/python3.5/lib-dynload:/usr/local/lib/python3.5/dist-packages:/usr/lib/python3/dist-packages\n",
      "\u001b[36malgo-1-x7ddc_1  |\u001b[0m SM_MODEL_DIR=/opt/ml/model\n",
      "\u001b[36malgo-1-x7ddc_1  |\u001b[0m SM_MODULE_NAME=ems_call_prediction\n",
      "\u001b[36malgo-1-x7ddc_1  |\u001b[0m SM_NUM_CPUS=64\n",
      "\u001b[36malgo-1-x7ddc_1  |\u001b[0m SM_CHANNEL_TRAIN=/opt/ml/input/data/train\n",
      "\u001b[36malgo-1-x7ddc_1  |\u001b[0m SM_HP_N_ESTIMATORS=1000\n",
      "\u001b[36malgo-1-x7ddc_1  |\u001b[0m SM_USER_ENTRY_POINT=ems_call_prediction.py\n",
      "\u001b[36malgo-1-x7ddc_1  |\u001b[0m SM_MODULE_DIR=s3://sagemaker-us-east-2-445861113736/sagemaker-scikit-learn-2020-01-09-20-19-41-134/source/sourcedir.tar.gz\n",
      "\u001b[36malgo-1-x7ddc_1  |\u001b[0m SM_LOG_LEVEL=20\n",
      "\u001b[36malgo-1-x7ddc_1  |\u001b[0m SM_INPUT_CONFIG_DIR=/opt/ml/input/config\n",
      "\u001b[36malgo-1-x7ddc_1  |\u001b[0m SM_FRAMEWORK_PARAMS={}\n",
      "\u001b[36malgo-1-x7ddc_1  |\u001b[0m SM_NUM_GPUS=0\n",
      "\u001b[36malgo-1-x7ddc_1  |\u001b[0m SM_NETWORK_INTERFACE_NAME=eth0\n",
      "\u001b[36malgo-1-x7ddc_1  |\u001b[0m SM_OUTPUT_INTERMEDIATE_DIR=/opt/ml/output/intermediate\n",
      "\u001b[36malgo-1-x7ddc_1  |\u001b[0m SM_RESOURCE_CONFIG={\"current_host\":\"algo-1-x7ddc\",\"hosts\":[\"algo-1-x7ddc\"]}\n",
      "\u001b[36malgo-1-x7ddc_1  |\u001b[0m SM_CURRENT_HOST=algo-1-x7ddc\n",
      "\u001b[36malgo-1-x7ddc_1  |\u001b[0m \n",
      "\u001b[36malgo-1-x7ddc_1  |\u001b[0m Invoking script with the following command:\n",
      "\u001b[36malgo-1-x7ddc_1  |\u001b[0m \n",
      "\u001b[36malgo-1-x7ddc_1  |\u001b[0m /usr/bin/python3 -m ems_call_prediction --n_estimators 1000\n",
      "\u001b[36malgo-1-x7ddc_1  |\u001b[0m \n",
      "\u001b[36malgo-1-x7ddc_1  |\u001b[0m \n",
      "\u001b[36malgo-1-x7ddc_1  |\u001b[0m 2020-01-09 20:19:51,691 sagemaker-containers INFO     Reporting training SUCCESS\n",
      "\u001b[36mtmp7294zq7f_algo-1-x7ddc_1 exited with code 0\n",
      "\u001b[0mAborting on container exit...\n"
     ]
    },
    {
     "name": "stdout",
     "output_type": "stream",
     "text": [
      "===== Job Complete =====\n"
     ]
    }
   ],
   "source": [
    "sklearn.fit({'train': train_input})"
   ]
  },
  {
   "cell_type": "markdown",
   "metadata": {},
   "source": [
    "## Using the trained model to make inference requests <a class=\"anchor\" id=\"inference\"></a>\n",
    "\n",
    "### Deploy the model <a class=\"anchor\" id=\"deploy\"></a>\n",
    "\n",
    "Deploying the model to SageMaker hosting just requires a `deploy` call on the fitted model. This call takes an instance count and instance type."
   ]
  },
  {
   "cell_type": "code",
   "execution_count": null,
   "metadata": {},
   "outputs": [],
   "source": [
    "predictor = sklearn.deploy(initial_instance_count=1, instance_type=\"ml.m4.xlarge\")"
   ]
  },
  {
   "cell_type": "markdown",
   "metadata": {},
   "source": [
    "### Choose some data and use it for a prediction <a class=\"anchor\" id=\"prediction_request\"></a>\n",
    "\n",
    "In order to do some predictions, we'll extract some of the data we used for training and do predictions against it. This is, of course, bad statistical practice, but a good way to see how the mechanism works."
   ]
  },
  {
   "cell_type": "code",
   "execution_count": null,
   "metadata": {},
   "outputs": [],
   "source": [
    "import os\n",
    "import pandas as pd\n",
    "import json\n",
    "from sklearn.ensemble import RandomForestRegressor\n",
    "from pandas.io.json import json_normalize\n",
    "from dateutil.relativedelta import SU\n",
    "from pandas.tseries.holiday import USFederalHolidayCalendar as calendar\n",
    "from pandas.tseries.holiday import AbstractHolidayCalendar\n",
    "from pandas.tseries.offsets import CustomBusinessDay\n",
    "from pandas.tseries.holiday import Holiday\n",
    "import datetime\n",
    "from sklearn.externals import joblib\n",
    "import numpy as np\n",
    "\n",
    "dataloc = './prediction_data/test_data.json'\n",
    "with open(dataloc) as data_file:\n",
    "    data = json.load(data_file)\n",
    "features = pd.io.json.json_normalize(data['prediction_data'])\n",
    "\n",
    "\n",
    "#Converting df dates to datetime objects for holiday merging\n",
    "features['date'] = features.apply(lambda x: datetime.datetime.strptime(x['date'],'%Y-%m-%d'),axis=1)\n",
    "\n",
    "#We can create new rules with this class inheritance\n",
    "class custom_calendar(AbstractHolidayCalendar):\n",
    "    new_rules = [\n",
    "        Holiday('Halloween', month=10,day=31),\n",
    "        Holiday('Christmas Eve', month=12,day=24),\n",
    "        Holiday('New Years Eve', month=12,day=31),\n",
    "        Holiday('DST time change', month=3, day=1, offset=pd.DateOffset(weekday=SU(2)))\n",
    "    ]\n",
    "    rules = calendar().rules + new_rules\n",
    "\n",
    "cal = custom_calendar()\n",
    "start = np.min(features['date'])\n",
    "end = np.max(features['date'])\n",
    "holidays = cal.holidays(start=start,end=end,return_name=True).reset_index()\n",
    "holidays = holidays.rename(columns={'index':'date', 0:'holiday'})\n",
    "\n",
    "#But really we want the Monday after the time change\n",
    "holidays['date'] = holidays.apply(lambda x: x['date'] + datetime.timedelta(days=1) \n",
    "               if x['holiday'] == 'DST time change' else x['date'], axis=1)\n",
    "\n",
    "features = features.merge(holidays, on='date', how='left')\n",
    "features['holiday'] = features['holiday'].fillna('none')\n",
    "#Filling missing values with the average\n",
    "features['high_temp'] = features['high_temp'].fillna(np.mean(features['high_temp']))\n",
    "\n",
    "#No longer need the date since we have all the information we need (day of week and month)\n",
    "features = features.drop('date',axis=1)\n",
    "#Using one hot encoding for categorical variables. Ask me if you want me to explain this further.\n",
    "features = pd.get_dummies(features)\n",
    "\n",
    "#Splitting the data into features (predictors) and labels (the quantity we want to predict)\n",
    "labels = features['ems_calls']\n",
    "features = features.drop('ems_calls',axis=1)"
   ]
  },
  {
   "cell_type": "markdown",
   "metadata": {},
   "source": [
    "Prediction is as easy as calling predict with the predictor we got back from deploy and the data we want to do predictions with. The output from the endpoint return an numerical representation of the classification prediction; in the original dataset, these are flower names, but in this example the labels are numerical. We can compare against the original label that we parsed."
   ]
  },
  {
   "cell_type": "code",
   "execution_count": null,
   "metadata": {},
   "outputs": [],
   "source": [
    "print(predictor.predict(features.values))"
   ]
  },
  {
   "cell_type": "markdown",
   "metadata": {},
   "source": [
    "### Endpoint cleanup <a class=\"anchor\" id=\"endpoint_cleanup\"></a>\n",
    "\n",
    "When you're done with the endpoint, you'll want to clean it up."
   ]
  },
  {
   "cell_type": "code",
   "execution_count": null,
   "metadata": {},
   "outputs": [],
   "source": [
    "sklearn.delete_endpoint()"
   ]
  },
  {
   "cell_type": "markdown",
   "metadata": {},
   "source": [
    "## Batch Transform <a class=\"anchor\" id=\"batch_transform\"></a>\n",
    "We can also use the trained model for asynchronous batch inference on S3 data using SageMaker Batch Transform."
   ]
  },
  {
   "cell_type": "code",
   "execution_count": 7,
   "metadata": {},
   "outputs": [],
   "source": [
    "# Define a SKLearn Transformer from the trained SKLearn Estimator\n",
    "transformer = sklearn.transformer(instance_count=1, instance_type='ml.m4.xlarge')"
   ]
  },
  {
   "cell_type": "markdown",
   "metadata": {},
   "source": [
    "### Prepare Input Data <a class=\"anchor\" id=\"prepare_input_data\"></a>\n",
    "We will extract 10 random samples of 100 rows from the training data, then split the features (X) from the labels (Y). Then upload the input data to a given location in S3."
   ]
  },
  {
   "cell_type": "code",
   "execution_count": 8,
   "metadata": {},
   "outputs": [],
   "source": [
    "#Upload test data to s3\n",
    "WORK_DIRECTORY = 'prediction_data'\n",
    "batch_input_s3 = sagemaker_session.upload_data(WORK_DIRECTORY, key_prefix=\"{}/{}\".format(prefix, WORK_DIRECTORY) )"
   ]
  },
  {
   "cell_type": "markdown",
   "metadata": {},
   "source": [
    "### Run Transform Job <a class=\"anchor\" id=\"run_transform_job\"></a>\n",
    "Using the Transformer, run a transform job on the S3 input data."
   ]
  },
  {
   "cell_type": "code",
   "execution_count": 9,
   "metadata": {},
   "outputs": [
    {
     "name": "stdout",
     "output_type": "stream",
     "text": [
      "Waiting for transform job: sagemaker-scikit-learn-2019-10-03-16-54-00-785\n",
      "..................\u001b[31mProcessing /opt/ml/code\u001b[0m\n",
      "\u001b[31mBuilding wheels for collected packages: ems-call-prediction\n",
      "  Building wheel for ems-call-prediction (setup.py): started\n",
      "  Building wheel for ems-call-prediction (setup.py): finished with status 'done'\n",
      "  Created wheel for ems-call-prediction: filename=ems_call_prediction-1.0.0-py2.py3-none-any.whl size=4932 sha256=da6007a06a48f17f4e7e5df2d689a325893003d2745ce572e099e3f44b42aebf\n",
      "  Stored in directory: /tmp/pip-ephem-wheel-cache-i4ajwoa7/wheels/35/24/16/37574d11bf9bde50616c67372a334f94fa8356bc7164af8ca3\u001b[0m\n",
      "\u001b[31mSuccessfully built ems-call-prediction\u001b[0m\n",
      "\u001b[31mInstalling collected packages: ems-call-prediction\u001b[0m\n",
      "\u001b[31mSuccessfully installed ems-call-prediction-1.0.0\u001b[0m\n",
      "\u001b[31m[2019-10-03 16:56:52 +0000] [37] [INFO] Starting gunicorn 19.9.0\u001b[0m\n",
      "\u001b[31m[2019-10-03 16:56:52 +0000] [37] [INFO] Listening at: unix:/tmp/gunicorn.sock (37)\u001b[0m\n",
      "\u001b[31m[2019-10-03 16:56:52 +0000] [37] [INFO] Using worker: gevent\u001b[0m\n",
      "\u001b[31m[2019-10-03 16:56:52 +0000] [40] [INFO] Booting worker with pid: 40\u001b[0m\n",
      "\u001b[31m[2019-10-03 16:56:52 +0000] [41] [INFO] Booting worker with pid: 41\u001b[0m\n",
      "\u001b[31m[2019-10-03 16:56:52 +0000] [45] [INFO] Booting worker with pid: 45\u001b[0m\n",
      "\u001b[31m[2019-10-03 16:56:52 +0000] [46] [INFO] Booting worker with pid: 46\u001b[0m\n",
      "\u001b[31m2019-10-03 16:57:05,377 INFO - sagemaker-containers - No GPUs detected (normal if no gpus installed)\u001b[0m\n",
      "\u001b[31m169.254.255.130 - - [03/Oct/2019:16:57:06 +0000] \"GET /ping HTTP/1.1\" 200 0 \"-\" \"Go-http-client/1.1\"\u001b[0m\n",
      "\u001b[31m169.254.255.130 - - [03/Oct/2019:16:57:06 +0000] \"GET /execution-parameters HTTP/1.1\" 404 232 \"-\" \"Go-http-client/1.1\"\u001b[0m\n",
      "\u001b[31m169.254.255.130 - - [03/Oct/2019:16:57:06 +0000] \"POST /invocations HTTP/1.1\" 200 2961 \"-\" \"Go-http-client/1.1\"\u001b[0m\n",
      "\n"
     ]
    }
   ],
   "source": [
    "# Start a transform job and wait for it to finish\n",
    "transformer.transform(batch_input_s3, content_type='application/json')\n",
    "print('Waiting for transform job: ' + transformer.latest_transform_job.job_name)\n",
    "transformer.wait()"
   ]
  },
  {
   "cell_type": "markdown",
   "metadata": {},
   "source": [
    "### Check Output Data  <a class=\"anchor\" id=\"check_output_data\"></a>\n",
    "After the transform job has completed, download the output data from S3. For each file \"f\" in the input data, we have a corresponding file \"f.out\" containing the predicted labels from each input row. We can compare the predicted labels to the true labels saved earlier."
   ]
  },
  {
   "cell_type": "code",
   "execution_count": 10,
   "metadata": {},
   "outputs": [
    {
     "name": "stdout",
     "output_type": "stream",
     "text": [
      "download: s3://sagemaker-us-east-2-445861113736/sagemaker-scikit-learn-2019-10-03-16-54-00-785/test_data.json.out to batch_data/output/test_data.json.out\n",
      "[14.262, 13.651, 13.776, 64.899, 32.359, 80.751, 119.24432222222221, 67.791, 14.291, 9.6, 77.111, 11.977, 71.26, 17.555, 76.62, 71.955, 65.988, 69.633, 72.4, 67.801, 16.868, 15.341, 14.491, 68.154, 73.672, 13.88, 11.946, 94.801953968254, 30.46, 76.214, 12.099, 32.963, 111.37256608946599, 75.409, 13.584, 10.49, 13.494, 14.924, 20.175, 13.632, 11.323, 79.148, 13.037, 13.741, 71.156, 12.984, 13.376, 71.529, 13.335, 14.749, 63.824, 73.622, 13.242, 10.425, 14.079, 70.725, 35.103, 14.916, 68.318, 16.027, 13.933, 13.86, 15.153, 61.511, 12.992, 69.234, 69.987, 13.4, 65.712, 11.144, 73.905, 63.855, 78.564, 69.216, 10.006, 12.519, 34.603, 65.763, 78.152, 13.837, 87.715, 13.497, 69.304, 68.77, 13.061, 69.625, 11.177, 9.125, 73.762, 69.42, 68.098, 70.547, 66.93, 16.691, 69.59, 16.193, 12.927, 73.688, 65.495, 72.673, 74.601, 66.103, 78.257, 14.602, 77.926, 12.563, 11.194, 73.189, 13.907, 64.898, 78.776, 86.40980952380953, 74.366, 33.019, 9.718, 9.49, 75.839, 12.261, 14.203, 77.327, 13.315, 14.497, 10.363, 106.61329285714305, 74.848, 71.418, 73.904, 80.499, 10.952, 34.172, 9.84, 15.954, 82.723, 68.645, 13.707, 66.998, 13.093, 73.693, 11.446, 34.867, 70.483, 81.997, 66.657, 68.591, 71.718, 83.028, 87.985, 75.177, 68.816, 78.751, 67.674, 14.53, 14.584, 10.709, 67.433, 64.054, 68.744, 12.735, 68.651, 72.595, 73.207, 76.443, 68.709, 87.266, 9.372, 12.915, 13.765, 68.825, 32.829, 75.886, 12.89, 79.234, 33.572, 94.801953968254, 12.178, 29.611, 14.85, 74.366, 34.057, 15.214, 72.201, 69.634, 73.877, 15.388, 78.361, 74.289, 80.711, 13.029, 15.583, 70.212, 72.791, 11.122, 67.854, 76.387, 73.813, 77.439, 65.774, 10.246, 70.459, 69.825, 68.103, 12.831, 13.49, 66.907, 75.996, 12.392, 74.366, 75.152, 13.795, 64.088, 13.661, 73.69385357142858, 33.164, 82.827, 72.102, 70.941, 72.143, 71.488, 13.863, 70.82, 12.435, 73.983, 66.787, 14.16, 29.337, 70.492, 76.39, 15.87, 74.796, 10.067, 73.073, 14.775, 66.981, 67.305, 13.277, 76.176, 12.369, 12.013, 15.519, 35.281, 13.843, 10.792, 68.624, 66.955, 75.262, 12.093, 11.282, 13.05, 90.98998928571427, 37.094, 70.013, 69.106, 10.854, 74.081, 13.546, 14.392, 10.308, 68.206, 33.916, 15.178, 10.041, 14.332, 11.898, 68.216, 75.743, 31.311, 71.281, 10.041, 74.526, 73.69385357142858, 13.828, 68.403, 92.08649404761906, 14.93, 70.543, 65.311, 73.618, 13.645, 77.125, 31.935, 13.194, 72.985, 73.628, 36.836, 13.945, 11.404, 71.579, 72.246, 68.684, 11.822, 98.12545079365086, 10.565, 14.766, 10.606, 64.758, 71.565, 15.454, 11.505, 13.314, 76.84, 14.442, 14.896, 12.38, 73.341, 14.098, 10.145, 71.308, 75.574, 73.551, 78.7, 16.722, 66.284, 72.214, 33.145, 14.022, 69.344, 13.671, 10.329, 32.378, 74.6, 63.302, 12.392, 68.751, 17.76, 70.814, 66.432, 35.414, 76.208, 36.409, 77.563, 73.725, 33.859, 68.424, 77.488, 12.777, 16.565, 16.226, 73.936, 12.871, 13.205, 73.318, 34.691, 35.696, 10.445, 68.256, 70.629, 13.837, 74.657, 86.40980952380953, 16.206, 63.366, 66.724, 11.669, 66.012, 68.393, 71.26, 14.463, 73.289, 75.592]"
     ]
    }
   ],
   "source": [
    "# Download the output data from S3 to local filesystem\n",
    "batch_output = transformer.output_path\n",
    "!mkdir -p batch_data/output\n",
    "!aws s3 cp --recursive $batch_output/ batch_data/output/\n",
    "# Head to see what the batch output looks like\n",
    "!head batch_data/output/*"
   ]
  },
  {
   "cell_type": "code",
   "execution_count": 73,
   "metadata": {},
   "outputs": [],
   "source": [
    "# Pulling the predictions, comparing to the observed number of calls"
   ]
  },
  {
   "cell_type": "code",
   "execution_count": 74,
   "metadata": {},
   "outputs": [
    {
     "data": {
      "text/plain": [
       "Text(0, 0.5, 'actual')"
      ]
     },
     "execution_count": 74,
     "metadata": {},
     "output_type": "execute_result"
    },
    {
     "data": {
      "image/png": "[encoded data removed]",
      "text/plain": [
       "<Figure size 432x288 with 1 Axes>"
      ]
     },
     "metadata": {},
     "output_type": "display_data"
    }
   ],
   "source": [
    "import numpy as np\n",
    "import pandas as pd\n",
    "import matplotlib.pyplot as plt\n",
    "output_loc = './batch_data/output/test_data.json.out'\n",
    "\n",
    "with open (output_loc, \"r\") as myfile:\n",
    "    data=myfile.readlines()\n",
    "    \n",
    "string_output = data[0].replace('[','').replace(']','')\n",
    "\n",
    "predicted = np.genfromtxt(StringIO(string_output),delimiter=',')\n",
    "actual = np.genfromtxt('observed',delimiter=',')[1:,1]\n",
    "plt.scatter(predicted,actual,alpha=0.3)\n",
    "plt.xlabel('predicted')\n",
    "plt.ylabel('actual')"
   ]
  }
 ],
 "metadata": {
  "kernelspec": {
   "display_name": "Python 3",
   "language": "python",
   "name": "python3"
  },
  "language_info": {
   "codemirror_mode": {
    "name": "ipython",
    "version": 3
   },
   "file_extension": ".py",
   "mimetype": "text/x-python",
   "name": "python",
   "nbconvert_exporter": "python",
   "pygments_lexer": "ipython3",
   "version": "3.6.8"
  }
 },
 "nbformat": 4,
 "nbformat_minor": 2
}
