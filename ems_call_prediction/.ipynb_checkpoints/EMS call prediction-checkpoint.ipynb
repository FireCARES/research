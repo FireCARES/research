{
 "cells": [
  {
   "cell_type": "markdown",
   "metadata": {},
   "source": [
    "First, lets create our Sagemaker session and role, and create a S3 prefix to use for the notebook example."
   ]
  },
  {
   "cell_type": "code",
   "execution_count": 2,
   "metadata": {},
   "outputs": [],
   "source": [
    "# S3 prefix\n",
    "prefix = 'ems_call_volume'\n",
    "\n",
    "import sagemaker\n",
    "from sagemaker import get_execution_role\n",
    "\n",
    "sagemaker_session = sagemaker.Session()\n",
    "\n",
    "# Get a SageMaker-compatible role used by this Notebook Instance.\n",
    "role = get_execution_role()"
   ]
  },
  {
   "cell_type": "markdown",
   "metadata": {},
   "source": [
    "## Upload the data for training <a class=\"anchor\" id=\"upload_data\"></a>\n",
    "\n",
    "I performed the following query to get the data. Right now, I'm just saving the dataframe as shown below."
   ]
  },
  {
   "cell_type": "code",
   "execution_count": 3,
   "metadata": {},
   "outputs": [
    {
     "ename": "NameError",
     "evalue": "name 'Elasticsearch' is not defined",
     "output_type": "error",
     "traceback": [
      "\u001b[0;31m---------------------------------------------------------------------------\u001b[0m",
      "\u001b[0;31mNameError\u001b[0m                                 Traceback (most recent call last)",
      "\u001b[0;32m<ipython-input-3-54c9e224a5da>\u001b[0m in \u001b[0;36m<module>\u001b[0;34m()\u001b[0m\n\u001b[1;32m      1\u001b[0m \u001b[0;31m#Generating the dataframe from NFORS\u001b[0m\u001b[0;34m\u001b[0m\u001b[0;34m\u001b[0m\u001b[0m\n\u001b[0;32m----> 2\u001b[0;31m \u001b[0mes\u001b[0m \u001b[0;34m=\u001b[0m \u001b[0mElasticsearch\u001b[0m\u001b[0;34m(\u001b[0m\u001b[0;34m)\u001b[0m\u001b[0;34m\u001b[0m\u001b[0m\n\u001b[0m\u001b[1;32m      3\u001b[0m \u001b[0ms\u001b[0m \u001b[0;34m=\u001b[0m \u001b[0mSearch\u001b[0m\u001b[0;34m(\u001b[0m\u001b[0musing\u001b[0m\u001b[0;34m=\u001b[0m\u001b[0mes\u001b[0m\u001b[0;34m,\u001b[0m\u001b[0mindex\u001b[0m\u001b[0;34m=\u001b[0m\u001b[0;34m'*-fire-incident-*'\u001b[0m\u001b[0;34m)\u001b[0m\u001b[0;34m\u001b[0m\u001b[0m\n\u001b[1;32m      4\u001b[0m s = s.source(['description.event_opened',\n\u001b[1;32m      5\u001b[0m                      \u001b[0;34m'weather.daily.precipIntensity'\u001b[0m\u001b[0;34m,\u001b[0m\u001b[0;34m\u001b[0m\u001b[0m\n",
      "\u001b[0;31mNameError\u001b[0m: name 'Elasticsearch' is not defined"
     ]
    }
   ],
   "source": [
    "#Generating the dataframe from NFORS\n",
    "es = Elasticsearch()\n",
    "s = Search(using=es,index='*-fire-incident-*')\n",
    "s = s.source(['description.event_opened',\n",
    "                     'weather.daily.precipIntensity',\n",
    "                     'weather.daily.precipType',\n",
    "                     'description.day_of_week',\n",
    "                     'weather.daily.temperatureHigh',\n",
    "                    'NFPA.type',\n",
    "                     'fire_department.firecares_id'])\n",
    "\n",
    "\n",
    "\n",
    "q = Q(\"match\",fire_department__firecares_id =  '81154') | Q(\"match\",fire_department__firecares_id =  '93345')\n",
    "results = s.query(q)\n",
    "\n",
    "#Performing the query and converting to pandas dataframe\n",
    "df = pd.DataFrame((d.to_dict() for d in results.scan()))\n",
    "json_struct = json.loads(df.to_json(orient=\"records\"))\n",
    "\n",
    "df = pd.io.json.json_normalize(json_struct)\n",
    "df.to_json('./data/query_results.json')"
   ]
  },
  {
   "cell_type": "markdown",
   "metadata": {},
   "source": [
    "Once we have the data locally, we can use use the tools provided by the SageMaker Python SDK to upload the data to a default bucket. "
   ]
  },
  {
   "cell_type": "code",
   "execution_count": 4,
   "metadata": {},
   "outputs": [],
   "source": [
    "WORK_DIRECTORY = 'data'\n",
    "train_input = sagemaker_session.upload_data(WORK_DIRECTORY, key_prefix=\"{}/{}\".format(prefix, WORK_DIRECTORY) )"
   ]
  },
  {
   "cell_type": "markdown",
   "metadata": {},
   "source": [
    "## Create SageMaker Scikit Estimator <a class=\"anchor\" id=\"create_sklearn_estimator\"></a>\n",
    "\n",
    "To run our Scikit-learn training script on SageMaker, we construct a `sagemaker.sklearn.estimator.sklearn` estimator, which accepts several constructor arguments:\n",
    "\n",
    "* __entry_point__: The path to the Python script SageMaker runs for training and prediction.\n",
    "* __role__: Role ARN\n",
    "* __train_instance_type__ *(optional)*: The type of SageMaker instances for training. __Note__: Because Scikit-learn does not natively support GPU training, Sagemaker Scikit-learn does not currently support training on GPU instance types.\n",
    "* __sagemaker_session__ *(optional)*: The session used to train on Sagemaker.\n",
    "* __hyperparameters__ *(optional)*: A dictionary passed to the train function as hyperparameters.\n",
    "\n",
    "To see the code for the SKLearn Estimator, see here: https://github.com/aws/sagemaker-python-sdk/tree/master/src/sagemaker/sklearn"
   ]
  },
  {
   "cell_type": "code",
   "execution_count": 5,
   "metadata": {},
   "outputs": [],
   "source": [
    "from sagemaker.sklearn.estimator import SKLearn\n",
    "\n",
    "script_path = 'ems_call_prediction.py'\n",
    "\n",
    "sklearn = SKLearn(\n",
    "    entry_point=script_path,\n",
    "    train_instance_type=\"ml.c4.xlarge\",\n",
    "    role=role,\n",
    "    sagemaker_session=sagemaker_session,\n",
    "    hyperparameters={'n_estimators': 1000})"
   ]
  },
  {
   "cell_type": "markdown",
   "metadata": {},
   "source": [
    "## Train SKLearn Estimator on EMS data <a class=\"anchor\" id=\"train_sklearn\"></a>\n",
    "Training is very simple, just call `fit` on the Estimator! This will start a SageMaker Training job that will download the data for us, invoke our scikit-learn code (in the provided script file), and save any model artifacts that the script creates."
   ]
  },
  {
   "cell_type": "code",
   "execution_count": 6,
   "metadata": {
    "scrolled": true
   },
   "outputs": [
    {
     "name": "stdout",
     "output_type": "stream",
     "text": [
      "2019-10-03 16:51:19 Starting - Starting the training job...\n",
      "2019-10-03 16:51:20 Starting - Launching requested ML instances...\n",
      "2019-10-03 16:52:15 Starting - Preparing the instances for training......\n",
      "2019-10-03 16:53:18 Downloading - Downloading input data\n",
      "2019-10-03 16:53:18 Training - Training image download completed. Training in progress..\u001b[31m2019-10-03 16:53:19,234 sagemaker-containers INFO     Imported framework sagemaker_sklearn_container.training\u001b[0m\n",
      "\u001b[31m2019-10-03 16:53:19,236 sagemaker-containers INFO     No GPUs detected (normal if no gpus installed)\u001b[0m\n",
      "\u001b[31m2019-10-03 16:53:19,249 sagemaker_sklearn_container.training INFO     Invoking user training script.\u001b[0m\n",
      "\u001b[31m2019-10-03 16:53:19,512 sagemaker-containers INFO     Module ems_call_prediction does not provide a setup.py. \u001b[0m\n",
      "\u001b[31mGenerating setup.py\u001b[0m\n",
      "\u001b[31m2019-10-03 16:53:19,512 sagemaker-containers INFO     Generating setup.cfg\u001b[0m\n",
      "\u001b[31m2019-10-03 16:53:19,512 sagemaker-containers INFO     Generating MANIFEST.in\u001b[0m\n",
      "\u001b[31m2019-10-03 16:53:19,512 sagemaker-containers INFO     Installing module with the following command:\u001b[0m\n",
      "\u001b[31m/usr/bin/python3 -m pip install . \u001b[0m\n",
      "\u001b[31mProcessing /opt/ml/code\u001b[0m\n",
      "\u001b[31mBuilding wheels for collected packages: ems-call-prediction\n",
      "  Building wheel for ems-call-prediction (setup.py): started\n",
      "  Building wheel for ems-call-prediction (setup.py): finished with status 'done'\n",
      "  Created wheel for ems-call-prediction: filename=ems_call_prediction-1.0.0-py2.py3-none-any.whl size=4932 sha256=9f5b7ae4386501b010c94f9abad0c6de32e5f1cd9b6f0c766acc8e7cc0549b19\n",
      "  Stored in directory: /tmp/pip-ephem-wheel-cache-u36kgnuu/wheels/35/24/16/37574d11bf9bde50616c67372a334f94fa8356bc7164af8ca3\u001b[0m\n",
      "\u001b[31mSuccessfully built ems-call-prediction\u001b[0m\n",
      "\u001b[31mInstalling collected packages: ems-call-prediction\u001b[0m\n",
      "\u001b[31mSuccessfully installed ems-call-prediction-1.0.0\u001b[0m\n",
      "\u001b[31m2019-10-03 16:53:20,800 sagemaker-containers INFO     No GPUs detected (normal if no gpus installed)\u001b[0m\n",
      "\u001b[31m2019-10-03 16:53:20,813 sagemaker-containers INFO     Invoking user script\n",
      "\u001b[0m\n",
      "\u001b[31mTraining Env:\n",
      "\u001b[0m\n",
      "\u001b[31m{\n",
      "    \"input_config_dir\": \"/opt/ml/input/config\",\n",
      "    \"master_hostname\": \"algo-1\",\n",
      "    \"log_level\": 20,\n",
      "    \"num_gpus\": 0,\n",
      "    \"user_entry_point\": \"ems_call_prediction.py\",\n",
      "    \"network_interface_name\": \"eth0\",\n",
      "    \"num_cpus\": 4,\n",
      "    \"output_dir\": \"/opt/ml/output\",\n",
      "    \"input_data_config\": {\n",
      "        \"train\": {\n",
      "            \"S3DistributionType\": \"FullyReplicated\",\n",
      "            \"TrainingInputMode\": \"File\",\n",
      "            \"RecordWrapperType\": \"None\"\n",
      "        }\n",
      "    },\n",
      "    \"module_dir\": \"s3://sagemaker-us-east-2-445861113736/sagemaker-scikit-learn-2019-10-03-16-51-18-950/source/sourcedir.tar.gz\",\n",
      "    \"channel_input_dirs\": {\n",
      "        \"train\": \"/opt/ml/input/data/train\"\n",
      "    },\n",
      "    \"model_dir\": \"/opt/ml/model\",\n",
      "    \"framework_module\": \"sagemaker_sklearn_container.training:main\",\n",
      "    \"hosts\": [\n",
      "        \"algo-1\"\n",
      "    ],\n",
      "    \"resource_config\": {\n",
      "        \"hosts\": [\n",
      "            \"algo-1\"\n",
      "        ],\n",
      "        \"current_host\": \"algo-1\",\n",
      "        \"network_interface_name\": \"eth0\"\n",
      "    },\n",
      "    \"module_name\": \"ems_call_prediction\",\n",
      "    \"is_master\": true,\n",
      "    \"additional_framework_parameters\": {},\n",
      "    \"hyperparameters\": {\n",
      "        \"n_estimators\": 1000\n",
      "    },\n",
      "    \"current_host\": \"algo-1\",\n",
      "    \"job_name\": \"sagemaker-scikit-learn-2019-10-03-16-51-18-950\",\n",
      "    \"input_dir\": \"/opt/ml/input\",\n",
      "    \"output_data_dir\": \"/opt/ml/output/data\",\n",
      "    \"output_intermediate_dir\": \"/opt/ml/output/intermediate\"\u001b[0m\n",
      "\u001b[31m}\n",
      "\u001b[0m\n",
      "\u001b[31mEnvironment variables:\n",
      "\u001b[0m\n",
      "\u001b[31mSM_NUM_GPUS=0\u001b[0m\n",
      "\u001b[31mSM_USER_ARGS=[\"--n_estimators\",\"1000\"]\u001b[0m\n",
      "\u001b[31mPYTHONPATH=/usr/local/bin:/usr/lib/python35.zip:/usr/lib/python3.5:/usr/lib/python3.5/plat-x86_64-linux-gnu:/usr/lib/python3.5/lib-dynload:/usr/local/lib/python3.5/dist-packages:/usr/lib/python3/dist-packages\u001b[0m\n",
      "\u001b[31mSM_USER_ENTRY_POINT=ems_call_prediction.py\u001b[0m\n",
      "\u001b[31mSM_MODULE_NAME=ems_call_prediction\u001b[0m\n",
      "\u001b[31mSM_TRAINING_ENV={\"additional_framework_parameters\":{},\"channel_input_dirs\":{\"train\":\"/opt/ml/input/data/train\"},\"current_host\":\"algo-1\",\"framework_module\":\"sagemaker_sklearn_container.training:main\",\"hosts\":[\"algo-1\"],\"hyperparameters\":{\"n_estimators\":1000},\"input_config_dir\":\"/opt/ml/input/config\",\"input_data_config\":{\"train\":{\"RecordWrapperType\":\"None\",\"S3DistributionType\":\"FullyReplicated\",\"TrainingInputMode\":\"File\"}},\"input_dir\":\"/opt/ml/input\",\"is_master\":true,\"job_name\":\"sagemaker-scikit-learn-2019-10-03-16-51-18-950\",\"log_level\":20,\"master_hostname\":\"algo-1\",\"model_dir\":\"/opt/ml/model\",\"module_dir\":\"s3://sagemaker-us-east-2-445861113736/sagemaker-scikit-learn-2019-10-03-16-51-18-950/source/sourcedir.tar.gz\",\"module_name\":\"ems_call_prediction\",\"network_interface_name\":\"eth0\",\"num_cpus\":4,\"num_gpus\":0,\"output_data_dir\":\"/opt/ml/output/data\",\"output_dir\":\"/opt/ml/output\",\"output_intermediate_dir\":\"/opt/ml/output/intermediate\",\"resource_config\":{\"current_host\":\"algo-1\",\"hosts\":[\"algo-1\"],\"network_interface_name\":\"eth0\"},\"user_entry_point\":\"ems_call_prediction.py\"}\u001b[0m\n",
      "\u001b[31mSM_CHANNEL_TRAIN=/opt/ml/input/data/train\u001b[0m\n",
      "\u001b[31mSM_FRAMEWORK_PARAMS={}\u001b[0m\n",
      "\u001b[31mSM_INPUT_DATA_CONFIG={\"train\":{\"RecordWrapperType\":\"None\",\"S3DistributionType\":\"FullyReplicated\",\"TrainingInputMode\":\"File\"}}\u001b[0m\n",
      "\u001b[31mSM_OUTPUT_INTERMEDIATE_DIR=/opt/ml/output/intermediate\u001b[0m\n",
      "\u001b[31mSM_NETWORK_INTERFACE_NAME=eth0\u001b[0m\n",
      "\u001b[31mSM_NUM_CPUS=4\u001b[0m\n",
      "\u001b[31mSM_INPUT_CONFIG_DIR=/opt/ml/input/config\u001b[0m\n",
      "\u001b[31mSM_LOG_LEVEL=20\u001b[0m\n",
      "\u001b[31mSM_MODULE_DIR=s3://sagemaker-us-east-2-445861113736/sagemaker-scikit-learn-2019-10-03-16-51-18-950/source/sourcedir.tar.gz\u001b[0m\n",
      "\u001b[31mSM_INPUT_DIR=/opt/ml/input\u001b[0m\n",
      "\u001b[31mSM_FRAMEWORK_MODULE=sagemaker_sklearn_container.training:main\u001b[0m\n",
      "\u001b[31mSM_OUTPUT_DIR=/opt/ml/output\u001b[0m\n",
      "\u001b[31mSM_OUTPUT_DATA_DIR=/opt/ml/output/data\u001b[0m\n",
      "\u001b[31mSM_HOSTS=[\"algo-1\"]\u001b[0m\n",
      "\u001b[31mSM_RESOURCE_CONFIG={\"current_host\":\"algo-1\",\"hosts\":[\"algo-1\"],\"network_interface_name\":\"eth0\"}\u001b[0m\n",
      "\u001b[31mSM_CHANNELS=[\"train\"]\u001b[0m\n",
      "\u001b[31mSM_CURRENT_HOST=algo-1\u001b[0m\n",
      "\u001b[31mSM_MODEL_DIR=/opt/ml/model\u001b[0m\n",
      "\u001b[31mSM_HPS={\"n_estimators\":1000}\u001b[0m\n",
      "\u001b[31mSM_HP_N_ESTIMATORS=1000\n",
      "\u001b[0m\n",
      "\u001b[31mInvoking script with the following command:\n",
      "\u001b[0m\n",
      "\u001b[31m/usr/bin/python3 -m ems_call_prediction --n_estimators 1000\n",
      "\n",
      "\u001b[0m\n",
      "\u001b[31m2019-10-03 16:53:28,087 sagemaker-containers INFO     Reporting training SUCCESS\u001b[0m\n",
      "\n",
      "2019-10-03 16:53:39 Uploading - Uploading generated training model\n",
      "2019-10-03 16:53:39 Completed - Training job completed\n",
      "Training seconds: 40\n",
      "Billable seconds: 40\n"
     ]
    }
   ],
   "source": [
    "sklearn.fit({'train': train_input})"
   ]
  },
  {
   "cell_type": "markdown",
   "metadata": {},
   "source": [
    "## Using the trained model to make inference requests <a class=\"anchor\" id=\"inference\"></a>\n",
    "\n",
    "### Deploy the model <a class=\"anchor\" id=\"deploy\"></a>\n",
    "\n",
    "Deploying the model to SageMaker hosting just requires a `deploy` call on the fitted model. This call takes an instance count and instance type."
   ]
  },
  {
   "cell_type": "code",
   "execution_count": null,
   "metadata": {},
   "outputs": [],
   "source": [
    "predictor = sklearn.deploy(initial_instance_count=1, instance_type=\"ml.m4.xlarge\")"
   ]
  },
  {
   "cell_type": "markdown",
   "metadata": {},
   "source": [
    "### Choose some data and use it for a prediction <a class=\"anchor\" id=\"prediction_request\"></a>\n",
    "\n",
    "In order to do some predictions, we'll extract some of the data we used for training and do predictions against it. This is, of course, bad statistical practice, but a good way to see how the mechanism works."
   ]
  },
  {
   "cell_type": "code",
   "execution_count": null,
   "metadata": {},
   "outputs": [],
   "source": [
    "import os\n",
    "import pandas as pd\n",
    "import json\n",
    "from sklearn.ensemble import RandomForestRegressor\n",
    "from pandas.io.json import json_normalize\n",
    "from dateutil.relativedelta import SU\n",
    "from pandas.tseries.holiday import USFederalHolidayCalendar as calendar\n",
    "from pandas.tseries.holiday import AbstractHolidayCalendar\n",
    "from pandas.tseries.offsets import CustomBusinessDay\n",
    "from pandas.tseries.holiday import Holiday\n",
    "import datetime\n",
    "from sklearn.externals import joblib\n",
    "import numpy as np\n",
    "\n",
    "dataloc = './prediction_data/test_data.json'\n",
    "with open(dataloc) as data_file:\n",
    "    data = json.load(data_file)\n",
    "features = pd.io.json.json_normalize(data['prediction_data'])\n",
    "\n",
    "\n",
    "#Converting df dates to datetime objects for holiday merging\n",
    "features['date'] = features.apply(lambda x: datetime.datetime.strptime(x['date'],'%Y-%m-%d'),axis=1)\n",
    "\n",
    "#We can create new rules with this class inheritance\n",
    "class custom_calendar(AbstractHolidayCalendar):\n",
    "    new_rules = [\n",
    "        Holiday('Halloween', month=10,day=31),\n",
    "        Holiday('Christmas Eve', month=12,day=24),\n",
    "        Holiday('New Years Eve', month=12,day=31),\n",
    "        Holiday('DST time change', month=3, day=1, offset=pd.DateOffset(weekday=SU(2)))\n",
    "    ]\n",
    "    rules = calendar().rules + new_rules\n",
    "\n",
    "cal = custom_calendar()\n",
    "start = np.min(features['date'])\n",
    "end = np.max(features['date'])\n",
    "holidays = cal.holidays(start=start,end=end,return_name=True).reset_index()\n",
    "holidays = holidays.rename(columns={'index':'date', 0:'holiday'})\n",
    "\n",
    "#But really we want the Monday after the time change\n",
    "holidays['date'] = holidays.apply(lambda x: x['date'] + datetime.timedelta(days=1) \n",
    "               if x['holiday'] == 'DST time change' else x['date'], axis=1)\n",
    "\n",
    "features = features.merge(holidays, on='date', how='left')\n",
    "features['holiday'] = features['holiday'].fillna('none')\n",
    "#Filling missing values with the average\n",
    "features['high_temp'] = features['high_temp'].fillna(np.mean(features['high_temp']))\n",
    "\n",
    "#No longer need the date since we have all the information we need (day of week and month)\n",
    "features = features.drop('date',axis=1)\n",
    "#Using one hot encoding for categorical variables. Ask me if you want me to explain this further.\n",
    "features = pd.get_dummies(features)\n",
    "\n",
    "#Splitting the data into features (predictors) and labels (the quantity we want to predict)\n",
    "labels = features['ems_calls']\n",
    "features = features.drop('ems_calls',axis=1)"
   ]
  },
  {
   "cell_type": "markdown",
   "metadata": {},
   "source": [
    "Prediction is as easy as calling predict with the predictor we got back from deploy and the data we want to do predictions with. The output from the endpoint return an numerical representation of the classification prediction; in the original dataset, these are flower names, but in this example the labels are numerical. We can compare against the original label that we parsed."
   ]
  },
  {
   "cell_type": "code",
   "execution_count": null,
   "metadata": {},
   "outputs": [],
   "source": [
    "print(predictor.predict(features.values))"
   ]
  },
  {
   "cell_type": "markdown",
   "metadata": {},
   "source": [
    "### Endpoint cleanup <a class=\"anchor\" id=\"endpoint_cleanup\"></a>\n",
    "\n",
    "When you're done with the endpoint, you'll want to clean it up."
   ]
  },
  {
   "cell_type": "code",
   "execution_count": null,
   "metadata": {},
   "outputs": [],
   "source": [
    "sklearn.delete_endpoint()"
   ]
  },
  {
   "cell_type": "markdown",
   "metadata": {},
   "source": [
    "## Batch Transform <a class=\"anchor\" id=\"batch_transform\"></a>\n",
    "We can also use the trained model for asynchronous batch inference on S3 data using SageMaker Batch Transform."
   ]
  },
  {
   "cell_type": "code",
   "execution_count": 7,
   "metadata": {},
   "outputs": [],
   "source": [
    "# Define a SKLearn Transformer from the trained SKLearn Estimator\n",
    "transformer = sklearn.transformer(instance_count=1, instance_type='ml.m4.xlarge')"
   ]
  },
  {
   "cell_type": "markdown",
   "metadata": {},
   "source": [
    "### Prepare Input Data <a class=\"anchor\" id=\"prepare_input_data\"></a>\n",
    "We will extract 10 random samples of 100 rows from the training data, then split the features (X) from the labels (Y). Then upload the input data to a given location in S3."
   ]
  },
  {
   "cell_type": "code",
   "execution_count": 8,
   "metadata": {},
   "outputs": [],
   "source": [
    "#Upload test data to s3\n",
    "WORK_DIRECTORY = 'prediction_data'\n",
    "batch_input_s3 = sagemaker_session.upload_data(WORK_DIRECTORY, key_prefix=\"{}/{}\".format(prefix, WORK_DIRECTORY) )"
   ]
  },
  {
   "cell_type": "markdown",
   "metadata": {},
   "source": [
    "### Run Transform Job <a class=\"anchor\" id=\"run_transform_job\"></a>\n",
    "Using the Transformer, run a transform job on the S3 input data."
   ]
  },
  {
   "cell_type": "code",
   "execution_count": 9,
   "metadata": {},
   "outputs": [
    {
     "name": "stdout",
     "output_type": "stream",
     "text": [
      "Waiting for transform job: sagemaker-scikit-learn-2019-10-03-16-54-00-785\n",
      "..................\u001b[31mProcessing /opt/ml/code\u001b[0m\n",
      "\u001b[31mBuilding wheels for collected packages: ems-call-prediction\n",
      "  Building wheel for ems-call-prediction (setup.py): started\n",
      "  Building wheel for ems-call-prediction (setup.py): finished with status 'done'\n",
      "  Created wheel for ems-call-prediction: filename=ems_call_prediction-1.0.0-py2.py3-none-any.whl size=4932 sha256=da6007a06a48f17f4e7e5df2d689a325893003d2745ce572e099e3f44b42aebf\n",
      "  Stored in directory: /tmp/pip-ephem-wheel-cache-i4ajwoa7/wheels/35/24/16/37574d11bf9bde50616c67372a334f94fa8356bc7164af8ca3\u001b[0m\n",
      "\u001b[31mSuccessfully built ems-call-prediction\u001b[0m\n",
      "\u001b[31mInstalling collected packages: ems-call-prediction\u001b[0m\n",
      "\u001b[31mSuccessfully installed ems-call-prediction-1.0.0\u001b[0m\n",
      "\u001b[31m[2019-10-03 16:56:52 +0000] [37] [INFO] Starting gunicorn 19.9.0\u001b[0m\n",
      "\u001b[31m[2019-10-03 16:56:52 +0000] [37] [INFO] Listening at: unix:/tmp/gunicorn.sock (37)\u001b[0m\n",
      "\u001b[31m[2019-10-03 16:56:52 +0000] [37] [INFO] Using worker: gevent\u001b[0m\n",
      "\u001b[31m[2019-10-03 16:56:52 +0000] [40] [INFO] Booting worker with pid: 40\u001b[0m\n",
      "\u001b[31m[2019-10-03 16:56:52 +0000] [41] [INFO] Booting worker with pid: 41\u001b[0m\n",
      "\u001b[31m[2019-10-03 16:56:52 +0000] [45] [INFO] Booting worker with pid: 45\u001b[0m\n",
      "\u001b[31m[2019-10-03 16:56:52 +0000] [46] [INFO] Booting worker with pid: 46\u001b[0m\n",
      "\u001b[31m2019-10-03 16:57:05,377 INFO - sagemaker-containers - No GPUs detected (normal if no gpus installed)\u001b[0m\n",
      "\u001b[31m169.254.255.130 - - [03/Oct/2019:16:57:06 +0000] \"GET /ping HTTP/1.1\" 200 0 \"-\" \"Go-http-client/1.1\"\u001b[0m\n",
      "\u001b[31m169.254.255.130 - - [03/Oct/2019:16:57:06 +0000] \"GET /execution-parameters HTTP/1.1\" 404 232 \"-\" \"Go-http-client/1.1\"\u001b[0m\n",
      "\u001b[31m169.254.255.130 - - [03/Oct/2019:16:57:06 +0000] \"POST /invocations HTTP/1.1\" 200 2961 \"-\" \"Go-http-client/1.1\"\u001b[0m\n",
      "\n"
     ]
    }
   ],
   "source": [
    "# Start a transform job and wait for it to finish\n",
    "transformer.transform(batch_input_s3, content_type='application/json')\n",
    "print('Waiting for transform job: ' + transformer.latest_transform_job.job_name)\n",
    "transformer.wait()"
   ]
  },
  {
   "cell_type": "markdown",
   "metadata": {},
   "source": [
    "### Check Output Data  <a class=\"anchor\" id=\"check_output_data\"></a>\n",
    "After the transform job has completed, download the output data from S3. For each file \"f\" in the input data, we have a corresponding file \"f.out\" containing the predicted labels from each input row. We can compare the predicted labels to the true labels saved earlier."
   ]
  },
  {
   "cell_type": "code",
   "execution_count": 10,
   "metadata": {},
   "outputs": [
    {
     "name": "stdout",
     "output_type": "stream",
     "text": [
      "download: s3://sagemaker-us-east-2-445861113736/sagemaker-scikit-learn-2019-10-03-16-54-00-785/test_data.json.out to batch_data/output/test_data.json.out\n",
      "[14.262, 13.651, 13.776, 64.899, 32.359, 80.751, 119.24432222222221, 67.791, 14.291, 9.6, 77.111, 11.977, 71.26, 17.555, 76.62, 71.955, 65.988, 69.633, 72.4, 67.801, 16.868, 15.341, 14.491, 68.154, 73.672, 13.88, 11.946, 94.801953968254, 30.46, 76.214, 12.099, 32.963, 111.37256608946599, 75.409, 13.584, 10.49, 13.494, 14.924, 20.175, 13.632, 11.323, 79.148, 13.037, 13.741, 71.156, 12.984, 13.376, 71.529, 13.335, 14.749, 63.824, 73.622, 13.242, 10.425, 14.079, 70.725, 35.103, 14.916, 68.318, 16.027, 13.933, 13.86, 15.153, 61.511, 12.992, 69.234, 69.987, 13.4, 65.712, 11.144, 73.905, 63.855, 78.564, 69.216, 10.006, 12.519, 34.603, 65.763, 78.152, 13.837, 87.715, 13.497, 69.304, 68.77, 13.061, 69.625, 11.177, 9.125, 73.762, 69.42, 68.098, 70.547, 66.93, 16.691, 69.59, 16.193, 12.927, 73.688, 65.495, 72.673, 74.601, 66.103, 78.257, 14.602, 77.926, 12.563, 11.194, 73.189, 13.907, 64.898, 78.776, 86.40980952380953, 74.366, 33.019, 9.718, 9.49, 75.839, 12.261, 14.203, 77.327, 13.315, 14.497, 10.363, 106.61329285714305, 74.848, 71.418, 73.904, 80.499, 10.952, 34.172, 9.84, 15.954, 82.723, 68.645, 13.707, 66.998, 13.093, 73.693, 11.446, 34.867, 70.483, 81.997, 66.657, 68.591, 71.718, 83.028, 87.985, 75.177, 68.816, 78.751, 67.674, 14.53, 14.584, 10.709, 67.433, 64.054, 68.744, 12.735, 68.651, 72.595, 73.207, 76.443, 68.709, 87.266, 9.372, 12.915, 13.765, 68.825, 32.829, 75.886, 12.89, 79.234, 33.572, 94.801953968254, 12.178, 29.611, 14.85, 74.366, 34.057, 15.214, 72.201, 69.634, 73.877, 15.388, 78.361, 74.289, 80.711, 13.029, 15.583, 70.212, 72.791, 11.122, 67.854, 76.387, 73.813, 77.439, 65.774, 10.246, 70.459, 69.825, 68.103, 12.831, 13.49, 66.907, 75.996, 12.392, 74.366, 75.152, 13.795, 64.088, 13.661, 73.69385357142858, 33.164, 82.827, 72.102, 70.941, 72.143, 71.488, 13.863, 70.82, 12.435, 73.983, 66.787, 14.16, 29.337, 70.492, 76.39, 15.87, 74.796, 10.067, 73.073, 14.775, 66.981, 67.305, 13.277, 76.176, 12.369, 12.013, 15.519, 35.281, 13.843, 10.792, 68.624, 66.955, 75.262, 12.093, 11.282, 13.05, 90.98998928571427, 37.094, 70.013, 69.106, 10.854, 74.081, 13.546, 14.392, 10.308, 68.206, 33.916, 15.178, 10.041, 14.332, 11.898, 68.216, 75.743, 31.311, 71.281, 10.041, 74.526, 73.69385357142858, 13.828, 68.403, 92.08649404761906, 14.93, 70.543, 65.311, 73.618, 13.645, 77.125, 31.935, 13.194, 72.985, 73.628, 36.836, 13.945, 11.404, 71.579, 72.246, 68.684, 11.822, 98.12545079365086, 10.565, 14.766, 10.606, 64.758, 71.565, 15.454, 11.505, 13.314, 76.84, 14.442, 14.896, 12.38, 73.341, 14.098, 10.145, 71.308, 75.574, 73.551, 78.7, 16.722, 66.284, 72.214, 33.145, 14.022, 69.344, 13.671, 10.329, 32.378, 74.6, 63.302, 12.392, 68.751, 17.76, 70.814, 66.432, 35.414, 76.208, 36.409, 77.563, 73.725, 33.859, 68.424, 77.488, 12.777, 16.565, 16.226, 73.936, 12.871, 13.205, 73.318, 34.691, 35.696, 10.445, 68.256, 70.629, 13.837, 74.657, 86.40980952380953, 16.206, 63.366, 66.724, 11.669, 66.012, 68.393, 71.26, 14.463, 73.289, 75.592]"
     ]
    }
   ],
   "source": [
    "# Download the output data from S3 to local filesystem\n",
    "batch_output = transformer.output_path\n",
    "!mkdir -p batch_data/output\n",
    "!aws s3 cp --recursive $batch_output/ batch_data/output/\n",
    "# Head to see what the batch output looks like\n",
    "!head batch_data/output/*"
   ]
  },
  {
   "cell_type": "code",
   "execution_count": 73,
   "metadata": {},
   "outputs": [],
   "source": [
    "# Pulling the predictions, comparing to the observed number of calls"
   ]
  },
  {
   "cell_type": "code",
   "execution_count": 74,
   "metadata": {},
   "outputs": [
    {
     "data": {
      "text/plain": [
       "Text(0, 0.5, 'actual')"
      ]
     },
     "execution_count": 74,
     "metadata": {},
     "output_type": "execute_result"
    },
    {
     "data": {
      "image/png": "[encoded data removed]",
      "text/plain": [
       "<Figure size 432x288 with 1 Axes>"
      ]
     },
     "metadata": {},
     "output_type": "display_data"
    }
   ],
   "source": [
    "import numpy as np\n",
    "import pandas as pd\n",
    "import matplotlib.pyplot as plt\n",
    "output_loc = './batch_data/output/test_data.json.out'\n",
    "\n",
    "with open (output_loc, \"r\") as myfile:\n",
    "    data=myfile.readlines()\n",
    "    \n",
    "string_output = data[0].replace('[','').replace(']','')\n",
    "\n",
    "predicted = np.genfromtxt(StringIO(string_output),delimiter=',')\n",
    "actual = np.genfromtxt('observed',delimiter=',')[1:,1]\n",
    "plt.scatter(predicted,actual,alpha=0.3)\n",
    "plt.xlabel('predicted')\n",
    "plt.ylabel('actual')"
   ]
  }
 ],
 "metadata": {
  "kernelspec": {
   "display_name": "conda_python3",
   "language": "python",
   "name": "conda_python3"
  },
  "language_info": {
   "codemirror_mode": {
    "name": "ipython",
    "version": 3
   },
   "file_extension": ".py",
   "mimetype": "text/x-python",
   "name": "python",
   "nbconvert_exporter": "python",
   "pygments_lexer": "ipython3",
   "version": "3.6.5"
  }
 },
 "nbformat": 4,
 "nbformat_minor": 2
}
